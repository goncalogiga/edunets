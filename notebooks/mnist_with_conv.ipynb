{
 "cells": [
  {
   "cell_type": "code",
   "execution_count": 1,
   "metadata": {},
   "outputs": [],
   "source": [
    "import sys\n",
    "import math\n",
    "sys.path.insert(0, \"..\")\n",
    "\n",
    "import torch\n",
    "import numpy as np\n",
    "import torch.nn as nn\n",
    "from tqdm import trange\n",
    "import torch.nn.functional as F\n",
    "import matplotlib.pyplot as plt\n",
    "\n",
    "from edunets import functional, losses\n",
    "from edunets.tensor import Tensor"
   ]
  },
  {
   "attachments": {},
   "cell_type": "markdown",
   "metadata": {},
   "source": [
    "## Preliminaries\n",
    "### Making sure the basic convolution operation (or cross-correlation) works\n",
    "\n",
    "Before anything else, let's make sure edunet's can perform simple matrix convolutions.\n",
    "\n",
    "Let's start by making sure the kernel I = [[0, 0, 0], [0, 1, 0], [0, 0, 0]], is the 'identity' kernel for convolutions"
   ]
  },
  {
   "cell_type": "code",
   "execution_count": 2,
   "metadata": {},
   "outputs": [
    {
     "name": "stdout",
     "output_type": "stream",
     "text": [
      "torch input (shape=torch.Size([1, 1, 3, 4])):\n",
      "tensor([[[[1., 2., 3., 4.],\n",
      "          [1., 2., 3., 4.],\n",
      "          [1., 2., 3., 4.]]]], dtype=torch.float64, requires_grad=True)\n",
      "edunets input:\n",
      "tensor([[[[1., 2., 3., 4.],\n",
      "         [1., 2., 3., 4.],\n",
      "         [1., 2., 3., 4.]]]], requires_grad=True)\n",
      "torch kernel (shape=torch.Size([1, 1, 3, 3])):\n",
      "tensor([[[[0., 0., 0.],\n",
      "          [0., 1., 0.],\n",
      "          [0., 0., 0.]]]], dtype=torch.float64)\n",
      "edunets kernel:\n",
      "tensor([[[[0., 0., 0.],\n",
      "         [0., 1., 0.],\n",
      "         [0., 0., 0.]]]])\n"
     ]
    }
   ],
   "source": [
    "torch_input = torch.tensor(np.array([[1.,2.,3.,4.], [1.,2.,3.,4.], [1.,2.,3.,4.]])[None, None], requires_grad=True)\n",
    "edu_input = Tensor(np.array([[1., 2., 3., 4.], [1.,2.,3.,4.], [1.,2.,3.,4.]])[None, None], requires_grad=True)\n",
    "torch_kernel = torch.tensor(np.array([[0., 0., 0.], [0., 1., 0.], [0., 0., 0.]])[None, None])\n",
    "edu_kernel = Tensor(np.array([[0., 0., 0.], [0., 1., 0.], [0., 0., 0.]])[None, None])\n",
    "\n",
    "print(f\"torch input (shape={torch_input.shape}):\")\n",
    "print(torch_input)\n",
    "print(\"edunets input:\")\n",
    "print(edu_input)\n",
    "print(f\"torch kernel (shape={torch_kernel.shape}):\")\n",
    "print(torch_kernel)\n",
    "print(\"edunets kernel:\")\n",
    "print(edu_kernel)"
   ]
  },
  {
   "attachments": {},
   "cell_type": "markdown",
   "metadata": {},
   "source": [
    "In order to test if the kernel is the identity for convolutions, we need to pad the input first:"
   ]
  },
  {
   "cell_type": "code",
   "execution_count": 3,
   "metadata": {},
   "outputs": [
    {
     "name": "stdout",
     "output_type": "stream",
     "text": [
      "torch.Size([1, 1, 3, 4]) -> torch.Size([1, 1, 5, 6])\n"
     ]
    },
    {
     "data": {
      "text/plain": [
       "tensor([[[[1., 2., 3., 4.],\n",
       "          [1., 2., 3., 4.],\n",
       "          [1., 2., 3., 4.]]]], dtype=torch.float64,\n",
       "       grad_fn=<ThnnConv2DBackward>)"
      ]
     },
     "execution_count": 3,
     "metadata": {},
     "output_type": "execute_result"
    }
   ],
   "source": [
    "torch_padded_input = F.pad(torch_input, (1, 1, 1, 1))\n",
    "print(torch_input.shape, \"->\", torch_padded_input.shape)\n",
    "F.conv2d(torch_padded_input, torch_kernel)"
   ]
  },
  {
   "attachments": {},
   "cell_type": "markdown",
   "metadata": {},
   "source": [
    "Or we can use the padding=\"same\" directive:"
   ]
  },
  {
   "cell_type": "code",
   "execution_count": 4,
   "metadata": {},
   "outputs": [
    {
     "name": "stdout",
     "output_type": "stream",
     "text": [
      "tensor([[[[1., 2., 3., 4.],\n",
      "          [1., 2., 3., 4.],\n",
      "          [1., 2., 3., 4.]]]], dtype=torch.float64,\n",
      "       grad_fn=<ThnnConv2DBackward>)\n",
      "Gradient of input:\n",
      "tensor([[[[1., 1., 1., 1.],\n",
      "          [1., 1., 1., 1.],\n",
      "          [1., 1., 1., 1.]]]], dtype=torch.float64)\n"
     ]
    }
   ],
   "source": [
    "# Convolution using PyTorch\n",
    "out = F.conv2d(torch_input, torch_kernel, padding=\"same\")\n",
    "\n",
    "print(out)\n",
    "\n",
    "out.backward(torch.ones(out.shape))\n",
    "\n",
    "print(\"Gradient of input:\")\n",
    "print(torch_input.grad)"
   ]
  },
  {
   "cell_type": "code",
   "execution_count": 5,
   "metadata": {},
   "outputs": [
    {
     "name": "stdout",
     "output_type": "stream",
     "text": [
      "tensor([[[[1., 2., 3., 4.],\n",
      "         [1., 2., 3., 4.],\n",
      "         [1., 2., 3., 4.]]]], dtype=float32)\n",
      "Gradient of input:\n",
      "[[[[1. 1. 1. 1.]\n",
      "   [1. 1. 1. 1.]\n",
      "   [1. 1. 1. 1.]]]]\n"
     ]
    }
   ],
   "source": [
    "# Convolution using Edunets\n",
    "out = functional.conv(edu_input, edu_kernel, padding=\"same\")\n",
    "\n",
    "print(out)\n",
    "\n",
    "out.backward(Tensor.ones(*out.shape))\n",
    "\n",
    "print(\"Gradient of input:\")\n",
    "print(edu_input.grad)"
   ]
  },
  {
   "attachments": {},
   "cell_type": "markdown",
   "metadata": {},
   "source": [
    "It works! Our kernel acts like the identity for convolutions in both frameworks."
   ]
  },
  {
   "attachments": {},
   "cell_type": "markdown",
   "metadata": {},
   "source": [
    "### Now let's add channels and batches"
   ]
  },
  {
   "cell_type": "code",
   "execution_count": 6,
   "metadata": {},
   "outputs": [
    {
     "name": "stderr",
     "output_type": "stream",
     "text": [
      "Clipping input data to the valid range for imshow with RGB data ([0..1] for floats or [0..255] for integers).\n"
     ]
    },
    {
     "data": {
      "text/plain": [
       "<matplotlib.image.AxesImage at 0x7f448d7997c0>"
      ]
     },
     "execution_count": 6,
     "metadata": {},
     "output_type": "execute_result"
    },
    {
     "data": {
      "image/png": "[encoded data removed]",
      "text/plain": [
       "<Figure size 432x288 with 1 Axes>"
      ]
     },
     "metadata": {
      "needs_background": "light"
     },
     "output_type": "display_data"
    }
   ],
   "source": [
    "# An image is encoded as channels x height x width\n",
    "# Here is a 3x3 red image:\n",
    "dummy_red_img = np.array([\n",
    "    [\n",
    "        [255., 255., 255.],\n",
    "        [255., 255., 255.],\n",
    "        [255., 255., 255.]\n",
    "    ],\n",
    "    [\n",
    "        [0., 0., 0.],\n",
    "        [0., 0., 0.],\n",
    "        [0., 0., 0.]\n",
    "    ],\n",
    "    [\n",
    "        [0., 0., 0.],\n",
    "        [0., 0., 0.],\n",
    "        [0., 0., 0.]\n",
    "    ]\n",
    "])\n",
    "\n",
    "plt.imshow(dummy_red_img.transpose((1,2,0)))"
   ]
  },
  {
   "cell_type": "code",
   "execution_count": 7,
   "metadata": {},
   "outputs": [
    {
     "name": "stderr",
     "output_type": "stream",
     "text": [
      "Clipping input data to the valid range for imshow with RGB data ([0..1] for floats or [0..255] for integers).\n"
     ]
    },
    {
     "data": {
      "text/plain": [
       "<matplotlib.image.AxesImage at 0x7f448d69a5e0>"
      ]
     },
     "execution_count": 7,
     "metadata": {},
     "output_type": "execute_result"
    },
    {
     "data": {
      "image/png": "[encoded data removed]",
      "text/plain": [
       "<Figure size 432x288 with 1 Axes>"
      ]
     },
     "metadata": {
      "needs_background": "light"
     },
     "output_type": "display_data"
    }
   ],
   "source": [
    "dummy_blue_img = np.array([\n",
    "    [\n",
    "        [0., 0., 0.],\n",
    "        [0., 0., 0.],\n",
    "        [0., 0., 0.]\n",
    "    ],\n",
    "    [\n",
    "        [0., 0., 0.],\n",
    "        [0., 0., 0.],\n",
    "        [0., 0., 0.]\n",
    "    ],\n",
    "    [\n",
    "        [255., 255., 255.],\n",
    "        [255., 255., 255.],\n",
    "        [255., 255., 255.]\n",
    "    ]\n",
    "])\n",
    "\n",
    "plt.imshow(dummy_blue_img.transpose((1,2,0)))"
   ]
  },
  {
   "cell_type": "code",
   "execution_count": 8,
   "metadata": {},
   "outputs": [
    {
     "data": {
      "text/plain": [
       "tensor([[[[255., 255., 255.],\n",
       "          [255., 255., 255.],\n",
       "          [255., 255., 255.]],\n",
       "\n",
       "         [[  0.,   0.,   0.],\n",
       "          [  0.,   0.,   0.],\n",
       "          [  0.,   0.,   0.]],\n",
       "\n",
       "         [[  0.,   0.,   0.],\n",
       "          [  0.,   0.,   0.],\n",
       "          [  0.,   0.,   0.]]],\n",
       "\n",
       "\n",
       "        [[[  0.,   0.,   0.],\n",
       "          [  0.,   0.,   0.],\n",
       "          [  0.,   0.,   0.]],\n",
       "\n",
       "         [[  0.,   0.,   0.],\n",
       "          [  0.,   0.,   0.],\n",
       "          [  0.,   0.,   0.]],\n",
       "\n",
       "         [[255., 255., 255.],\n",
       "          [255., 255., 255.],\n",
       "          [255., 255., 255.]]]], dtype=torch.float64, requires_grad=True)"
      ]
     },
     "execution_count": 8,
     "metadata": {},
     "output_type": "execute_result"
    }
   ],
   "source": [
    "torch_input = torch.tensor([dummy_red_img, dummy_blue_img], requires_grad=True)\n",
    "torch_input"
   ]
  },
  {
   "cell_type": "code",
   "execution_count": 9,
   "metadata": {},
   "outputs": [
    {
     "name": "stdout",
     "output_type": "stream",
     "text": [
      "Shape of the kernel: torch.Size([1, 3, 3, 3])\n"
     ]
    },
    {
     "data": {
      "text/plain": [
       "tensor([[[[1., 1., 1.],\n",
       "          [1., 1., 1.],\n",
       "          [1., 1., 1.]],\n",
       "\n",
       "         [[1., 1., 1.],\n",
       "          [1., 1., 1.],\n",
       "          [1., 1., 1.]],\n",
       "\n",
       "         [[1., 1., 1.],\n",
       "          [1., 1., 1.],\n",
       "          [1., 1., 1.]]]], dtype=torch.float64)"
      ]
     },
     "execution_count": 9,
     "metadata": {},
     "output_type": "execute_result"
    }
   ],
   "source": [
    "torch_kernel = torch.ones((3,3), dtype=torch.float64).repeat(1, 3, 1, 1)\n",
    "print(\"Shape of the kernel:\", torch_kernel.shape)\n",
    "torch_kernel"
   ]
  },
  {
   "cell_type": "code",
   "execution_count": 10,
   "metadata": {},
   "outputs": [
    {
     "data": {
      "text/plain": [
       "tensor([[[[2295.]]],\n",
       "\n",
       "\n",
       "        [[[2295.]]]], dtype=torch.float64, grad_fn=<ThnnConv2DBackward>)"
      ]
     },
     "execution_count": 10,
     "metadata": {},
     "output_type": "execute_result"
    }
   ],
   "source": [
    "F.conv2d(torch_input, torch_kernel) # note: 2295 = 255 * 9"
   ]
  },
  {
   "cell_type": "code",
   "execution_count": 11,
   "metadata": {},
   "outputs": [
    {
     "data": {
      "text/plain": [
       "tensor([[[[2295.]]],\n",
       "\n",
       "\n",
       "       [[[2295.]]]], dtype=float32)"
      ]
     },
     "execution_count": 11,
     "metadata": {},
     "output_type": "execute_result"
    }
   ],
   "source": [
    "# Now in edunets\n",
    "edu_input = Tensor(torch_input.detach().numpy())\n",
    "edu_kernel = Tensor(torch_kernel.detach().numpy())\n",
    "functional.conv(edu_input, edu_kernel)"
   ]
  },
  {
   "attachments": {},
   "cell_type": "markdown",
   "metadata": {},
   "source": [
    "## Building Conv2d in edunets"
   ]
  },
  {
   "cell_type": "code",
   "execution_count": 26,
   "metadata": {},
   "outputs": [],
   "source": [
    "class Conv2d:\n",
    "    def __init__(self, in_channels: int, out_channels: int, kernel_size, stride=1, padding=0, bias=True):\n",
    "        # Paramaters\n",
    "        self.in_channels = in_channels\n",
    "        self.out_channels = out_channels\n",
    "        self.stride = stride\n",
    "        self.padding = padding\n",
    "\n",
    "        # Initiating Kernel\n",
    "        self.real_kernel_size = (kernel_size, kernel_size) if isinstance(kernel_size, int) else kernel_size\n",
    "        stdv = 1./np.sqrt(math.prod(self.real_kernel_size))\n",
    "        self.kernel = Tensor.uniform(*self.real_kernel_size, low=-stdv, high=stdv, requires_grad=True)\n",
    "\n",
    "        # Initiating Bias\n",
    "        if bias is True:\n",
    "            stdv = 1./np.sqrt(out_channels if isinstance(out_channels, int) else math.prod(out_channels))\n",
    "            self.bias = Tensor.uniform(1, out_channels, 1, 1, low=-stdv, high=stdv, requires_grad=True)\n",
    "        else:\n",
    "            self.bias = None\n",
    "\n",
    "    def __call__(self, x):\n",
    "        batch, in_channels, width, height = x.shape\n",
    "\n",
    "        # Reshaping kernel and bias to match the channels and depth\n",
    "        self.kernel = self.kernel.repeat((batch, in_channels, 1, 1))\n",
    "\n",
    "        convolution = functional.conv(x, self.kernel, stride=self.stride, padding=self.padding)\n",
    "        print(convolution.shape)\n",
    "        convolution = convolution.repeat((1, self.out_channels, 1, 1))\n",
    "        \n",
    "        if self.bias:\n",
    "            _, _, new_width, new_height = convolution.shape\n",
    "            return self.bias.repeat((batch, 1, new_width, new_height)) + convolution\n",
    "        return convolution"
   ]
  },
  {
   "cell_type": "code",
   "execution_count": 28,
   "metadata": {},
   "outputs": [
    {
     "data": {
      "text/plain": [
       "(torch.Size([1, 6, 2, 2]), tensor([[[[-0.0819, -0.0819],\n",
       "           [-0.0819, -0.0819]],\n",
       " \n",
       "          [[-0.0844, -0.0844],\n",
       "           [-0.0844, -0.0844]],\n",
       " \n",
       "          [[ 0.2836,  0.2836],\n",
       "           [ 0.2836,  0.2836]],\n",
       " \n",
       "          [[-0.0323, -0.0323],\n",
       "           [-0.0323, -0.0323]],\n",
       " \n",
       "          [[-0.3218, -0.3218],\n",
       "           [-0.3218, -0.3218]],\n",
       " \n",
       "          [[ 0.1167,  0.1167],\n",
       "           [ 0.1167,  0.1167]]]], grad_fn=<ThnnConv2DBackward>))"
      ]
     },
     "execution_count": 28,
     "metadata": {},
     "output_type": "execute_result"
    }
   ],
   "source": [
    "# Simple pytorch example\n",
    "\n",
    "# 3 (input_channels) 6 (out_channels) 3 (kernel_size)\n",
    "m = nn.Conv2d(3, 6, 3, bias=False)\n",
    "# 1 (batch size) 2 (input_channels) 4 (height) 4 (width)\n",
    "input = torch.ones(1, 3, 4, 4)\n",
    "output = m(input)\n",
    "# 1 (batch size) 6 (out_channels) 2 (height post kernel) 2 (width post kernel)\n",
    "output.shape, output"
   ]
  },
  {
   "cell_type": "code",
   "execution_count": 29,
   "metadata": {},
   "outputs": [
    {
     "name": "stdout",
     "output_type": "stream",
     "text": [
      "(1, 1, 2, 2)\n"
     ]
    },
    {
     "data": {
      "text/plain": [
       "((1, 6, 2, 2), tensor([[[[2.644187, 2.644187],\n",
       "          [2.644187, 2.644187]],\n",
       " \n",
       "         [[2.644187, 2.644187],\n",
       "          [2.644187, 2.644187]],\n",
       " \n",
       "         [[2.644187, 2.644187],\n",
       "          [2.644187, 2.644187]],\n",
       " \n",
       "         [[2.644187, 2.644187],\n",
       "          [2.644187, 2.644187]],\n",
       " \n",
       "         [[2.644187, 2.644187],\n",
       "          [2.644187, 2.644187]],\n",
       " \n",
       "         [[2.644187, 2.644187],\n",
       "          [2.644187, 2.644187]]]], dtype=float32))"
      ]
     },
     "execution_count": 29,
     "metadata": {},
     "output_type": "execute_result"
    }
   ],
   "source": [
    "# Edunets equivalent of pytorch's simple example\n",
    "\n",
    "# 3 (input_channels) 6 (out_channels) 3 (kernel_size)\n",
    "m = Conv2d(3, 6, 3, bias=False)\n",
    "# 1 (batch size) 2 (input_channels) 4 (height) 4 (width)\n",
    "input = Tensor.ones(1, 3, 4, 4)\n",
    "output = m(input)\n",
    "# 1 (batch size) 6 (out_channels) 2 (height post kernel) 2 (width post kernel)\n",
    "output.shape, output"
   ]
  },
  {
   "attachments": {},
   "cell_type": "markdown",
   "metadata": {},
   "source": [
    "## MNIST in Edunets (with convolutional layers)"
   ]
  },
  {
   "cell_type": "code",
   "execution_count": 8,
   "metadata": {},
   "outputs": [
    {
     "data": {
      "text/plain": [
       "(<matplotlib.image.AxesImage at 0x7fc7891fccd0>, 5)"
      ]
     },
     "execution_count": 8,
     "metadata": {},
     "output_type": "execute_result"
    },
    {
     "data": {
      "image/png": "[encoded data removed]",
      "text/plain": [
       "<Figure size 432x288 with 1 Axes>"
      ]
     },
     "metadata": {
      "needs_background": "light"
     },
     "output_type": "display_data"
    }
   ],
   "source": [
    "# load the mnist dataset\n",
    "\n",
    "def fetch(url):\n",
    "    import requests, gzip, os, hashlib, numpy\n",
    "    fp = os.path.join(\"/tmp\", hashlib.md5(url.encode('utf-8')).hexdigest())\n",
    "    if os.path.isfile(fp):\n",
    "        with open(fp, \"rb\") as f:\n",
    "            dat = f.read()\n",
    "    else:\n",
    "        with open(fp, \"wb\") as f:\n",
    "            dat = requests.get(url).content\n",
    "            f.write(dat)\n",
    "    return numpy.frombuffer(gzip.decompress(dat), dtype=np.uint8).copy()\n",
    "\n",
    "X_train = fetch(\"http://yann.lecun.com/exdb/mnist/train-images-idx3-ubyte.gz\")[0x10:].reshape((-1, 28, 28))\n",
    "Y_train = fetch(\"http://yann.lecun.com/exdb/mnist/train-labels-idx1-ubyte.gz\")[8:]\n",
    "X_test = fetch(\"http://yann.lecun.com/exdb/mnist/t10k-images-idx3-ubyte.gz\")[0x10:].reshape((-1, 28, 28))\n",
    "Y_test = fetch(\"http://yann.lecun.com/exdb/mnist/t10k-labels-idx1-ubyte.gz\")[8:]\n",
    "\n",
    "plt.imshow(X_train[0]), Y_train[0]"
   ]
  }
 ],
 "metadata": {
  "kernelspec": {
   "display_name": "pi_env",
   "language": "python",
   "name": "python3"
  },
  "language_info": {
   "codemirror_mode": {
    "name": "ipython",
    "version": 3
   },
   "file_extension": ".py",
   "mimetype": "text/x-python",
   "name": "python",
   "nbconvert_exporter": "python",
   "pygments_lexer": "ipython3",
   "version": "3.8.12 (default, Oct 12 2021, 13:49:34) \n[GCC 7.5.0]"
  },
  "orig_nbformat": 4,
  "vscode": {
   "interpreter": {
    "hash": "7dbd43346cf4060a7c5249e62daf2cb2395365dab3b14076ef7b34680f245741"
   }
  }
 },
 "nbformat": 4,
 "nbformat_minor": 2
}
