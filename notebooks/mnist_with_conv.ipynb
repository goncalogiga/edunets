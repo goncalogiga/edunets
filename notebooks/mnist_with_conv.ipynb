{
 "cells": [
  {
   "cell_type": "code",
   "execution_count": 1,
   "metadata": {},
   "outputs": [],
   "source": [
    "import sys\n",
    "import math\n",
    "sys.path.insert(0, \"..\")\n",
    "\n",
    "import torch\n",
    "import numpy as np\n",
    "import torch.nn as nn\n",
    "from tqdm import trange\n",
    "import torch.nn.functional as F\n",
    "import matplotlib.pyplot as plt\n",
    "\n",
    "from edunets import functional, losses\n",
    "from edunets.tensor import Tensor"
   ]
  },
  {
   "cell_type": "code",
   "execution_count": 2,
   "metadata": {},
   "outputs": [
    {
     "data": {
      "text/plain": [
       "(<matplotlib.image.AxesImage at 0x7f27b9ac7490>, 5)"
      ]
     },
     "execution_count": 2,
     "metadata": {},
     "output_type": "execute_result"
    },
    {
     "data": {
      "image/png": "[encoded data removed]",
      "text/plain": [
       "<Figure size 432x288 with 1 Axes>"
      ]
     },
     "metadata": {
      "needs_background": "light"
     },
     "output_type": "display_data"
    }
   ],
   "source": [
    "# load the mnist dataset\n",
    "\n",
    "def fetch(url):\n",
    "    import requests, gzip, os, hashlib, numpy\n",
    "    fp = os.path.join(\"/tmp\", hashlib.md5(url.encode('utf-8')).hexdigest())\n",
    "    if os.path.isfile(fp):\n",
    "        with open(fp, \"rb\") as f:\n",
    "            dat = f.read()\n",
    "    else:\n",
    "        with open(fp, \"wb\") as f:\n",
    "            dat = requests.get(url).content\n",
    "            f.write(dat)\n",
    "    return numpy.frombuffer(gzip.decompress(dat), dtype=np.uint8).copy()\n",
    "\n",
    "X_train = fetch(\"http://yann.lecun.com/exdb/mnist/train-images-idx3-ubyte.gz\")[0x10:].reshape((-1, 28, 28))\n",
    "Y_train = fetch(\"http://yann.lecun.com/exdb/mnist/train-labels-idx1-ubyte.gz\")[8:]\n",
    "X_test = fetch(\"http://yann.lecun.com/exdb/mnist/t10k-images-idx3-ubyte.gz\")[0x10:].reshape((-1, 28, 28))\n",
    "Y_test = fetch(\"http://yann.lecun.com/exdb/mnist/t10k-labels-idx1-ubyte.gz\")[8:]\n",
    "\n",
    "plt.imshow(X_train[0]), Y_train[0]"
   ]
  },
  {
   "attachments": {},
   "cell_type": "markdown",
   "metadata": {},
   "source": [
    "Let's built Conv2d in edunets:"
   ]
  },
  {
   "cell_type": "code",
   "execution_count": 20,
   "metadata": {},
   "outputs": [
    {
     "data": {
      "text/plain": [
       "(torch.Size([1, 2, 2, 2]), tensor([[[[-0.4280, -0.5891],\n",
       "           [ 0.1960,  0.2193]],\n",
       " \n",
       "          [[-0.7681,  0.8031],\n",
       "           [ 1.2890,  0.2940]]]], grad_fn=<ThnnConv2DBackward>))"
      ]
     },
     "execution_count": 20,
     "metadata": {},
     "output_type": "execute_result"
    }
   ],
   "source": [
    "# Simple pytorch example\n",
    "\n",
    "# 2 (input_channels) 2 (out_channels) 3 (kernel_size)\n",
    "m = nn.Conv2d(2, 2, 3)\n",
    "# 1 (batch size) 2 (input_channels) 4 (width) 4 (height)\n",
    "input = torch.randn(1, 2, 4, 4)\n",
    "output = m(input)\n",
    "output.shape, output"
   ]
  },
  {
   "cell_type": "code",
   "execution_count": 29,
   "metadata": {},
   "outputs": [],
   "source": [
    "class Conv2d:\n",
    "    def __init__(self, in_channels, out_channels, kernel_size, stride=1, padding=0, bias=True):\n",
    "        # Paramaters\n",
    "        self.in_channels = in_channels\n",
    "        self.out_channels = out_channels\n",
    "        self.kernel_size = kernel_size\n",
    "        self.stride = stride\n",
    "        self.padding = padding\n",
    "\n",
    "        # Initiating Kernel\n",
    "        self.real_kernel_size = (kernel_size, kernel_size) if isinstance(kernel_size, int) else kernel_size\n",
    "        stdv = 1./np.sqrt(math.prod(self.real_kernel_size))\n",
    "        self.kernel = Tensor.uniform(*self.real_kernel_size, low=-stdv, high=stdv, requires_grad=True)\n",
    "\n",
    "        # Initiating Bias\n",
    "        if bias is True:\n",
    "            stdv = 1./np.sqrt(out_channels if isinstance(out_channels, int) else math.prod(out_channels))\n",
    "            self.bias = Tensor.uniform(out_channels, low=-stdv, high=stdv, requires_grad=True)\n",
    "        else:\n",
    "            self.bias = None\n",
    "\n",
    "    def __call__(self, x):\n",
    "        batch, in_channels, width, height = x.shape\n",
    "\n",
    "        # Adding the batches\n",
    "        self.kernel = self.kernel.reshape((batch, *self.real_kernel_size))\n",
    "        self.out = self.bias.reshape((batch, self.out_channels))\n",
    "\n",
    "        for channel in range(self.in_channels):\n",
    "            self.out = self.out + functional.conv(x[:, channel, :, :], self.kernel, stride=self.stride, padding=self.padding)\n",
    "\n",
    "        # The shape is totaly wrong, we need to output shape (batch, channels, width_after_conv, height_after_conv)\n",
    "        # We are missing the channels\n",
    "        return self.out\n"
   ]
  },
  {
   "cell_type": "code",
   "execution_count": 30,
   "metadata": {},
   "outputs": [
    {
     "data": {
      "text/plain": [
       "tensor([[[-1.0443934 , -0.51334023],\n",
       "        [-1.2349031 , -0.4169715 ]]], dtype=float32)"
      ]
     },
     "execution_count": 30,
     "metadata": {},
     "output_type": "execute_result"
    }
   ],
   "source": [
    "# edunets equivalent of pytorch's simple example\n",
    "\n",
    "# 2 (input_channels) 2 (out_channels) 3 (kernel_size)\n",
    "m = Conv2d(2, 2, 3)\n",
    "# 1 (batch size) 2 (input_channels) 4 (width) 4 (height)\n",
    "input = Tensor.uniform(1, 2, 4, 4)\n",
    "output = m(input)\n",
    "output"
   ]
  }
 ],
 "metadata": {
  "kernelspec": {
   "display_name": "pi_env",
   "language": "python",
   "name": "python3"
  },
  "language_info": {
   "codemirror_mode": {
    "name": "ipython",
    "version": 3
   },
   "file_extension": ".py",
   "mimetype": "text/x-python",
   "name": "python",
   "nbconvert_exporter": "python",
   "pygments_lexer": "ipython3",
   "version": "3.8.12"
  },
  "orig_nbformat": 4,
  "vscode": {
   "interpreter": {
    "hash": "7dbd43346cf4060a7c5249e62daf2cb2395365dab3b14076ef7b34680f245741"
   }
  }
 },
 "nbformat": 4,
 "nbformat_minor": 2
}
