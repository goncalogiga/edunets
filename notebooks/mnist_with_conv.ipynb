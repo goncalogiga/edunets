{
 "cells": [
  {
   "cell_type": "code",
   "execution_count": 1,
   "metadata": {},
   "outputs": [],
   "source": [
    "import sys\n",
    "sys.path.insert(0, \"..\")\n",
    "\n",
    "import torch\n",
    "import numpy as np\n",
    "import torch.nn as nn\n",
    "from tqdm import trange\n",
    "import torch.nn.functional as F\n",
    "import matplotlib.pyplot as plt\n",
    "\n",
    "from edunets import functional, losses\n",
    "from edunets.tensor import Tensor"
   ]
  },
  {
   "cell_type": "code",
   "execution_count": 2,
   "metadata": {},
   "outputs": [
    {
     "name": "stdout",
     "output_type": "stream",
     "text": [
      "[[0 1 2]\n",
      " [3 4 5]\n",
      " [6 7 8]]\n"
     ]
    },
    {
     "data": {
      "text/plain": [
       "array([2, 2])"
      ]
     },
     "execution_count": 2,
     "metadata": {},
     "output_type": "execute_result"
    }
   ],
   "source": [
    "\n",
    "arr = np.arange(9).reshape(3,3)\n",
    "print(arr)\n",
    "arr[[0, 0], [2, 2]]"
   ]
  },
  {
   "attachments": {},
   "cell_type": "markdown",
   "metadata": {},
   "source": [
    "### Basic Cross-correlation"
   ]
  },
  {
   "attachments": {},
   "cell_type": "markdown",
   "metadata": {},
   "source": [
    "Let's make sure the cross correlation works"
   ]
  },
  {
   "cell_type": "code",
   "execution_count": 2,
   "metadata": {},
   "outputs": [],
   "source": [
    "a = np.array([\n",
    "    [1., 2., 3., 0.],\n",
    "    [4., 5., 6., 0.],\n",
    "    [7., 8., 9., 0.],\n",
    "    [-1., -1., -1., -1.],\n",
    "    # [-1., -1., -1., -1.]\n",
    "])\n",
    "\n",
    "a_small = np.array([\n",
    "    [1., 2., 3.],\n",
    "    [4., 5., 6.],\n",
    "    [7., 8., 9.],\n",
    "])\n",
    "\n",
    "v = np.array([\n",
    "    [2., 3.],\n",
    "    [3., 2.]\n",
    "])"
   ]
  },
  {
   "cell_type": "code",
   "execution_count": 4,
   "metadata": {},
   "outputs": [
    {
     "data": {
      "text/plain": [
       "tensor([[[[30.]]]], dtype=torch.float64)"
      ]
     },
     "execution_count": 4,
     "metadata": {},
     "output_type": "execute_result"
    }
   ],
   "source": [
    "# Pytorch only supports 3 dimentional vectors for F.conv so we add dummy dimensions\n",
    "x = torch.tensor(a_small, dtype=float)[None, None]\n",
    "w = torch.tensor(v, dtype=float)[None, None]\n",
    "F.conv2d(x, w, stride=2)"
   ]
  },
  {
   "cell_type": "code",
   "execution_count": 5,
   "metadata": {},
   "outputs": [
    {
     "data": {
      "text/plain": [
       "tensor([[30., 40., 24.],\n",
       "       [60., 70., 39.],\n",
       "       [33., 38., 13.]], dtype=float32)"
      ]
     },
     "execution_count": 5,
     "metadata": {},
     "output_type": "execute_result"
    }
   ],
   "source": [
    "Tensor(a).correlate(v)"
   ]
  },
  {
   "attachments": {},
   "cell_type": "markdown",
   "metadata": {},
   "source": [
    "Now let's see if the gradients match"
   ]
  },
  {
   "cell_type": "code",
   "execution_count": 6,
   "metadata": {},
   "outputs": [
    {
     "name": "stdout",
     "output_type": "stream",
     "text": [
      "tensor([[[[30., 40., 24.],\n",
      "          [60., 70., 39.],\n",
      "          [33., 38., 13.]]]], dtype=torch.float64,\n",
      "       grad_fn=<ThnnConv2DBackward>)\n",
      "tensor([[[[ 2.,  5.,  5.,  3.],\n",
      "          [ 5., 10., 10.,  5.],\n",
      "          [ 5., 10., 10.,  5.],\n",
      "          [ 3.,  5.,  5.,  2.]]]], dtype=torch.float64)\n",
      "tensor([[[[45., 33.],\n",
      "          [36., 25.]]]], dtype=torch.float64)\n"
     ]
    }
   ],
   "source": [
    "x = torch.tensor(a[None, None], dtype=float, requires_grad=True)\n",
    "w = torch.tensor(v[None, None], dtype=float, requires_grad=True)\n",
    "out = F.conv2d(x, w)\n",
    "print(out)\n",
    "out.backward(torch.ones(out.shape))\n",
    "\n",
    "print(x.grad)\n",
    "print(w.grad)"
   ]
  },
  {
   "cell_type": "code",
   "execution_count": 7,
   "metadata": {},
   "outputs": [
    {
     "name": "stdout",
     "output_type": "stream",
     "text": [
      "tensor([[[[30., 40., 24.],\n",
      "         [60., 70., 39.],\n",
      "         [33., 38., 13.]]]], dtype=float32)\n",
      "[[[[ 2.  5.  5.  3.]\n",
      "   [ 5. 10. 10.  5.]\n",
      "   [ 5. 10. 10.  5.]\n",
      "   [ 3.  5.  5.  2.]]]]\n",
      "[[[[45. 33.]\n",
      "   [36. 25.]]]]\n"
     ]
    }
   ],
   "source": [
    "x = Tensor(a[None, None], requires_grad=True)\n",
    "w = Tensor(v[None, None], requires_grad=True)\n",
    "out = x.correlate(w)\n",
    "print(out)\n",
    "out.backward(Tensor.ones(*out.shape))\n",
    "\n",
    "print(x.grad)\n",
    "print(w.grad)"
   ]
  },
  {
   "attachments": {},
   "cell_type": "markdown",
   "metadata": {},
   "source": [
    "They do yay! Now we have to try and add the other paramaters that are in torch's cond1d, like padding and stride."
   ]
  },
  {
   "attachments": {},
   "cell_type": "markdown",
   "metadata": {},
   "source": [
    "### Cross-correlation with a stride"
   ]
  },
  {
   "attachments": {},
   "cell_type": "markdown",
   "metadata": {},
   "source": [
    "Let's start with stride, meaning how much the kernel shifts when performing cross-correlation. Default is 1, so the kernel just slides naturaly accross the input. \n",
    "\n",
    "With stride = 1, we get, for input=[1,2,3,4,5,6] and kernel=[6,7]:\n",
    "\n",
    "6*1 + 7*2 = 20\n",
    "\n",
    "6*2 + 7*3 = 33\n",
    "\n",
    "\n",
    "...\n",
    "\n",
    "6*4 + 7*5 = 59\n",
    "\n",
    "so the convolution is [20, 33, 46, 59]\n",
    "\n",
    "With stride = 2 we just take the index that are equal to 0 modulo 2\n",
    "this of course generelizes to any value of stride"
   ]
  },
  {
   "cell_type": "code",
   "execution_count": 8,
   "metadata": {},
   "outputs": [
    {
     "name": "stdout",
     "output_type": "stream",
     "text": [
      "tensor([[[[30., 24.],\n",
      "          [33., 13.]]]], dtype=torch.float64, grad_fn=<ThnnConv2DBackward>)\n",
      "===\n",
      "tensor([[[[2., 3., 2., 3.],\n",
      "          [3., 2., 3., 2.],\n",
      "          [2., 3., 2., 3.],\n",
      "          [3., 2., 3., 2.]]]], dtype=torch.float64)\n",
      "tensor([[[[20., 10.],\n",
      "          [ 8.,  3.]]]], dtype=torch.float64)\n"
     ]
    }
   ],
   "source": [
    "stride = 2\n",
    "\n",
    "x = torch.tensor(a[None, None], dtype=float, requires_grad=True)\n",
    "w = torch.tensor(v[None, None], dtype=float, requires_grad=True)\n",
    "tout = F.conv1d(x, w, stride=stride)\n",
    "print(tout)\n",
    "tout.backward(torch.ones(tout.shape))\n",
    "\n",
    "print(\"===\")\n",
    "print(x.grad)\n",
    "print(w.grad)"
   ]
  },
  {
   "cell_type": "code",
   "execution_count": 9,
   "metadata": {},
   "outputs": [
    {
     "name": "stdout",
     "output_type": "stream",
     "text": [
      "tensor([[[[30., 24.],\n",
      "         [33., 13.]]]], dtype=float32)\n",
      "===\n",
      "[[[[2. 3. 2. 3.]\n",
      "   [3. 2. 3. 2.]\n",
      "   [2. 3. 2. 3.]\n",
      "   [3. 2. 3. 2.]]]]\n",
      "[[[[20. 10.]\n",
      "   [ 8.  3.]]]]\n"
     ]
    }
   ],
   "source": [
    "from edunets.utils import indexes_by_stride\n",
    "\n",
    "x = Tensor(a[None, None], dtype=float, requires_grad=True)\n",
    "w = Tensor(v[None, None], dtype=float, requires_grad=True)\n",
    "out = x.correlate(w)\n",
    "\n",
    "# Selecting values based on stride\n",
    "idxes = indexes_by_stride(out, stride)\n",
    "out = out[idxes]\n",
    "\n",
    "# Defining the right shape for the correlation result\n",
    "out_shape = np.array(x.shape) - np.array(w.shape) + 2 - stride\n",
    "out_shape[out_shape <= 0] = 1\n",
    "\n",
    "# Reshape back (should we really be reshaping to w ???)\n",
    "out = out.reshape(out_shape)\n",
    "print(out)\n",
    "\n",
    "out.backward(Tensor.ones(*out.shape))\n",
    "\n",
    "print(\"===\")\n",
    "print(x.grad)\n",
    "print(w.grad)"
   ]
  },
  {
   "attachments": {},
   "cell_type": "markdown",
   "metadata": {},
   "source": [
    "Cross correlation with padding"
   ]
  },
  {
   "cell_type": "code",
   "execution_count": 3,
   "metadata": {},
   "outputs": [
    {
     "name": "stdout",
     "output_type": "stream",
     "text": [
      "tensor([[[[ 0.,  0.,  0.,  0.,  0.,  0.,  0.],\n",
      "          [ 0.,  2.,  7., 12.,  9.,  0.,  0.],\n",
      "          [ 0., 11., 30., 40., 24.,  0.,  0.],\n",
      "          [ 0., 26., 60., 70., 39.,  0.,  0.],\n",
      "          [ 0., 19., 33., 38., 13., -3.,  0.],\n",
      "          [ 0., -3., -5., -5., -5., -2.,  0.],\n",
      "          [ 0.,  0.,  0.,  0.,  0.,  0.,  0.]]]], dtype=torch.float64,\n",
      "       grad_fn=<ThnnConv2DBackward>)\n",
      "===\n",
      "tensor([[[[10., 10., 10., 10.],\n",
      "          [10., 10., 10., 10.],\n",
      "          [10., 10., 10., 10.],\n",
      "          [10., 10., 10., 10.]]]], dtype=torch.float64)\n",
      "tensor([[[[41., 41.],\n",
      "          [41., 41.]]]], dtype=torch.float64)\n"
     ]
    }
   ],
   "source": [
    "padding = 2\n",
    "\n",
    "x = torch.tensor(a[None, None], dtype=float, requires_grad=True)\n",
    "w = torch.tensor(v[None, None], dtype=float, requires_grad=True)\n",
    "tout = F.conv1d(x, w, padding=padding)\n",
    "print(tout)\n",
    "\n",
    "tout.backward(torch.ones(tout.shape))\n",
    "\n",
    "print(\"===\")\n",
    "print(x.grad)\n",
    "print(w.grad)"
   ]
  },
  {
   "cell_type": "code",
   "execution_count": 4,
   "metadata": {},
   "outputs": [
    {
     "name": "stdout",
     "output_type": "stream",
     "text": [
      "tensor([[[[ 0.,  0.,  0.,  0.,  0.,  0.,  0.],\n",
      "         [ 0.,  2.,  7., 12.,  9.,  0.,  0.],\n",
      "         [ 0., 11., 30., 40., 24.,  0.,  0.],\n",
      "         [ 0., 26., 60., 70., 39.,  0.,  0.],\n",
      "         [ 0., 19., 33., 38., 13., -3.,  0.],\n",
      "         [ 0., -3., -5., -5., -5., -2.,  0.],\n",
      "         [ 0.,  0.,  0.,  0.,  0.,  0.,  0.]]]], dtype=float32)\n",
      "===\n",
      "[[[[10. 10. 10. 10.]\n",
      "   [10. 10. 10. 10.]\n",
      "   [10. 10. 10. 10.]\n",
      "   [10. 10. 10. 10.]]]]\n",
      "[[[[41. 41.]\n",
      "   [41. 41.]]]]\n"
     ]
    },
    {
     "data": {
      "image/svg+xml": "<?xml version=\"1.0\" encoding=\"UTF-8\" standalone=\"no\"?>\n<!DOCTYPE svg PUBLIC \"-//W3C//DTD SVG 1.1//EN\"\n \"http://www.w3.org/Graphics/SVG/1.1/DTD/svg11.dtd\">\n<!-- Generated by graphviz version 2.50.0 (0)\n -->\n<!-- Pages: 1 -->\n<svg width=\"1267pt\" height=\"115pt\"\n viewBox=\"0.00 0.00 1266.67 115.00\" xmlns=\"http://www.w3.org/2000/svg\" xmlns:xlink=\"http://www.w3.org/1999/xlink\">\n<g id=\"graph0\" class=\"graph\" transform=\"scale(1 1) rotate(0) translate(4 111)\">\n<polygon fill=\"white\" stroke=\"transparent\" points=\"-4,4 -4,-111 1262.67,-111 1262.67,4 -4,4\"/>\n<!-- 140287085315168 -->\n<g id=\"node1\" class=\"node\">\n<title>140287085315168</title>\n<polygon fill=\"none\" stroke=\"black\" points=\"1122.67,-35.5 1122.67,-71.5 1258.67,-71.5 1258.67,-35.5 1122.67,-35.5\"/>\n<text text-anchor=\"middle\" x=\"1190.67\" y=\"-49.8\" font-family=\"Times,serif\" font-size=\"14.00\">tensor(1, 1, 7, 7)</text>\n</g>\n<!-- 140287085315168cross&#45;corr -->\n<g id=\"node2\" class=\"node\">\n<title>140287085315168cross&#45;corr</title>\n<ellipse fill=\"none\" stroke=\"black\" cx=\"1029.47\" cy=\"-53.5\" rx=\"57.39\" ry=\"18\"/>\n<text text-anchor=\"middle\" x=\"1029.47\" y=\"-49.8\" font-family=\"Times,serif\" font-size=\"14.00\">cross&#45;corr</text>\n</g>\n<!-- 140287085315168cross&#45;corr&#45;&gt;140287085315168 -->\n<g id=\"edge1\" class=\"edge\">\n<title>140287085315168cross&#45;corr&#45;&gt;140287085315168</title>\n<path fill=\"none\" stroke=\"black\" d=\"M1087.05,-53.5C1095.33,-53.5 1103.98,-53.5 1112.59,-53.5\"/>\n<polygon fill=\"black\" stroke=\"black\" points=\"1112.66,-57 1122.66,-53.5 1112.66,-50 1112.66,-57\"/>\n</g>\n<!-- 140287085314640 -->\n<g id=\"node3\" class=\"node\">\n<title>140287085314640</title>\n<polygon fill=\"none\" stroke=\"black\" points=\"800.28,-65.5 800.28,-101.5 936.28,-101.5 936.28,-65.5 800.28,-65.5\"/>\n<text text-anchor=\"middle\" x=\"868.28\" y=\"-79.8\" font-family=\"Times,serif\" font-size=\"14.00\">tensor(1, 1, 8, 8)</text>\n</g>\n<!-- 140287085314640&#45;&gt;140287085315168cross&#45;corr -->\n<g id=\"edge5\" class=\"edge\">\n<title>140287085314640&#45;&gt;140287085315168cross&#45;corr</title>\n<path fill=\"none\" stroke=\"black\" d=\"M936.33,-70.86C947.52,-68.76 959.05,-66.58 970,-64.52\"/>\n<polygon fill=\"black\" stroke=\"black\" points=\"970.7,-67.95 979.87,-62.66 969.4,-61.07 970.7,-67.95\"/>\n</g>\n<!-- 140287085314640reshape -->\n<g id=\"node4\" class=\"node\">\n<title>140287085314640reshape</title>\n<ellipse fill=\"none\" stroke=\"black\" cx=\"716.18\" cy=\"-83.5\" rx=\"48.19\" ry=\"18\"/>\n<text text-anchor=\"middle\" x=\"716.18\" y=\"-79.8\" font-family=\"Times,serif\" font-size=\"14.00\">reshape</text>\n</g>\n<!-- 140287085314640reshape&#45;&gt;140287085314640 -->\n<g id=\"edge2\" class=\"edge\">\n<title>140287085314640reshape&#45;&gt;140287085314640</title>\n<path fill=\"none\" stroke=\"black\" d=\"M764.67,-83.5C772.76,-83.5 781.34,-83.5 789.96,-83.5\"/>\n<polygon fill=\"black\" stroke=\"black\" points=\"790.08,-87 800.08,-83.5 790.08,-80 790.08,-87\"/>\n</g>\n<!-- 140287085314736 -->\n<g id=\"node5\" class=\"node\">\n<title>140287085314736</title>\n<polygon fill=\"none\" stroke=\"black\" points=\"532.09,-65.5 532.09,-101.5 632.09,-101.5 632.09,-65.5 532.09,-65.5\"/>\n<text text-anchor=\"middle\" x=\"582.09\" y=\"-79.8\" font-family=\"Times,serif\" font-size=\"14.00\">tensor(8, 8)</text>\n</g>\n<!-- 140287085314736&#45;&gt;140287085314640reshape -->\n<g id=\"edge6\" class=\"edge\">\n<title>140287085314736&#45;&gt;140287085314640reshape</title>\n<path fill=\"none\" stroke=\"black\" d=\"M632.27,-83.5C640.51,-83.5 649.13,-83.5 657.56,-83.5\"/>\n<polygon fill=\"black\" stroke=\"black\" points=\"657.71,-87 667.71,-83.5 657.71,-80 657.71,-87\"/>\n</g>\n<!-- 140287085314736pad -->\n<g id=\"node6\" class=\"node\">\n<title>140287085314736pad</title>\n<ellipse fill=\"none\" stroke=\"black\" cx=\"468.14\" cy=\"-83.5\" rx=\"27.9\" ry=\"18\"/>\n<text text-anchor=\"middle\" x=\"468.14\" y=\"-79.8\" font-family=\"Times,serif\" font-size=\"14.00\">pad</text>\n</g>\n<!-- 140287085314736pad&#45;&gt;140287085314736 -->\n<g id=\"edge3\" class=\"edge\">\n<title>140287085314736pad&#45;&gt;140287085314736</title>\n<path fill=\"none\" stroke=\"black\" d=\"M496.24,-83.5C504.04,-83.5 512.88,-83.5 521.83,-83.5\"/>\n<polygon fill=\"black\" stroke=\"black\" points=\"521.93,-87 531.93,-83.5 521.93,-80 521.93,-87\"/>\n</g>\n<!-- 140287085314400 -->\n<g id=\"node7\" class=\"node\">\n<title>140287085314400</title>\n<polygon fill=\"none\" stroke=\"black\" points=\"304.19,-65.5 304.19,-101.5 404.19,-101.5 404.19,-65.5 304.19,-65.5\"/>\n<text text-anchor=\"middle\" x=\"354.19\" y=\"-79.8\" font-family=\"Times,serif\" font-size=\"14.00\">tensor(4, 4)</text>\n</g>\n<!-- 140287085314400&#45;&gt;140287085314736pad -->\n<g id=\"edge7\" class=\"edge\">\n<title>140287085314400&#45;&gt;140287085314736pad</title>\n<path fill=\"none\" stroke=\"black\" d=\"M404.29,-83.5C412.89,-83.5 421.7,-83.5 429.9,-83.5\"/>\n<polygon fill=\"black\" stroke=\"black\" points=\"429.91,-87 439.91,-83.5 429.91,-80 429.91,-87\"/>\n</g>\n<!-- 140287085314400reshape -->\n<g id=\"node8\" class=\"node\">\n<title>140287085314400reshape</title>\n<ellipse fill=\"none\" stroke=\"black\" cx=\"220.1\" cy=\"-83.5\" rx=\"48.19\" ry=\"18\"/>\n<text text-anchor=\"middle\" x=\"220.1\" y=\"-79.8\" font-family=\"Times,serif\" font-size=\"14.00\">reshape</text>\n</g>\n<!-- 140287085314400reshape&#45;&gt;140287085314400 -->\n<g id=\"edge4\" class=\"edge\">\n<title>140287085314400reshape&#45;&gt;140287085314400</title>\n<path fill=\"none\" stroke=\"black\" d=\"M268.41,-83.5C276.62,-83.5 285.25,-83.5 293.74,-83.5\"/>\n<polygon fill=\"black\" stroke=\"black\" points=\"293.98,-87 303.98,-83.5 293.98,-80 293.98,-87\"/>\n</g>\n<!-- 140287085314112 -->\n<g id=\"node9\" class=\"node\">\n<title>140287085314112</title>\n<polygon fill=\"none\" stroke=\"black\" points=\"0,-60.5 0,-106.5 136,-106.5 136,-60.5 0,-60.5\"/>\n<text text-anchor=\"middle\" x=\"68\" y=\"-91.3\" font-family=\"Times,serif\" font-size=\"14.00\">tensor(1, 1, 4, 4)</text>\n<polyline fill=\"none\" stroke=\"black\" points=\"0,-83.5 136,-83.5 \"/>\n<text text-anchor=\"middle\" x=\"68\" y=\"-68.3\" font-family=\"Times,serif\" font-size=\"14.00\">grad(1, 1, 4, 4)</text>\n</g>\n<!-- 140287085314112&#45;&gt;140287085314400reshape -->\n<g id=\"edge8\" class=\"edge\">\n<title>140287085314112&#45;&gt;140287085314400reshape</title>\n<path fill=\"none\" stroke=\"black\" d=\"M136.15,-83.5C144.69,-83.5 153.38,-83.5 161.75,-83.5\"/>\n<polygon fill=\"black\" stroke=\"black\" points=\"161.78,-87 171.78,-83.5 161.78,-80 161.78,-87\"/>\n</g>\n<!-- 140289427087472 -->\n<g id=\"node10\" class=\"node\">\n<title>140289427087472</title>\n<polygon fill=\"none\" stroke=\"black\" points=\"800.28,-0.5 800.28,-46.5 936.28,-46.5 936.28,-0.5 800.28,-0.5\"/>\n<text text-anchor=\"middle\" x=\"868.28\" y=\"-31.3\" font-family=\"Times,serif\" font-size=\"14.00\">tensor(1, 1, 2, 2)</text>\n<polyline fill=\"none\" stroke=\"black\" points=\"800.28,-23.5 936.28,-23.5 \"/>\n<text text-anchor=\"middle\" x=\"868.28\" y=\"-8.3\" font-family=\"Times,serif\" font-size=\"14.00\">grad(1, 1, 2, 2)</text>\n</g>\n<!-- 140289427087472&#45;&gt;140287085315168cross&#45;corr -->\n<g id=\"edge9\" class=\"edge\">\n<title>140289427087472&#45;&gt;140287085315168cross&#45;corr</title>\n<path fill=\"none\" stroke=\"black\" d=\"M936.33,-36.14C947.52,-38.24 959.05,-40.42 970,-42.48\"/>\n<polygon fill=\"black\" stroke=\"black\" points=\"969.4,-45.93 979.87,-44.34 970.7,-39.05 969.4,-45.93\"/>\n</g>\n</g>\n</svg>\n",
      "text/plain": [
       "<graphviz.graphs.Digraph at 0x7f9721e30820>"
      ]
     },
     "execution_count": 4,
     "metadata": {},
     "output_type": "execute_result"
    }
   ],
   "source": [
    "x = Tensor(a[None, None], dtype=float, requires_grad=True)\n",
    "w = Tensor(v[None, None], dtype=float, requires_grad=True)\n",
    "out = functional.conv(x, w, padding=padding)\n",
    "print(out)\n",
    "\n",
    "out.backward(Tensor.ones(*out.shape))\n",
    "\n",
    "print(\"===\")\n",
    "print(x.grad)\n",
    "print(w.grad)\n",
    "out.graph"
   ]
  },
  {
   "attachments": {},
   "cell_type": "markdown",
   "metadata": {},
   "source": [
    "### Convolution Layer\n",
    "\n",
    "The first step is to implement a convolution layer class"
   ]
  },
  {
   "cell_type": "code",
   "execution_count": null,
   "metadata": {},
   "outputs": [],
   "source": [
    "class Conv2d:\n",
    "    def __init__(self, input_shape, kernel_size, depth):\n",
    "        input_depth, input_height, input_width = input.shape\n",
    "        \n",
    "        self.depth = depth\n",
    "        self.input_shape = input_shape\n",
    "        self.input_depth = input_depth\n",
    "        self.output_shape = (depth, input_height - kernel_size + 1, input_width - kernel_size + 1)\n",
    "        self.kernels_shape = (depth, input_depth, kernel_size, kernel_size)\n",
    "        \n",
    "        self.kernels = Tensor.uniform(*self.kernels_shape)\n",
    "        self.biases = Tensor.uniform(*self.output_shape)\n",
    "\n",
    "    def forward(self, x):\n",
    "        output = self.biases.copy()\n",
    "\n",
    "        for i in range(self.depth):\n",
    "            for j in range(self.input_depth):\n",
    "                output[i] = output[i] + x[j].correlate(self.kernels[i,j], mode=\"valid\")"
   ]
  }
 ],
 "metadata": {
  "kernelspec": {
   "display_name": "pi_env",
   "language": "python",
   "name": "python3"
  },
  "language_info": {
   "codemirror_mode": {
    "name": "ipython",
    "version": 3
   },
   "file_extension": ".py",
   "mimetype": "text/x-python",
   "name": "python",
   "nbconvert_exporter": "python",
   "pygments_lexer": "ipython3",
   "version": "3.8.12"
  },
  "orig_nbformat": 4,
  "vscode": {
   "interpreter": {
    "hash": "7dbd43346cf4060a7c5249e62daf2cb2395365dab3b14076ef7b34680f245741"
   }
  }
 },
 "nbformat": 4,
 "nbformat_minor": 2
}
