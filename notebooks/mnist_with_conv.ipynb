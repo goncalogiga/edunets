{
 "cells": [
  {
   "cell_type": "code",
   "execution_count": 1,
   "metadata": {},
   "outputs": [],
   "source": [
    "import sys\n",
    "sys.path.insert(0, \"..\")\n",
    "\n",
    "import torch\n",
    "import numpy as np\n",
    "import torch.nn as nn\n",
    "from tqdm import trange\n",
    "import torch.nn.functional as F\n",
    "import matplotlib.pyplot as plt\n",
    "\n",
    "from edunets import functional, losses\n",
    "from edunets.tensor import Tensor"
   ]
  },
  {
   "attachments": {},
   "cell_type": "markdown",
   "metadata": {},
   "source": [
    "### Basic Cross-correlation"
   ]
  },
  {
   "attachments": {},
   "cell_type": "markdown",
   "metadata": {},
   "source": [
    "Let's make sure the cross correlation works"
   ]
  },
  {
   "cell_type": "code",
   "execution_count": 2,
   "metadata": {},
   "outputs": [],
   "source": [
    "a = np.array([\n",
    "    [1., 2., 3.],\n",
    "    [4., 5., 6.],\n",
    "    [7., 8., 9.]\n",
    "])\n",
    "v = np.array([\n",
    "    [2., 3.],\n",
    "    [3., 2.]\n",
    "])"
   ]
  },
  {
   "cell_type": "code",
   "execution_count": 3,
   "metadata": {},
   "outputs": [
    {
     "data": {
      "text/plain": [
       "tensor([[[[30., 40.],\n",
       "          [60., 70.]]]], dtype=torch.float64)"
      ]
     },
     "execution_count": 3,
     "metadata": {},
     "output_type": "execute_result"
    }
   ],
   "source": [
    "# Pytorch only supports 3 dimentional vectors for F.conv so we add dummy dimensions\n",
    "x = torch.tensor(a, dtype=float)[None, None]\n",
    "w = torch.tensor(v, dtype=float)[None, None]\n",
    "F.conv2d(x, w)"
   ]
  },
  {
   "cell_type": "code",
   "execution_count": 4,
   "metadata": {},
   "outputs": [
    {
     "data": {
      "text/plain": [
       "tensor([[30., 40.],\n",
       "       [60., 70.]], dtype=float32)"
      ]
     },
     "execution_count": 4,
     "metadata": {},
     "output_type": "execute_result"
    }
   ],
   "source": [
    "Tensor(a).correlate(v)"
   ]
  },
  {
   "attachments": {},
   "cell_type": "markdown",
   "metadata": {},
   "source": [
    "Now let's see if the gradients match"
   ]
  },
  {
   "cell_type": "code",
   "execution_count": 5,
   "metadata": {},
   "outputs": [
    {
     "name": "stdout",
     "output_type": "stream",
     "text": [
      "tensor([[[[30., 40.],\n",
      "          [60., 70.]]]], dtype=torch.float64, grad_fn=<ThnnConv2DBackward>)\n",
      "tensor([[[[ 2.,  5.,  3.],\n",
      "          [ 5., 10.,  5.],\n",
      "          [ 3.,  5.,  2.]]]], dtype=torch.float64)\n",
      "tensor([[[[12., 16.],\n",
      "          [24., 28.]]]], dtype=torch.float64)\n"
     ]
    }
   ],
   "source": [
    "x = torch.tensor(a[None, None], dtype=float, requires_grad=True)\n",
    "w = torch.tensor(v[None, None], dtype=float, requires_grad=True)\n",
    "out = F.conv2d(x, w)\n",
    "print(out)\n",
    "out.backward(torch.ones(out.shape))\n",
    "\n",
    "print(x.grad)\n",
    "print(w.grad)"
   ]
  },
  {
   "cell_type": "code",
   "execution_count": 6,
   "metadata": {},
   "outputs": [
    {
     "name": "stdout",
     "output_type": "stream",
     "text": [
      "tensor([[[[30., 40.],\n",
      "         [60., 70.]]]], dtype=float32)\n",
      "[[[[ 2.  5.  3.]\n",
      "   [ 5. 10.  5.]\n",
      "   [ 3.  5.  2.]]]]\n",
      "[[[[12. 16.]\n",
      "   [24. 28.]]]]\n"
     ]
    }
   ],
   "source": [
    "x = Tensor(a[None, None], requires_grad=True)\n",
    "w = Tensor(v[None, None], requires_grad=True)\n",
    "out = x.correlate(w)\n",
    "print(out)\n",
    "out.backward(Tensor.ones(*out.shape))\n",
    "\n",
    "print(x.grad)\n",
    "print(w.grad)"
   ]
  },
  {
   "attachments": {},
   "cell_type": "markdown",
   "metadata": {},
   "source": [
    "They do yay! Now we have to try and add the other paramaters that are in torch's cond1d, like padding and stride."
   ]
  },
  {
   "attachments": {},
   "cell_type": "markdown",
   "metadata": {},
   "source": [
    "### Cross-correlation with extra paramaters"
   ]
  },
  {
   "attachments": {},
   "cell_type": "markdown",
   "metadata": {},
   "source": [
    "Let's start with stride, meaning how much the kernel shifts when performing cross-correlation. Default is 1, so the kernel just slides naturaly accross the input. \n",
    "\n",
    "With stride = 1, we get, for input=[1,2,3,4,5,6] and kernel=[6,7]:\n",
    "\n",
    "6*1 + 7*2 = 20\n",
    "\n",
    "6*2 + 7*3 = 33\n",
    "\n",
    "\n",
    "...\n",
    "\n",
    "6*4 + 7*5 = 59\n",
    "\n",
    "so the convolution is [20, 33, 46, 59]\n",
    "\n",
    "With stride = 2 we just take the index that are equal to 0 modulo 2\n",
    "this of course generelizes to any value of stride"
   ]
  },
  {
   "cell_type": "code",
   "execution_count": 7,
   "metadata": {},
   "outputs": [
    {
     "name": "stdout",
     "output_type": "stream",
     "text": [
      "tensor([[[[30.]]]], dtype=torch.float64, grad_fn=<ThnnConv2DBackward>)\n",
      "tensor([[[[2., 3., 0.],\n",
      "          [3., 2., 0.],\n",
      "          [0., 0., 0.]]]], dtype=torch.float64)\n",
      "tensor([[[[1., 2.],\n",
      "          [4., 5.]]]], dtype=torch.float64)\n"
     ]
    }
   ],
   "source": [
    "stride = 2\n",
    "\n",
    "x = torch.tensor(a[None, None], dtype=float, requires_grad=True)\n",
    "w = torch.tensor(v[None, None], dtype=float, requires_grad=True)\n",
    "out = F.conv1d(x, w, stride=stride)\n",
    "print(out)\n",
    "out.backward(torch.ones(out.shape))\n",
    "\n",
    "print(x.grad)\n",
    "print(w.grad)"
   ]
  },
  {
   "cell_type": "code",
   "execution_count": 9,
   "metadata": {},
   "outputs": [
    {
     "name": "stdout",
     "output_type": "stream",
     "text": [
      "tensor([[[[30.]]]], dtype=float32)\n",
      "[[[[0. 0. 0.]\n",
      "   [0. 2. 3.]\n",
      "   [0. 3. 2.]]]]\n",
      "[[[[1. 2.]\n",
      "   [4. 5.]]]]\n"
     ]
    },
    {
     "data": {
      "image/svg+xml": "<?xml version=\"1.0\" encoding=\"UTF-8\" standalone=\"no\"?>\n<!DOCTYPE svg PUBLIC \"-//W3C//DTD SVG 1.1//EN\"\n \"http://www.w3.org/Graphics/SVG/1.1/DTD/svg11.dtd\">\n<!-- Generated by graphviz version 2.50.0 (0)\n -->\n<!-- Pages: 1 -->\n<svg width=\"1150pt\" height=\"120pt\"\n viewBox=\"0.00 0.00 1150.18 120.00\" xmlns=\"http://www.w3.org/2000/svg\" xmlns:xlink=\"http://www.w3.org/1999/xlink\">\n<g id=\"graph0\" class=\"graph\" transform=\"scale(1 1) rotate(0) translate(4 116)\">\n<polygon fill=\"white\" stroke=\"transparent\" points=\"-4,4 -4,-116 1146.18,-116 1146.18,4 -4,4\"/>\n<!-- 139641421904624 -->\n<g id=\"node1\" class=\"node\">\n<title>139641421904624</title>\n<polygon fill=\"none\" stroke=\"black\" points=\"1006.18,-37.5 1006.18,-73.5 1142.18,-73.5 1142.18,-37.5 1006.18,-37.5\"/>\n<text text-anchor=\"middle\" x=\"1074.18\" y=\"-51.8\" font-family=\"Times,serif\" font-size=\"14.00\">tensor(1, 1, 1, 1)</text>\n</g>\n<!-- 139641421904624reshape -->\n<g id=\"node2\" class=\"node\">\n<title>139641421904624reshape</title>\n<ellipse fill=\"none\" stroke=\"black\" cx=\"922.08\" cy=\"-55.5\" rx=\"48.19\" ry=\"18\"/>\n<text text-anchor=\"middle\" x=\"922.08\" y=\"-51.8\" font-family=\"Times,serif\" font-size=\"14.00\">reshape</text>\n</g>\n<!-- 139641421904624reshape&#45;&gt;139641421904624 -->\n<g id=\"edge1\" class=\"edge\">\n<title>139641421904624reshape&#45;&gt;139641421904624</title>\n<path fill=\"none\" stroke=\"black\" d=\"M970.57,-55.5C978.66,-55.5 987.24,-55.5 995.86,-55.5\"/>\n<polygon fill=\"black\" stroke=\"black\" points=\"995.98,-59 1005.98,-55.5 995.98,-52 995.98,-59\"/>\n</g>\n<!-- 139639071189936 -->\n<g id=\"node3\" class=\"node\">\n<title>139639071189936</title>\n<polygon fill=\"none\" stroke=\"black\" points=\"783.99,-37.5 783.99,-73.5 837.99,-73.5 837.99,-37.5 783.99,-37.5\"/>\n<text text-anchor=\"middle\" x=\"810.99\" y=\"-51.8\" font-family=\"Times,serif\" font-size=\"14.00\">[30.]</text>\n</g>\n<!-- 139639071189936&#45;&gt;139641421904624reshape -->\n<g id=\"edge5\" class=\"edge\">\n<title>139639071189936&#45;&gt;139641421904624reshape</title>\n<path fill=\"none\" stroke=\"black\" d=\"M838.12,-55.5C845.9,-55.5 854.76,-55.5 863.72,-55.5\"/>\n<polygon fill=\"black\" stroke=\"black\" points=\"863.83,-59 873.83,-55.5 863.83,-52 863.83,-59\"/>\n</g>\n<!-- 139639071189936[*] -->\n<g id=\"node4\" class=\"node\">\n<title>139639071189936[*]</title>\n<ellipse fill=\"none\" stroke=\"black\" cx=\"720.99\" cy=\"-55.5\" rx=\"27\" ry=\"18\"/>\n<text text-anchor=\"middle\" x=\"720.99\" y=\"-51.8\" font-family=\"Times,serif\" font-size=\"14.00\">[*]</text>\n</g>\n<!-- 139639071189936[*]&#45;&gt;139639071189936 -->\n<g id=\"edge2\" class=\"edge\">\n<title>139639071189936[*]&#45;&gt;139639071189936</title>\n<path fill=\"none\" stroke=\"black\" d=\"M748.39,-55.5C756.38,-55.5 765.3,-55.5 773.81,-55.5\"/>\n<polygon fill=\"black\" stroke=\"black\" points=\"773.91,-59 783.91,-55.5 773.91,-52 773.91,-59\"/>\n</g>\n<!-- 139639071190128 -->\n<g id=\"node5\" class=\"node\">\n<title>139639071190128</title>\n<polygon fill=\"none\" stroke=\"black\" points=\"571.99,-37.5 571.99,-73.5 657.99,-73.5 657.99,-37.5 571.99,-37.5\"/>\n<text text-anchor=\"middle\" x=\"614.99\" y=\"-51.8\" font-family=\"Times,serif\" font-size=\"14.00\">tensor(4,)</text>\n</g>\n<!-- 139639071190128&#45;&gt;139639071189936[*] -->\n<g id=\"edge6\" class=\"edge\">\n<title>139639071190128&#45;&gt;139639071189936[*]</title>\n<path fill=\"none\" stroke=\"black\" d=\"M657.99,-55.5C666.47,-55.5 675.32,-55.5 683.59,-55.5\"/>\n<polygon fill=\"black\" stroke=\"black\" points=\"683.69,-59 693.69,-55.5 683.69,-52 683.69,-59\"/>\n</g>\n<!-- 139639071190128reshape -->\n<g id=\"node6\" class=\"node\">\n<title>139639071190128reshape</title>\n<ellipse fill=\"none\" stroke=\"black\" cx=\"487.89\" cy=\"-55.5\" rx=\"48.19\" ry=\"18\"/>\n<text text-anchor=\"middle\" x=\"487.89\" y=\"-51.8\" font-family=\"Times,serif\" font-size=\"14.00\">reshape</text>\n</g>\n<!-- 139639071190128reshape&#45;&gt;139639071190128 -->\n<g id=\"edge3\" class=\"edge\">\n<title>139639071190128reshape&#45;&gt;139639071190128</title>\n<path fill=\"none\" stroke=\"black\" d=\"M536.18,-55.5C544.55,-55.5 553.3,-55.5 561.78,-55.5\"/>\n<polygon fill=\"black\" stroke=\"black\" points=\"561.96,-59 571.96,-55.5 561.96,-52 561.96,-59\"/>\n</g>\n<!-- 139639071188688 -->\n<g id=\"node7\" class=\"node\">\n<title>139639071188688</title>\n<polygon fill=\"none\" stroke=\"black\" points=\"267.79,-37.5 267.79,-73.5 403.79,-73.5 403.79,-37.5 267.79,-37.5\"/>\n<text text-anchor=\"middle\" x=\"335.79\" y=\"-51.8\" font-family=\"Times,serif\" font-size=\"14.00\">tensor(1, 1, 2, 2)</text>\n</g>\n<!-- 139639071188688&#45;&gt;139639071190128reshape -->\n<g id=\"edge7\" class=\"edge\">\n<title>139639071188688&#45;&gt;139639071190128reshape</title>\n<path fill=\"none\" stroke=\"black\" d=\"M403.94,-55.5C412.49,-55.5 421.17,-55.5 429.54,-55.5\"/>\n<polygon fill=\"black\" stroke=\"black\" points=\"429.57,-59 439.57,-55.5 429.57,-52 429.57,-59\"/>\n</g>\n<!-- 139639071188688corr -->\n<g id=\"node8\" class=\"node\">\n<title>139639071188688corr</title>\n<ellipse fill=\"none\" stroke=\"black\" cx=\"201.9\" cy=\"-55.5\" rx=\"29.8\" ry=\"18\"/>\n<text text-anchor=\"middle\" x=\"201.9\" y=\"-51.8\" font-family=\"Times,serif\" font-size=\"14.00\">corr</text>\n</g>\n<!-- 139639071188688corr&#45;&gt;139639071188688 -->\n<g id=\"edge4\" class=\"edge\">\n<title>139639071188688corr&#45;&gt;139639071188688</title>\n<path fill=\"none\" stroke=\"black\" d=\"M231.84,-55.5C239.56,-55.5 248.27,-55.5 257.28,-55.5\"/>\n<polygon fill=\"black\" stroke=\"black\" points=\"257.54,-59 267.54,-55.5 257.54,-52 257.54,-59\"/>\n</g>\n<!-- 139639071190032 -->\n<g id=\"node9\" class=\"node\">\n<title>139639071190032</title>\n<polygon fill=\"none\" stroke=\"black\" points=\"0,-65.5 0,-111.5 136,-111.5 136,-65.5 0,-65.5\"/>\n<text text-anchor=\"middle\" x=\"68\" y=\"-96.3\" font-family=\"Times,serif\" font-size=\"14.00\">tensor(1, 1, 3, 3)</text>\n<polyline fill=\"none\" stroke=\"black\" points=\"0,-88.5 136,-88.5 \"/>\n<text text-anchor=\"middle\" x=\"68\" y=\"-73.3\" font-family=\"Times,serif\" font-size=\"14.00\">grad(1, 1, 3, 3)</text>\n</g>\n<!-- 139639071190032&#45;&gt;139639071188688corr -->\n<g id=\"edge8\" class=\"edge\">\n<title>139639071190032&#45;&gt;139639071188688corr</title>\n<path fill=\"none\" stroke=\"black\" d=\"M136.11,-71.71C145.8,-69.28 155.47,-66.87 164.26,-64.67\"/>\n<polygon fill=\"black\" stroke=\"black\" points=\"165.28,-68.02 174.13,-62.2 163.58,-61.23 165.28,-68.02\"/>\n</g>\n<!-- 139639071189648 -->\n<g id=\"node10\" class=\"node\">\n<title>139639071189648</title>\n<polygon fill=\"none\" stroke=\"black\" points=\"0,-0.5 0,-46.5 136,-46.5 136,-0.5 0,-0.5\"/>\n<text text-anchor=\"middle\" x=\"68\" y=\"-31.3\" font-family=\"Times,serif\" font-size=\"14.00\">tensor(1, 1, 2, 2)</text>\n<polyline fill=\"none\" stroke=\"black\" points=\"0,-23.5 136,-23.5 \"/>\n<text text-anchor=\"middle\" x=\"68\" y=\"-8.3\" font-family=\"Times,serif\" font-size=\"14.00\">grad(1, 1, 2, 2)</text>\n</g>\n<!-- 139639071189648&#45;&gt;139639071188688corr -->\n<g id=\"edge9\" class=\"edge\">\n<title>139639071189648&#45;&gt;139639071188688corr</title>\n<path fill=\"none\" stroke=\"black\" d=\"M136.11,-39.78C145.71,-42.11 155.29,-44.43 164.01,-46.55\"/>\n<polygon fill=\"black\" stroke=\"black\" points=\"163.27,-49.97 173.81,-48.93 164.92,-43.17 163.27,-49.97\"/>\n</g>\n</g>\n</svg>\n",
      "text/plain": [
       "<graphviz.graphs.Digraph at 0x7f00cd59b700>"
      ]
     },
     "execution_count": 9,
     "metadata": {},
     "output_type": "execute_result"
    }
   ],
   "source": [
    "x = Tensor(a[None, None], dtype=float, requires_grad=True)\n",
    "w = Tensor(v[None, None], dtype=float, requires_grad=True)\n",
    "out = x.correlate(w)\n",
    "\n",
    "# selecting base on stride\n",
    "idx = tuple(i for i in range(x.shape[-1] - 1) if i % stride == 0)\n",
    "out = out.reshape((-1,))[idx].reshape(tuple(1 for _ in range(len(out.shape))))\n",
    "\n",
    "print(out)\n",
    "out.backward(Tensor.ones(*out.shape))\n",
    "\n",
    "print(x.grad)\n",
    "print(w.grad)\n",
    "out.graph"
   ]
  },
  {
   "attachments": {},
   "cell_type": "markdown",
   "metadata": {},
   "source": [
    "### Convolution Layer\n",
    "\n",
    "The first step is to implement a convolution layer class"
   ]
  },
  {
   "cell_type": "code",
   "execution_count": null,
   "metadata": {},
   "outputs": [],
   "source": [
    "class Conv2d:\n",
    "    def __init__(self, input_shape, kernel_size, depth):\n",
    "        input_depth, input_height, input_width = input.shape\n",
    "        \n",
    "        self.depth = depth\n",
    "        self.input_shape = input_shape\n",
    "        self.input_depth = input_depth\n",
    "        self.output_shape = (depth, input_height - kernel_size + 1, input_width - kernel_size + 1)\n",
    "        self.kernels_shape = (depth, input_depth, kernel_size, kernel_size)\n",
    "        \n",
    "        self.kernels = Tensor.uniform(*self.kernels_shape)\n",
    "        self.biases = Tensor.uniform(*self.output_shape)\n",
    "\n",
    "    def forward(self, x):\n",
    "        output = self.biases.copy()\n",
    "\n",
    "        for i in range(self.depth):\n",
    "            for j in range(self.input_depth):\n",
    "                output[i] = output[i] + x[j].correlate(self.kernels[i,j], mode=\"valid\")"
   ]
  }
 ],
 "metadata": {
  "kernelspec": {
   "display_name": "pi_env",
   "language": "python",
   "name": "python3"
  },
  "language_info": {
   "codemirror_mode": {
    "name": "ipython",
    "version": 3
   },
   "file_extension": ".py",
   "mimetype": "text/x-python",
   "name": "python",
   "nbconvert_exporter": "python",
   "pygments_lexer": "ipython3",
   "version": "3.8.12"
  },
  "orig_nbformat": 4,
  "vscode": {
   "interpreter": {
    "hash": "7dbd43346cf4060a7c5249e62daf2cb2395365dab3b14076ef7b34680f245741"
   }
  }
 },
 "nbformat": 4,
 "nbformat_minor": 2
}
