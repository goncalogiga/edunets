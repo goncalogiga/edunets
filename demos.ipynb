{
 "cells": [
  {
   "cell_type": "code",
   "execution_count": 1,
   "metadata": {},
   "outputs": [],
   "source": [
    "import torch\n",
    "import numpy as np\n",
    "import torch.nn as nn\n",
    "from tqdm import trange\n",
    "import torch.nn.functional as F\n",
    "import matplotlib.pyplot as plt\n",
    "\n",
    "from edunets import functions, losses\n",
    "from edunets.tensor import Tensor"
   ]
  },
  {
   "cell_type": "code",
   "execution_count": 2,
   "metadata": {},
   "outputs": [
    {
     "data": {
      "text/plain": [
       "(<matplotlib.image.AxesImage at 0x7f6f33812a30>, 5)"
      ]
     },
     "execution_count": 2,
     "metadata": {},
     "output_type": "execute_result"
    },
    {
     "data": {
      "image/png": "[encoded data removed]",
      "text/plain": [
       "<Figure size 432x288 with 1 Axes>"
      ]
     },
     "metadata": {
      "needs_background": "light"
     },
     "output_type": "display_data"
    }
   ],
   "source": [
    "# load the mnist dataset\n",
    "\n",
    "def fetch(url):\n",
    "    import requests, gzip, os, hashlib, numpy\n",
    "    fp = os.path.join(\"/tmp\", hashlib.md5(url.encode('utf-8')).hexdigest())\n",
    "    if os.path.isfile(fp):\n",
    "        with open(fp, \"rb\") as f:\n",
    "            dat = f.read()\n",
    "    else:\n",
    "        with open(fp, \"wb\") as f:\n",
    "            dat = requests.get(url).content\n",
    "            f.write(dat)\n",
    "    return numpy.frombuffer(gzip.decompress(dat), dtype=np.uint8).copy()\n",
    "\n",
    "X_train = fetch(\"http://yann.lecun.com/exdb/mnist/train-images-idx3-ubyte.gz\")[0x10:].reshape((-1, 28, 28))\n",
    "Y_train = fetch(\"http://yann.lecun.com/exdb/mnist/train-labels-idx1-ubyte.gz\")[8:]\n",
    "X_test = fetch(\"http://yann.lecun.com/exdb/mnist/t10k-images-idx3-ubyte.gz\")[0x10:].reshape((-1, 28, 28))\n",
    "Y_test = fetch(\"http://yann.lecun.com/exdb/mnist/t10k-labels-idx1-ubyte.gz\")[8:]\n",
    "\n",
    "plt.imshow(X_train[0]), Y_train[0]"
   ]
  },
  {
   "attachments": {},
   "cell_type": "markdown",
   "metadata": {},
   "source": [
    "# In Pytorch"
   ]
  },
  {
   "cell_type": "code",
   "execution_count": 9,
   "metadata": {},
   "outputs": [
    {
     "name": "stdout",
     "output_type": "stream",
     "text": [
      "Does dummy_tensor require a gradient ? False\n",
      "Does dummy_output require a gradient ? True\n"
     ]
    }
   ],
   "source": [
    "# Pytorch model and training tensors\n",
    "\n",
    "class TorchNet(nn.Module):\n",
    "    def __init__(self):\n",
    "        super(TorchNet, self).__init__()\n",
    "        self.l1 = nn.Linear(28*28, 128, bias=False)\n",
    "        self.l2 = nn.Linear(128, 10, bias=False)\n",
    "        self.sm = nn.Softmax(dim=1)\n",
    "\n",
    "    def forward(self, x):\n",
    "        x = self.l1(x) # first layer\n",
    "        x = F.relu(x)  # activation function\n",
    "        x = self.l2(x) # secound layer: down to 10 outputs\n",
    "        #x = self.sm(x) # softmax\n",
    "        return x\n",
    "\n",
    "dummy_tensor = torch.Tensor([X_train[0].reshape(28*28)])\n",
    "print(\"Does dummy_tensor require a gradient ?\", dummy_tensor.requires_grad)\n",
    "dummy_output = TorchNet()(dummy_tensor)\n",
    "print(\"Does dummy_output require a gradient ?\", dummy_output.requires_grad)\n"
   ]
  },
  {
   "cell_type": "code",
   "execution_count": 10,
   "metadata": {},
   "outputs": [],
   "source": [
    "# Testing two different losses\n",
    "\n",
    "nn_NLLLoss = nn.NLLLoss(reduction=\"mean\")\n",
    "nn_MSELoss = nn.MSELoss(reduction=\"mean\")\n",
    "nn_CrossEntropyLoss = nn.CrossEntropyLoss(reduction=\"mean\")\n",
    "\n",
    "def NLLLoss(Y_pred, Y):\n",
    "    \"\"\"\n",
    "    works well (with a final LogSoftmax layer !)\n",
    "    \"\"\"\n",
    "    loss = nn_NLLLoss(Y_pred, Y)\n",
    "    accuracy = (torch.argmax(Y_pred, dim=1) == Y).float().mean().item()\n",
    "\n",
    "    return loss, accuracy\n",
    "\n",
    "def MSELoss(Y_pred, Y):\n",
    "    \"\"\"\n",
    "    doesn't work at all\n",
    "    \"\"\"\n",
    "    Y_one_hot = torch.zeros(Y.shape[0], 10)\n",
    "    slice = [(i, y) for i, y in enumerate(Y)] if Y.shape[0] > 1 else (0,Y[0])\n",
    "    Y_one_hot[slice] = 1.0\n",
    "\n",
    "    loss = nn_MSELoss(Y_pred, Y_one_hot)\n",
    "\n",
    "    accuracy = (torch.argmax(Y_pred, dim=1) == Y).float().mean().item()\n",
    "    \n",
    "    return loss, accuracy\n",
    "\n",
    "def CrossEntropyLoss(Y_pred, Y):\n",
    "    \"\"\"\n",
    "    works well \n",
    "    \"\"\"\n",
    "    loss = nn_CrossEntropyLoss(Y_pred, Y)\n",
    "    accuracy = (torch.argmax(Y_pred, dim=1) == Y).float().mean().item()\n",
    "\n",
    "    return loss, accuracy"
   ]
  },
  {
   "cell_type": "code",
   "execution_count": 12,
   "metadata": {},
   "outputs": [
    {
     "name": "stderr",
     "output_type": "stream",
     "text": [
      "loss 0.93 accuracy 0.77:   3%|▎         | 26/1000 [00:00<00:03, 256.89it/s]"
     ]
    },
    {
     "name": "stdout",
     "output_type": "stream",
     "text": [
      "Y_pred: tensor([ 14.,   4.,  21., -11., -12.,  17.,  22., -12.,   6.,   4.],\n",
      "       grad_fn=<RoundBackward>)\n",
      "Y: tensor(9)\n",
      "Y_pred after argmax: tensor(6)\n",
      "loss: tensor(31.8167, grad_fn=<NllLossBackward>)\n"
     ]
    },
    {
     "name": "stderr",
     "output_type": "stream",
     "text": [
      "loss 0.12 accuracy 0.95: 100%|██████████| 1000/1000 [00:03<00:00, 304.84it/s]\n"
     ]
    },
    {
     "data": {
      "image/png": "[encoded data removed]",
      "text/plain": [
       "<Figure size 432x288 with 1 Axes>"
      ]
     },
     "metadata": {
      "needs_background": "light"
     },
     "output_type": "display_data"
    }
   ],
   "source": [
    "# Pytorch Training\n",
    "\n",
    "model = TorchNet()\n",
    "\n",
    "# Loss function defined above\n",
    "loss_fn = CrossEntropyLoss\n",
    "\n",
    "# Stocastic gradient descent\n",
    "optimizer = torch.optim.SGD(model.parameters(), lr=0.001, momentum=0)\n",
    "\n",
    "# Training paramaters\n",
    "epochs = 1000\n",
    "batch_size = 64\n",
    "\n",
    "losses, accuracies = [], []\n",
    "\n",
    "# Training loop\n",
    "for i in (t := trange(epochs)):\n",
    "    # Get random slicing the size of the batch\n",
    "    sample = np.random.randint(0, X_train.shape[0], size=(batch_size))\n",
    "\n",
    "    # Define X and Y (flatten X so the image is one single dimention)\n",
    "    # Conversion to float is important so the Linear layers accept X as a input\n",
    "    X = torch.tensor(X_train[sample].reshape(-1, 28*28), dtype=torch.float)\n",
    "    Y = torch.tensor(Y_train[sample], dtype=torch.long)\n",
    "\n",
    "    Y_pred = model(X)\n",
    "\n",
    "    # This prints shows the form of Y_pred, it is clear argmax needs to be applied\n",
    "    # to compare Y_pred with Y\n",
    "    if i == 0:\n",
    "        print(\"Y_pred:\", Y_pred[0].round())\n",
    "        print(\"Y:\", Y[0])\n",
    "        print(\"Y_pred after argmax:\", torch.argmax(Y_pred, dim=1)[0])\n",
    "    \n",
    "    loss, accuracy = loss_fn(Y_pred, Y)\n",
    "\n",
    "    if i == 0:\n",
    "        print(\"loss:\", loss)\n",
    "\n",
    "    # Backpropagation\n",
    "    loss.backward()\n",
    "\n",
    "    # Updating weights\n",
    "    optimizer.step()\n",
    "\n",
    "    # Reset weights for next epoch\n",
    "    model.zero_grad()\n",
    "\n",
    "    loss = loss.item()\n",
    "    losses.append(loss)\n",
    "    accuracies.append(accuracy)\n",
    "    t.set_description(\"loss %.2f accuracy %.2f\" % (loss, accuracy))\n",
    "\n",
    "plt.plot(losses, label=\"loss\")\n",
    "plt.plot(accuracies, label=\"accuracy\")\n",
    "plt.legend()\n",
    "plt.show()\n"
   ]
  },
  {
   "attachments": {},
   "cell_type": "markdown",
   "metadata": {},
   "source": [
    "# In Edunets"
   ]
  },
  {
   "cell_type": "code",
   "execution_count": 3,
   "metadata": {},
   "outputs": [
    {
     "data": {
      "image/svg+xml": "<?xml version=\"1.0\" encoding=\"UTF-8\" standalone=\"no\"?>\n<!DOCTYPE svg PUBLIC \"-//W3C//DTD SVG 1.1//EN\"\n \"http://www.w3.org/Graphics/SVG/1.1/DTD/svg11.dtd\">\n<!-- Generated by graphviz version 2.50.0 (0)\n -->\n<!-- Pages: 1 -->\n<svg width=\"795pt\" height=\"148pt\"\n viewBox=\"0.00 0.00 795.49 148.00\" xmlns=\"http://www.w3.org/2000/svg\" xmlns:xlink=\"http://www.w3.org/1999/xlink\">\n<g id=\"graph0\" class=\"graph\" transform=\"scale(1 1) rotate(0) translate(4 144)\">\n<polygon fill=\"white\" stroke=\"transparent\" points=\"-4,4 -4,-144 791.49,-144 791.49,4 -4,4\"/>\n<!-- 140115547418480 -->\n<g id=\"node1\" class=\"node\">\n<title>140115547418480</title>\n<polygon fill=\"none\" stroke=\"black\" points=\"678.49,-35.5 678.49,-71.5 787.49,-71.5 787.49,-35.5 678.49,-35.5\"/>\n<text text-anchor=\"middle\" x=\"732.99\" y=\"-49.8\" font-family=\"Times,serif\" font-size=\"14.00\">tensor(1, 10)</text>\n</g>\n<!-- 140115547418480@ -->\n<g id=\"node2\" class=\"node\">\n<title>140115547418480@</title>\n<ellipse fill=\"none\" stroke=\"black\" cx=\"615.49\" cy=\"-53.5\" rx=\"27\" ry=\"18\"/>\n<text text-anchor=\"middle\" x=\"615.49\" y=\"-49.8\" font-family=\"Times,serif\" font-size=\"14.00\">@</text>\n</g>\n<!-- 140115547418480@&#45;&gt;140115547418480 -->\n<g id=\"edge1\" class=\"edge\">\n<title>140115547418480@&#45;&gt;140115547418480</title>\n<path fill=\"none\" stroke=\"black\" d=\"M642.7,-53.5C650.34,-53.5 659.05,-53.5 667.95,-53.5\"/>\n<polygon fill=\"black\" stroke=\"black\" points=\"668.05,-57 678.05,-53.5 668.05,-50 668.05,-57\"/>\n</g>\n<!-- 140115547418000 -->\n<g id=\"node3\" class=\"node\">\n<title>140115547418000</title>\n<polygon fill=\"none\" stroke=\"black\" points=\"434.49,-65.5 434.49,-101.5 552.49,-101.5 552.49,-65.5 434.49,-65.5\"/>\n<text text-anchor=\"middle\" x=\"493.49\" y=\"-79.8\" font-family=\"Times,serif\" font-size=\"14.00\">tensor(1, 128)</text>\n</g>\n<!-- 140115547418000&#45;&gt;140115547418480@ -->\n<g id=\"edge4\" class=\"edge\">\n<title>140115547418000&#45;&gt;140115547418480@</title>\n<path fill=\"none\" stroke=\"black\" d=\"M552.74,-68.94C562.08,-66.6 571.47,-64.26 580.02,-62.12\"/>\n<polygon fill=\"black\" stroke=\"black\" points=\"581.11,-65.45 589.96,-59.63 579.41,-58.66 581.11,-65.45\"/>\n</g>\n<!-- 140115547418000relu -->\n<g id=\"node4\" class=\"node\">\n<title>140115547418000relu</title>\n<ellipse fill=\"none\" stroke=\"black\" cx=\"369.25\" cy=\"-83.5\" rx=\"29.5\" ry=\"18\"/>\n<text text-anchor=\"middle\" x=\"369.25\" y=\"-79.8\" font-family=\"Times,serif\" font-size=\"14.00\">relu</text>\n</g>\n<!-- 140115547418000relu&#45;&gt;140115547418000 -->\n<g id=\"edge2\" class=\"edge\">\n<title>140115547418000relu&#45;&gt;140115547418000</title>\n<path fill=\"none\" stroke=\"black\" d=\"M398.6,-83.5C406.39,-83.5 415.19,-83.5 424.2,-83.5\"/>\n<polygon fill=\"black\" stroke=\"black\" points=\"424.41,-87 434.41,-83.5 424.41,-80 424.41,-87\"/>\n</g>\n<!-- 140115547417952 -->\n<g id=\"node5\" class=\"node\">\n<title>140115547417952</title>\n<polygon fill=\"none\" stroke=\"black\" points=\"186,-65.5 186,-101.5 304,-101.5 304,-65.5 186,-65.5\"/>\n<text text-anchor=\"middle\" x=\"245\" y=\"-79.8\" font-family=\"Times,serif\" font-size=\"14.00\">tensor(1, 128)</text>\n</g>\n<!-- 140115547417952&#45;&gt;140115547418000relu -->\n<g id=\"edge5\" class=\"edge\">\n<title>140115547417952&#45;&gt;140115547418000relu</title>\n<path fill=\"none\" stroke=\"black\" d=\"M304.26,-83.5C312.9,-83.5 321.61,-83.5 329.71,-83.5\"/>\n<polygon fill=\"black\" stroke=\"black\" points=\"329.94,-87 339.94,-83.5 329.94,-80 329.94,-87\"/>\n</g>\n<!-- 140115547417952@ -->\n<g id=\"node6\" class=\"node\">\n<title>140115547417952@</title>\n<ellipse fill=\"none\" stroke=\"black\" cx=\"123\" cy=\"-83.5\" rx=\"27\" ry=\"18\"/>\n<text text-anchor=\"middle\" x=\"123\" y=\"-79.8\" font-family=\"Times,serif\" font-size=\"14.00\">@</text>\n</g>\n<!-- 140115547417952@&#45;&gt;140115547417952 -->\n<g id=\"edge3\" class=\"edge\">\n<title>140115547417952@&#45;&gt;140115547417952</title>\n<path fill=\"none\" stroke=\"black\" d=\"M150.04,-83.5C157.83,-83.5 166.77,-83.5 175.96,-83.5\"/>\n<polygon fill=\"black\" stroke=\"black\" points=\"176,-87 186,-83.5 176,-80 176,-87\"/>\n</g>\n<!-- 140117891301280 -->\n<g id=\"node7\" class=\"node\">\n<title>140117891301280</title>\n<polygon fill=\"none\" stroke=\"black\" points=\"0,-93.5 0,-139.5 60,-139.5 60,-93.5 0,-93.5\"/>\n<text text-anchor=\"middle\" x=\"30\" y=\"-124.3\" font-family=\"Times,serif\" font-size=\"14.00\">Input</text>\n<polyline fill=\"none\" stroke=\"black\" points=\"0,-116.5 60,-116.5 \"/>\n<text text-anchor=\"middle\" x=\"30\" y=\"-101.3\" font-family=\"Times,serif\" font-size=\"14.00\">grad()</text>\n</g>\n<!-- 140117891301280&#45;&gt;140115547417952@ -->\n<g id=\"edge6\" class=\"edge\">\n<title>140117891301280&#45;&gt;140115547417952@</title>\n<path fill=\"none\" stroke=\"black\" d=\"M60.04,-105.97C69.39,-102.58 79.8,-98.8 89.38,-95.33\"/>\n<polygon fill=\"black\" stroke=\"black\" points=\"90.78,-98.55 98.98,-91.85 88.39,-91.97 90.78,-98.55\"/>\n</g>\n<!-- 140115586104336 -->\n<g id=\"node8\" class=\"node\">\n<title>140115586104336</title>\n<polygon fill=\"none\" stroke=\"black\" points=\"0,-28.5 0,-74.5 60,-74.5 60,-28.5 0,-28.5\"/>\n<text text-anchor=\"middle\" x=\"30\" y=\"-59.3\" font-family=\"Times,serif\" font-size=\"14.00\">L1</text>\n<polyline fill=\"none\" stroke=\"black\" points=\"0,-51.5 60,-51.5 \"/>\n<text text-anchor=\"middle\" x=\"30\" y=\"-36.3\" font-family=\"Times,serif\" font-size=\"14.00\">grad()</text>\n</g>\n<!-- 140115586104336&#45;&gt;140115547417952@ -->\n<g id=\"edge7\" class=\"edge\">\n<title>140115586104336&#45;&gt;140115547417952@</title>\n<path fill=\"none\" stroke=\"black\" d=\"M60.04,-61.71C69.31,-64.97 79.63,-68.6 89.14,-71.95\"/>\n<polygon fill=\"black\" stroke=\"black\" points=\"88.1,-75.29 98.69,-75.3 90.42,-68.68 88.1,-75.29\"/>\n</g>\n<!-- 140115582316656 -->\n<g id=\"node9\" class=\"node\">\n<title>140115582316656</title>\n<polygon fill=\"none\" stroke=\"black\" points=\"463.49,-0.5 463.49,-46.5 523.49,-46.5 523.49,-0.5 463.49,-0.5\"/>\n<text text-anchor=\"middle\" x=\"493.49\" y=\"-31.3\" font-family=\"Times,serif\" font-size=\"14.00\">L2</text>\n<polyline fill=\"none\" stroke=\"black\" points=\"463.49,-23.5 523.49,-23.5 \"/>\n<text text-anchor=\"middle\" x=\"493.49\" y=\"-8.3\" font-family=\"Times,serif\" font-size=\"14.00\">grad()</text>\n</g>\n<!-- 140115582316656&#45;&gt;140115547418480@ -->\n<g id=\"edge8\" class=\"edge\">\n<title>140115582316656&#45;&gt;140115547418480@</title>\n<path fill=\"none\" stroke=\"black\" d=\"M523.54,-30.76C540.55,-35.01 562.13,-40.41 580.01,-44.88\"/>\n<polygon fill=\"black\" stroke=\"black\" points=\"579.22,-48.29 589.77,-47.32 580.91,-41.5 579.22,-48.29\"/>\n</g>\n</g>\n</svg>\n",
      "text/plain": [
       "<graphviz.graphs.Digraph at 0x7f6fbd233490>"
      ]
     },
     "execution_count": 3,
     "metadata": {},
     "output_type": "execute_result"
    }
   ],
   "source": [
    "class EduNet1:\n",
    "    def __init__(self):\n",
    "        self.l1 = Tensor.uniform(784, 128, requires_grad=True, label=\"L1\")\n",
    "        self.l2 = Tensor.uniform(128, 10, requires_grad=True, label=\"L2\")\n",
    "\n",
    "    def __call__(self, x):\n",
    "        x = x @ self.l1\n",
    "        x = x.relu()\n",
    "        x = x @ self.l2\n",
    "        return x\n",
    "\n",
    "model = EduNet1()\n",
    "dummy_tensor = Tensor([X_train[0].reshape(28*28)], requires_grad=True, label=\"Input\")\n",
    "dummy_output = model(dummy_tensor)\n",
    "dummy_output.graph"
   ]
  },
  {
   "cell_type": "code",
   "execution_count": 4,
   "metadata": {},
   "outputs": [],
   "source": [
    "# Stochastic gradient descent\n",
    "class SGD:\n",
    "    def __init__(self, params, lr=0.001):\n",
    "        self.lr = lr\n",
    "        self.params = params\n",
    "\n",
    "    def step(self):\n",
    "        for t in self.params:\n",
    "            t.assign(t.data - t.grad * self.lr)\n",
    "\n",
    "    def zero_grad(self):\n",
    "        for param in self.params:\n",
    "            param.grad = None"
   ]
  },
  {
   "cell_type": "code",
   "execution_count": 5,
   "metadata": {},
   "outputs": [
    {
     "name": "stdout",
     "output_type": "stream",
     "text": [
      "tensor([[-0.2566039 , -0.2258296 , -0.08617255, ..., -0.89583886,\n",
      "        -0.58731484,  0.4696555 ],\n",
      "       [-0.62403965, -0.07558823, -0.796615  , ...,  0.3121705 ,\n",
      "         0.9693934 , -0.07574746],\n",
      "       [-0.7055167 , -0.8265209 ,  0.12973449, ..., -0.905165  ,\n",
      "        -0.651612  ,  0.2554413 ],\n",
      "       ...,\n",
      "       [ 0.72892815,  0.35551333, -0.33884954, ..., -0.6703916 ,\n",
      "         0.44329488, -0.77913845],\n",
      "       [ 0.28709593, -0.3184582 , -0.99319535, ...,  0.40193695,\n",
      "        -0.12924731,  0.60744554],\n",
      "       [-0.13272536, -0.24644704, -0.50464416, ..., -0.7125822 ,\n",
      "         0.87835956,  0.80373394]], dtype=float32, requires_grad=True)\n"
     ]
    },
    {
     "name": "stderr",
     "output_type": "stream",
     "text": [
      "  0%|          | 0/100 [00:00<?, ?it/s]/home/goncalo/edunets/edunets/tensor.py:281: RuntimeWarning: overflow encountered in exp\n",
      "  f = Tensor(np.exp(a.data))._parent_of((a, ))._result_of_op('e')\n",
      "/home/goncalo/edunets/edunets/tensor.py:318: RuntimeWarning: invalid value encountered in matmul\n",
      "  a._update_grad(f.grad @ b.data.T)\n",
      "/home/goncalo/edunets/edunets/tensor.py:319: RuntimeWarning: invalid value encountered in matmul\n",
      "  b._update_grad(a.data.T @ f.grad)\n",
      "loss nan accuracy 0.11: 100%|██████████| 100/100 [00:01<00:00, 80.88it/s]\n"
     ]
    },
    {
     "name": "stdout",
     "output_type": "stream",
     "text": [
      "tensor([[nan, nan, nan, ..., nan, nan, nan],\n",
      "       [nan, nan, nan, ..., nan, nan, nan],\n",
      "       [nan, nan, nan, ..., nan, nan, nan],\n",
      "       ...,\n",
      "       [nan, nan, nan, ..., nan, nan, nan],\n",
      "       [nan, nan, nan, ..., nan, nan, nan],\n",
      "       [nan, nan, nan, ..., nan, nan, nan]], dtype=float32, requires_grad=True)\n"
     ]
    },
    {
     "data": {
      "image/svg+xml": "<?xml version=\"1.0\" encoding=\"UTF-8\" standalone=\"no\"?>\n<!DOCTYPE svg PUBLIC \"-//W3C//DTD SVG 1.1//EN\"\n \"http://www.w3.org/Graphics/SVG/1.1/DTD/svg11.dtd\">\n<!-- Generated by graphviz version 2.50.0 (0)\n -->\n<!-- Pages: 1 -->\n<svg width=\"2782pt\" height=\"196pt\"\n viewBox=\"0.00 0.00 2782.38 196.00\" xmlns=\"http://www.w3.org/2000/svg\" xmlns:xlink=\"http://www.w3.org/1999/xlink\">\n<g id=\"graph0\" class=\"graph\" transform=\"scale(1 1) rotate(0) translate(4 192)\">\n<polygon fill=\"white\" stroke=\"transparent\" points=\"-4,4 -4,-192 2778.38,-192 2778.38,4 -4,4\"/>\n<!-- 140115538835584 -->\n<g id=\"node1\" class=\"node\">\n<title>140115538835584</title>\n<polygon fill=\"none\" stroke=\"black\" points=\"2720.38,-27.5 2720.38,-63.5 2774.38,-63.5 2774.38,-27.5 2720.38,-27.5\"/>\n<text text-anchor=\"middle\" x=\"2747.38\" y=\"-41.8\" font-family=\"Times,serif\" font-size=\"14.00\">[nan]</text>\n</g>\n<!-- 140115538835584* -->\n<g id=\"node2\" class=\"node\">\n<title>140115538835584*</title>\n<ellipse fill=\"none\" stroke=\"black\" cx=\"2657.38\" cy=\"-45.5\" rx=\"27\" ry=\"18\"/>\n<text text-anchor=\"middle\" x=\"2657.38\" y=\"-41.8\" font-family=\"Times,serif\" font-size=\"14.00\">*</text>\n</g>\n<!-- 140115538835584*&#45;&gt;140115538835584 -->\n<g id=\"edge1\" class=\"edge\">\n<title>140115538835584*&#45;&gt;140115538835584</title>\n<path fill=\"none\" stroke=\"black\" d=\"M2684.79,-45.5C2692.78,-45.5 2701.69,-45.5 2710.21,-45.5\"/>\n<polygon fill=\"black\" stroke=\"black\" points=\"2710.3,-49 2720.3,-45.5 2710.3,-42 2710.3,-49\"/>\n</g>\n<!-- 140115538837216 -->\n<g id=\"node3\" class=\"node\">\n<title>140115538837216</title>\n<polygon fill=\"none\" stroke=\"black\" points=\"2519.88,-55.5 2519.88,-91.5 2573.88,-91.5 2573.88,-55.5 2519.88,-55.5\"/>\n<text text-anchor=\"middle\" x=\"2546.88\" y=\"-69.8\" font-family=\"Times,serif\" font-size=\"14.00\">[nan]</text>\n</g>\n<!-- 140115538837216&#45;&gt;140115538835584* -->\n<g id=\"edge12\" class=\"edge\">\n<title>140115538837216&#45;&gt;140115538835584*</title>\n<path fill=\"none\" stroke=\"black\" d=\"M2574.15,-66.72C2588.55,-63 2606.58,-58.35 2622.09,-54.35\"/>\n<polygon fill=\"black\" stroke=\"black\" points=\"2623.04,-57.72 2631.85,-51.83 2621.29,-50.94 2623.04,-57.72\"/>\n</g>\n<!-- 140115538837216sum -->\n<g id=\"node4\" class=\"node\">\n<title>140115538837216sum</title>\n<ellipse fill=\"none\" stroke=\"black\" cx=\"2432.84\" cy=\"-73.5\" rx=\"30.59\" ry=\"18\"/>\n<text text-anchor=\"middle\" x=\"2432.84\" y=\"-69.8\" font-family=\"Times,serif\" font-size=\"14.00\">sum</text>\n</g>\n<!-- 140115538837216sum&#45;&gt;140115538837216 -->\n<g id=\"edge2\" class=\"edge\">\n<title>140115538837216sum&#45;&gt;140115538837216</title>\n<path fill=\"none\" stroke=\"black\" d=\"M2463.57,-73.5C2477.65,-73.5 2494.61,-73.5 2509.46,-73.5\"/>\n<polygon fill=\"black\" stroke=\"black\" points=\"2509.83,-77 2519.83,-73.5 2509.83,-70 2509.83,-77\"/>\n</g>\n<!-- 140115538835248 -->\n<g id=\"node5\" class=\"node\">\n<title>140115538835248</title>\n<polygon fill=\"none\" stroke=\"black\" points=\"2213.29,-55.5 2213.29,-91.5 2366.29,-91.5 2366.29,-55.5 2213.29,-55.5\"/>\n<text text-anchor=\"middle\" x=\"2289.79\" y=\"-69.8\" font-family=\"Times,serif\" font-size=\"14.00\">tensor(64,) = [nan]</text>\n</g>\n<!-- 140115538835248&#45;&gt;140115538837216sum -->\n<g id=\"edge13\" class=\"edge\">\n<title>140115538835248&#45;&gt;140115538837216sum</title>\n<path fill=\"none\" stroke=\"black\" d=\"M2366.68,-73.5C2375.38,-73.5 2383.98,-73.5 2391.93,-73.5\"/>\n<polygon fill=\"black\" stroke=\"black\" points=\"2391.97,-77 2401.97,-73.5 2391.97,-70 2391.97,-77\"/>\n</g>\n<!-- 140115538835248+ -->\n<g id=\"node6\" class=\"node\">\n<title>140115538835248+</title>\n<ellipse fill=\"none\" stroke=\"black\" cx=\"2150.29\" cy=\"-73.5\" rx=\"27\" ry=\"18\"/>\n<text text-anchor=\"middle\" x=\"2150.29\" y=\"-69.8\" font-family=\"Times,serif\" font-size=\"14.00\">+</text>\n</g>\n<!-- 140115538835248+&#45;&gt;140115538835248 -->\n<g id=\"edge3\" class=\"edge\">\n<title>140115538835248+&#45;&gt;140115538835248</title>\n<path fill=\"none\" stroke=\"black\" d=\"M2177.47,-73.5C2185.09,-73.5 2193.84,-73.5 2203.03,-73.5\"/>\n<polygon fill=\"black\" stroke=\"black\" points=\"2203.14,-77 2213.14,-73.5 2203.14,-70 2203.14,-77\"/>\n</g>\n<!-- 140115538835200 -->\n<g id=\"node7\" class=\"node\">\n<title>140115538835200</title>\n<polygon fill=\"none\" stroke=\"black\" points=\"1745.29,-83.5 1745.29,-119.5 1898.29,-119.5 1898.29,-83.5 1745.29,-83.5\"/>\n<text text-anchor=\"middle\" x=\"1821.79\" y=\"-97.8\" font-family=\"Times,serif\" font-size=\"14.00\">tensor(64,) = [nan]</text>\n</g>\n<!-- 140115538835200&#45;&gt;140115538835248+ -->\n<g id=\"edge14\" class=\"edge\">\n<title>140115538835200&#45;&gt;140115538835248+</title>\n<path fill=\"none\" stroke=\"black\" d=\"M1898.51,-95.01C1966.01,-89.22 2061.86,-81 2113.31,-76.59\"/>\n<polygon fill=\"black\" stroke=\"black\" points=\"2113.63,-80.07 2123.29,-75.73 2113.03,-73.1 2113.63,-80.07\"/>\n</g>\n<!-- 140115538835200* -->\n<g id=\"node8\" class=\"node\">\n<title>140115538835200*</title>\n<ellipse fill=\"none\" stroke=\"black\" cx=\"1483.89\" cy=\"-101.5\" rx=\"27\" ry=\"18\"/>\n<text text-anchor=\"middle\" x=\"1483.89\" y=\"-97.8\" font-family=\"Times,serif\" font-size=\"14.00\">*</text>\n</g>\n<!-- 140115538835200*&#45;&gt;140115538835200 -->\n<g id=\"edge4\" class=\"edge\">\n<title>140115538835200*&#45;&gt;140115538835200</title>\n<path fill=\"none\" stroke=\"black\" d=\"M1510.97,-101.5C1558.37,-101.5 1660.61,-101.5 1734.7,-101.5\"/>\n<polygon fill=\"black\" stroke=\"black\" points=\"1734.96,-105 1744.96,-101.5 1734.96,-98 1734.96,-105\"/>\n</g>\n<!-- 140115538835152 -->\n<g id=\"node9\" class=\"node\">\n<title>140115538835152</title>\n<polygon fill=\"none\" stroke=\"black\" points=\"1246.99,-138.5 1246.99,-174.5 1399.99,-174.5 1399.99,-138.5 1246.99,-138.5\"/>\n<text text-anchor=\"middle\" x=\"1323.49\" y=\"-152.8\" font-family=\"Times,serif\" font-size=\"14.00\">tensor(64,) = [nan]</text>\n</g>\n<!-- 140115538835152&#45;&gt;140115538835200* -->\n<g id=\"edge15\" class=\"edge\">\n<title>140115538835152&#45;&gt;140115538835200*</title>\n<path fill=\"none\" stroke=\"black\" d=\"M1384.59,-138.48C1393.64,-135.58 1402.84,-132.54 1411.49,-129.5 1424.58,-124.91 1438.84,-119.42 1451.15,-114.52\"/>\n<polygon fill=\"black\" stroke=\"black\" points=\"1452.56,-117.72 1460.54,-110.75 1449.96,-111.23 1452.56,-117.72\"/>\n</g>\n<!-- 140115538835152[*] -->\n<g id=\"node10\" class=\"node\">\n<title>140115538835152[*]</title>\n<ellipse fill=\"none\" stroke=\"black\" cx=\"1172.49\" cy=\"-142.5\" rx=\"27\" ry=\"18\"/>\n<text text-anchor=\"middle\" x=\"1172.49\" y=\"-138.8\" font-family=\"Times,serif\" font-size=\"14.00\">[*]</text>\n</g>\n<!-- 140115538835152[*]&#45;&gt;140115538835152 -->\n<g id=\"edge5\" class=\"edge\">\n<title>140115538835152[*]&#45;&gt;140115538835152</title>\n<path fill=\"none\" stroke=\"black\" d=\"M1199.45,-144.94C1210.18,-145.95 1223.3,-147.18 1236.92,-148.46\"/>\n<polygon fill=\"black\" stroke=\"black\" points=\"1236.62,-151.95 1246.9,-149.4 1237.27,-144.98 1236.62,-151.95\"/>\n</g>\n<!-- 140115538836832 -->\n<g id=\"node11\" class=\"node\">\n<title>140115538836832</title>\n<polygon fill=\"none\" stroke=\"black\" points=\"933.49,-83.5 933.49,-119.5 1109.49,-119.5 1109.49,-83.5 933.49,-83.5\"/>\n<text text-anchor=\"middle\" x=\"1021.49\" y=\"-97.8\" font-family=\"Times,serif\" font-size=\"14.00\">tensor(64, 10) = [nan]</text>\n</g>\n<!-- 140115538836832&#45;&gt;140115538835152[*] -->\n<g id=\"edge16\" class=\"edge\">\n<title>140115538836832&#45;&gt;140115538835152[*]</title>\n<path fill=\"none\" stroke=\"black\" d=\"M1088.28,-119.6C1105.09,-124.23 1122.51,-129.02 1137.03,-133.02\"/>\n<polygon fill=\"black\" stroke=\"black\" points=\"1136.48,-136.49 1147.05,-135.77 1138.33,-129.75 1136.48,-136.49\"/>\n</g>\n<!-- 140115538835824e -->\n<g id=\"node26\" class=\"node\">\n<title>140115538835824e</title>\n<ellipse fill=\"none\" stroke=\"black\" cx=\"1172.49\" cy=\"-74.5\" rx=\"27\" ry=\"18\"/>\n<text text-anchor=\"middle\" x=\"1172.49\" y=\"-70.8\" font-family=\"Times,serif\" font-size=\"14.00\">e</text>\n</g>\n<!-- 140115538836832&#45;&gt;140115538835824e -->\n<g id=\"edge26\" class=\"edge\">\n<title>140115538836832&#45;&gt;140115538835824e</title>\n<path fill=\"none\" stroke=\"black\" d=\"M1109.6,-85.72C1119,-84.01 1128.13,-82.36 1136.36,-80.87\"/>\n<polygon fill=\"black\" stroke=\"black\" points=\"1137.04,-84.3 1146.25,-79.07 1135.79,-77.41 1137.04,-84.3\"/>\n</g>\n<!-- 140115538836832@ -->\n<g id=\"node12\" class=\"node\">\n<title>140115538836832@</title>\n<ellipse fill=\"none\" stroke=\"black\" cx=\"870.49\" cy=\"-101.5\" rx=\"27\" ry=\"18\"/>\n<text text-anchor=\"middle\" x=\"870.49\" y=\"-97.8\" font-family=\"Times,serif\" font-size=\"14.00\">@</text>\n</g>\n<!-- 140115538836832@&#45;&gt;140115538836832 -->\n<g id=\"edge6\" class=\"edge\">\n<title>140115538836832@&#45;&gt;140115538836832</title>\n<path fill=\"none\" stroke=\"black\" d=\"M897.79,-101.5C905.34,-101.5 914.04,-101.5 923.26,-101.5\"/>\n<polygon fill=\"black\" stroke=\"black\" points=\"923.43,-105 933.43,-101.5 923.43,-98 923.43,-105\"/>\n</g>\n<!-- 140115538837360 -->\n<g id=\"node13\" class=\"node\">\n<title>140115538837360</title>\n<polygon fill=\"none\" stroke=\"black\" points=\"622.49,-113.5 622.49,-149.5 807.49,-149.5 807.49,-113.5 622.49,-113.5\"/>\n<text text-anchor=\"middle\" x=\"714.99\" y=\"-127.8\" font-family=\"Times,serif\" font-size=\"14.00\">tensor(64, 128) = [nan]</text>\n</g>\n<!-- 140115538837360&#45;&gt;140115538836832@ -->\n<g id=\"edge17\" class=\"edge\">\n<title>140115538837360&#45;&gt;140115538836832@</title>\n<path fill=\"none\" stroke=\"black\" d=\"M807.5,-113.62C816.98,-111.76 826.15,-109.97 834.4,-108.36\"/>\n<polygon fill=\"black\" stroke=\"black\" points=\"835.16,-111.78 844.31,-106.42 833.82,-104.91 835.16,-111.78\"/>\n</g>\n<!-- 140115538837360relu -->\n<g id=\"node14\" class=\"node\">\n<title>140115538837360relu</title>\n<ellipse fill=\"none\" stroke=\"black\" cx=\"557.25\" cy=\"-131.5\" rx=\"29.5\" ry=\"18\"/>\n<text text-anchor=\"middle\" x=\"557.25\" y=\"-127.8\" font-family=\"Times,serif\" font-size=\"14.00\">relu</text>\n</g>\n<!-- 140115538837360relu&#45;&gt;140115538837360 -->\n<g id=\"edge7\" class=\"edge\">\n<title>140115538837360relu&#45;&gt;140115538837360</title>\n<path fill=\"none\" stroke=\"black\" d=\"M586.81,-131.5C594.42,-131.5 603.1,-131.5 612.27,-131.5\"/>\n<polygon fill=\"black\" stroke=\"black\" points=\"612.38,-135 622.38,-131.5 612.38,-128 612.38,-135\"/>\n</g>\n<!-- 140115538833856 -->\n<g id=\"node15\" class=\"node\">\n<title>140115538833856</title>\n<polygon fill=\"none\" stroke=\"black\" points=\"307,-113.5 307,-149.5 492,-149.5 492,-113.5 307,-113.5\"/>\n<text text-anchor=\"middle\" x=\"399.5\" y=\"-127.8\" font-family=\"Times,serif\" font-size=\"14.00\">tensor(64, 128) = [nan]</text>\n</g>\n<!-- 140115538833856&#45;&gt;140115538837360relu -->\n<g id=\"edge18\" class=\"edge\">\n<title>140115538833856&#45;&gt;140115538837360relu</title>\n<path fill=\"none\" stroke=\"black\" d=\"M492.45,-131.5C501.23,-131.5 509.77,-131.5 517.59,-131.5\"/>\n<polygon fill=\"black\" stroke=\"black\" points=\"517.77,-135 527.77,-131.5 517.77,-128 517.77,-135\"/>\n</g>\n<!-- 140115538833856@ -->\n<g id=\"node16\" class=\"node\">\n<title>140115538833856@</title>\n<ellipse fill=\"none\" stroke=\"black\" cx=\"244\" cy=\"-131.5\" rx=\"27\" ry=\"18\"/>\n<text text-anchor=\"middle\" x=\"244\" y=\"-127.8\" font-family=\"Times,serif\" font-size=\"14.00\">@</text>\n</g>\n<!-- 140115538833856@&#45;&gt;140115538833856 -->\n<g id=\"edge8\" class=\"edge\">\n<title>140115538833856@&#45;&gt;140115538833856</title>\n<path fill=\"none\" stroke=\"black\" d=\"M271.04,-131.5C278.58,-131.5 287.3,-131.5 296.57,-131.5\"/>\n<polygon fill=\"black\" stroke=\"black\" points=\"296.81,-135 306.81,-131.5 296.81,-128 296.81,-135\"/>\n</g>\n<!-- 140115538835296 -->\n<g id=\"node17\" class=\"node\">\n<title>140115538835296</title>\n<polygon fill=\"none\" stroke=\"black\" points=\"4.5,-141.5 4.5,-187.5 176.5,-187.5 176.5,-141.5 4.5,-141.5\"/>\n<text text-anchor=\"middle\" x=\"90.5\" y=\"-172.3\" font-family=\"Times,serif\" font-size=\"14.00\">tensor(64, 784)</text>\n<polyline fill=\"none\" stroke=\"black\" points=\"4.5,-164.5 176.5,-164.5 \"/>\n<text text-anchor=\"middle\" x=\"90.5\" y=\"-149.3\" font-family=\"Times,serif\" font-size=\"14.00\">grad(64, 784) = [nan]</text>\n</g>\n<!-- 140115538835296&#45;&gt;140115538833856@ -->\n<g id=\"edge19\" class=\"edge\">\n<title>140115538835296&#45;&gt;140115538833856@</title>\n<path fill=\"none\" stroke=\"black\" d=\"M176.55,-145.97C187.74,-143.54 198.66,-141.16 208.31,-139.06\"/>\n<polygon fill=\"black\" stroke=\"black\" points=\"209.2,-142.44 218.23,-136.9 207.71,-135.6 209.2,-142.44\"/>\n</g>\n<!-- 140117891313872 -->\n<g id=\"node18\" class=\"node\">\n<title>140117891313872</title>\n<polygon fill=\"none\" stroke=\"black\" points=\"0,-76.5 0,-122.5 181,-122.5 181,-76.5 0,-76.5\"/>\n<text text-anchor=\"middle\" x=\"90.5\" y=\"-107.3\" font-family=\"Times,serif\" font-size=\"14.00\">L1</text>\n<polyline fill=\"none\" stroke=\"black\" points=\"0,-99.5 181,-99.5 \"/>\n<text text-anchor=\"middle\" x=\"90.5\" y=\"-84.3\" font-family=\"Times,serif\" font-size=\"14.00\">grad(784, 128) = [nan]</text>\n</g>\n<!-- 140117891313872&#45;&gt;140115538833856@ -->\n<g id=\"edge20\" class=\"edge\">\n<title>140117891313872&#45;&gt;140115538833856@</title>\n<path fill=\"none\" stroke=\"black\" d=\"M181.38,-118.48C190.79,-120.47 199.89,-122.4 208.09,-124.13\"/>\n<polygon fill=\"black\" stroke=\"black\" points=\"207.43,-127.56 217.94,-126.21 208.88,-120.72 207.43,-127.56\"/>\n</g>\n<!-- 140115582468304 -->\n<g id=\"node19\" class=\"node\">\n<title>140115582468304</title>\n<polygon fill=\"none\" stroke=\"black\" points=\"628.99,-48.5 628.99,-94.5 800.99,-94.5 800.99,-48.5 628.99,-48.5\"/>\n<text text-anchor=\"middle\" x=\"714.99\" y=\"-79.3\" font-family=\"Times,serif\" font-size=\"14.00\">L2</text>\n<polyline fill=\"none\" stroke=\"black\" points=\"628.99,-71.5 800.99,-71.5 \"/>\n<text text-anchor=\"middle\" x=\"714.99\" y=\"-56.3\" font-family=\"Times,serif\" font-size=\"14.00\">grad(128, 10) = [nan]</text>\n</g>\n<!-- 140115582468304&#45;&gt;140115538836832@ -->\n<g id=\"edge21\" class=\"edge\">\n<title>140115582468304&#45;&gt;140115538836832@</title>\n<path fill=\"none\" stroke=\"black\" d=\"M801.27,-88.17C812.95,-90.45 824.36,-92.68 834.41,-94.64\"/>\n<polygon fill=\"black\" stroke=\"black\" points=\"833.85,-98.1 844.33,-96.58 835.19,-91.23 833.85,-98.1\"/>\n</g>\n<!-- 140115538836736 -->\n<g id=\"node20\" class=\"node\">\n<title>140115538836736</title>\n<polygon fill=\"none\" stroke=\"black\" points=\"1296.49,-83.5 1296.49,-119.5 1350.49,-119.5 1350.49,-83.5 1296.49,-83.5\"/>\n<text text-anchor=\"middle\" x=\"1323.49\" y=\"-97.8\" font-family=\"Times,serif\" font-size=\"14.00\">[&#45;1.]</text>\n</g>\n<!-- 140115538836736&#45;&gt;140115538835200* -->\n<g id=\"edge22\" class=\"edge\">\n<title>140115538836736&#45;&gt;140115538835200*</title>\n<path fill=\"none\" stroke=\"black\" d=\"M1350.65,-101.5C1376.79,-101.5 1417.19,-101.5 1446.46,-101.5\"/>\n<polygon fill=\"black\" stroke=\"black\" points=\"1446.7,-105 1456.7,-101.5 1446.7,-98 1446.7,-105\"/>\n</g>\n<!-- 140115538835392 -->\n<g id=\"node21\" class=\"node\">\n<title>140115538835392</title>\n<polygon fill=\"none\" stroke=\"black\" points=\"1934.29,-32.5 1934.29,-68.5 2087.29,-68.5 2087.29,-32.5 1934.29,-32.5\"/>\n<text text-anchor=\"middle\" x=\"2010.79\" y=\"-46.8\" font-family=\"Times,serif\" font-size=\"14.00\">tensor(64,) = [nan]</text>\n</g>\n<!-- 140115538835392&#45;&gt;140115538835248+ -->\n<g id=\"edge23\" class=\"edge\">\n<title>140115538835392&#45;&gt;140115538835248+</title>\n<path fill=\"none\" stroke=\"black\" d=\"M2087.38,-63.14C2096.59,-64.69 2105.64,-66.2 2113.85,-67.57\"/>\n<polygon fill=\"black\" stroke=\"black\" points=\"2113.32,-71.03 2123.76,-69.23 2114.47,-64.13 2113.32,-71.03\"/>\n</g>\n<!-- 140115538835392log -->\n<g id=\"node22\" class=\"node\">\n<title>140115538835392log</title>\n<ellipse fill=\"none\" stroke=\"black\" cx=\"1821.79\" cy=\"-46.5\" rx=\"27\" ry=\"18\"/>\n<text text-anchor=\"middle\" x=\"1821.79\" y=\"-42.8\" font-family=\"Times,serif\" font-size=\"14.00\">log</text>\n</g>\n<!-- 140115538835392log&#45;&gt;140115538835392 -->\n<g id=\"edge9\" class=\"edge\">\n<title>140115538835392log&#45;&gt;140115538835392</title>\n<path fill=\"none\" stroke=\"black\" d=\"M1848.79,-47.06C1868.45,-47.48 1896.65,-48.08 1923.96,-48.66\"/>\n<polygon fill=\"black\" stroke=\"black\" points=\"1923.89,-52.16 1933.96,-48.88 1924.04,-45.16 1923.89,-52.16\"/>\n</g>\n<!-- 140115538834000 -->\n<g id=\"node23\" class=\"node\">\n<title>140115538834000</title>\n<polygon fill=\"none\" stroke=\"black\" points=\"1556.29,-28.5 1556.29,-64.5 1709.29,-64.5 1709.29,-28.5 1556.29,-28.5\"/>\n<text text-anchor=\"middle\" x=\"1632.79\" y=\"-42.8\" font-family=\"Times,serif\" font-size=\"14.00\">tensor(64,) = [nan]</text>\n</g>\n<!-- 140115538834000&#45;&gt;140115538835392log -->\n<g id=\"edge24\" class=\"edge\">\n<title>140115538834000&#45;&gt;140115538835392log</title>\n<path fill=\"none\" stroke=\"black\" d=\"M1709.31,-46.5C1735.15,-46.5 1762.9,-46.5 1784.24,-46.5\"/>\n<polygon fill=\"black\" stroke=\"black\" points=\"1784.47,-50 1794.47,-46.5 1784.47,-43 1784.47,-50\"/>\n</g>\n<!-- 140115538834000sum1 -->\n<g id=\"node24\" class=\"node\">\n<title>140115538834000sum1</title>\n<ellipse fill=\"none\" stroke=\"black\" cx=\"1483.89\" cy=\"-46.5\" rx=\"36.29\" ry=\"18\"/>\n<text text-anchor=\"middle\" x=\"1483.89\" y=\"-42.8\" font-family=\"Times,serif\" font-size=\"14.00\">sum1</text>\n</g>\n<!-- 140115538834000sum1&#45;&gt;140115538834000 -->\n<g id=\"edge10\" class=\"edge\">\n<title>140115538834000sum1&#45;&gt;140115538834000</title>\n<path fill=\"none\" stroke=\"black\" d=\"M1520.45,-46.5C1528.35,-46.5 1537.05,-46.5 1546,-46.5\"/>\n<polygon fill=\"black\" stroke=\"black\" points=\"1546.19,-50 1556.19,-46.5 1546.19,-43 1546.19,-50\"/>\n</g>\n<!-- 140115538835824 -->\n<g id=\"node25\" class=\"node\">\n<title>140115538835824</title>\n<polygon fill=\"none\" stroke=\"black\" points=\"1235.49,-28.5 1235.49,-64.5 1411.49,-64.5 1411.49,-28.5 1235.49,-28.5\"/>\n<text text-anchor=\"middle\" x=\"1323.49\" y=\"-42.8\" font-family=\"Times,serif\" font-size=\"14.00\">tensor(64, 10) = [nan]</text>\n</g>\n<!-- 140115538835824&#45;&gt;140115538834000sum1 -->\n<g id=\"edge25\" class=\"edge\">\n<title>140115538835824&#45;&gt;140115538834000sum1</title>\n<path fill=\"none\" stroke=\"black\" d=\"M1411.57,-46.5C1420.47,-46.5 1429.23,-46.5 1437.4,-46.5\"/>\n<polygon fill=\"black\" stroke=\"black\" points=\"1437.41,-50 1447.41,-46.5 1437.41,-43 1437.41,-50\"/>\n</g>\n<!-- 140115538835824e&#45;&gt;140115538835824 -->\n<g id=\"edge11\" class=\"edge\">\n<title>140115538835824e&#45;&gt;140115538835824</title>\n<path fill=\"none\" stroke=\"black\" d=\"M1198.77,-69.75C1206.62,-68.28 1215.78,-66.55 1225.51,-64.73\"/>\n<polygon fill=\"black\" stroke=\"black\" points=\"1226.22,-68.15 1235.4,-62.87 1224.93,-61.27 1226.22,-68.15\"/>\n</g>\n<!-- 140115538835872 -->\n<g id=\"node27\" class=\"node\">\n<title>140115538835872</title>\n<polygon fill=\"none\" stroke=\"black\" points=\"2499.38,-0.5 2499.38,-36.5 2594.38,-36.5 2594.38,-0.5 2499.38,-0.5\"/>\n<text text-anchor=\"middle\" x=\"2546.88\" y=\"-14.8\" font-family=\"Times,serif\" font-size=\"14.00\">[0.015625]</text>\n</g>\n<!-- 140115538835872&#45;&gt;140115538835584* -->\n<g id=\"edge27\" class=\"edge\">\n<title>140115538835872&#45;&gt;140115538835584*</title>\n<path fill=\"none\" stroke=\"black\" d=\"M2594.53,-30.11C2603.77,-32.41 2613.32,-34.78 2622.07,-36.96\"/>\n<polygon fill=\"black\" stroke=\"black\" points=\"2621.35,-40.39 2631.9,-39.41 2623.04,-33.6 2621.35,-40.39\"/>\n</g>\n</g>\n</svg>\n",
      "text/plain": [
       "<graphviz.graphs.Digraph at 0x7f6f30eb7eb0>"
      ]
     },
     "execution_count": 5,
     "metadata": {},
     "output_type": "execute_result"
    }
   ],
   "source": [
    "from edunets.losses import CrossEntropyLoss\n",
    "\n",
    "model = EduNet1()\n",
    "\n",
    "loss_fn = CrossEntropyLoss(reduction=\"mean\")\n",
    "optim = SGD([model.l1, model.l2], lr=0.001)\n",
    "batch_size = 64\n",
    "epochs = 100\n",
    "losses, accuracies = [], []\n",
    "\n",
    "print(model.l1)\n",
    "\n",
    "for i in (t := trange(epochs)):\n",
    "    samp = np.random.randint(0, X_train.shape[0], size=(batch_size))\n",
    "\n",
    "    X = Tensor(X_train[samp].reshape((-1, 28*28)), requires_grad=True)\n",
    "    Y = Tensor(Y_train[samp])\n",
    "\n",
    "    out = model(X)\n",
    "    \n",
    "    cat = functions.argmax(out, axis=1)\n",
    "    \n",
    "    accuracy = (cat == Y).mean()\n",
    "\n",
    "    loss = loss_fn.forward(out, Y)\n",
    "    \n",
    "    optim.zero_grad()\n",
    "    \n",
    "    loss.backward()\n",
    "    \n",
    "    optim.step()\n",
    "    \n",
    "    losses.append(loss.data)\n",
    "    \n",
    "    accuracies.append(accuracy.data)\n",
    "    \n",
    "    t.set_description(\"loss %.2f accuracy %.2f\" % (loss.data, accuracy.data))\n",
    "\n",
    "print(model.l1)\n",
    "loss.graph\n"
   ]
  }
 ],
 "metadata": {
  "kernelspec": {
   "display_name": "pi_env",
   "language": "python",
   "name": "python3"
  },
  "language_info": {
   "codemirror_mode": {
    "name": "ipython",
    "version": 3
   },
   "file_extension": ".py",
   "mimetype": "text/x-python",
   "name": "python",
   "nbconvert_exporter": "python",
   "pygments_lexer": "ipython3",
   "version": "3.8.12"
  },
  "orig_nbformat": 4,
  "vscode": {
   "interpreter": {
    "hash": "7dbd43346cf4060a7c5249e62daf2cb2395365dab3b14076ef7b34680f245741"
   }
  }
 },
 "nbformat": 4,
 "nbformat_minor": 2
}
