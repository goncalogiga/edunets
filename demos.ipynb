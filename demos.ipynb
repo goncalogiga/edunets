{
 "cells": [
  {
   "cell_type": "code",
   "execution_count": 1,
   "metadata": {},
   "outputs": [],
   "source": [
    "import torch\n",
    "import numpy as np\n",
    "import torch.nn as nn\n",
    "from tqdm import trange\n",
    "import torch.nn.functional as F\n",
    "import matplotlib.pyplot as plt\n",
    "\n",
    "from edunets import functional, losses\n",
    "from edunets.tensor import Tensor"
   ]
  },
  {
   "cell_type": "code",
   "execution_count": 2,
   "metadata": {},
   "outputs": [
    {
     "data": {
      "text/plain": [
       "(<matplotlib.image.AxesImage at 0x7f32771f17c0>, 5)"
      ]
     },
     "execution_count": 2,
     "metadata": {},
     "output_type": "execute_result"
    },
    {
     "data": {
      "image/png": "[encoded data removed]",
      "text/plain": [
       "<Figure size 432x288 with 1 Axes>"
      ]
     },
     "metadata": {
      "needs_background": "light"
     },
     "output_type": "display_data"
    }
   ],
   "source": [
    "# load the mnist dataset\n",
    "\n",
    "def fetch(url):\n",
    "    import requests, gzip, os, hashlib, numpy\n",
    "    fp = os.path.join(\"/tmp\", hashlib.md5(url.encode('utf-8')).hexdigest())\n",
    "    if os.path.isfile(fp):\n",
    "        with open(fp, \"rb\") as f:\n",
    "            dat = f.read()\n",
    "    else:\n",
    "        with open(fp, \"wb\") as f:\n",
    "            dat = requests.get(url).content\n",
    "            f.write(dat)\n",
    "    return numpy.frombuffer(gzip.decompress(dat), dtype=np.uint8).copy()\n",
    "\n",
    "X_train = fetch(\"http://yann.lecun.com/exdb/mnist/train-images-idx3-ubyte.gz\")[0x10:].reshape((-1, 28, 28))\n",
    "Y_train = fetch(\"http://yann.lecun.com/exdb/mnist/train-labels-idx1-ubyte.gz\")[8:]\n",
    "X_test = fetch(\"http://yann.lecun.com/exdb/mnist/t10k-images-idx3-ubyte.gz\")[0x10:].reshape((-1, 28, 28))\n",
    "Y_test = fetch(\"http://yann.lecun.com/exdb/mnist/t10k-labels-idx1-ubyte.gz\")[8:]\n",
    "\n",
    "plt.imshow(X_train[0]), Y_train[0]"
   ]
  },
  {
   "attachments": {},
   "cell_type": "markdown",
   "metadata": {},
   "source": [
    "# In Pytorch"
   ]
  },
  {
   "cell_type": "code",
   "execution_count": 3,
   "metadata": {},
   "outputs": [
    {
     "name": "stdout",
     "output_type": "stream",
     "text": [
      "Does dummy_tensor require a gradient ? False\n",
      "Does dummy_output require a gradient ? True\n"
     ]
    }
   ],
   "source": [
    "# Pytorch model and training tensors\n",
    "\n",
    "class TorchNet(nn.Module):\n",
    "    def __init__(self):\n",
    "        super(TorchNet, self).__init__()\n",
    "        self.l1 = nn.Linear(28*28, 128, bias=False)\n",
    "        self.l2 = nn.Linear(128, 10, bias=False)\n",
    "        self.sm = nn.Softmax(dim=1)\n",
    "\n",
    "    def forward(self, x):\n",
    "        x = self.l1(x) # first layer\n",
    "        x = F.relu(x)  # activation function\n",
    "        x = self.l2(x) # secound layer: down to 10 outputs\n",
    "        #x = self.sm(x) # softmax\n",
    "        return x\n",
    "\n",
    "model = TorchNet()\n",
    "dummy_tensor = torch.Tensor([X_train[0].reshape(28*28)])\n",
    "print(\"Does dummy_tensor require a gradient ?\", dummy_tensor.requires_grad)\n",
    "dummy_output = model(dummy_tensor)\n",
    "print(\"Does dummy_output require a gradient ?\", dummy_output.requires_grad)\n"
   ]
  },
  {
   "cell_type": "code",
   "execution_count": 4,
   "metadata": {},
   "outputs": [],
   "source": [
    "# Testing two different losses\n",
    "\n",
    "nn_NLLLoss = nn.NLLLoss(reduction=\"mean\")\n",
    "nn_MSELoss = nn.MSELoss(reduction=\"mean\")\n",
    "nn_CrossEntropyLoss = nn.CrossEntropyLoss(reduction=\"mean\")\n",
    "\n",
    "def NLLLoss(Y_pred, Y):\n",
    "    \"\"\"\n",
    "    works well (with a final LogSoftmax layer !)\n",
    "    \"\"\"\n",
    "    loss = nn_NLLLoss(Y_pred, Y)\n",
    "    accuracy = (torch.argmax(Y_pred, dim=1) == Y).float().mean().item()\n",
    "\n",
    "    return loss, accuracy\n",
    "\n",
    "def MSELoss(Y_pred, Y):\n",
    "    \"\"\"\n",
    "    doesn't work at all\n",
    "    \"\"\"\n",
    "    Y_one_hot = torch.zeros(Y.shape[0], 10)\n",
    "    slice = [(i, y) for i, y in enumerate(Y)] if Y.shape[0] > 1 else (0,Y[0])\n",
    "    Y_one_hot[slice] = 1.0\n",
    "\n",
    "    loss = nn_MSELoss(Y_pred, Y_one_hot)\n",
    "\n",
    "    accuracy = (torch.argmax(Y_pred, dim=1) == Y).float().mean().item()\n",
    "    \n",
    "    return loss, accuracy\n",
    "\n",
    "def CrossEntropyLoss(Y_pred, Y):\n",
    "    \"\"\"\n",
    "    works well \n",
    "    \"\"\"\n",
    "    loss = nn_CrossEntropyLoss(Y_pred, Y)\n",
    "    accuracy = (torch.argmax(Y_pred, dim=1) == Y).float().mean().item()\n",
    "\n",
    "    return loss, accuracy"
   ]
  },
  {
   "cell_type": "code",
   "execution_count": 5,
   "metadata": {},
   "outputs": [
    {
     "name": "stderr",
     "output_type": "stream",
     "text": [
      "loss 0.20 accuracy 0.94:   9%|▉         | 94/1000 [00:00<00:01, 474.91it/s]"
     ]
    },
    {
     "name": "stdout",
     "output_type": "stream",
     "text": [
      "Y_pred: tensor([17., 23., -5., -5., 25., -3., -0., 23., -5.,  3.],\n",
      "       grad_fn=<RoundBackward>)\n",
      "Y: tensor(3)\n",
      "Y_pred after argmax: tensor(4)\n",
      "loss: tensor(28.3567, grad_fn=<NllLossBackward>)\n"
     ]
    },
    {
     "name": "stderr",
     "output_type": "stream",
     "text": [
      "loss 0.40 accuracy 0.91: 100%|██████████| 1000/1000 [00:02<00:00, 412.75it/s]\n"
     ]
    },
    {
     "data": {
      "image/png": "[encoded data removed]",
      "text/plain": [
       "<Figure size 432x288 with 1 Axes>"
      ]
     },
     "metadata": {
      "needs_background": "light"
     },
     "output_type": "display_data"
    }
   ],
   "source": [
    "# Pytorch Training\n",
    "\n",
    "model = TorchNet()\n",
    "\n",
    "# Loss function defined above\n",
    "loss_fn = CrossEntropyLoss\n",
    "\n",
    "# Stocastic gradient descent\n",
    "optimizer = torch.optim.SGD(model.parameters(), lr=0.001, momentum=0)\n",
    "\n",
    "# Training paramaters\n",
    "epochs = 1000\n",
    "batch_size = 64\n",
    "\n",
    "losses, accuracies = [], []\n",
    "\n",
    "# Training loop\n",
    "for i in (t := trange(epochs)):\n",
    "    # Get random slicing the size of the batch\n",
    "    sample = np.random.randint(0, X_train.shape[0], size=(batch_size))\n",
    "\n",
    "    # Define X and Y (flatten X so the image is one single dimention)\n",
    "    # Conversion to float is important so the Linear layers accept X as a input\n",
    "    X = torch.tensor(X_train[sample].reshape(-1, 28*28), dtype=torch.float)\n",
    "    Y = torch.tensor(Y_train[sample], dtype=torch.long)\n",
    "\n",
    "    Y_pred = model(X)\n",
    "\n",
    "    # This prints shows the form of Y_pred, it is clear argmax needs to be applied\n",
    "    # to compare Y_pred with Y\n",
    "    if i == 0:\n",
    "        print(\"Y_pred:\", Y_pred[0].round())\n",
    "        print(\"Y:\", Y[0])\n",
    "        print(\"Y_pred after argmax:\", torch.argmax(Y_pred, dim=1)[0])\n",
    "    \n",
    "    loss, accuracy = loss_fn(Y_pred, Y)\n",
    "\n",
    "    if i == 0:\n",
    "        print(\"loss:\", loss)\n",
    "\n",
    "    # Backpropagation\n",
    "    loss.backward()\n",
    "\n",
    "    # Updating weights\n",
    "    optimizer.step()\n",
    "\n",
    "    # Reset weights for next epoch\n",
    "    model.zero_grad()\n",
    "\n",
    "    loss = loss.item()\n",
    "    losses.append(loss)\n",
    "    accuracies.append(accuracy)\n",
    "    t.set_description(\"loss %.2f accuracy %.2f\" % (loss, accuracy))\n",
    "\n",
    "plt.plot(losses, label=\"loss\")\n",
    "plt.plot(accuracies, label=\"accuracy\")\n",
    "plt.legend()\n",
    "plt.show()\n"
   ]
  },
  {
   "attachments": {},
   "cell_type": "markdown",
   "metadata": {},
   "source": [
    "# In Edunets"
   ]
  },
  {
   "cell_type": "code",
   "execution_count": 3,
   "metadata": {},
   "outputs": [
    {
     "name": "stdout",
     "output_type": "stream",
     "text": [
      "max/min L1: tensor(-0.0357142, dtype=float32) tensor(0.03571314, dtype=float32)\n",
      "max/min L2: tensor(-0.08831859, dtype=float32) tensor(0.08836837, dtype=float32)\n"
     ]
    },
    {
     "data": {
      "image/svg+xml": "<?xml version=\"1.0\" encoding=\"UTF-8\" standalone=\"no\"?>\n<!DOCTYPE svg PUBLIC \"-//W3C//DTD SVG 1.1//EN\"\n \"http://www.w3.org/Graphics/SVG/1.1/DTD/svg11.dtd\">\n<!-- Generated by graphviz version 2.50.0 (0)\n -->\n<!-- Pages: 1 -->\n<svg width=\"1066pt\" height=\"138pt\"\n viewBox=\"0.00 0.00 1066.49 138.00\" xmlns=\"http://www.w3.org/2000/svg\" xmlns:xlink=\"http://www.w3.org/1999/xlink\">\n<g id=\"graph0\" class=\"graph\" transform=\"scale(1 1) rotate(0) translate(4 134)\">\n<polygon fill=\"white\" stroke=\"transparent\" points=\"-4,4 -4,-134 1062.49,-134 1062.49,4 -4,4\"/>\n<!-- 139854689383808 -->\n<g id=\"node1\" class=\"node\">\n<title>139854689383808</title>\n<polygon fill=\"none\" stroke=\"black\" points=\"949.49,-35.5 949.49,-71.5 1058.49,-71.5 1058.49,-35.5 949.49,-35.5\"/>\n<text text-anchor=\"middle\" x=\"1003.99\" y=\"-49.8\" font-family=\"Times,serif\" font-size=\"14.00\">tensor(1, 10)</text>\n</g>\n<!-- 139854689383808@ -->\n<g id=\"node2\" class=\"node\">\n<title>139854689383808@</title>\n<ellipse fill=\"none\" stroke=\"black\" cx=\"886.49\" cy=\"-53.5\" rx=\"27\" ry=\"18\"/>\n<text text-anchor=\"middle\" x=\"886.49\" y=\"-49.8\" font-family=\"Times,serif\" font-size=\"14.00\">@</text>\n</g>\n<!-- 139854689383808@&#45;&gt;139854689383808 -->\n<g id=\"edge1\" class=\"edge\">\n<title>139854689383808@&#45;&gt;139854689383808</title>\n<path fill=\"none\" stroke=\"black\" d=\"M913.7,-53.5C921.34,-53.5 930.05,-53.5 938.95,-53.5\"/>\n<polygon fill=\"black\" stroke=\"black\" points=\"939.05,-57 949.05,-53.5 939.05,-50 939.05,-57\"/>\n</g>\n<!-- 139854689384672 -->\n<g id=\"node3\" class=\"node\">\n<title>139854689384672</title>\n<polygon fill=\"none\" stroke=\"black\" points=\"700.99,-64.5 700.99,-100.5 818.99,-100.5 818.99,-64.5 700.99,-64.5\"/>\n<text text-anchor=\"middle\" x=\"759.99\" y=\"-78.8\" font-family=\"Times,serif\" font-size=\"14.00\">tensor(1, 128)</text>\n</g>\n<!-- 139854689384672&#45;&gt;139854689383808@ -->\n<g id=\"edge6\" class=\"edge\">\n<title>139854689384672&#45;&gt;139854689383808@</title>\n<path fill=\"none\" stroke=\"black\" d=\"M819.24,-68.93C830.13,-66.4 841.19,-63.82 851.08,-61.52\"/>\n<polygon fill=\"black\" stroke=\"black\" points=\"851.95,-64.91 860.89,-59.23 850.36,-58.09 851.95,-64.91\"/>\n</g>\n<!-- 139854689384672relu -->\n<g id=\"node4\" class=\"node\">\n<title>139854689384672relu</title>\n<ellipse fill=\"none\" stroke=\"black\" cx=\"631.25\" cy=\"-82.5\" rx=\"29.5\" ry=\"18\"/>\n<text text-anchor=\"middle\" x=\"631.25\" y=\"-78.8\" font-family=\"Times,serif\" font-size=\"14.00\">relu</text>\n</g>\n<!-- 139854689384672relu&#45;&gt;139854689384672 -->\n<g id=\"edge2\" class=\"edge\">\n<title>139854689384672relu&#45;&gt;139854689384672</title>\n<path fill=\"none\" stroke=\"black\" d=\"M660.69,-82.5C669.71,-82.5 680.09,-82.5 690.67,-82.5\"/>\n<polygon fill=\"black\" stroke=\"black\" points=\"690.82,-86 700.82,-82.5 690.82,-79 690.82,-86\"/>\n</g>\n<!-- 139854689384960 -->\n<g id=\"node5\" class=\"node\">\n<title>139854689384960</title>\n<polygon fill=\"none\" stroke=\"black\" points=\"448,-65.5 448,-101.5 566,-101.5 566,-65.5 448,-65.5\"/>\n<text text-anchor=\"middle\" x=\"507\" y=\"-79.8\" font-family=\"Times,serif\" font-size=\"14.00\">tensor(1, 128)</text>\n</g>\n<!-- 139854689384960&#45;&gt;139854689384672relu -->\n<g id=\"edge7\" class=\"edge\">\n<title>139854689384960&#45;&gt;139854689384672relu</title>\n<path fill=\"none\" stroke=\"black\" d=\"M566.26,-83.02C574.9,-82.95 583.61,-82.88 591.71,-82.82\"/>\n<polygon fill=\"black\" stroke=\"black\" points=\"591.97,-86.31 601.94,-82.73 591.91,-79.31 591.97,-86.31\"/>\n</g>\n<!-- 139854689384960@ -->\n<g id=\"node6\" class=\"node\">\n<title>139854689384960@</title>\n<ellipse fill=\"none\" stroke=\"black\" cx=\"385\" cy=\"-83.5\" rx=\"27\" ry=\"18\"/>\n<text text-anchor=\"middle\" x=\"385\" y=\"-79.8\" font-family=\"Times,serif\" font-size=\"14.00\">@</text>\n</g>\n<!-- 139854689384960@&#45;&gt;139854689384960 -->\n<g id=\"edge3\" class=\"edge\">\n<title>139854689384960@&#45;&gt;139854689384960</title>\n<path fill=\"none\" stroke=\"black\" d=\"M412.04,-83.5C419.83,-83.5 428.77,-83.5 437.96,-83.5\"/>\n<polygon fill=\"black\" stroke=\"black\" points=\"438,-87 448,-83.5 438,-80 438,-87\"/>\n</g>\n<!-- 139854689384048 -->\n<g id=\"node7\" class=\"node\">\n<title>139854689384048</title>\n<polygon fill=\"none\" stroke=\"black\" points=\"195,-93.5 195,-129.5 313,-129.5 313,-93.5 195,-93.5\"/>\n<text text-anchor=\"middle\" x=\"254\" y=\"-107.8\" font-family=\"Times,serif\" font-size=\"14.00\">tensor(1, 784)</text>\n</g>\n<!-- 139854689384048&#45;&gt;139854689384960@ -->\n<g id=\"edge8\" class=\"edge\">\n<title>139854689384048&#45;&gt;139854689384960@</title>\n<path fill=\"none\" stroke=\"black\" d=\"M313.08,-98.89C325.48,-96.2 338.18,-93.44 349.36,-91.02\"/>\n<polygon fill=\"black\" stroke=\"black\" points=\"350.11,-94.44 359.14,-88.9 348.62,-87.6 350.11,-94.44\"/>\n</g>\n<!-- 139854689383328 -->\n<g id=\"node8\" class=\"node\">\n<title>139854689383328</title>\n<polygon fill=\"none\" stroke=\"black\" points=\"186,-38.5 186,-74.5 322,-74.5 322,-38.5 186,-38.5\"/>\n<text text-anchor=\"middle\" x=\"254\" y=\"-52.8\" font-family=\"Times,serif\" font-size=\"14.00\">tensor(784, 128)</text>\n</g>\n<!-- 139854689383328&#45;&gt;139854689384960@ -->\n<g id=\"edge9\" class=\"edge\">\n<title>139854689383328&#45;&gt;139854689384960@</title>\n<path fill=\"none\" stroke=\"black\" d=\"M322.14,-70.55C331.55,-72.52 340.87,-74.47 349.32,-76.24\"/>\n<polygon fill=\"black\" stroke=\"black\" points=\"348.64,-79.67 359.14,-78.3 350.07,-72.82 348.64,-79.67\"/>\n</g>\n<!-- 139854689383328T -->\n<g id=\"node9\" class=\"node\">\n<title>139854689383328T</title>\n<ellipse fill=\"none\" stroke=\"black\" cx=\"123\" cy=\"-56.5\" rx=\"27\" ry=\"18\"/>\n<text text-anchor=\"middle\" x=\"123\" y=\"-52.8\" font-family=\"Times,serif\" font-size=\"14.00\">T</text>\n</g>\n<!-- 139854689383328T&#45;&gt;139854689383328 -->\n<g id=\"edge4\" class=\"edge\">\n<title>139854689383328T&#45;&gt;139854689383328</title>\n<path fill=\"none\" stroke=\"black\" d=\"M150.11,-56.5C157.78,-56.5 166.6,-56.5 175.78,-56.5\"/>\n<polygon fill=\"black\" stroke=\"black\" points=\"175.84,-60 185.84,-56.5 175.84,-53 175.84,-60\"/>\n</g>\n<!-- 139854727448416 -->\n<g id=\"node10\" class=\"node\">\n<title>139854727448416</title>\n<polygon fill=\"none\" stroke=\"black\" points=\"0,-33.5 0,-79.5 60,-79.5 60,-33.5 0,-33.5\"/>\n<text text-anchor=\"middle\" x=\"30\" y=\"-64.3\" font-family=\"Times,serif\" font-size=\"14.00\">L1</text>\n<polyline fill=\"none\" stroke=\"black\" points=\"0,-56.5 60,-56.5 \"/>\n<text text-anchor=\"middle\" x=\"30\" y=\"-41.3\" font-family=\"Times,serif\" font-size=\"14.00\">grad()</text>\n</g>\n<!-- 139854727448416&#45;&gt;139854689383328T -->\n<g id=\"edge10\" class=\"edge\">\n<title>139854727448416&#45;&gt;139854689383328T</title>\n<path fill=\"none\" stroke=\"black\" d=\"M60.04,-56.5C68.18,-56.5 77.13,-56.5 85.63,-56.5\"/>\n<polygon fill=\"black\" stroke=\"black\" points=\"85.7,-60 95.7,-56.5 85.7,-53 85.7,-60\"/>\n</g>\n<!-- 139854689384384 -->\n<g id=\"node11\" class=\"node\">\n<title>139854689384384</title>\n<polygon fill=\"none\" stroke=\"black\" points=\"696.49,-8.5 696.49,-44.5 823.49,-44.5 823.49,-8.5 696.49,-8.5\"/>\n<text text-anchor=\"middle\" x=\"759.99\" y=\"-22.8\" font-family=\"Times,serif\" font-size=\"14.00\">tensor(128, 10)</text>\n</g>\n<!-- 139854689384384&#45;&gt;139854689383808@ -->\n<g id=\"edge11\" class=\"edge\">\n<title>139854689384384&#45;&gt;139854689383808@</title>\n<path fill=\"none\" stroke=\"black\" d=\"M823.61,-40.08C832.91,-42.1 842.2,-44.11 850.64,-45.94\"/>\n<polygon fill=\"black\" stroke=\"black\" points=\"849.96,-49.37 860.47,-48.07 851.44,-42.53 849.96,-49.37\"/>\n</g>\n<!-- 139854689384384T -->\n<g id=\"node12\" class=\"node\">\n<title>139854689384384T</title>\n<ellipse fill=\"none\" stroke=\"black\" cx=\"631.25\" cy=\"-25.5\" rx=\"27\" ry=\"18\"/>\n<text text-anchor=\"middle\" x=\"631.25\" y=\"-21.8\" font-family=\"Times,serif\" font-size=\"14.00\">T</text>\n</g>\n<!-- 139854689384384T&#45;&gt;139854689384384 -->\n<g id=\"edge5\" class=\"edge\">\n<title>139854689384384T&#45;&gt;139854689384384</title>\n<path fill=\"none\" stroke=\"black\" d=\"M658.51,-25.71C666.83,-25.77 676.47,-25.85 686.42,-25.93\"/>\n<polygon fill=\"black\" stroke=\"black\" points=\"686.4,-29.43 696.43,-26.01 686.46,-22.43 686.4,-29.43\"/>\n</g>\n<!-- 139854689786704 -->\n<g id=\"node13\" class=\"node\">\n<title>139854689786704</title>\n<polygon fill=\"none\" stroke=\"black\" points=\"477,-0.5 477,-46.5 537,-46.5 537,-0.5 477,-0.5\"/>\n<text text-anchor=\"middle\" x=\"507\" y=\"-31.3\" font-family=\"Times,serif\" font-size=\"14.00\">L1</text>\n<polyline fill=\"none\" stroke=\"black\" points=\"477,-23.5 537,-23.5 \"/>\n<text text-anchor=\"middle\" x=\"507\" y=\"-8.3\" font-family=\"Times,serif\" font-size=\"14.00\">grad()</text>\n</g>\n<!-- 139854689786704&#45;&gt;139854689384384T -->\n<g id=\"edge12\" class=\"edge\">\n<title>139854689786704&#45;&gt;139854689384384T</title>\n<path fill=\"none\" stroke=\"black\" d=\"M537.28,-23.98C554.29,-24.26 575.86,-24.61 593.93,-24.91\"/>\n<polygon fill=\"black\" stroke=\"black\" points=\"594.06,-28.41 604.12,-25.07 594.17,-21.41 594.06,-28.41\"/>\n</g>\n</g>\n</svg>\n",
      "text/plain": [
       "<graphviz.graphs.Digraph at 0x7f327514b520>"
      ]
     },
     "execution_count": 3,
     "metadata": {},
     "output_type": "execute_result"
    }
   ],
   "source": [
    "class EduNet1:\n",
    "    def __init__(self):\n",
    "        # https://discuss.pytorch.org/t/how-are-layer-weights-and-biases-initialized-by-default/13073\n",
    "        stdv1, stdv2 = 1./np.sqrt(28*28), 1./np.sqrt(128)\n",
    "        self.l1 = Tensor.uniform(128, 28*28, low=-stdv1, high=stdv1, requires_grad=True, label=\"L1\")\n",
    "        self.l2 = Tensor.uniform(10, 128, low=-stdv2, high=stdv2, requires_grad=True, label=\"L1\")\n",
    "\n",
    "    def __call__(self, x):\n",
    "        x = x @ self.l1.T\n",
    "        x = x.relu()\n",
    "        x = x @ self.l2.T\n",
    "        return x\n",
    "\n",
    "model = EduNet1()\n",
    "\n",
    "print(\"max/min L1:\", model.l1.min(), model.l1.max())\n",
    "print(\"max/min L2:\", model.l2.min(), model.l2.max())\n",
    "\n",
    "dummy_tensor = Tensor([X_train[0].reshape(28*28)])\n",
    "model(dummy_tensor).graph"
   ]
  },
  {
   "cell_type": "code",
   "execution_count": 4,
   "metadata": {},
   "outputs": [],
   "source": [
    "# Stochastic gradient descent\n",
    "class SGD:\n",
    "    def __init__(self, params, lr=0.001):\n",
    "        self.lr = lr\n",
    "        self.params = params\n",
    "\n",
    "    def step(self):\n",
    "        for t in self.params:\n",
    "            t.data = t.data - t.grad * self.lr\n",
    "\n",
    "    def zero_grad(self):\n",
    "        for param in self.params:\n",
    "            param.zero_grad()"
   ]
  },
  {
   "cell_type": "code",
   "execution_count": 5,
   "metadata": {},
   "outputs": [],
   "source": [
    "from edunets.losses import CrossEntropyLoss\n",
    "\n",
    "model = EduNet1()\n",
    "\n",
    "batch_size = 64\n",
    "loss_fn = CrossEntropyLoss(reduction=\"mean\")\n",
    "optim = SGD([model.l1, model.l2], lr=0.001)\n",
    "epochs = 1000\n",
    "losses, accuracies = [], []\n",
    "\n",
    "# Intresting to allow NaNs to see the effect of overflow of expontentials\n",
    "#model.l1.keep_nans() # This will break the network though"
   ]
  },
  {
   "cell_type": "code",
   "execution_count": 6,
   "metadata": {},
   "outputs": [
    {
     "name": "stderr",
     "output_type": "stream",
     "text": [
      "loss 26.33 accuracy 25.00:   0%|          | 0/1000 [00:00<?, ?it/s]/home/goncalo/edunets/edunets/ops.py:34: RuntimeWarning: overflow encountered in exp\n",
      "  return np.exp(self.a.data)\n",
      "/home/goncalo/anaconda3/envs/pi_env/lib/python3.8/site-packages/numpy/core/fromnumeric.py:86: RuntimeWarning: overflow encountered in reduce\n",
      "  return ufunc.reduce(obj, axis, dtype, out, **passkwargs)\n",
      "loss 11.46 accuracy 29.69:   1%|          | 9/1000 [00:00<00:22, 43.35it/s] "
     ]
    },
    {
     "name": "stdout",
     "output_type": "stream",
     "text": [
      "Initial Loss: tensor(26.330824, dtype=float32)\n"
     ]
    },
    {
     "name": "stderr",
     "output_type": "stream",
     "text": [
      "loss 0.48 accuracy 89.06: 100%|██████████| 1000/1000 [00:12<00:00, 79.64it/s]\n"
     ]
    },
    {
     "data": {
      "image/svg+xml": "<?xml version=\"1.0\" encoding=\"UTF-8\" standalone=\"no\"?>\n<!DOCTYPE svg PUBLIC \"-//W3C//DTD SVG 1.1//EN\"\n \"http://www.w3.org/Graphics/SVG/1.1/DTD/svg11.dtd\">\n<!-- Generated by graphviz version 2.50.0 (0)\n -->\n<!-- Pages: 1 -->\n<svg width=\"2579pt\" height=\"186pt\"\n viewBox=\"0.00 0.00 2578.68 186.00\" xmlns=\"http://www.w3.org/2000/svg\" xmlns:xlink=\"http://www.w3.org/1999/xlink\">\n<g id=\"graph0\" class=\"graph\" transform=\"scale(1 1) rotate(0) translate(4 182)\">\n<polygon fill=\"white\" stroke=\"transparent\" points=\"-4,4 -4,-182 2574.68,-182 2574.68,4 -4,4\"/>\n<!-- 139854679646368 -->\n<g id=\"node1\" class=\"node\">\n<title>139854679646368</title>\n<polygon fill=\"none\" stroke=\"black\" points=\"2457.68,-27.5 2457.68,-63.5 2570.68,-63.5 2570.68,-27.5 2457.68,-27.5\"/>\n<text text-anchor=\"middle\" x=\"2514.18\" y=\"-41.8\" font-family=\"Times,serif\" font-size=\"14.00\">[0.48039287]</text>\n</g>\n<!-- 139854679646368* -->\n<g id=\"node2\" class=\"node\">\n<title>139854679646368*</title>\n<ellipse fill=\"none\" stroke=\"black\" cx=\"2394.68\" cy=\"-45.5\" rx=\"27\" ry=\"18\"/>\n<text text-anchor=\"middle\" x=\"2394.68\" y=\"-41.8\" font-family=\"Times,serif\" font-size=\"14.00\">*</text>\n</g>\n<!-- 139854679646368*&#45;&gt;139854679646368 -->\n<g id=\"edge1\" class=\"edge\">\n<title>139854679646368*&#45;&gt;139854679646368</title>\n<path fill=\"none\" stroke=\"black\" d=\"M2421.76,-45.5C2429.42,-45.5 2438.17,-45.5 2447.16,-45.5\"/>\n<polygon fill=\"black\" stroke=\"black\" points=\"2447.35,-49 2457.35,-45.5 2447.35,-42 2447.35,-49\"/>\n</g>\n<!-- 139854679646944 -->\n<g id=\"node3\" class=\"node\">\n<title>139854679646944</title>\n<polygon fill=\"none\" stroke=\"black\" points=\"2227.68,-55.5 2227.68,-91.5 2331.68,-91.5 2331.68,-55.5 2227.68,-55.5\"/>\n<text text-anchor=\"middle\" x=\"2279.68\" y=\"-69.8\" font-family=\"Times,serif\" font-size=\"14.00\">[30.745144]</text>\n</g>\n<!-- 139854679646944&#45;&gt;139854679646368* -->\n<g id=\"edge14\" class=\"edge\">\n<title>139854679646944&#45;&gt;139854679646368*</title>\n<path fill=\"none\" stroke=\"black\" d=\"M2331.89,-60.81C2341.21,-58.5 2350.72,-56.15 2359.4,-53.99\"/>\n<polygon fill=\"black\" stroke=\"black\" points=\"2360.28,-57.38 2369.15,-51.58 2358.6,-50.59 2360.28,-57.38\"/>\n</g>\n<!-- 139854679646944sum -->\n<g id=\"node4\" class=\"node\">\n<title>139854679646944sum</title>\n<ellipse fill=\"none\" stroke=\"black\" cx=\"2161.14\" cy=\"-73.5\" rx=\"30.59\" ry=\"18\"/>\n<text text-anchor=\"middle\" x=\"2161.14\" y=\"-69.8\" font-family=\"Times,serif\" font-size=\"14.00\">sum</text>\n</g>\n<!-- 139854679646944sum&#45;&gt;139854679646944 -->\n<g id=\"edge2\" class=\"edge\">\n<title>139854679646944sum&#45;&gt;139854679646944</title>\n<path fill=\"none\" stroke=\"black\" d=\"M2191.85,-73.5C2199.6,-73.5 2208.26,-73.5 2217.01,-73.5\"/>\n<polygon fill=\"black\" stroke=\"black\" points=\"2217.29,-77 2227.29,-73.5 2217.29,-70 2217.29,-77\"/>\n</g>\n<!-- 139854679646800 -->\n<g id=\"node5\" class=\"node\">\n<title>139854679646800</title>\n<polygon fill=\"none\" stroke=\"black\" points=\"1999.59,-55.5 1999.59,-91.5 2094.59,-91.5 2094.59,-55.5 1999.59,-55.5\"/>\n<text text-anchor=\"middle\" x=\"2047.09\" y=\"-69.8\" font-family=\"Times,serif\" font-size=\"14.00\">tensor(64,)</text>\n</g>\n<!-- 139854679646800&#45;&gt;139854679646944sum -->\n<g id=\"edge15\" class=\"edge\">\n<title>139854679646800&#45;&gt;139854679646944sum</title>\n<path fill=\"none\" stroke=\"black\" d=\"M2094.63,-73.5C2103.17,-73.5 2112.02,-73.5 2120.34,-73.5\"/>\n<polygon fill=\"black\" stroke=\"black\" points=\"2120.53,-77 2130.53,-73.5 2120.53,-70 2120.53,-77\"/>\n</g>\n<!-- 139854679646800+ -->\n<g id=\"node6\" class=\"node\">\n<title>139854679646800+</title>\n<ellipse fill=\"none\" stroke=\"black\" cx=\"1936.59\" cy=\"-73.5\" rx=\"27\" ry=\"18\"/>\n<text text-anchor=\"middle\" x=\"1936.59\" y=\"-69.8\" font-family=\"Times,serif\" font-size=\"14.00\">+</text>\n</g>\n<!-- 139854679646800+&#45;&gt;139854679646800 -->\n<g id=\"edge3\" class=\"edge\">\n<title>139854679646800+&#45;&gt;139854679646800</title>\n<path fill=\"none\" stroke=\"black\" d=\"M1963.85,-73.5C1971.6,-73.5 1980.4,-73.5 1989.28,-73.5\"/>\n<polygon fill=\"black\" stroke=\"black\" points=\"1989.3,-77 1999.3,-73.5 1989.3,-70 1989.3,-77\"/>\n</g>\n<!-- 139854679649872 -->\n<g id=\"node7\" class=\"node\">\n<title>139854679649872</title>\n<polygon fill=\"none\" stroke=\"black\" points=\"1647.59,-83.5 1647.59,-119.5 1742.59,-119.5 1742.59,-83.5 1647.59,-83.5\"/>\n<text text-anchor=\"middle\" x=\"1695.09\" y=\"-97.8\" font-family=\"Times,serif\" font-size=\"14.00\">tensor(64,)</text>\n</g>\n<!-- 139854679649872&#45;&gt;139854679646800+ -->\n<g id=\"edge16\" class=\"edge\">\n<title>139854679649872&#45;&gt;139854679646800+</title>\n<path fill=\"none\" stroke=\"black\" d=\"M1742.84,-96.03C1788.77,-90.67 1857.87,-82.59 1899.66,-77.7\"/>\n<polygon fill=\"black\" stroke=\"black\" points=\"1900.14,-81.17 1909.66,-76.53 1899.32,-74.22 1900.14,-81.17\"/>\n</g>\n<!-- 139854679649872* -->\n<g id=\"node8\" class=\"node\">\n<title>139854679649872*</title>\n<ellipse fill=\"none\" stroke=\"black\" cx=\"1450.04\" cy=\"-101.5\" rx=\"27\" ry=\"18\"/>\n<text text-anchor=\"middle\" x=\"1450.04\" y=\"-97.8\" font-family=\"Times,serif\" font-size=\"14.00\">*</text>\n</g>\n<!-- 139854679649872*&#45;&gt;139854679649872 -->\n<g id=\"edge4\" class=\"edge\">\n<title>139854679649872*&#45;&gt;139854679649872</title>\n<path fill=\"none\" stroke=\"black\" d=\"M1477.05,-101.5C1515.09,-101.5 1586.85,-101.5 1637.42,-101.5\"/>\n<polygon fill=\"black\" stroke=\"black\" points=\"1637.55,-105 1647.55,-101.5 1637.55,-98 1637.55,-105\"/>\n</g>\n<!-- 139854679647568 -->\n<g id=\"node9\" class=\"node\">\n<title>139854679647568</title>\n<polygon fill=\"none\" stroke=\"black\" points=\"1276.99,-138.5 1276.99,-174.5 1371.99,-174.5 1371.99,-138.5 1276.99,-138.5\"/>\n<text text-anchor=\"middle\" x=\"1324.49\" y=\"-152.8\" font-family=\"Times,serif\" font-size=\"14.00\">tensor(64,)</text>\n</g>\n<!-- 139854679647568&#45;&gt;139854679649872* -->\n<g id=\"edge17\" class=\"edge\">\n<title>139854679647568&#45;&gt;139854679649872*</title>\n<path fill=\"none\" stroke=\"black\" d=\"M1365.95,-138.49C1382.85,-130.97 1402.18,-122.36 1417.94,-115.35\"/>\n<polygon fill=\"black\" stroke=\"black\" points=\"1419.52,-118.47 1427.23,-111.21 1416.68,-112.08 1419.52,-118.47\"/>\n</g>\n<!-- 139854679647568[*] -->\n<g id=\"node10\" class=\"node\">\n<title>139854679647568[*]</title>\n<ellipse fill=\"none\" stroke=\"black\" cx=\"1202.49\" cy=\"-142.5\" rx=\"27\" ry=\"18\"/>\n<text text-anchor=\"middle\" x=\"1202.49\" y=\"-138.8\" font-family=\"Times,serif\" font-size=\"14.00\">[*]</text>\n</g>\n<!-- 139854679647568[*]&#45;&gt;139854679647568 -->\n<g id=\"edge5\" class=\"edge\">\n<title>139854679647568[*]&#45;&gt;139854679647568</title>\n<path fill=\"none\" stroke=\"black\" d=\"M1229.24,-145.5C1240.32,-146.8 1253.75,-148.36 1266.96,-149.9\"/>\n<polygon fill=\"black\" stroke=\"black\" points=\"1266.64,-153.39 1276.97,-151.07 1267.45,-146.44 1266.64,-153.39\"/>\n</g>\n<!-- 139854679858048 -->\n<g id=\"node11\" class=\"node\">\n<title>139854679858048</title>\n<polygon fill=\"none\" stroke=\"black\" points=\"1021.49,-83.5 1021.49,-119.5 1139.49,-119.5 1139.49,-83.5 1021.49,-83.5\"/>\n<text text-anchor=\"middle\" x=\"1080.49\" y=\"-97.8\" font-family=\"Times,serif\" font-size=\"14.00\">tensor(64, 10)</text>\n</g>\n<!-- 139854679858048&#45;&gt;139854679647568[*] -->\n<g id=\"edge18\" class=\"edge\">\n<title>139854679858048&#45;&gt;139854679647568[*]</title>\n<path fill=\"none\" stroke=\"black\" d=\"M1134.48,-119.6C1146.09,-123.57 1158.05,-127.66 1168.6,-131.26\"/>\n<polygon fill=\"black\" stroke=\"black\" points=\"1167.63,-134.63 1178.22,-134.55 1169.89,-128 1167.63,-134.63\"/>\n</g>\n<!-- 139854679649920e -->\n<g id=\"node30\" class=\"node\">\n<title>139854679649920e</title>\n<ellipse fill=\"none\" stroke=\"black\" cx=\"1202.49\" cy=\"-74.5\" rx=\"27\" ry=\"18\"/>\n<text text-anchor=\"middle\" x=\"1202.49\" y=\"-70.8\" font-family=\"Times,serif\" font-size=\"14.00\">e</text>\n</g>\n<!-- 139854679858048&#45;&gt;139854679649920e -->\n<g id=\"edge30\" class=\"edge\">\n<title>139854679858048&#45;&gt;139854679649920e</title>\n<path fill=\"none\" stroke=\"black\" d=\"M1139.74,-88.4C1148.99,-86.31 1158.3,-84.22 1166.79,-82.31\"/>\n<polygon fill=\"black\" stroke=\"black\" points=\"1167.68,-85.7 1176.67,-80.09 1166.14,-78.87 1167.68,-85.7\"/>\n</g>\n<!-- 139854679858048@ -->\n<g id=\"node12\" class=\"node\">\n<title>139854679858048@</title>\n<ellipse fill=\"none\" stroke=\"black\" cx=\"958.49\" cy=\"-101.5\" rx=\"27\" ry=\"18\"/>\n<text text-anchor=\"middle\" x=\"958.49\" y=\"-97.8\" font-family=\"Times,serif\" font-size=\"14.00\">@</text>\n</g>\n<!-- 139854679858048@&#45;&gt;139854679858048 -->\n<g id=\"edge6\" class=\"edge\">\n<title>139854679858048@&#45;&gt;139854679858048</title>\n<path fill=\"none\" stroke=\"black\" d=\"M985.53,-101.5C993.33,-101.5 1002.27,-101.5 1011.46,-101.5\"/>\n<polygon fill=\"black\" stroke=\"black\" points=\"1011.49,-105 1021.49,-101.5 1011.49,-98 1011.49,-105\"/>\n</g>\n<!-- 139854679856464 -->\n<g id=\"node13\" class=\"node\">\n<title>139854679856464</title>\n<polygon fill=\"none\" stroke=\"black\" points=\"768.49,-112.5 768.49,-148.5 895.49,-148.5 895.49,-112.5 768.49,-112.5\"/>\n<text text-anchor=\"middle\" x=\"831.99\" y=\"-126.8\" font-family=\"Times,serif\" font-size=\"14.00\">tensor(64, 128)</text>\n</g>\n<!-- 139854679856464&#45;&gt;139854679858048@ -->\n<g id=\"edge19\" class=\"edge\">\n<title>139854679856464&#45;&gt;139854679858048@</title>\n<path fill=\"none\" stroke=\"black\" d=\"M895.61,-115.92C904.99,-113.73 914.37,-111.55 922.88,-109.56\"/>\n<polygon fill=\"black\" stroke=\"black\" points=\"923.83,-112.94 932.77,-107.26 922.24,-106.12 923.83,-112.94\"/>\n</g>\n<!-- 139854679856464relu -->\n<g id=\"node14\" class=\"node\">\n<title>139854679856464relu</title>\n<ellipse fill=\"none\" stroke=\"black\" cx=\"703.25\" cy=\"-130.5\" rx=\"29.5\" ry=\"18\"/>\n<text text-anchor=\"middle\" x=\"703.25\" y=\"-126.8\" font-family=\"Times,serif\" font-size=\"14.00\">relu</text>\n</g>\n<!-- 139854679856464relu&#45;&gt;139854679856464 -->\n<g id=\"edge7\" class=\"edge\">\n<title>139854679856464relu&#45;&gt;139854679856464</title>\n<path fill=\"none\" stroke=\"black\" d=\"M732.69,-130.5C740.43,-130.5 749.19,-130.5 758.2,-130.5\"/>\n<polygon fill=\"black\" stroke=\"black\" points=\"758.45,-134 768.45,-130.5 758.45,-127 758.45,-134\"/>\n</g>\n<!-- 139854679857616 -->\n<g id=\"node15\" class=\"node\">\n<title>139854679857616</title>\n<polygon fill=\"none\" stroke=\"black\" points=\"511,-113.5 511,-149.5 638,-149.5 638,-113.5 511,-113.5\"/>\n<text text-anchor=\"middle\" x=\"574.5\" y=\"-127.8\" font-family=\"Times,serif\" font-size=\"14.00\">tensor(64, 128)</text>\n</g>\n<!-- 139854679857616&#45;&gt;139854679856464relu -->\n<g id=\"edge20\" class=\"edge\">\n<title>139854679857616&#45;&gt;139854679856464relu</title>\n<path fill=\"none\" stroke=\"black\" d=\"M638.13,-131.01C646.8,-130.94 655.5,-130.87 663.56,-130.81\"/>\n<polygon fill=\"black\" stroke=\"black\" points=\"663.76,-134.3 673.73,-130.72 663.71,-127.3 663.76,-134.3\"/>\n</g>\n<!-- 139854679857616@ -->\n<g id=\"node16\" class=\"node\">\n<title>139854679857616@</title>\n<ellipse fill=\"none\" stroke=\"black\" cx=\"448\" cy=\"-131.5\" rx=\"27\" ry=\"18\"/>\n<text text-anchor=\"middle\" x=\"448\" y=\"-127.8\" font-family=\"Times,serif\" font-size=\"14.00\">@</text>\n</g>\n<!-- 139854679857616@&#45;&gt;139854679857616 -->\n<g id=\"edge8\" class=\"edge\">\n<title>139854679857616@&#45;&gt;139854679857616</title>\n<path fill=\"none\" stroke=\"black\" d=\"M475.1,-131.5C482.71,-131.5 491.44,-131.5 500.47,-131.5\"/>\n<polygon fill=\"black\" stroke=\"black\" points=\"500.76,-135 510.76,-131.5 500.76,-128 500.76,-135\"/>\n</g>\n<!-- 139854679857424 -->\n<g id=\"node17\" class=\"node\">\n<title>139854679857424</title>\n<polygon fill=\"none\" stroke=\"black\" points=\"253.5,-141.5 253.5,-177.5 380.5,-177.5 380.5,-141.5 253.5,-141.5\"/>\n<text text-anchor=\"middle\" x=\"317\" y=\"-155.8\" font-family=\"Times,serif\" font-size=\"14.00\">tensor(64, 784)</text>\n</g>\n<!-- 139854679857424&#45;&gt;139854679857616@ -->\n<g id=\"edge21\" class=\"edge\">\n<title>139854679857424&#45;&gt;139854679857616@</title>\n<path fill=\"none\" stroke=\"black\" d=\"M380.61,-145.91C391.45,-143.56 402.37,-141.19 412.13,-139.07\"/>\n<polygon fill=\"black\" stroke=\"black\" points=\"413.17,-142.42 422.2,-136.88 411.69,-135.58 413.17,-142.42\"/>\n</g>\n<!-- 139854679856560 -->\n<g id=\"node18\" class=\"node\">\n<title>139854679856560</title>\n<polygon fill=\"none\" stroke=\"black\" points=\"249,-86.5 249,-122.5 385,-122.5 385,-86.5 249,-86.5\"/>\n<text text-anchor=\"middle\" x=\"317\" y=\"-100.8\" font-family=\"Times,serif\" font-size=\"14.00\">tensor(784, 128)</text>\n</g>\n<!-- 139854679856560&#45;&gt;139854679857616@ -->\n<g id=\"edge22\" class=\"edge\">\n<title>139854679856560&#45;&gt;139854679857616@</title>\n<path fill=\"none\" stroke=\"black\" d=\"M385.14,-118.55C394.55,-120.52 403.87,-122.47 412.32,-124.24\"/>\n<polygon fill=\"black\" stroke=\"black\" points=\"411.64,-127.67 422.14,-126.3 413.07,-120.82 411.64,-127.67\"/>\n</g>\n<!-- 139854679856560T -->\n<g id=\"node19\" class=\"node\">\n<title>139854679856560T</title>\n<ellipse fill=\"none\" stroke=\"black\" cx=\"186\" cy=\"-104.5\" rx=\"27\" ry=\"18\"/>\n<text text-anchor=\"middle\" x=\"186\" y=\"-100.8\" font-family=\"Times,serif\" font-size=\"14.00\">T</text>\n</g>\n<!-- 139854679856560T&#45;&gt;139854679856560 -->\n<g id=\"edge9\" class=\"edge\">\n<title>139854679856560T&#45;&gt;139854679856560</title>\n<path fill=\"none\" stroke=\"black\" d=\"M213.11,-104.5C220.78,-104.5 229.6,-104.5 238.78,-104.5\"/>\n<polygon fill=\"black\" stroke=\"black\" points=\"238.84,-108 248.84,-104.5 238.84,-101 238.84,-108\"/>\n</g>\n<!-- 139857024346912 -->\n<g id=\"node20\" class=\"node\">\n<title>139857024346912</title>\n<polygon fill=\"none\" stroke=\"black\" points=\"0,-81.5 0,-127.5 123,-127.5 123,-81.5 0,-81.5\"/>\n<text text-anchor=\"middle\" x=\"61.5\" y=\"-112.3\" font-family=\"Times,serif\" font-size=\"14.00\">L1</text>\n<polyline fill=\"none\" stroke=\"black\" points=\"0,-104.5 123,-104.5 \"/>\n<text text-anchor=\"middle\" x=\"61.5\" y=\"-89.3\" font-family=\"Times,serif\" font-size=\"14.00\">grad(128, 784)</text>\n</g>\n<!-- 139857024346912&#45;&gt;139854679856560T -->\n<g id=\"edge23\" class=\"edge\">\n<title>139857024346912&#45;&gt;139854679856560T</title>\n<path fill=\"none\" stroke=\"black\" d=\"M123.03,-104.5C131.83,-104.5 140.66,-104.5 148.77,-104.5\"/>\n<polygon fill=\"black\" stroke=\"black\" points=\"148.97,-108 158.97,-104.5 148.97,-101 148.97,-108\"/>\n</g>\n<!-- 139854679855408 -->\n<g id=\"node21\" class=\"node\">\n<title>139854679855408</title>\n<polygon fill=\"none\" stroke=\"black\" points=\"768.49,-56.5 768.49,-92.5 895.49,-92.5 895.49,-56.5 768.49,-56.5\"/>\n<text text-anchor=\"middle\" x=\"831.99\" y=\"-70.8\" font-family=\"Times,serif\" font-size=\"14.00\">tensor(128, 10)</text>\n</g>\n<!-- 139854679855408&#45;&gt;139854679858048@ -->\n<g id=\"edge24\" class=\"edge\">\n<title>139854679855408&#45;&gt;139854679858048@</title>\n<path fill=\"none\" stroke=\"black\" d=\"M895.61,-88.08C904.91,-90.1 914.2,-92.11 922.64,-93.94\"/>\n<polygon fill=\"black\" stroke=\"black\" points=\"921.96,-97.37 932.47,-96.07 923.44,-90.53 921.96,-97.37\"/>\n</g>\n<!-- 139854679855408T -->\n<g id=\"node22\" class=\"node\">\n<title>139854679855408T</title>\n<ellipse fill=\"none\" stroke=\"black\" cx=\"703.25\" cy=\"-73.5\" rx=\"27\" ry=\"18\"/>\n<text text-anchor=\"middle\" x=\"703.25\" y=\"-69.8\" font-family=\"Times,serif\" font-size=\"14.00\">T</text>\n</g>\n<!-- 139854679855408T&#45;&gt;139854679855408 -->\n<g id=\"edge10\" class=\"edge\">\n<title>139854679855408T&#45;&gt;139854679855408</title>\n<path fill=\"none\" stroke=\"black\" d=\"M730.51,-73.71C738.83,-73.77 748.47,-73.85 758.42,-73.93\"/>\n<polygon fill=\"black\" stroke=\"black\" points=\"758.4,-77.43 768.43,-74.01 758.46,-70.43 758.4,-77.43\"/>\n</g>\n<!-- 139857033142816 -->\n<g id=\"node23\" class=\"node\">\n<title>139857033142816</title>\n<polygon fill=\"none\" stroke=\"black\" points=\"517.5,-48.5 517.5,-94.5 631.5,-94.5 631.5,-48.5 517.5,-48.5\"/>\n<text text-anchor=\"middle\" x=\"574.5\" y=\"-79.3\" font-family=\"Times,serif\" font-size=\"14.00\">L1</text>\n<polyline fill=\"none\" stroke=\"black\" points=\"517.5,-71.5 631.5,-71.5 \"/>\n<text text-anchor=\"middle\" x=\"574.5\" y=\"-56.3\" font-family=\"Times,serif\" font-size=\"14.00\">grad(10, 128)</text>\n</g>\n<!-- 139857033142816&#45;&gt;139854679855408T -->\n<g id=\"edge25\" class=\"edge\">\n<title>139857033142816&#45;&gt;139854679855408T</title>\n<path fill=\"none\" stroke=\"black\" d=\"M631.83,-72.39C643.43,-72.57 655.36,-72.76 666.02,-72.93\"/>\n<polygon fill=\"black\" stroke=\"black\" points=\"666.14,-76.43 676.2,-73.09 666.25,-69.43 666.14,-76.43\"/>\n</g>\n<!-- 139854679650160 -->\n<g id=\"node24\" class=\"node\">\n<title>139854679650160</title>\n<polygon fill=\"none\" stroke=\"black\" points=\"1297.49,-83.5 1297.49,-119.5 1351.49,-119.5 1351.49,-83.5 1297.49,-83.5\"/>\n<text text-anchor=\"middle\" x=\"1324.49\" y=\"-97.8\" font-family=\"Times,serif\" font-size=\"14.00\">[&#45;1.]</text>\n</g>\n<!-- 139854679650160&#45;&gt;139854679649872* -->\n<g id=\"edge26\" class=\"edge\">\n<title>139854679650160&#45;&gt;139854679649872*</title>\n<path fill=\"none\" stroke=\"black\" d=\"M1351.7,-101.5C1369.47,-101.5 1393.2,-101.5 1412.78,-101.5\"/>\n<polygon fill=\"black\" stroke=\"black\" points=\"1412.88,-105 1422.88,-101.5 1412.88,-98 1412.88,-105\"/>\n</g>\n<!-- 139854679646464 -->\n<g id=\"node25\" class=\"node\">\n<title>139854679646464</title>\n<polygon fill=\"none\" stroke=\"black\" points=\"1778.59,-32.5 1778.59,-68.5 1873.59,-68.5 1873.59,-32.5 1778.59,-32.5\"/>\n<text text-anchor=\"middle\" x=\"1826.09\" y=\"-46.8\" font-family=\"Times,serif\" font-size=\"14.00\">tensor(64,)</text>\n</g>\n<!-- 139854679646464&#45;&gt;139854679646800+ -->\n<g id=\"edge27\" class=\"edge\">\n<title>139854679646464&#45;&gt;139854679646800+</title>\n<path fill=\"none\" stroke=\"black\" d=\"M1873.73,-60.39C1882.72,-62.29 1891.98,-64.26 1900.52,-66.07\"/>\n<polygon fill=\"black\" stroke=\"black\" points=\"1900,-69.53 1910.51,-68.18 1901.45,-62.69 1900,-69.53\"/>\n</g>\n<!-- 139854679646464log -->\n<g id=\"node26\" class=\"node\">\n<title>139854679646464log</title>\n<ellipse fill=\"none\" stroke=\"black\" cx=\"1695.09\" cy=\"-46.5\" rx=\"27\" ry=\"18\"/>\n<text text-anchor=\"middle\" x=\"1695.09\" y=\"-42.8\" font-family=\"Times,serif\" font-size=\"14.00\">log</text>\n</g>\n<!-- 139854679646464log&#45;&gt;139854679646464 -->\n<g id=\"edge11\" class=\"edge\">\n<title>139854679646464log&#45;&gt;139854679646464</title>\n<path fill=\"none\" stroke=\"black\" d=\"M1722.19,-47.31C1735.42,-47.72 1752.03,-48.23 1768.03,-48.73\"/>\n<polygon fill=\"black\" stroke=\"black\" points=\"1768.3,-52.24 1778.41,-49.05 1768.52,-45.24 1768.3,-52.24\"/>\n</g>\n<!-- 139854679647808 -->\n<g id=\"node27\" class=\"node\">\n<title>139854679647808</title>\n<polygon fill=\"none\" stroke=\"black\" points=\"1516.59,-28.5 1516.59,-64.5 1611.59,-64.5 1611.59,-28.5 1516.59,-28.5\"/>\n<text text-anchor=\"middle\" x=\"1564.09\" y=\"-42.8\" font-family=\"Times,serif\" font-size=\"14.00\">tensor(64,)</text>\n</g>\n<!-- 139854679647808&#45;&gt;139854679646464log -->\n<g id=\"edge28\" class=\"edge\">\n<title>139854679647808&#45;&gt;139854679646464log</title>\n<path fill=\"none\" stroke=\"black\" d=\"M1611.66,-46.5C1626.73,-46.5 1643.21,-46.5 1657.46,-46.5\"/>\n<polygon fill=\"black\" stroke=\"black\" points=\"1657.85,-50 1667.85,-46.5 1657.85,-43 1657.85,-50\"/>\n</g>\n<!-- 139854679647808sum -->\n<g id=\"node28\" class=\"node\">\n<title>139854679647808sum</title>\n<ellipse fill=\"none\" stroke=\"black\" cx=\"1450.04\" cy=\"-46.5\" rx=\"30.59\" ry=\"18\"/>\n<text text-anchor=\"middle\" x=\"1450.04\" y=\"-42.8\" font-family=\"Times,serif\" font-size=\"14.00\">sum</text>\n</g>\n<!-- 139854679647808sum&#45;&gt;139854679647808 -->\n<g id=\"edge12\" class=\"edge\">\n<title>139854679647808sum&#45;&gt;139854679647808</title>\n<path fill=\"none\" stroke=\"black\" d=\"M1480.77,-46.5C1488.6,-46.5 1497.32,-46.5 1506.06,-46.5\"/>\n<polygon fill=\"black\" stroke=\"black\" points=\"1506.3,-50 1516.3,-46.5 1506.3,-43 1506.3,-50\"/>\n</g>\n<!-- 139854679649920 -->\n<g id=\"node29\" class=\"node\">\n<title>139854679649920</title>\n<polygon fill=\"none\" stroke=\"black\" points=\"1265.49,-28.5 1265.49,-64.5 1383.49,-64.5 1383.49,-28.5 1265.49,-28.5\"/>\n<text text-anchor=\"middle\" x=\"1324.49\" y=\"-42.8\" font-family=\"Times,serif\" font-size=\"14.00\">tensor(64, 10)</text>\n</g>\n<!-- 139854679649920&#45;&gt;139854679647808sum -->\n<g id=\"edge29\" class=\"edge\">\n<title>139854679649920&#45;&gt;139854679647808sum</title>\n<path fill=\"none\" stroke=\"black\" d=\"M1383.65,-46.5C1392.36,-46.5 1401.17,-46.5 1409.38,-46.5\"/>\n<polygon fill=\"black\" stroke=\"black\" points=\"1409.41,-50 1419.41,-46.5 1409.41,-43 1409.41,-50\"/>\n</g>\n<!-- 139854679649920e&#45;&gt;139854679649920 -->\n<g id=\"edge13\" class=\"edge\">\n<title>139854679649920e&#45;&gt;139854679649920</title>\n<path fill=\"none\" stroke=\"black\" d=\"M1228.36,-68.7C1236.31,-66.84 1245.53,-64.69 1255.03,-62.47\"/>\n<polygon fill=\"black\" stroke=\"black\" points=\"1256.06,-65.83 1265.01,-60.15 1254.47,-59.01 1256.06,-65.83\"/>\n</g>\n<!-- 139854679649056 -->\n<g id=\"node31\" class=\"node\">\n<title>139854679649056</title>\n<polygon fill=\"none\" stroke=\"black\" points=\"2232.18,-0.5 2232.18,-36.5 2327.18,-36.5 2327.18,-0.5 2232.18,-0.5\"/>\n<text text-anchor=\"middle\" x=\"2279.68\" y=\"-14.8\" font-family=\"Times,serif\" font-size=\"14.00\">[0.015625]</text>\n</g>\n<!-- 139854679649056&#45;&gt;139854679646368* -->\n<g id=\"edge31\" class=\"edge\">\n<title>139854679649056&#45;&gt;139854679646368*</title>\n<path fill=\"none\" stroke=\"black\" d=\"M2327.3,-29.64C2337.95,-32.18 2349.08,-34.84 2359.12,-37.24\"/>\n<polygon fill=\"black\" stroke=\"black\" points=\"2358.58,-40.71 2369.12,-39.63 2360.2,-33.9 2358.58,-40.71\"/>\n</g>\n</g>\n</svg>\n",
      "text/plain": [
       "<graphviz.graphs.Digraph at 0x7f32750f4ac0>"
      ]
     },
     "execution_count": 6,
     "metadata": {},
     "output_type": "execute_result"
    }
   ],
   "source": [
    "for i in (t := trange(epochs)):\n",
    "    samp = np.random.randint(0, X_train.shape[0], size=(batch_size))\n",
    "\n",
    "    X = Tensor(X_train[samp].reshape((-1, 28*28)))\n",
    "    Y = Tensor(Y_train[samp])\n",
    "\n",
    "    out = model(X)\n",
    "\n",
    "    cat = functional.argmax(out, axis=1)\n",
    "    \n",
    "    accuracy = (cat == Y).mean()\n",
    "\n",
    "    loss = loss_fn.forward(out, Y)\n",
    "\n",
    "    if i == 0:\n",
    "        print(\"Initial Loss:\", loss)\n",
    "    \n",
    "    optim.zero_grad()\n",
    "    \n",
    "    loss.backward()\n",
    "    \n",
    "    optim.step()\n",
    "    \n",
    "    losses.append(loss.data)\n",
    "    \n",
    "    accuracies.append(100*accuracy.data)\n",
    "    \n",
    "    t.set_description(\"loss %.2f accuracy %.2f\" % (loss.data, 100*accuracy.data))\n",
    "\n",
    "loss.graph\n"
   ]
  },
  {
   "cell_type": "code",
   "execution_count": 7,
   "metadata": {},
   "outputs": [
    {
     "data": {
      "image/png": "[encoded data removed]",
      "text/plain": [
       "<Figure size 432x288 with 1 Axes>"
      ]
     },
     "metadata": {
      "needs_background": "light"
     },
     "output_type": "display_data"
    }
   ],
   "source": [
    "plt.plot(losses, label=\"loss\")\n",
    "plt.plot(accuracies, label=\"accuracy\")\n",
    "plt.legend()\n",
    "plt.show()"
   ]
  }
 ],
 "metadata": {
  "kernelspec": {
   "display_name": "pi_env",
   "language": "python",
   "name": "python3"
  },
  "language_info": {
   "codemirror_mode": {
    "name": "ipython",
    "version": 3
   },
   "file_extension": ".py",
   "mimetype": "text/x-python",
   "name": "python",
   "nbconvert_exporter": "python",
   "pygments_lexer": "ipython3",
   "version": "3.8.12"
  },
  "orig_nbformat": 4,
  "vscode": {
   "interpreter": {
    "hash": "7dbd43346cf4060a7c5249e62daf2cb2395365dab3b14076ef7b34680f245741"
   }
  }
 },
 "nbformat": 4,
 "nbformat_minor": 2
}
