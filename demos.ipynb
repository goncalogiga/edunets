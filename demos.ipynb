{
 "cells": [
  {
   "cell_type": "code",
   "execution_count": 2,
   "metadata": {},
   "outputs": [],
   "source": [
    "import torch\n",
    "import torch.nn as nn\n",
    "import numpy as np\n",
    "from tqdm import trange\n",
    "import matplotlib.pyplot as plt\n",
    "\n",
    "from edunets import functions\n",
    "from edunets.nn import Linear\n",
    "from edunets.tensor import Tensor"
   ]
  },
  {
   "cell_type": "code",
   "execution_count": 3,
   "metadata": {},
   "outputs": [
    {
     "data": {
      "text/plain": [
       "(<matplotlib.image.AxesImage at 0x7f5a3643ca60>, 5)"
      ]
     },
     "execution_count": 3,
     "metadata": {},
     "output_type": "execute_result"
    },
    {
     "data": {
      "image/png": "[encoded data removed]",
      "text/plain": [
       "<Figure size 432x288 with 1 Axes>"
      ]
     },
     "metadata": {
      "needs_background": "light"
     },
     "output_type": "display_data"
    }
   ],
   "source": [
    "# load the mnist dataset\n",
    "\n",
    "def fetch(url):\n",
    "    import requests, gzip, os, hashlib, numpy\n",
    "    fp = os.path.join(\"/tmp\", hashlib.md5(url.encode('utf-8')).hexdigest())\n",
    "    if os.path.isfile(fp):\n",
    "        with open(fp, \"rb\") as f:\n",
    "            dat = f.read()\n",
    "    else:\n",
    "        with open(fp, \"wb\") as f:\n",
    "            dat = requests.get(url).content\n",
    "            f.write(dat)\n",
    "    return numpy.frombuffer(gzip.decompress(dat), dtype=np.uint8).copy()\n",
    "\n",
    "X_train = fetch(\"http://yann.lecun.com/exdb/mnist/train-images-idx3-ubyte.gz\")[0x10:].reshape((-1, 28, 28))\n",
    "Y_train = fetch(\"http://yann.lecun.com/exdb/mnist/train-labels-idx1-ubyte.gz\")[8:]\n",
    "X_test = fetch(\"http://yann.lecun.com/exdb/mnist/t10k-images-idx3-ubyte.gz\")[0x10:].reshape((-1, 28, 28))\n",
    "Y_test = fetch(\"http://yann.lecun.com/exdb/mnist/t10k-labels-idx1-ubyte.gz\")[8:]\n",
    "\n",
    "plt.imshow(X_train[0]), Y_train[0]"
   ]
  },
  {
   "cell_type": "code",
   "execution_count": 28,
   "metadata": {},
   "outputs": [],
   "source": [
    "class EduNet1:\n",
    "    def __init__(self):\n",
    "        self.l1 = Tensor.uniform(784, 128, requires_grad=True, label=\"L1\")\n",
    "        self.l2 = Tensor.uniform(128, 10, requires_grad=True, label=\"L2\")\n",
    "\n",
    "    def __call__(self, x):\n",
    "        x = x @ self.l1\n",
    "        x = x.relu()\n",
    "        x = x @ self.l2\n",
    "        return x.softmax(axis=1)\n",
    "\n",
    "# Mean Square Error\n",
    "def MSELOSS(out, Y):\n",
    "    n = Y.shape[0]\n",
    "    return (1/n)*((out - Y)**2).sum()\n",
    "\n",
    "# Stochastic gradient descent\n",
    "class SGD:\n",
    "    def __init__(self, params, lr=10):\n",
    "        self.lr = lr\n",
    "        self.params = params\n",
    "\n",
    "    def step(self):\n",
    "        for t in self.params:\n",
    "            t.assign(t.data - t.grad * self.lr)\n",
    "\n",
    "    def zero_grad(self):\n",
    "        for param in self.params:\n",
    "            param.grad = None"
   ]
  },
  {
   "cell_type": "code",
   "execution_count": 31,
   "metadata": {},
   "outputs": [
    {
     "name": "stdout",
     "output_type": "stream",
     "text": [
      "tensor([[-0.11021154,  0.99688464, -0.969904  , ..., -0.30460057,\n",
      "         0.45379236, -0.6622586 ],\n",
      "       [-0.3699496 ,  0.32321274,  0.15278886, ...,  0.22908485,\n",
      "         0.9597294 , -0.04384497],\n",
      "       [-0.11438948,  0.910471  , -0.1135212 , ..., -0.4560567 ,\n",
      "         0.5449083 , -0.19595774],\n",
      "       ...,\n",
      "       [-0.9121137 , -0.97965175, -0.00682493, ...,  0.29459357,\n",
      "        -0.9029683 , -0.72302353],\n",
      "       [ 0.7011026 , -0.02890131,  0.06016308, ...,  0.05859099,\n",
      "        -0.6254442 , -0.41424748],\n",
      "       [-0.3891716 , -0.6621184 ,  0.9233246 , ..., -0.06143459,\n",
      "         0.8427867 , -0.81931794]], dtype=float32, requires_grad=True)\n"
     ]
    },
    {
     "name": "stderr",
     "output_type": "stream",
     "text": [
      "loss 1.91 accuracy 0.00: 100%|██████████| 100/100 [00:00<00:00, 131.99it/s]\n"
     ]
    },
    {
     "name": "stdout",
     "output_type": "stream",
     "text": [
      "tensor([[-0.11021154,  0.99688464, -0.969904  , ..., -0.30460057,\n",
      "         0.45379236, -0.6622586 ],\n",
      "       [-0.3699496 ,  0.32321274,  0.15278886, ...,  0.22908485,\n",
      "         0.9597294 , -0.04384497],\n",
      "       [-0.11438948,  0.910471  , -0.1135212 , ..., -0.4560567 ,\n",
      "         0.5449083 , -0.19595774],\n",
      "       ...,\n",
      "       [-0.9121137 , -0.97965175, -0.00682493, ...,  0.29459357,\n",
      "        -0.9029683 , -0.72302353],\n",
      "       [ 0.7011026 , -0.02890131,  0.06016308, ...,  0.05859099,\n",
      "        -0.6254442 , -0.41424748],\n",
      "       [-0.3891716 , -0.6621184 ,  0.9233246 , ..., -0.06143459,\n",
      "         0.8427867 , -0.81931794]], dtype=float32, requires_grad=True)\n"
     ]
    },
    {
     "data": {
      "image/svg+xml": "<?xml version=\"1.0\" encoding=\"UTF-8\" standalone=\"no\"?>\n<!DOCTYPE svg PUBLIC \"-//W3C//DTD SVG 1.1//EN\"\n \"http://www.w3.org/Graphics/SVG/1.1/DTD/svg11.dtd\">\n<!-- Generated by graphviz version 2.50.0 (0)\n -->\n<!-- Pages: 1 -->\n<svg width=\"3065pt\" height=\"298pt\"\n viewBox=\"0.00 0.00 3065.38 298.00\" xmlns=\"http://www.w3.org/2000/svg\" xmlns:xlink=\"http://www.w3.org/1999/xlink\">\n<g id=\"graph0\" class=\"graph\" transform=\"scale(1 1) rotate(0) translate(4 294)\">\n<polygon fill=\"white\" stroke=\"transparent\" points=\"-4,4 -4,-294 3061.38,-294 3061.38,4 -4,4\"/>\n<!-- 140025768572816 -->\n<g id=\"node1\" class=\"node\">\n<title>140025768572816</title>\n<polygon fill=\"none\" stroke=\"black\" points=\"2962.38,-27.5 2962.38,-63.5 3057.38,-63.5 3057.38,-27.5 2962.38,-27.5\"/>\n<text text-anchor=\"middle\" x=\"3009.88\" y=\"-41.8\" font-family=\"Times,serif\" font-size=\"14.00\">[1.906044]</text>\n</g>\n<!-- 140025768572816* -->\n<g id=\"node2\" class=\"node\">\n<title>140025768572816*</title>\n<ellipse fill=\"none\" stroke=\"black\" cx=\"2899.38\" cy=\"-45.5\" rx=\"27\" ry=\"18\"/>\n<text text-anchor=\"middle\" x=\"2899.38\" y=\"-41.8\" font-family=\"Times,serif\" font-size=\"14.00\">*</text>\n</g>\n<!-- 140025768572816*&#45;&gt;140025768572816 -->\n<g id=\"edge1\" class=\"edge\">\n<title>140025768572816*&#45;&gt;140025768572816</title>\n<path fill=\"none\" stroke=\"black\" d=\"M2926.65,-45.5C2934.39,-45.5 2943.19,-45.5 2952.08,-45.5\"/>\n<polygon fill=\"black\" stroke=\"black\" points=\"2952.1,-49 2962.1,-45.5 2952.1,-42 2952.1,-49\"/>\n</g>\n<!-- 140025768572768 -->\n<g id=\"node3\" class=\"node\">\n<title>140025768572768</title>\n<polygon fill=\"none\" stroke=\"black\" points=\"2732.38,-55.5 2732.38,-91.5 2836.38,-91.5 2836.38,-55.5 2732.38,-55.5\"/>\n<text text-anchor=\"middle\" x=\"2784.38\" y=\"-69.8\" font-family=\"Times,serif\" font-size=\"14.00\">[121.98682]</text>\n</g>\n<!-- 140025768572768&#45;&gt;140025768572816* -->\n<g id=\"edge15\" class=\"edge\">\n<title>140025768572768&#45;&gt;140025768572816*</title>\n<path fill=\"none\" stroke=\"black\" d=\"M2836.59,-60.81C2845.91,-58.5 2855.42,-56.15 2864.1,-53.99\"/>\n<polygon fill=\"black\" stroke=\"black\" points=\"2864.98,-57.38 2873.85,-51.58 2863.3,-50.59 2864.98,-57.38\"/>\n</g>\n<!-- 140025768572768sum -->\n<g id=\"node4\" class=\"node\">\n<title>140025768572768sum</title>\n<ellipse fill=\"none\" stroke=\"black\" cx=\"2665.84\" cy=\"-73.5\" rx=\"30.59\" ry=\"18\"/>\n<text text-anchor=\"middle\" x=\"2665.84\" y=\"-69.8\" font-family=\"Times,serif\" font-size=\"14.00\">sum</text>\n</g>\n<!-- 140025768572768sum&#45;&gt;140025768572768 -->\n<g id=\"edge2\" class=\"edge\">\n<title>140025768572768sum&#45;&gt;140025768572768</title>\n<path fill=\"none\" stroke=\"black\" d=\"M2696.55,-73.5C2704.3,-73.5 2712.96,-73.5 2721.71,-73.5\"/>\n<polygon fill=\"black\" stroke=\"black\" points=\"2721.99,-77 2731.99,-73.5 2721.99,-70 2721.99,-77\"/>\n</g>\n<!-- 140025768574208 -->\n<g id=\"node5\" class=\"node\">\n<title>140025768574208</title>\n<polygon fill=\"none\" stroke=\"black\" points=\"2481.29,-55.5 2481.29,-91.5 2599.29,-91.5 2599.29,-55.5 2481.29,-55.5\"/>\n<text text-anchor=\"middle\" x=\"2540.29\" y=\"-69.8\" font-family=\"Times,serif\" font-size=\"14.00\">tensor(64, 10)</text>\n</g>\n<!-- 140025768574208&#45;&gt;140025768572768sum -->\n<g id=\"edge16\" class=\"edge\">\n<title>140025768574208&#45;&gt;140025768572768sum</title>\n<path fill=\"none\" stroke=\"black\" d=\"M2599.44,-73.5C2608.16,-73.5 2616.97,-73.5 2625.18,-73.5\"/>\n<polygon fill=\"black\" stroke=\"black\" points=\"2625.2,-77 2635.2,-73.5 2625.2,-70 2625.2,-77\"/>\n</g>\n<!-- 140025768574208** -->\n<g id=\"node6\" class=\"node\">\n<title>140025768574208**</title>\n<ellipse fill=\"none\" stroke=\"black\" cx=\"2418.29\" cy=\"-73.5\" rx=\"27\" ry=\"18\"/>\n<text text-anchor=\"middle\" x=\"2418.29\" y=\"-69.8\" font-family=\"Times,serif\" font-size=\"14.00\">**</text>\n</g>\n<!-- 140025768574208**&#45;&gt;140025768574208 -->\n<g id=\"edge3\" class=\"edge\">\n<title>140025768574208**&#45;&gt;140025768574208</title>\n<path fill=\"none\" stroke=\"black\" d=\"M2445.33,-73.5C2453.12,-73.5 2462.06,-73.5 2471.25,-73.5\"/>\n<polygon fill=\"black\" stroke=\"black\" points=\"2471.28,-77 2481.28,-73.5 2471.28,-70 2471.28,-77\"/>\n</g>\n<!-- 140025768572576 -->\n<g id=\"node7\" class=\"node\">\n<title>140025768572576</title>\n<polygon fill=\"none\" stroke=\"black\" points=\"2237.29,-83.5 2237.29,-119.5 2355.29,-119.5 2355.29,-83.5 2237.29,-83.5\"/>\n<text text-anchor=\"middle\" x=\"2296.29\" y=\"-97.8\" font-family=\"Times,serif\" font-size=\"14.00\">tensor(64, 10)</text>\n</g>\n<!-- 140025768572576&#45;&gt;140025768574208** -->\n<g id=\"edge17\" class=\"edge\">\n<title>140025768572576&#45;&gt;140025768574208**</title>\n<path fill=\"none\" stroke=\"black\" d=\"M2355.53,-87.91C2364.79,-85.75 2374.1,-83.58 2382.58,-81.6\"/>\n<polygon fill=\"black\" stroke=\"black\" points=\"2383.52,-84.97 2392.46,-79.29 2381.93,-78.16 2383.52,-84.97\"/>\n</g>\n<!-- 140025768572576+ -->\n<g id=\"node8\" class=\"node\">\n<title>140025768572576+</title>\n<ellipse fill=\"none\" stroke=\"black\" cx=\"2174.29\" cy=\"-101.5\" rx=\"27\" ry=\"18\"/>\n<text text-anchor=\"middle\" x=\"2174.29\" y=\"-97.8\" font-family=\"Times,serif\" font-size=\"14.00\">+</text>\n</g>\n<!-- 140025768572576+&#45;&gt;140025768572576 -->\n<g id=\"edge4\" class=\"edge\">\n<title>140025768572576+&#45;&gt;140025768572576</title>\n<path fill=\"none\" stroke=\"black\" d=\"M2201.33,-101.5C2209.12,-101.5 2218.06,-101.5 2227.25,-101.5\"/>\n<polygon fill=\"black\" stroke=\"black\" points=\"2227.28,-105 2237.28,-101.5 2227.28,-98 2227.28,-105\"/>\n</g>\n<!-- 140025768572144 -->\n<g id=\"node9\" class=\"node\">\n<title>140025768572144</title>\n<polygon fill=\"none\" stroke=\"black\" points=\"1993.29,-111.5 1993.29,-147.5 2111.29,-147.5 2111.29,-111.5 1993.29,-111.5\"/>\n<text text-anchor=\"middle\" x=\"2052.29\" y=\"-125.8\" font-family=\"Times,serif\" font-size=\"14.00\">tensor(64, 10)</text>\n</g>\n<!-- 140025768572144&#45;&gt;140025768572576+ -->\n<g id=\"edge18\" class=\"edge\">\n<title>140025768572144&#45;&gt;140025768572576+</title>\n<path fill=\"none\" stroke=\"black\" d=\"M2111.53,-115.91C2120.79,-113.75 2130.1,-111.58 2138.58,-109.6\"/>\n<polygon fill=\"black\" stroke=\"black\" points=\"2139.52,-112.97 2148.46,-107.29 2137.93,-106.16 2139.52,-112.97\"/>\n</g>\n<!-- 140025768572144* -->\n<g id=\"node10\" class=\"node\">\n<title>140025768572144*</title>\n<ellipse fill=\"none\" stroke=\"black\" cx=\"1930.29\" cy=\"-129.5\" rx=\"27\" ry=\"18\"/>\n<text text-anchor=\"middle\" x=\"1930.29\" y=\"-125.8\" font-family=\"Times,serif\" font-size=\"14.00\">*</text>\n</g>\n<!-- 140025768572144*&#45;&gt;140025768572144 -->\n<g id=\"edge5\" class=\"edge\">\n<title>140025768572144*&#45;&gt;140025768572144</title>\n<path fill=\"none\" stroke=\"black\" d=\"M1957.33,-129.5C1965.12,-129.5 1974.06,-129.5 1983.25,-129.5\"/>\n<polygon fill=\"black\" stroke=\"black\" points=\"1983.28,-133 1993.28,-129.5 1983.28,-126 1983.28,-133\"/>\n</g>\n<!-- 140025768573200 -->\n<g id=\"node11\" class=\"node\">\n<title>140025768573200</title>\n<polygon fill=\"none\" stroke=\"black\" points=\"1251.49,-132.5 1251.49,-168.5 1369.49,-168.5 1369.49,-132.5 1251.49,-132.5\"/>\n<text text-anchor=\"middle\" x=\"1310.49\" y=\"-146.8\" font-family=\"Times,serif\" font-size=\"14.00\">tensor(64, 10)</text>\n</g>\n<!-- 140025768573200&#45;&gt;140025768572144* -->\n<g id=\"edge19\" class=\"edge\">\n<title>140025768573200&#45;&gt;140025768572144*</title>\n<path fill=\"none\" stroke=\"black\" d=\"M1369.64,-142.29C1421.5,-135.69 1499.55,-127.5 1567.79,-127.5 1567.79,-127.5 1567.79,-127.5 1687.29,-127.5 1760.33,-127.5 1845.77,-128.42 1893.09,-129.01\"/>\n<polygon fill=\"black\" stroke=\"black\" points=\"1893.1,-132.51 1903.15,-129.14 1893.19,-125.52 1893.1,-132.51\"/>\n</g>\n<!-- 140025768573776sum1 -->\n<g id=\"node31\" class=\"node\">\n<title>140025768573776sum1</title>\n<ellipse fill=\"none\" stroke=\"black\" cx=\"1441.89\" cy=\"-201.5\" rx=\"36.29\" ry=\"18\"/>\n<text text-anchor=\"middle\" x=\"1441.89\" y=\"-197.8\" font-family=\"Times,serif\" font-size=\"14.00\">sum1</text>\n</g>\n<!-- 140025768573200&#45;&gt;140025768573776sum1 -->\n<g id=\"edge32\" class=\"edge\">\n<title>140025768573200&#45;&gt;140025768573776sum1</title>\n<path fill=\"none\" stroke=\"black\" d=\"M1357.48,-168.62C1372.47,-174.53 1388.93,-181.02 1403.24,-186.66\"/>\n<polygon fill=\"black\" stroke=\"black\" points=\"1402.17,-190 1412.75,-190.41 1404.73,-183.49 1402.17,-190\"/>\n</g>\n<!-- 140025768573200e -->\n<g id=\"node12\" class=\"node\">\n<title>140025768573200e</title>\n<ellipse fill=\"none\" stroke=\"black\" cx=\"1188.49\" cy=\"-150.5\" rx=\"27\" ry=\"18\"/>\n<text text-anchor=\"middle\" x=\"1188.49\" y=\"-146.8\" font-family=\"Times,serif\" font-size=\"14.00\">e</text>\n</g>\n<!-- 140025768573200e&#45;&gt;140025768573200 -->\n<g id=\"edge6\" class=\"edge\">\n<title>140025768573200e&#45;&gt;140025768573200</title>\n<path fill=\"none\" stroke=\"black\" d=\"M1215.53,-150.5C1223.33,-150.5 1232.27,-150.5 1241.46,-150.5\"/>\n<polygon fill=\"black\" stroke=\"black\" points=\"1241.49,-154 1251.49,-150.5 1241.49,-147 1241.49,-154\"/>\n</g>\n<!-- 140025768572336 -->\n<g id=\"node13\" class=\"node\">\n<title>140025768572336</title>\n<polygon fill=\"none\" stroke=\"black\" points=\"1007.49,-132.5 1007.49,-168.5 1125.49,-168.5 1125.49,-132.5 1007.49,-132.5\"/>\n<text text-anchor=\"middle\" x=\"1066.49\" y=\"-146.8\" font-family=\"Times,serif\" font-size=\"14.00\">tensor(64, 10)</text>\n</g>\n<!-- 140025768572336&#45;&gt;140025768573200e -->\n<g id=\"edge20\" class=\"edge\">\n<title>140025768572336&#45;&gt;140025768573200e</title>\n<path fill=\"none\" stroke=\"black\" d=\"M1125.74,-150.5C1134.46,-150.5 1143.23,-150.5 1151.31,-150.5\"/>\n<polygon fill=\"black\" stroke=\"black\" points=\"1151.47,-154 1161.47,-150.5 1151.47,-147 1151.47,-154\"/>\n</g>\n<!-- 140025768572336+ -->\n<g id=\"node14\" class=\"node\">\n<title>140025768572336+</title>\n<ellipse fill=\"none\" stroke=\"black\" cx=\"944.49\" cy=\"-150.5\" rx=\"27\" ry=\"18\"/>\n<text text-anchor=\"middle\" x=\"944.49\" y=\"-146.8\" font-family=\"Times,serif\" font-size=\"14.00\">+</text>\n</g>\n<!-- 140025768572336+&#45;&gt;140025768572336 -->\n<g id=\"edge7\" class=\"edge\">\n<title>140025768572336+&#45;&gt;140025768572336</title>\n<path fill=\"none\" stroke=\"black\" d=\"M971.53,-150.5C979.33,-150.5 988.27,-150.5 997.46,-150.5\"/>\n<polygon fill=\"black\" stroke=\"black\" points=\"997.49,-154 1007.49,-150.5 997.49,-147 997.49,-154\"/>\n</g>\n<!-- 140025768553680 -->\n<g id=\"node15\" class=\"node\">\n<title>140025768553680</title>\n<polygon fill=\"none\" stroke=\"black\" points=\"763.49,-162.5 763.49,-198.5 881.49,-198.5 881.49,-162.5 763.49,-162.5\"/>\n<text text-anchor=\"middle\" x=\"822.49\" y=\"-176.8\" font-family=\"Times,serif\" font-size=\"14.00\">tensor(64, 10)</text>\n</g>\n<!-- 140025768553680&#45;&gt;140025768572336+ -->\n<g id=\"edge21\" class=\"edge\">\n<title>140025768553680&#45;&gt;140025768572336+</title>\n<path fill=\"none\" stroke=\"black\" d=\"M881.74,-165.94C891.08,-163.6 900.47,-161.26 909.02,-159.12\"/>\n<polygon fill=\"black\" stroke=\"black\" points=\"910.11,-162.45 918.96,-156.63 908.41,-155.66 910.11,-162.45\"/>\n</g>\n<!-- 140025768553680@ -->\n<g id=\"node16\" class=\"node\">\n<title>140025768553680@</title>\n<ellipse fill=\"none\" stroke=\"black\" cx=\"700.49\" cy=\"-181.5\" rx=\"27\" ry=\"18\"/>\n<text text-anchor=\"middle\" x=\"700.49\" y=\"-177.8\" font-family=\"Times,serif\" font-size=\"14.00\">@</text>\n</g>\n<!-- 140025768553680@&#45;&gt;140025768553680 -->\n<g id=\"edge8\" class=\"edge\">\n<title>140025768553680@&#45;&gt;140025768553680</title>\n<path fill=\"none\" stroke=\"black\" d=\"M727.53,-181.28C735.33,-181.22 744.27,-181.14 753.46,-181.07\"/>\n<polygon fill=\"black\" stroke=\"black\" points=\"753.52,-184.57 763.49,-180.98 753.46,-177.57 753.52,-184.57\"/>\n</g>\n<!-- 140025768552672 -->\n<g id=\"node17\" class=\"node\">\n<title>140025768552672</title>\n<polygon fill=\"none\" stroke=\"black\" points=\"510.49,-223.5 510.49,-259.5 637.49,-259.5 637.49,-223.5 510.49,-223.5\"/>\n<text text-anchor=\"middle\" x=\"573.99\" y=\"-237.8\" font-family=\"Times,serif\" font-size=\"14.00\">tensor(64, 128)</text>\n</g>\n<!-- 140025768552672&#45;&gt;140025768553680@ -->\n<g id=\"edge22\" class=\"edge\">\n<title>140025768552672&#45;&gt;140025768553680@</title>\n<path fill=\"none\" stroke=\"black\" d=\"M616.16,-223.45C623.3,-220.2 630.64,-216.8 637.49,-213.5 648.19,-208.35 659.78,-202.45 670.02,-197.14\"/>\n<polygon fill=\"black\" stroke=\"black\" points=\"671.73,-200.19 678.97,-192.45 668.49,-193.99 671.73,-200.19\"/>\n</g>\n<!-- 140025768552672relu -->\n<g id=\"node18\" class=\"node\">\n<title>140025768552672relu</title>\n<ellipse fill=\"none\" stroke=\"black\" cx=\"445.25\" cy=\"-241.5\" rx=\"29.5\" ry=\"18\"/>\n<text text-anchor=\"middle\" x=\"445.25\" y=\"-237.8\" font-family=\"Times,serif\" font-size=\"14.00\">relu</text>\n</g>\n<!-- 140025768552672relu&#45;&gt;140025768552672 -->\n<g id=\"edge9\" class=\"edge\">\n<title>140025768552672relu&#45;&gt;140025768552672</title>\n<path fill=\"none\" stroke=\"black\" d=\"M474.69,-241.5C482.43,-241.5 491.19,-241.5 500.2,-241.5\"/>\n<polygon fill=\"black\" stroke=\"black\" points=\"500.45,-245 510.45,-241.5 500.45,-238 500.45,-245\"/>\n</g>\n<!-- 140025768550752 -->\n<g id=\"node19\" class=\"node\">\n<title>140025768550752</title>\n<polygon fill=\"none\" stroke=\"black\" points=\"253,-223.5 253,-259.5 380,-259.5 380,-223.5 253,-223.5\"/>\n<text text-anchor=\"middle\" x=\"316.5\" y=\"-237.8\" font-family=\"Times,serif\" font-size=\"14.00\">tensor(64, 128)</text>\n</g>\n<!-- 140025768550752&#45;&gt;140025768552672relu -->\n<g id=\"edge23\" class=\"edge\">\n<title>140025768550752&#45;&gt;140025768552672relu</title>\n<path fill=\"none\" stroke=\"black\" d=\"M380.13,-241.5C388.8,-241.5 397.5,-241.5 405.56,-241.5\"/>\n<polygon fill=\"black\" stroke=\"black\" points=\"405.73,-245 415.73,-241.5 405.73,-238 405.73,-245\"/>\n</g>\n<!-- 140025768550752@ -->\n<g id=\"node20\" class=\"node\">\n<title>140025768550752@</title>\n<ellipse fill=\"none\" stroke=\"black\" cx=\"190\" cy=\"-241.5\" rx=\"27\" ry=\"18\"/>\n<text text-anchor=\"middle\" x=\"190\" y=\"-237.8\" font-family=\"Times,serif\" font-size=\"14.00\">@</text>\n</g>\n<!-- 140025768550752@&#45;&gt;140025768550752 -->\n<g id=\"edge10\" class=\"edge\">\n<title>140025768550752@&#45;&gt;140025768550752</title>\n<path fill=\"none\" stroke=\"black\" d=\"M217.1,-241.5C224.71,-241.5 233.44,-241.5 242.47,-241.5\"/>\n<polygon fill=\"black\" stroke=\"black\" points=\"242.76,-245 252.76,-241.5 242.76,-238 242.76,-245\"/>\n</g>\n<!-- 140025768551184 -->\n<g id=\"node21\" class=\"node\">\n<title>140025768551184</title>\n<polygon fill=\"none\" stroke=\"black\" points=\"0,-253.5 0,-289.5 127,-289.5 127,-253.5 0,-253.5\"/>\n<text text-anchor=\"middle\" x=\"63.5\" y=\"-267.8\" font-family=\"Times,serif\" font-size=\"14.00\">tensor(64, 784)</text>\n</g>\n<!-- 140025768551184&#45;&gt;140025768550752@ -->\n<g id=\"edge24\" class=\"edge\">\n<title>140025768551184&#45;&gt;140025768550752@</title>\n<path fill=\"none\" stroke=\"black\" d=\"M127.11,-256.41C136.5,-254.15 145.87,-251.89 154.38,-249.84\"/>\n<polygon fill=\"black\" stroke=\"black\" points=\"155.37,-253.2 164.28,-247.46 153.73,-246.4 155.37,-253.2\"/>\n</g>\n<!-- 140025770528480 -->\n<g id=\"node22\" class=\"node\">\n<title>140025770528480</title>\n<polygon fill=\"none\" stroke=\"black\" points=\"2,-188.5 2,-234.5 125,-234.5 125,-188.5 2,-188.5\"/>\n<text text-anchor=\"middle\" x=\"63.5\" y=\"-219.3\" font-family=\"Times,serif\" font-size=\"14.00\">L1</text>\n<polyline fill=\"none\" stroke=\"black\" points=\"2,-211.5 125,-211.5 \"/>\n<text text-anchor=\"middle\" x=\"63.5\" y=\"-196.3\" font-family=\"Times,serif\" font-size=\"14.00\">grad(784, 128)</text>\n</g>\n<!-- 140025770528480&#45;&gt;140025768550752@ -->\n<g id=\"edge25\" class=\"edge\">\n<title>140025770528480&#45;&gt;140025768550752@</title>\n<path fill=\"none\" stroke=\"black\" d=\"M125.29,-226.15C135.34,-228.57 145.43,-231 154.53,-233.19\"/>\n<polygon fill=\"black\" stroke=\"black\" points=\"153.79,-236.61 164.33,-235.56 155.43,-229.81 153.79,-236.61\"/>\n</g>\n<!-- 140025769069680 -->\n<g id=\"node23\" class=\"node\">\n<title>140025769069680</title>\n<polygon fill=\"none\" stroke=\"black\" points=\"516.99,-158.5 516.99,-204.5 630.99,-204.5 630.99,-158.5 516.99,-158.5\"/>\n<text text-anchor=\"middle\" x=\"573.99\" y=\"-189.3\" font-family=\"Times,serif\" font-size=\"14.00\">L2</text>\n<polyline fill=\"none\" stroke=\"black\" points=\"516.99,-181.5 630.99,-181.5 \"/>\n<text text-anchor=\"middle\" x=\"573.99\" y=\"-166.3\" font-family=\"Times,serif\" font-size=\"14.00\">grad(128, 10)</text>\n</g>\n<!-- 140025769069680&#45;&gt;140025768553680@ -->\n<g id=\"edge26\" class=\"edge\">\n<title>140025769069680&#45;&gt;140025768553680@</title>\n<path fill=\"none\" stroke=\"black\" d=\"M631.05,-181.5C641.97,-181.5 653.15,-181.5 663.23,-181.5\"/>\n<polygon fill=\"black\" stroke=\"black\" points=\"663.27,-185 673.27,-181.5 663.27,-178 663.27,-185\"/>\n</g>\n<!-- 140025768552960 -->\n<g id=\"node24\" class=\"node\">\n<title>140025768552960</title>\n<polygon fill=\"none\" stroke=\"black\" points=\"763.49,-105.5 763.49,-141.5 881.49,-141.5 881.49,-105.5 763.49,-105.5\"/>\n<text text-anchor=\"middle\" x=\"822.49\" y=\"-119.8\" font-family=\"Times,serif\" font-size=\"14.00\">tensor(64, 10)</text>\n</g>\n<!-- 140025768552960&#45;&gt;140025768572336+ -->\n<g id=\"edge27\" class=\"edge\">\n<title>140025768552960&#45;&gt;140025768572336+</title>\n<path fill=\"none\" stroke=\"black\" d=\"M881.74,-136.6C890.99,-138.69 900.3,-140.78 908.79,-142.69\"/>\n<polygon fill=\"black\" stroke=\"black\" points=\"908.14,-146.13 918.67,-144.91 909.68,-139.3 908.14,-146.13\"/>\n</g>\n<!-- 140025768552960* -->\n<g id=\"node25\" class=\"node\">\n<title>140025768552960*</title>\n<ellipse fill=\"none\" stroke=\"black\" cx=\"700.49\" cy=\"-121.5\" rx=\"27\" ry=\"18\"/>\n<text text-anchor=\"middle\" x=\"700.49\" y=\"-117.8\" font-family=\"Times,serif\" font-size=\"14.00\">*</text>\n</g>\n<!-- 140025768552960*&#45;&gt;140025768552960 -->\n<g id=\"edge11\" class=\"edge\">\n<title>140025768552960*&#45;&gt;140025768552960</title>\n<path fill=\"none\" stroke=\"black\" d=\"M727.53,-121.93C735.33,-122.06 744.27,-122.21 753.46,-122.37\"/>\n<polygon fill=\"black\" stroke=\"black\" points=\"753.43,-125.87 763.49,-122.53 753.55,-118.87 753.43,-125.87\"/>\n</g>\n<!-- 140025768551232 -->\n<g id=\"node26\" class=\"node\">\n<title>140025768551232</title>\n<polygon fill=\"none\" stroke=\"black\" points=\"519.49,-103.5 519.49,-139.5 628.49,-139.5 628.49,-103.5 519.49,-103.5\"/>\n<text text-anchor=\"middle\" x=\"573.99\" y=\"-117.8\" font-family=\"Times,serif\" font-size=\"14.00\">tensor(64, 1)</text>\n</g>\n<!-- 140025768551232&#45;&gt;140025768552960* -->\n<g id=\"edge28\" class=\"edge\">\n<title>140025768551232&#45;&gt;140025768552960*</title>\n<path fill=\"none\" stroke=\"black\" d=\"M628.52,-121.5C640.18,-121.5 652.26,-121.5 663.08,-121.5\"/>\n<polygon fill=\"black\" stroke=\"black\" points=\"663.41,-125 673.41,-121.5 663.41,-118 663.41,-125\"/>\n</g>\n<!-- 140025768551808 -->\n<g id=\"node27\" class=\"node\">\n<title>140025768551808</title>\n<polygon fill=\"none\" stroke=\"black\" points=\"546.99,-48.5 546.99,-84.5 600.99,-84.5 600.99,-48.5 546.99,-48.5\"/>\n<text text-anchor=\"middle\" x=\"573.99\" y=\"-62.8\" font-family=\"Times,serif\" font-size=\"14.00\">[&#45;1.]</text>\n</g>\n<!-- 140025768551808&#45;&gt;140025768552960* -->\n<g id=\"edge29\" class=\"edge\">\n<title>140025768551808&#45;&gt;140025768552960*</title>\n<path fill=\"none\" stroke=\"black\" d=\"M601.19,-77.7C612.39,-82.52 625.6,-88.25 637.49,-93.5 647.54,-97.94 658.47,-102.85 668.32,-107.3\"/>\n<polygon fill=\"black\" stroke=\"black\" points=\"667.17,-110.62 677.73,-111.56 670.06,-104.25 667.17,-110.62\"/>\n</g>\n<!-- 140025768572048 -->\n<g id=\"node28\" class=\"node\">\n<title>140025768572048</title>\n<polygon fill=\"none\" stroke=\"black\" points=\"1749.29,-156.5 1749.29,-192.5 1867.29,-192.5 1867.29,-156.5 1749.29,-156.5\"/>\n<text text-anchor=\"middle\" x=\"1808.29\" y=\"-170.8\" font-family=\"Times,serif\" font-size=\"14.00\">tensor(64, 10)</text>\n</g>\n<!-- 140025768572048&#45;&gt;140025768572144* -->\n<g id=\"edge30\" class=\"edge\">\n<title>140025768572048&#45;&gt;140025768572144*</title>\n<path fill=\"none\" stroke=\"black\" d=\"M1857.41,-156.46C1870.65,-151.49 1884.7,-146.22 1896.83,-141.67\"/>\n<polygon fill=\"black\" stroke=\"black\" points=\"1898.38,-144.83 1906.51,-138.04 1895.92,-138.28 1898.38,-144.83\"/>\n</g>\n<!-- 140025768572048** -->\n<g id=\"node29\" class=\"node\">\n<title>140025768572048**</title>\n<ellipse fill=\"none\" stroke=\"black\" cx=\"1686.29\" cy=\"-174.5\" rx=\"27\" ry=\"18\"/>\n<text text-anchor=\"middle\" x=\"1686.29\" y=\"-170.8\" font-family=\"Times,serif\" font-size=\"14.00\">**</text>\n</g>\n<!-- 140025768572048**&#45;&gt;140025768572048 -->\n<g id=\"edge12\" class=\"edge\">\n<title>140025768572048**&#45;&gt;140025768572048</title>\n<path fill=\"none\" stroke=\"black\" d=\"M1713.33,-174.5C1721.12,-174.5 1730.06,-174.5 1739.25,-174.5\"/>\n<polygon fill=\"black\" stroke=\"black\" points=\"1739.28,-178 1749.28,-174.5 1739.28,-171 1739.28,-178\"/>\n</g>\n<!-- 140025768573776 -->\n<g id=\"node30\" class=\"node\">\n<title>140025768573776</title>\n<polygon fill=\"none\" stroke=\"black\" points=\"1514.29,-211.5 1514.29,-247.5 1623.29,-247.5 1623.29,-211.5 1514.29,-211.5\"/>\n<text text-anchor=\"middle\" x=\"1568.79\" y=\"-225.8\" font-family=\"Times,serif\" font-size=\"14.00\">tensor(64, 1)</text>\n</g>\n<!-- 140025768573776&#45;&gt;140025768572048** -->\n<g id=\"edge31\" class=\"edge\">\n<title>140025768573776&#45;&gt;140025768572048**</title>\n<path fill=\"none\" stroke=\"black\" d=\"M1607.61,-211.49C1622.93,-204.19 1640.4,-195.88 1654.88,-188.98\"/>\n<polygon fill=\"black\" stroke=\"black\" points=\"1656.39,-192.14 1663.91,-184.68 1653.38,-185.82 1656.39,-192.14\"/>\n</g>\n<!-- 140025768573776sum1&#45;&gt;140025768573776 -->\n<g id=\"edge13\" class=\"edge\">\n<title>140025768573776sum1&#45;&gt;140025768573776</title>\n<path fill=\"none\" stroke=\"black\" d=\"M1475.38,-208.78C1484.27,-210.78 1494.22,-213.01 1504.21,-215.25\"/>\n<polygon fill=\"black\" stroke=\"black\" points=\"1503.65,-218.71 1514.18,-217.48 1505.19,-211.88 1503.65,-218.71\"/>\n</g>\n<!-- 140025768571568 -->\n<g id=\"node32\" class=\"node\">\n<title>140025768571568</title>\n<polygon fill=\"none\" stroke=\"black\" points=\"1541.79,-156.5 1541.79,-192.5 1595.79,-192.5 1595.79,-156.5 1541.79,-156.5\"/>\n<text text-anchor=\"middle\" x=\"1568.79\" y=\"-170.8\" font-family=\"Times,serif\" font-size=\"14.00\">[&#45;1.]</text>\n</g>\n<!-- 140025768571568&#45;&gt;140025768572048** -->\n<g id=\"edge33\" class=\"edge\">\n<title>140025768571568&#45;&gt;140025768572048**</title>\n<path fill=\"none\" stroke=\"black\" d=\"M1596,-174.5C1611.65,-174.5 1631.76,-174.5 1648.94,-174.5\"/>\n<polygon fill=\"black\" stroke=\"black\" points=\"1649.18,-178 1659.18,-174.5 1649.18,-171 1649.18,-178\"/>\n</g>\n<!-- 140025768573008 -->\n<g id=\"node33\" class=\"node\">\n<title>140025768573008</title>\n<polygon fill=\"none\" stroke=\"black\" points=\"1993.29,-56.5 1993.29,-92.5 2111.29,-92.5 2111.29,-56.5 1993.29,-56.5\"/>\n<text text-anchor=\"middle\" x=\"2052.29\" y=\"-70.8\" font-family=\"Times,serif\" font-size=\"14.00\">tensor(64, 10)</text>\n</g>\n<!-- 140025768573008&#45;&gt;140025768572576+ -->\n<g id=\"edge34\" class=\"edge\">\n<title>140025768573008&#45;&gt;140025768572576+</title>\n<path fill=\"none\" stroke=\"black\" d=\"M2111.53,-87.6C2120.79,-89.69 2130.1,-91.78 2138.58,-93.69\"/>\n<polygon fill=\"black\" stroke=\"black\" points=\"2137.94,-97.13 2148.46,-95.91 2139.47,-90.3 2137.94,-97.13\"/>\n</g>\n<!-- 140025768573008* -->\n<g id=\"node34\" class=\"node\">\n<title>140025768573008*</title>\n<ellipse fill=\"none\" stroke=\"black\" cx=\"1930.29\" cy=\"-74.5\" rx=\"27\" ry=\"18\"/>\n<text text-anchor=\"middle\" x=\"1930.29\" y=\"-70.8\" font-family=\"Times,serif\" font-size=\"14.00\">*</text>\n</g>\n<!-- 140025768573008*&#45;&gt;140025768573008 -->\n<g id=\"edge14\" class=\"edge\">\n<title>140025768573008*&#45;&gt;140025768573008</title>\n<path fill=\"none\" stroke=\"black\" d=\"M1957.33,-74.5C1965.12,-74.5 1974.06,-74.5 1983.25,-74.5\"/>\n<polygon fill=\"black\" stroke=\"black\" points=\"1983.28,-78 1993.28,-74.5 1983.28,-71 1983.28,-78\"/>\n</g>\n<!-- 140025768551280 -->\n<g id=\"node35\" class=\"node\">\n<title>140025768551280</title>\n<polygon fill=\"none\" stroke=\"black\" points=\"1749.29,-58.5 1749.29,-94.5 1867.29,-94.5 1867.29,-58.5 1749.29,-58.5\"/>\n<text text-anchor=\"middle\" x=\"1808.29\" y=\"-72.8\" font-family=\"Times,serif\" font-size=\"14.00\">tensor(64, 10)</text>\n</g>\n<!-- 140025768551280&#45;&gt;140025768573008* -->\n<g id=\"edge35\" class=\"edge\">\n<title>140025768551280&#45;&gt;140025768573008*</title>\n<path fill=\"none\" stroke=\"black\" d=\"M1867.53,-75.53C1876.25,-75.38 1885.02,-75.24 1893.1,-75.1\"/>\n<polygon fill=\"black\" stroke=\"black\" points=\"1893.32,-78.6 1903.27,-74.93 1893.21,-71.6 1893.32,-78.6\"/>\n</g>\n<!-- 140025768571520 -->\n<g id=\"node36\" class=\"node\">\n<title>140025768571520</title>\n<polygon fill=\"none\" stroke=\"black\" points=\"1781.29,-3.5 1781.29,-39.5 1835.29,-39.5 1835.29,-3.5 1781.29,-3.5\"/>\n<text text-anchor=\"middle\" x=\"1808.29\" y=\"-17.8\" font-family=\"Times,serif\" font-size=\"14.00\">[&#45;1.]</text>\n</g>\n<!-- 140025768571520&#45;&gt;140025768573008* -->\n<g id=\"edge36\" class=\"edge\">\n<title>140025768571520&#45;&gt;140025768573008*</title>\n<path fill=\"none\" stroke=\"black\" d=\"M1835.33,-33C1853.72,-41.13 1878.48,-52.06 1897.96,-60.66\"/>\n<polygon fill=\"black\" stroke=\"black\" points=\"1896.76,-63.96 1907.32,-64.8 1899.59,-57.56 1896.76,-63.96\"/>\n</g>\n<!-- 140025768574304 -->\n<g id=\"node37\" class=\"node\">\n<title>140025768574304</title>\n<polygon fill=\"none\" stroke=\"black\" points=\"2269.29,-28.5 2269.29,-64.5 2323.29,-64.5 2323.29,-28.5 2269.29,-28.5\"/>\n<text text-anchor=\"middle\" x=\"2296.29\" y=\"-42.8\" font-family=\"Times,serif\" font-size=\"14.00\">[2.]</text>\n</g>\n<!-- 140025768574304&#45;&gt;140025768574208** -->\n<g id=\"edge37\" class=\"edge\">\n<title>140025768574304&#45;&gt;140025768574208**</title>\n<path fill=\"none\" stroke=\"black\" d=\"M2323.33,-52.36C2340.66,-56.26 2363.63,-61.43 2382.52,-65.68\"/>\n<polygon fill=\"black\" stroke=\"black\" points=\"2382.01,-69.15 2392.53,-67.93 2383.54,-62.32 2382.01,-69.15\"/>\n</g>\n<!-- 140025768571808 -->\n<g id=\"node38\" class=\"node\">\n<title>140025768571808</title>\n<polygon fill=\"none\" stroke=\"black\" points=\"2736.88,-0.5 2736.88,-36.5 2831.88,-36.5 2831.88,-0.5 2736.88,-0.5\"/>\n<text text-anchor=\"middle\" x=\"2784.38\" y=\"-14.8\" font-family=\"Times,serif\" font-size=\"14.00\">[0.015625]</text>\n</g>\n<!-- 140025768571808&#45;&gt;140025768572816* -->\n<g id=\"edge38\" class=\"edge\">\n<title>140025768571808&#45;&gt;140025768572816*</title>\n<path fill=\"none\" stroke=\"black\" d=\"M2832,-29.64C2842.65,-32.18 2853.78,-34.84 2863.82,-37.24\"/>\n<polygon fill=\"black\" stroke=\"black\" points=\"2863.28,-40.71 2873.82,-39.63 2864.9,-33.9 2863.28,-40.71\"/>\n</g>\n</g>\n</svg>\n",
      "text/plain": [
       "<graphviz.graphs.Digraph at 0x7f5a4a4fc430>"
      ]
     },
     "execution_count": 31,
     "metadata": {},
     "output_type": "execute_result"
    }
   ],
   "source": [
    "model = EduNet1()\n",
    "\n",
    "optim = SGD([model.l1, model.l2], lr=0.001)\n",
    "batch_size = 64\n",
    "epochs = 100\n",
    "losses, accuracies = [], []\n",
    "\n",
    "print(model.l1)\n",
    "\n",
    "for i in (t := trange(epochs)):\n",
    "    samp = np.random.randint(0, X_train.shape[0], size=(batch_size))\n",
    "\n",
    "    X = Tensor(X_train[samp].reshape((-1, 28*28)))\n",
    "    Y = functions.one_hot(Tensor(Y_train[samp]))\n",
    "\n",
    "    out = model(X)\n",
    "    \n",
    "    cat = functions.argmax(out, axis=1)\n",
    "    \n",
    "    accuracy = (cat == Y).mean()\n",
    "\n",
    "    loss = MSELOSS(out, Y)\n",
    "    \n",
    "    optim.zero_grad()\n",
    "    \n",
    "    loss.backward()\n",
    "    \n",
    "    optim.step()\n",
    "    \n",
    "    losses.append(loss.data)\n",
    "    \n",
    "    accuracies.append(accuracy.data)\n",
    "    \n",
    "    t.set_description(\"loss %.2f accuracy %.2f\" % (loss.data, accuracy.data))\n",
    "\n",
    "print(model.l1)\n",
    "loss.graph\n"
   ]
  },
  {
   "cell_type": "code",
   "execution_count": 32,
   "metadata": {},
   "outputs": [
    {
     "data": {
      "text/plain": [
       "<matplotlib.image.AxesImage at 0x7f5a4a366580>"
      ]
     },
     "execution_count": 32,
     "metadata": {},
     "output_type": "execute_result"
    },
    {
     "data": {
      "image/png": "[encoded data removed]",
      "text/plain": [
       "<Figure size 432x288 with 1 Axes>"
      ]
     },
     "metadata": {
      "needs_background": "light"
     },
     "output_type": "display_data"
    }
   ],
   "source": [
    "plt.imshow(losses)"
   ]
  }
 ],
 "metadata": {
  "kernelspec": {
   "display_name": "pi_env",
   "language": "python",
   "name": "python3"
  },
  "language_info": {
   "codemirror_mode": {
    "name": "ipython",
    "version": 3
   },
   "file_extension": ".py",
   "mimetype": "text/x-python",
   "name": "python",
   "nbconvert_exporter": "python",
   "pygments_lexer": "ipython3",
   "version": "3.8.12"
  },
  "orig_nbformat": 4,
  "vscode": {
   "interpreter": {
    "hash": "7dbd43346cf4060a7c5249e62daf2cb2395365dab3b14076ef7b34680f245741"
   }
  }
 },
 "nbformat": 4,
 "nbformat_minor": 2
}
