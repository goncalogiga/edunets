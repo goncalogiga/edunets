{
 "cells": [
  {
   "cell_type": "code",
   "execution_count": 1,
   "metadata": {},
   "outputs": [],
   "source": [
    "import torch\n",
    "import numpy as np\n",
    "import torch.nn as nn\n",
    "from tqdm import trange\n",
    "import torch.nn.functional as F\n",
    "import matplotlib.pyplot as plt\n",
    "\n",
    "from edunets import functions, losses\n",
    "from edunets.tensor import Tensor"
   ]
  },
  {
   "cell_type": "code",
   "execution_count": 2,
   "metadata": {},
   "outputs": [
    {
     "data": {
      "text/plain": [
       "(<matplotlib.image.AxesImage at 0x7ff4adc673d0>, 5)"
      ]
     },
     "execution_count": 2,
     "metadata": {},
     "output_type": "execute_result"
    },
    {
     "data": {
      "image/png": "[encoded data removed]",
      "text/plain": [
       "<Figure size 432x288 with 1 Axes>"
      ]
     },
     "metadata": {
      "needs_background": "light"
     },
     "output_type": "display_data"
    }
   ],
   "source": [
    "# load the mnist dataset\n",
    "\n",
    "def fetch(url):\n",
    "    import requests, gzip, os, hashlib, numpy\n",
    "    fp = os.path.join(\"/tmp\", hashlib.md5(url.encode('utf-8')).hexdigest())\n",
    "    if os.path.isfile(fp):\n",
    "        with open(fp, \"rb\") as f:\n",
    "            dat = f.read()\n",
    "    else:\n",
    "        with open(fp, \"wb\") as f:\n",
    "            dat = requests.get(url).content\n",
    "            f.write(dat)\n",
    "    return numpy.frombuffer(gzip.decompress(dat), dtype=np.uint8).copy()\n",
    "\n",
    "X_train = fetch(\"http://yann.lecun.com/exdb/mnist/train-images-idx3-ubyte.gz\")[0x10:].reshape((-1, 28, 28))\n",
    "Y_train = fetch(\"http://yann.lecun.com/exdb/mnist/train-labels-idx1-ubyte.gz\")[8:]\n",
    "X_test = fetch(\"http://yann.lecun.com/exdb/mnist/t10k-images-idx3-ubyte.gz\")[0x10:].reshape((-1, 28, 28))\n",
    "Y_test = fetch(\"http://yann.lecun.com/exdb/mnist/t10k-labels-idx1-ubyte.gz\")[8:]\n",
    "\n",
    "plt.imshow(X_train[0]), Y_train[0]"
   ]
  },
  {
   "attachments": {},
   "cell_type": "markdown",
   "metadata": {},
   "source": [
    "# In Pytorch"
   ]
  },
  {
   "cell_type": "code",
   "execution_count": 3,
   "metadata": {},
   "outputs": [
    {
     "name": "stdout",
     "output_type": "stream",
     "text": [
      "Does dummy_tensor require a gradient ? False\n",
      "Does dummy_output require a gradient ? True\n"
     ]
    }
   ],
   "source": [
    "# Pytorch model and training tensors\n",
    "\n",
    "class TorchNet(nn.Module):\n",
    "    def __init__(self):\n",
    "        super(TorchNet, self).__init__()\n",
    "        self.l1 = nn.Linear(28*28, 128, bias=False)\n",
    "        self.l2 = nn.Linear(128, 10, bias=False)\n",
    "        self.sm = nn.Softmax(dim=1)\n",
    "\n",
    "    def forward(self, x):\n",
    "        x = self.l1(x) # first layer\n",
    "        x = F.relu(x)  # activation function\n",
    "        x = self.l2(x) # secound layer: down to 10 outputs\n",
    "        #x = self.sm(x) # softmax\n",
    "        return x\n",
    "\n",
    "model = TorchNet()\n",
    "dummy_tensor = torch.Tensor([X_train[0].reshape(28*28)])\n",
    "print(\"Does dummy_tensor require a gradient ?\", dummy_tensor.requires_grad)\n",
    "dummy_output = model(dummy_tensor)\n",
    "print(\"Does dummy_output require a gradient ?\", dummy_output.requires_grad)\n"
   ]
  },
  {
   "cell_type": "code",
   "execution_count": 4,
   "metadata": {},
   "outputs": [],
   "source": [
    "# Testing two different losses\n",
    "\n",
    "nn_NLLLoss = nn.NLLLoss(reduction=\"mean\")\n",
    "nn_MSELoss = nn.MSELoss(reduction=\"mean\")\n",
    "nn_CrossEntropyLoss = nn.CrossEntropyLoss(reduction=\"mean\")\n",
    "\n",
    "def NLLLoss(Y_pred, Y):\n",
    "    \"\"\"\n",
    "    works well (with a final LogSoftmax layer !)\n",
    "    \"\"\"\n",
    "    loss = nn_NLLLoss(Y_pred, Y)\n",
    "    accuracy = (torch.argmax(Y_pred, dim=1) == Y).float().mean().item()\n",
    "\n",
    "    return loss, accuracy\n",
    "\n",
    "def MSELoss(Y_pred, Y):\n",
    "    \"\"\"\n",
    "    doesn't work at all\n",
    "    \"\"\"\n",
    "    Y_one_hot = torch.zeros(Y.shape[0], 10)\n",
    "    slice = [(i, y) for i, y in enumerate(Y)] if Y.shape[0] > 1 else (0,Y[0])\n",
    "    Y_one_hot[slice] = 1.0\n",
    "\n",
    "    loss = nn_MSELoss(Y_pred, Y_one_hot)\n",
    "\n",
    "    accuracy = (torch.argmax(Y_pred, dim=1) == Y).float().mean().item()\n",
    "    \n",
    "    return loss, accuracy\n",
    "\n",
    "def CrossEntropyLoss(Y_pred, Y):\n",
    "    \"\"\"\n",
    "    works well \n",
    "    \"\"\"\n",
    "    loss = nn_CrossEntropyLoss(Y_pred, Y)\n",
    "    accuracy = (torch.argmax(Y_pred, dim=1) == Y).float().mean().item()\n",
    "\n",
    "    return loss, accuracy"
   ]
  },
  {
   "cell_type": "code",
   "execution_count": 5,
   "metadata": {},
   "outputs": [
    {
     "name": "stderr",
     "output_type": "stream",
     "text": [
      "loss 0.56 accuracy 0.81:   5%|▍         | 46/1000 [00:00<00:03, 241.53it/s]"
     ]
    },
    {
     "name": "stdout",
     "output_type": "stream",
     "text": [
      "Y_pred: tensor([ -1.,   6.,  -3.,   0.,   5.,   4., -20.,  11.,  22.,  10.],\n",
      "       grad_fn=<RoundBackward>)\n",
      "Y: tensor(4)\n",
      "Y_pred after argmax: tensor(8)\n",
      "loss: tensor(25.8012, grad_fn=<NllLossBackward>)\n"
     ]
    },
    {
     "name": "stderr",
     "output_type": "stream",
     "text": [
      "loss 0.31 accuracy 0.91: 100%|██████████| 1000/1000 [00:03<00:00, 297.05it/s]\n"
     ]
    },
    {
     "data": {
      "image/png": "[encoded data removed]",
      "text/plain": [
       "<Figure size 432x288 with 1 Axes>"
      ]
     },
     "metadata": {
      "needs_background": "light"
     },
     "output_type": "display_data"
    }
   ],
   "source": [
    "# Pytorch Training\n",
    "\n",
    "model = TorchNet()\n",
    "\n",
    "# Loss function defined above\n",
    "loss_fn = CrossEntropyLoss\n",
    "\n",
    "# Stocastic gradient descent\n",
    "optimizer = torch.optim.SGD(model.parameters(), lr=0.001, momentum=0)\n",
    "\n",
    "# Training paramaters\n",
    "epochs = 1000\n",
    "batch_size = 64\n",
    "\n",
    "losses, accuracies = [], []\n",
    "\n",
    "# Training loop\n",
    "for i in (t := trange(epochs)):\n",
    "    # Get random slicing the size of the batch\n",
    "    sample = np.random.randint(0, X_train.shape[0], size=(batch_size))\n",
    "\n",
    "    # Define X and Y (flatten X so the image is one single dimention)\n",
    "    # Conversion to float is important so the Linear layers accept X as a input\n",
    "    X = torch.tensor(X_train[sample].reshape(-1, 28*28), dtype=torch.float)\n",
    "    Y = torch.tensor(Y_train[sample], dtype=torch.long)\n",
    "\n",
    "    Y_pred = model(X)\n",
    "\n",
    "    # This prints shows the form of Y_pred, it is clear argmax needs to be applied\n",
    "    # to compare Y_pred with Y\n",
    "    if i == 0:\n",
    "        print(\"Y_pred:\", Y_pred[0].round())\n",
    "        print(\"Y:\", Y[0])\n",
    "        print(\"Y_pred after argmax:\", torch.argmax(Y_pred, dim=1)[0])\n",
    "    \n",
    "    loss, accuracy = loss_fn(Y_pred, Y)\n",
    "\n",
    "    if i == 0:\n",
    "        print(\"loss:\", loss)\n",
    "\n",
    "    # Backpropagation\n",
    "    loss.backward()\n",
    "\n",
    "    # Updating weights\n",
    "    optimizer.step()\n",
    "\n",
    "    # Reset weights for next epoch\n",
    "    model.zero_grad()\n",
    "\n",
    "    loss = loss.item()\n",
    "    losses.append(loss)\n",
    "    accuracies.append(accuracy)\n",
    "    t.set_description(\"loss %.2f accuracy %.2f\" % (loss, accuracy))\n",
    "\n",
    "plt.plot(losses, label=\"loss\")\n",
    "plt.plot(accuracies, label=\"accuracy\")\n",
    "plt.legend()\n",
    "plt.show()\n"
   ]
  },
  {
   "attachments": {},
   "cell_type": "markdown",
   "metadata": {},
   "source": [
    "# In Edunets"
   ]
  },
  {
   "cell_type": "code",
   "execution_count": 6,
   "metadata": {},
   "outputs": [
    {
     "name": "stdout",
     "output_type": "stream",
     "text": [
      "max/min L1: tensor(-0.03571147, dtype=float32) tensor(0.03571342, dtype=float32)\n",
      "max/min L2: tensor(-0.08835097, dtype=float32) tensor(0.08833615, dtype=float32)\n"
     ]
    },
    {
     "data": {
      "image/svg+xml": "<?xml version=\"1.0\" encoding=\"UTF-8\" standalone=\"no\"?>\n<!DOCTYPE svg PUBLIC \"-//W3C//DTD SVG 1.1//EN\"\n \"http://www.w3.org/Graphics/SVG/1.1/DTD/svg11.dtd\">\n<!-- Generated by graphviz version 2.50.0 (0)\n -->\n<!-- Pages: 1 -->\n<svg width=\"853pt\" height=\"140pt\"\n viewBox=\"0.00 0.00 853.49 140.00\" xmlns=\"http://www.w3.org/2000/svg\" xmlns:xlink=\"http://www.w3.org/1999/xlink\">\n<g id=\"graph0\" class=\"graph\" transform=\"scale(1 1) rotate(0) translate(4 136)\">\n<polygon fill=\"white\" stroke=\"transparent\" points=\"-4,4 -4,-136 849.49,-136 849.49,4 -4,4\"/>\n<!-- 140688863953584 -->\n<g id=\"node1\" class=\"node\">\n<title>140688863953584</title>\n<polygon fill=\"none\" stroke=\"black\" points=\"736.49,-35.5 736.49,-71.5 845.49,-71.5 845.49,-35.5 736.49,-35.5\"/>\n<text text-anchor=\"middle\" x=\"790.99\" y=\"-49.8\" font-family=\"Times,serif\" font-size=\"14.00\">tensor(1, 10)</text>\n</g>\n<!-- 140688863953584@ -->\n<g id=\"node2\" class=\"node\">\n<title>140688863953584@</title>\n<ellipse fill=\"none\" stroke=\"black\" cx=\"673.49\" cy=\"-53.5\" rx=\"27\" ry=\"18\"/>\n<text text-anchor=\"middle\" x=\"673.49\" y=\"-49.8\" font-family=\"Times,serif\" font-size=\"14.00\">@</text>\n</g>\n<!-- 140688863953584@&#45;&gt;140688863953584 -->\n<g id=\"edge1\" class=\"edge\">\n<title>140688863953584@&#45;&gt;140688863953584</title>\n<path fill=\"none\" stroke=\"black\" d=\"M700.7,-53.5C708.34,-53.5 717.05,-53.5 725.95,-53.5\"/>\n<polygon fill=\"black\" stroke=\"black\" points=\"726.05,-57 736.05,-53.5 726.05,-50 726.05,-57\"/>\n</g>\n<!-- 140688863953536 -->\n<g id=\"node3\" class=\"node\">\n<title>140688863953536</title>\n<polygon fill=\"none\" stroke=\"black\" points=\"492.49,-65.5 492.49,-101.5 610.49,-101.5 610.49,-65.5 492.49,-65.5\"/>\n<text text-anchor=\"middle\" x=\"551.49\" y=\"-79.8\" font-family=\"Times,serif\" font-size=\"14.00\">tensor(1, 128)</text>\n</g>\n<!-- 140688863953536&#45;&gt;140688863953584@ -->\n<g id=\"edge4\" class=\"edge\">\n<title>140688863953536&#45;&gt;140688863953584@</title>\n<path fill=\"none\" stroke=\"black\" d=\"M610.74,-68.94C620.08,-66.6 629.47,-64.26 638.02,-62.12\"/>\n<polygon fill=\"black\" stroke=\"black\" points=\"639.11,-65.45 647.96,-59.63 637.41,-58.66 639.11,-65.45\"/>\n</g>\n<!-- 140688863953536relu -->\n<g id=\"node4\" class=\"node\">\n<title>140688863953536relu</title>\n<ellipse fill=\"none\" stroke=\"black\" cx=\"427.25\" cy=\"-83.5\" rx=\"29.5\" ry=\"18\"/>\n<text text-anchor=\"middle\" x=\"427.25\" y=\"-79.8\" font-family=\"Times,serif\" font-size=\"14.00\">relu</text>\n</g>\n<!-- 140688863953536relu&#45;&gt;140688863953536 -->\n<g id=\"edge2\" class=\"edge\">\n<title>140688863953536relu&#45;&gt;140688863953536</title>\n<path fill=\"none\" stroke=\"black\" d=\"M456.6,-83.5C464.39,-83.5 473.19,-83.5 482.2,-83.5\"/>\n<polygon fill=\"black\" stroke=\"black\" points=\"482.41,-87 492.41,-83.5 482.41,-80 482.41,-87\"/>\n</g>\n<!-- 140688845963376 -->\n<g id=\"node5\" class=\"node\">\n<title>140688845963376</title>\n<polygon fill=\"none\" stroke=\"black\" points=\"244,-65.5 244,-101.5 362,-101.5 362,-65.5 244,-65.5\"/>\n<text text-anchor=\"middle\" x=\"303\" y=\"-79.8\" font-family=\"Times,serif\" font-size=\"14.00\">tensor(1, 128)</text>\n</g>\n<!-- 140688845963376&#45;&gt;140688863953536relu -->\n<g id=\"edge5\" class=\"edge\">\n<title>140688845963376&#45;&gt;140688863953536relu</title>\n<path fill=\"none\" stroke=\"black\" d=\"M362.26,-83.5C370.9,-83.5 379.61,-83.5 387.71,-83.5\"/>\n<polygon fill=\"black\" stroke=\"black\" points=\"387.94,-87 397.94,-83.5 387.94,-80 387.94,-87\"/>\n</g>\n<!-- 140688845963376@ -->\n<g id=\"node6\" class=\"node\">\n<title>140688845963376@</title>\n<ellipse fill=\"none\" stroke=\"black\" cx=\"181\" cy=\"-83.5\" rx=\"27\" ry=\"18\"/>\n<text text-anchor=\"middle\" x=\"181\" y=\"-79.8\" font-family=\"Times,serif\" font-size=\"14.00\">@</text>\n</g>\n<!-- 140688845963376@&#45;&gt;140688845963376 -->\n<g id=\"edge3\" class=\"edge\">\n<title>140688845963376@&#45;&gt;140688845963376</title>\n<path fill=\"none\" stroke=\"black\" d=\"M208.04,-83.5C215.83,-83.5 224.77,-83.5 233.96,-83.5\"/>\n<polygon fill=\"black\" stroke=\"black\" points=\"234,-87 244,-83.5 234,-80 234,-87\"/>\n</g>\n<!-- 140688863953824 -->\n<g id=\"node7\" class=\"node\">\n<title>140688863953824</title>\n<polygon fill=\"none\" stroke=\"black\" points=\"0,-95.5 0,-131.5 118,-131.5 118,-95.5 0,-95.5\"/>\n<text text-anchor=\"middle\" x=\"59\" y=\"-109.8\" font-family=\"Times,serif\" font-size=\"14.00\">tensor(1, 784)</text>\n</g>\n<!-- 140688863953824&#45;&gt;140688845963376@ -->\n<g id=\"edge6\" class=\"edge\">\n<title>140688863953824&#45;&gt;140688845963376@</title>\n<path fill=\"none\" stroke=\"black\" d=\"M118.24,-98.94C127.58,-96.6 136.98,-94.26 145.53,-92.12\"/>\n<polygon fill=\"black\" stroke=\"black\" points=\"146.62,-95.45 155.47,-89.63 144.92,-88.66 146.62,-95.45\"/>\n</g>\n<!-- 140688846357456 -->\n<g id=\"node8\" class=\"node\">\n<title>140688846357456</title>\n<polygon fill=\"none\" stroke=\"black\" points=\"29,-30.5 29,-76.5 89,-76.5 89,-30.5 29,-30.5\"/>\n<text text-anchor=\"middle\" x=\"59\" y=\"-61.3\" font-family=\"Times,serif\" font-size=\"14.00\">L1</text>\n<polyline fill=\"none\" stroke=\"black\" points=\"29,-53.5 89,-53.5 \"/>\n<text text-anchor=\"middle\" x=\"59\" y=\"-38.3\" font-family=\"Times,serif\" font-size=\"14.00\">grad()</text>\n</g>\n<!-- 140688846357456&#45;&gt;140688845963376@ -->\n<g id=\"edge7\" class=\"edge\">\n<title>140688846357456&#45;&gt;140688845963376@</title>\n<path fill=\"none\" stroke=\"black\" d=\"M89.05,-60.76C106.06,-65.01 127.64,-70.41 145.51,-74.88\"/>\n<polygon fill=\"black\" stroke=\"black\" points=\"144.72,-78.29 155.27,-77.32 146.42,-71.5 144.72,-78.29\"/>\n</g>\n<!-- 140691207264144 -->\n<g id=\"node9\" class=\"node\">\n<title>140691207264144</title>\n<polygon fill=\"none\" stroke=\"black\" points=\"521.49,-0.5 521.49,-46.5 581.49,-46.5 581.49,-0.5 521.49,-0.5\"/>\n<text text-anchor=\"middle\" x=\"551.49\" y=\"-31.3\" font-family=\"Times,serif\" font-size=\"14.00\">L1</text>\n<polyline fill=\"none\" stroke=\"black\" points=\"521.49,-23.5 581.49,-23.5 \"/>\n<text text-anchor=\"middle\" x=\"551.49\" y=\"-8.3\" font-family=\"Times,serif\" font-size=\"14.00\">grad()</text>\n</g>\n<!-- 140691207264144&#45;&gt;140688863953584@ -->\n<g id=\"edge8\" class=\"edge\">\n<title>140691207264144&#45;&gt;140688863953584@</title>\n<path fill=\"none\" stroke=\"black\" d=\"M581.54,-30.76C598.55,-35.01 620.13,-40.41 638.01,-44.88\"/>\n<polygon fill=\"black\" stroke=\"black\" points=\"637.22,-48.29 647.77,-47.32 638.91,-41.5 637.22,-48.29\"/>\n</g>\n</g>\n</svg>\n",
      "text/plain": [
       "<graphviz.graphs.Digraph at 0x7ff4adc280a0>"
      ]
     },
     "execution_count": 6,
     "metadata": {},
     "output_type": "execute_result"
    }
   ],
   "source": [
    "class EduNet1:\n",
    "    def __init__(self):\n",
    "        # https://discuss.pytorch.org/t/how-are-layer-weights-and-biases-initialized-by-default/13073\n",
    "        stdv1, stdv2 = 1./np.sqrt(28*28), 1./np.sqrt(128)\n",
    "        self.l1 = Tensor.uniform(128, 28*28, low=-stdv1, high=stdv1, requires_grad=True, label=\"L1\")\n",
    "        self.l2 = Tensor.uniform(10, 128, low=-stdv2, high=stdv2, requires_grad=True, label=\"L1\")\n",
    "\n",
    "    def __call__(self, x):\n",
    "        x = x @ self.l1.T\n",
    "        x = x.relu()\n",
    "        x = x @ self.l2.T\n",
    "        return x\n",
    "\n",
    "model = EduNet1()\n",
    "\n",
    "print(\"max/min L1:\", model.l1.min(), model.l1.max())\n",
    "print(\"max/min L2:\", model.l2.min(), model.l2.max())\n",
    "\n",
    "dummy_tensor = Tensor([X_train[0].reshape(28*28)])\n",
    "model(dummy_tensor).graph"
   ]
  },
  {
   "cell_type": "code",
   "execution_count": 7,
   "metadata": {},
   "outputs": [],
   "source": [
    "# Stochastic gradient descent\n",
    "class SGD:\n",
    "    def __init__(self, params, lr=0.001):\n",
    "        self.lr = lr\n",
    "        self.params = params\n",
    "\n",
    "    def step(self):\n",
    "        for t in self.params:\n",
    "            t.data = (t.data - t.grad * self.lr).T\n",
    "\n",
    "    def zero_grad(self):\n",
    "        for param in self.params:\n",
    "            param.zero_grad()"
   ]
  },
  {
   "cell_type": "code",
   "execution_count": 8,
   "metadata": {},
   "outputs": [],
   "source": [
    "from edunets.losses import CrossEntropyLoss\n",
    "\n",
    "model = EduNet1()\n",
    "\n",
    "batch_size = 64\n",
    "loss_fn = CrossEntropyLoss(reduction=\"mean\")\n",
    "optim = SGD([model.l1, model.l2], lr=0.001)\n",
    "epochs = 1000\n",
    "losses, accuracies = [], []\n",
    "\n",
    "# Intresting to allow NaNs to see the effect of overflow of expontentials\n",
    "#model.l1.keep_nans() # This will break the network though"
   ]
  },
  {
   "cell_type": "code",
   "execution_count": 9,
   "metadata": {},
   "outputs": [
    {
     "name": "stderr",
     "output_type": "stream",
     "text": [
      "loss 28.35 accuracy 14.06:   0%|          | 0/1000 [00:00<?, ?it/s]/home/goncalo/edunets/edunets/functions.py:20: RuntimeWarning: overflow encountered in exp\n",
      "  return np.exp(self.a.data)\n",
      "/home/goncalo/anaconda3/envs/pi_env/lib/python3.8/site-packages/numpy/core/fromnumeric.py:86: RuntimeWarning: overflow encountered in reduce\n",
      "  return ufunc.reduce(obj, axis, dtype, out, **passkwargs)\n",
      "loss 1.76 accuracy 65.62:   1%|          | 9/1000 [00:00<00:11, 86.67it/s] "
     ]
    },
    {
     "name": "stdout",
     "output_type": "stream",
     "text": [
      "Initial Loss: tensor(28.353424, dtype=float32)\n"
     ]
    },
    {
     "name": "stderr",
     "output_type": "stream",
     "text": [
      "loss 0.36 accuracy 92.19: 100%|██████████| 1000/1000 [00:12<00:00, 77.60it/s]\n"
     ]
    },
    {
     "data": {
      "image/svg+xml": "<?xml version=\"1.0\" encoding=\"UTF-8\" standalone=\"no\"?>\n<!DOCTYPE svg PUBLIC \"-//W3C//DTD SVG 1.1//EN\"\n \"http://www.w3.org/Graphics/SVG/1.1/DTD/svg11.dtd\">\n<!-- Generated by graphviz version 2.50.0 (0)\n -->\n<!-- Pages: 1 -->\n<svg width=\"2321pt\" height=\"188pt\"\n viewBox=\"0.00 0.00 2320.68 188.00\" xmlns=\"http://www.w3.org/2000/svg\" xmlns:xlink=\"http://www.w3.org/1999/xlink\">\n<g id=\"graph0\" class=\"graph\" transform=\"scale(1 1) rotate(0) translate(4 184)\">\n<polygon fill=\"white\" stroke=\"transparent\" points=\"-4,4 -4,-184 2316.68,-184 2316.68,4 -4,4\"/>\n<!-- 140688845262272 -->\n<g id=\"node1\" class=\"node\">\n<title>140688845262272</title>\n<polygon fill=\"none\" stroke=\"black\" points=\"2199.68,-27.5 2199.68,-63.5 2312.68,-63.5 2312.68,-27.5 2199.68,-27.5\"/>\n<text text-anchor=\"middle\" x=\"2256.18\" y=\"-41.8\" font-family=\"Times,serif\" font-size=\"14.00\">[0.35884616]</text>\n</g>\n<!-- 140688845262272* -->\n<g id=\"node2\" class=\"node\">\n<title>140688845262272*</title>\n<ellipse fill=\"none\" stroke=\"black\" cx=\"2136.68\" cy=\"-45.5\" rx=\"27\" ry=\"18\"/>\n<text text-anchor=\"middle\" x=\"2136.68\" y=\"-41.8\" font-family=\"Times,serif\" font-size=\"14.00\">*</text>\n</g>\n<!-- 140688845262272*&#45;&gt;140688845262272 -->\n<g id=\"edge1\" class=\"edge\">\n<title>140688845262272*&#45;&gt;140688845262272</title>\n<path fill=\"none\" stroke=\"black\" d=\"M2163.76,-45.5C2171.42,-45.5 2180.17,-45.5 2189.16,-45.5\"/>\n<polygon fill=\"black\" stroke=\"black\" points=\"2189.35,-49 2199.35,-45.5 2189.35,-42 2189.35,-49\"/>\n</g>\n<!-- 140688845019888 -->\n<g id=\"node3\" class=\"node\">\n<title>140688845019888</title>\n<polygon fill=\"none\" stroke=\"black\" points=\"1969.68,-55.5 1969.68,-91.5 2073.68,-91.5 2073.68,-55.5 1969.68,-55.5\"/>\n<text text-anchor=\"middle\" x=\"2021.68\" y=\"-69.8\" font-family=\"Times,serif\" font-size=\"14.00\">[22.966154]</text>\n</g>\n<!-- 140688845019888&#45;&gt;140688845262272* -->\n<g id=\"edge12\" class=\"edge\">\n<title>140688845019888&#45;&gt;140688845262272*</title>\n<path fill=\"none\" stroke=\"black\" d=\"M2073.89,-60.81C2083.21,-58.5 2092.72,-56.15 2101.4,-53.99\"/>\n<polygon fill=\"black\" stroke=\"black\" points=\"2102.28,-57.38 2111.15,-51.58 2100.6,-50.59 2102.28,-57.38\"/>\n</g>\n<!-- 140688845019888sum -->\n<g id=\"node4\" class=\"node\">\n<title>140688845019888sum</title>\n<ellipse fill=\"none\" stroke=\"black\" cx=\"1903.14\" cy=\"-73.5\" rx=\"30.59\" ry=\"18\"/>\n<text text-anchor=\"middle\" x=\"1903.14\" y=\"-69.8\" font-family=\"Times,serif\" font-size=\"14.00\">sum</text>\n</g>\n<!-- 140688845019888sum&#45;&gt;140688845019888 -->\n<g id=\"edge2\" class=\"edge\">\n<title>140688845019888sum&#45;&gt;140688845019888</title>\n<path fill=\"none\" stroke=\"black\" d=\"M1933.85,-73.5C1941.6,-73.5 1950.26,-73.5 1959.01,-73.5\"/>\n<polygon fill=\"black\" stroke=\"black\" points=\"1959.29,-77 1969.29,-73.5 1959.29,-70 1959.29,-77\"/>\n</g>\n<!-- 140688845017296 -->\n<g id=\"node5\" class=\"node\">\n<title>140688845017296</title>\n<polygon fill=\"none\" stroke=\"black\" points=\"1741.59,-55.5 1741.59,-91.5 1836.59,-91.5 1836.59,-55.5 1741.59,-55.5\"/>\n<text text-anchor=\"middle\" x=\"1789.09\" y=\"-69.8\" font-family=\"Times,serif\" font-size=\"14.00\">tensor(64,)</text>\n</g>\n<!-- 140688845017296&#45;&gt;140688845019888sum -->\n<g id=\"edge13\" class=\"edge\">\n<title>140688845017296&#45;&gt;140688845019888sum</title>\n<path fill=\"none\" stroke=\"black\" d=\"M1836.63,-73.5C1845.17,-73.5 1854.02,-73.5 1862.34,-73.5\"/>\n<polygon fill=\"black\" stroke=\"black\" points=\"1862.53,-77 1872.53,-73.5 1862.53,-70 1862.53,-77\"/>\n</g>\n<!-- 140688845017296+ -->\n<g id=\"node6\" class=\"node\">\n<title>140688845017296+</title>\n<ellipse fill=\"none\" stroke=\"black\" cx=\"1678.59\" cy=\"-73.5\" rx=\"27\" ry=\"18\"/>\n<text text-anchor=\"middle\" x=\"1678.59\" y=\"-69.8\" font-family=\"Times,serif\" font-size=\"14.00\">+</text>\n</g>\n<!-- 140688845017296+&#45;&gt;140688845017296 -->\n<g id=\"edge3\" class=\"edge\">\n<title>140688845017296+&#45;&gt;140688845017296</title>\n<path fill=\"none\" stroke=\"black\" d=\"M1705.85,-73.5C1713.6,-73.5 1722.4,-73.5 1731.28,-73.5\"/>\n<polygon fill=\"black\" stroke=\"black\" points=\"1731.3,-77 1741.3,-73.5 1731.3,-70 1731.3,-77\"/>\n</g>\n<!-- 140688845017248 -->\n<g id=\"node7\" class=\"node\">\n<title>140688845017248</title>\n<polygon fill=\"none\" stroke=\"black\" points=\"1389.59,-83.5 1389.59,-119.5 1484.59,-119.5 1484.59,-83.5 1389.59,-83.5\"/>\n<text text-anchor=\"middle\" x=\"1437.09\" y=\"-97.8\" font-family=\"Times,serif\" font-size=\"14.00\">tensor(64,)</text>\n</g>\n<!-- 140688845017248&#45;&gt;140688845017296+ -->\n<g id=\"edge14\" class=\"edge\">\n<title>140688845017248&#45;&gt;140688845017296+</title>\n<path fill=\"none\" stroke=\"black\" d=\"M1484.84,-96.03C1530.77,-90.67 1599.87,-82.59 1641.66,-77.7\"/>\n<polygon fill=\"black\" stroke=\"black\" points=\"1642.14,-81.17 1651.66,-76.53 1641.32,-74.22 1642.14,-81.17\"/>\n</g>\n<!-- 140688845017248* -->\n<g id=\"node8\" class=\"node\">\n<title>140688845017248*</title>\n<ellipse fill=\"none\" stroke=\"black\" cx=\"1192.04\" cy=\"-101.5\" rx=\"27\" ry=\"18\"/>\n<text text-anchor=\"middle\" x=\"1192.04\" y=\"-97.8\" font-family=\"Times,serif\" font-size=\"14.00\">*</text>\n</g>\n<!-- 140688845017248*&#45;&gt;140688845017248 -->\n<g id=\"edge4\" class=\"edge\">\n<title>140688845017248*&#45;&gt;140688845017248</title>\n<path fill=\"none\" stroke=\"black\" d=\"M1219.05,-101.5C1257.09,-101.5 1328.85,-101.5 1379.42,-101.5\"/>\n<polygon fill=\"black\" stroke=\"black\" points=\"1379.55,-105 1389.55,-101.5 1379.55,-98 1379.55,-105\"/>\n</g>\n<!-- 140688845018304 -->\n<g id=\"node9\" class=\"node\">\n<title>140688845018304</title>\n<polygon fill=\"none\" stroke=\"black\" points=\"1018.99,-138.5 1018.99,-174.5 1113.99,-174.5 1113.99,-138.5 1018.99,-138.5\"/>\n<text text-anchor=\"middle\" x=\"1066.49\" y=\"-152.8\" font-family=\"Times,serif\" font-size=\"14.00\">tensor(64,)</text>\n</g>\n<!-- 140688845018304&#45;&gt;140688845017248* -->\n<g id=\"edge15\" class=\"edge\">\n<title>140688845018304&#45;&gt;140688845017248*</title>\n<path fill=\"none\" stroke=\"black\" d=\"M1107.95,-138.49C1124.85,-130.97 1144.18,-122.36 1159.94,-115.35\"/>\n<polygon fill=\"black\" stroke=\"black\" points=\"1161.52,-118.47 1169.23,-111.21 1158.68,-112.08 1161.52,-118.47\"/>\n</g>\n<!-- 140688845018304[*] -->\n<g id=\"node10\" class=\"node\">\n<title>140688845018304[*]</title>\n<ellipse fill=\"none\" stroke=\"black\" cx=\"944.49\" cy=\"-142.5\" rx=\"27\" ry=\"18\"/>\n<text text-anchor=\"middle\" x=\"944.49\" y=\"-138.8\" font-family=\"Times,serif\" font-size=\"14.00\">[*]</text>\n</g>\n<!-- 140688845018304[*]&#45;&gt;140688845018304 -->\n<g id=\"edge5\" class=\"edge\">\n<title>140688845018304[*]&#45;&gt;140688845018304</title>\n<path fill=\"none\" stroke=\"black\" d=\"M971.24,-145.5C982.32,-146.8 995.75,-148.36 1008.96,-149.9\"/>\n<polygon fill=\"black\" stroke=\"black\" points=\"1008.64,-153.39 1018.97,-151.07 1009.45,-146.44 1008.64,-153.39\"/>\n</g>\n<!-- 140688845001200 -->\n<g id=\"node11\" class=\"node\">\n<title>140688845001200</title>\n<polygon fill=\"none\" stroke=\"black\" points=\"763.49,-83.5 763.49,-119.5 881.49,-119.5 881.49,-83.5 763.49,-83.5\"/>\n<text text-anchor=\"middle\" x=\"822.49\" y=\"-97.8\" font-family=\"Times,serif\" font-size=\"14.00\">tensor(64, 10)</text>\n</g>\n<!-- 140688845001200&#45;&gt;140688845018304[*] -->\n<g id=\"edge16\" class=\"edge\">\n<title>140688845001200&#45;&gt;140688845018304[*]</title>\n<path fill=\"none\" stroke=\"black\" d=\"M876.48,-119.6C888.09,-123.57 900.05,-127.66 910.6,-131.26\"/>\n<polygon fill=\"black\" stroke=\"black\" points=\"909.63,-134.63 920.22,-134.55 911.89,-128 909.63,-134.63\"/>\n</g>\n<!-- 140688845019744e -->\n<g id=\"node26\" class=\"node\">\n<title>140688845019744e</title>\n<ellipse fill=\"none\" stroke=\"black\" cx=\"944.49\" cy=\"-74.5\" rx=\"27\" ry=\"18\"/>\n<text text-anchor=\"middle\" x=\"944.49\" y=\"-70.8\" font-family=\"Times,serif\" font-size=\"14.00\">e</text>\n</g>\n<!-- 140688845001200&#45;&gt;140688845019744e -->\n<g id=\"edge26\" class=\"edge\">\n<title>140688845001200&#45;&gt;140688845019744e</title>\n<path fill=\"none\" stroke=\"black\" d=\"M881.74,-88.4C890.99,-86.31 900.3,-84.22 908.79,-82.31\"/>\n<polygon fill=\"black\" stroke=\"black\" points=\"909.68,-85.7 918.67,-80.09 908.14,-78.87 909.68,-85.7\"/>\n</g>\n<!-- 140688845001200@ -->\n<g id=\"node12\" class=\"node\">\n<title>140688845001200@</title>\n<ellipse fill=\"none\" stroke=\"black\" cx=\"700.49\" cy=\"-101.5\" rx=\"27\" ry=\"18\"/>\n<text text-anchor=\"middle\" x=\"700.49\" y=\"-97.8\" font-family=\"Times,serif\" font-size=\"14.00\">@</text>\n</g>\n<!-- 140688845001200@&#45;&gt;140688845001200 -->\n<g id=\"edge6\" class=\"edge\">\n<title>140688845001200@&#45;&gt;140688845001200</title>\n<path fill=\"none\" stroke=\"black\" d=\"M727.53,-101.5C735.33,-101.5 744.27,-101.5 753.46,-101.5\"/>\n<polygon fill=\"black\" stroke=\"black\" points=\"753.49,-105 763.49,-101.5 753.49,-98 753.49,-105\"/>\n</g>\n<!-- 140688845000960 -->\n<g id=\"node13\" class=\"node\">\n<title>140688845000960</title>\n<polygon fill=\"none\" stroke=\"black\" points=\"510.49,-113.5 510.49,-149.5 637.49,-149.5 637.49,-113.5 510.49,-113.5\"/>\n<text text-anchor=\"middle\" x=\"573.99\" y=\"-127.8\" font-family=\"Times,serif\" font-size=\"14.00\">tensor(64, 128)</text>\n</g>\n<!-- 140688845000960&#45;&gt;140688845001200@ -->\n<g id=\"edge17\" class=\"edge\">\n<title>140688845000960&#45;&gt;140688845001200@</title>\n<path fill=\"none\" stroke=\"black\" d=\"M637.61,-116.41C646.99,-114.15 656.37,-111.89 664.88,-109.84\"/>\n<polygon fill=\"black\" stroke=\"black\" points=\"665.87,-113.2 674.77,-107.46 664.23,-106.4 665.87,-113.2\"/>\n</g>\n<!-- 140688845000960relu -->\n<g id=\"node14\" class=\"node\">\n<title>140688845000960relu</title>\n<ellipse fill=\"none\" stroke=\"black\" cx=\"445.25\" cy=\"-131.5\" rx=\"29.5\" ry=\"18\"/>\n<text text-anchor=\"middle\" x=\"445.25\" y=\"-127.8\" font-family=\"Times,serif\" font-size=\"14.00\">relu</text>\n</g>\n<!-- 140688845000960relu&#45;&gt;140688845000960 -->\n<g id=\"edge7\" class=\"edge\">\n<title>140688845000960relu&#45;&gt;140688845000960</title>\n<path fill=\"none\" stroke=\"black\" d=\"M474.69,-131.5C482.43,-131.5 491.19,-131.5 500.2,-131.5\"/>\n<polygon fill=\"black\" stroke=\"black\" points=\"500.45,-135 510.45,-131.5 500.45,-128 500.45,-135\"/>\n</g>\n<!-- 140688844824976 -->\n<g id=\"node15\" class=\"node\">\n<title>140688844824976</title>\n<polygon fill=\"none\" stroke=\"black\" points=\"253,-113.5 253,-149.5 380,-149.5 380,-113.5 253,-113.5\"/>\n<text text-anchor=\"middle\" x=\"316.5\" y=\"-127.8\" font-family=\"Times,serif\" font-size=\"14.00\">tensor(64, 128)</text>\n</g>\n<!-- 140688844824976&#45;&gt;140688845000960relu -->\n<g id=\"edge18\" class=\"edge\">\n<title>140688844824976&#45;&gt;140688845000960relu</title>\n<path fill=\"none\" stroke=\"black\" d=\"M380.13,-131.5C388.8,-131.5 397.5,-131.5 405.56,-131.5\"/>\n<polygon fill=\"black\" stroke=\"black\" points=\"405.73,-135 415.73,-131.5 405.73,-128 405.73,-135\"/>\n</g>\n<!-- 140688844824976@ -->\n<g id=\"node16\" class=\"node\">\n<title>140688844824976@</title>\n<ellipse fill=\"none\" stroke=\"black\" cx=\"190\" cy=\"-131.5\" rx=\"27\" ry=\"18\"/>\n<text text-anchor=\"middle\" x=\"190\" y=\"-127.8\" font-family=\"Times,serif\" font-size=\"14.00\">@</text>\n</g>\n<!-- 140688844824976@&#45;&gt;140688844824976 -->\n<g id=\"edge8\" class=\"edge\">\n<title>140688844824976@&#45;&gt;140688844824976</title>\n<path fill=\"none\" stroke=\"black\" d=\"M217.1,-131.5C224.71,-131.5 233.44,-131.5 242.47,-131.5\"/>\n<polygon fill=\"black\" stroke=\"black\" points=\"242.76,-135 252.76,-131.5 242.76,-128 242.76,-135\"/>\n</g>\n<!-- 140688844828288 -->\n<g id=\"node17\" class=\"node\">\n<title>140688844828288</title>\n<polygon fill=\"none\" stroke=\"black\" points=\"0,-143.5 0,-179.5 127,-179.5 127,-143.5 0,-143.5\"/>\n<text text-anchor=\"middle\" x=\"63.5\" y=\"-157.8\" font-family=\"Times,serif\" font-size=\"14.00\">tensor(64, 784)</text>\n</g>\n<!-- 140688844828288&#45;&gt;140688844824976@ -->\n<g id=\"edge19\" class=\"edge\">\n<title>140688844828288&#45;&gt;140688844824976@</title>\n<path fill=\"none\" stroke=\"black\" d=\"M127.11,-146.41C136.5,-144.15 145.87,-141.89 154.38,-139.84\"/>\n<polygon fill=\"black\" stroke=\"black\" points=\"155.37,-143.2 164.28,-137.46 153.73,-136.4 155.37,-143.2\"/>\n</g>\n<!-- 140691258120896 -->\n<g id=\"node18\" class=\"node\">\n<title>140691258120896</title>\n<polygon fill=\"none\" stroke=\"black\" points=\"2,-78.5 2,-124.5 125,-124.5 125,-78.5 2,-78.5\"/>\n<text text-anchor=\"middle\" x=\"63.5\" y=\"-109.3\" font-family=\"Times,serif\" font-size=\"14.00\">L1</text>\n<polyline fill=\"none\" stroke=\"black\" points=\"2,-101.5 125,-101.5 \"/>\n<text text-anchor=\"middle\" x=\"63.5\" y=\"-86.3\" font-family=\"Times,serif\" font-size=\"14.00\">grad(784, 128)</text>\n</g>\n<!-- 140691258120896&#45;&gt;140688844824976@ -->\n<g id=\"edge20\" class=\"edge\">\n<title>140691258120896&#45;&gt;140688844824976@</title>\n<path fill=\"none\" stroke=\"black\" d=\"M125.29,-116.15C135.34,-118.57 145.43,-121 154.53,-123.19\"/>\n<polygon fill=\"black\" stroke=\"black\" points=\"153.79,-126.61 164.33,-125.56 155.43,-119.81 153.79,-126.61\"/>\n</g>\n<!-- 140691207280624 -->\n<g id=\"node19\" class=\"node\">\n<title>140691207280624</title>\n<polygon fill=\"none\" stroke=\"black\" points=\"516.99,-48.5 516.99,-94.5 630.99,-94.5 630.99,-48.5 516.99,-48.5\"/>\n<text text-anchor=\"middle\" x=\"573.99\" y=\"-79.3\" font-family=\"Times,serif\" font-size=\"14.00\">L1</text>\n<polyline fill=\"none\" stroke=\"black\" points=\"516.99,-71.5 630.99,-71.5 \"/>\n<text text-anchor=\"middle\" x=\"573.99\" y=\"-56.3\" font-family=\"Times,serif\" font-size=\"14.00\">grad(128, 10)</text>\n</g>\n<!-- 140691207280624&#45;&gt;140688845001200@ -->\n<g id=\"edge21\" class=\"edge\">\n<title>140691207280624&#45;&gt;140688845001200@</title>\n<path fill=\"none\" stroke=\"black\" d=\"M631.05,-85.01C642.57,-87.78 654.38,-90.63 664.87,-93.16\"/>\n<polygon fill=\"black\" stroke=\"black\" points=\"664.33,-96.63 674.87,-95.57 665.97,-89.82 664.33,-96.63\"/>\n</g>\n<!-- 140688845020272 -->\n<g id=\"node20\" class=\"node\">\n<title>140688845020272</title>\n<polygon fill=\"none\" stroke=\"black\" points=\"1039.49,-83.5 1039.49,-119.5 1093.49,-119.5 1093.49,-83.5 1039.49,-83.5\"/>\n<text text-anchor=\"middle\" x=\"1066.49\" y=\"-97.8\" font-family=\"Times,serif\" font-size=\"14.00\">[&#45;1.]</text>\n</g>\n<!-- 140688845020272&#45;&gt;140688845017248* -->\n<g id=\"edge22\" class=\"edge\">\n<title>140688845020272&#45;&gt;140688845017248*</title>\n<path fill=\"none\" stroke=\"black\" d=\"M1093.7,-101.5C1111.47,-101.5 1135.2,-101.5 1154.78,-101.5\"/>\n<polygon fill=\"black\" stroke=\"black\" points=\"1154.88,-105 1164.88,-101.5 1154.88,-98 1154.88,-105\"/>\n</g>\n<!-- 140688845019168 -->\n<g id=\"node21\" class=\"node\">\n<title>140688845019168</title>\n<polygon fill=\"none\" stroke=\"black\" points=\"1520.59,-32.5 1520.59,-68.5 1615.59,-68.5 1615.59,-32.5 1520.59,-32.5\"/>\n<text text-anchor=\"middle\" x=\"1568.09\" y=\"-46.8\" font-family=\"Times,serif\" font-size=\"14.00\">tensor(64,)</text>\n</g>\n<!-- 140688845019168&#45;&gt;140688845017296+ -->\n<g id=\"edge23\" class=\"edge\">\n<title>140688845019168&#45;&gt;140688845017296+</title>\n<path fill=\"none\" stroke=\"black\" d=\"M1615.73,-60.39C1624.72,-62.29 1633.98,-64.26 1642.52,-66.07\"/>\n<polygon fill=\"black\" stroke=\"black\" points=\"1642,-69.53 1652.51,-68.18 1643.45,-62.69 1642,-69.53\"/>\n</g>\n<!-- 140688845019168log -->\n<g id=\"node22\" class=\"node\">\n<title>140688845019168log</title>\n<ellipse fill=\"none\" stroke=\"black\" cx=\"1437.09\" cy=\"-46.5\" rx=\"27\" ry=\"18\"/>\n<text text-anchor=\"middle\" x=\"1437.09\" y=\"-42.8\" font-family=\"Times,serif\" font-size=\"14.00\">log</text>\n</g>\n<!-- 140688845019168log&#45;&gt;140688845019168 -->\n<g id=\"edge9\" class=\"edge\">\n<title>140688845019168log&#45;&gt;140688845019168</title>\n<path fill=\"none\" stroke=\"black\" d=\"M1464.19,-47.31C1477.42,-47.72 1494.03,-48.23 1510.03,-48.73\"/>\n<polygon fill=\"black\" stroke=\"black\" points=\"1510.3,-52.24 1520.41,-49.05 1510.52,-45.24 1510.3,-52.24\"/>\n</g>\n<!-- 140688845019696 -->\n<g id=\"node23\" class=\"node\">\n<title>140688845019696</title>\n<polygon fill=\"none\" stroke=\"black\" points=\"1258.59,-28.5 1258.59,-64.5 1353.59,-64.5 1353.59,-28.5 1258.59,-28.5\"/>\n<text text-anchor=\"middle\" x=\"1306.09\" y=\"-42.8\" font-family=\"Times,serif\" font-size=\"14.00\">tensor(64,)</text>\n</g>\n<!-- 140688845019696&#45;&gt;140688845019168log -->\n<g id=\"edge24\" class=\"edge\">\n<title>140688845019696&#45;&gt;140688845019168log</title>\n<path fill=\"none\" stroke=\"black\" d=\"M1353.66,-46.5C1368.73,-46.5 1385.21,-46.5 1399.46,-46.5\"/>\n<polygon fill=\"black\" stroke=\"black\" points=\"1399.85,-50 1409.85,-46.5 1399.85,-43 1399.85,-50\"/>\n</g>\n<!-- 140688845019696sum -->\n<g id=\"node24\" class=\"node\">\n<title>140688845019696sum</title>\n<ellipse fill=\"none\" stroke=\"black\" cx=\"1192.04\" cy=\"-46.5\" rx=\"30.59\" ry=\"18\"/>\n<text text-anchor=\"middle\" x=\"1192.04\" y=\"-42.8\" font-family=\"Times,serif\" font-size=\"14.00\">sum</text>\n</g>\n<!-- 140688845019696sum&#45;&gt;140688845019696 -->\n<g id=\"edge10\" class=\"edge\">\n<title>140688845019696sum&#45;&gt;140688845019696</title>\n<path fill=\"none\" stroke=\"black\" d=\"M1222.77,-46.5C1230.6,-46.5 1239.32,-46.5 1248.06,-46.5\"/>\n<polygon fill=\"black\" stroke=\"black\" points=\"1248.3,-50 1258.3,-46.5 1248.3,-43 1248.3,-50\"/>\n</g>\n<!-- 140688845019744 -->\n<g id=\"node25\" class=\"node\">\n<title>140688845019744</title>\n<polygon fill=\"none\" stroke=\"black\" points=\"1007.49,-28.5 1007.49,-64.5 1125.49,-64.5 1125.49,-28.5 1007.49,-28.5\"/>\n<text text-anchor=\"middle\" x=\"1066.49\" y=\"-42.8\" font-family=\"Times,serif\" font-size=\"14.00\">tensor(64, 10)</text>\n</g>\n<!-- 140688845019744&#45;&gt;140688845019696sum -->\n<g id=\"edge25\" class=\"edge\">\n<title>140688845019744&#45;&gt;140688845019696sum</title>\n<path fill=\"none\" stroke=\"black\" d=\"M1125.65,-46.5C1134.36,-46.5 1143.17,-46.5 1151.38,-46.5\"/>\n<polygon fill=\"black\" stroke=\"black\" points=\"1151.41,-50 1161.41,-46.5 1151.41,-43 1151.41,-50\"/>\n</g>\n<!-- 140688845019744e&#45;&gt;140688845019744 -->\n<g id=\"edge11\" class=\"edge\">\n<title>140688845019744e&#45;&gt;140688845019744</title>\n<path fill=\"none\" stroke=\"black\" d=\"M970.36,-68.7C978.31,-66.84 987.53,-64.69 997.03,-62.47\"/>\n<polygon fill=\"black\" stroke=\"black\" points=\"998.06,-65.83 1007.01,-60.15 996.47,-59.01 998.06,-65.83\"/>\n</g>\n<!-- 140688845259056 -->\n<g id=\"node27\" class=\"node\">\n<title>140688845259056</title>\n<polygon fill=\"none\" stroke=\"black\" points=\"1974.18,-0.5 1974.18,-36.5 2069.18,-36.5 2069.18,-0.5 1974.18,-0.5\"/>\n<text text-anchor=\"middle\" x=\"2021.68\" y=\"-14.8\" font-family=\"Times,serif\" font-size=\"14.00\">[0.015625]</text>\n</g>\n<!-- 140688845259056&#45;&gt;140688845262272* -->\n<g id=\"edge27\" class=\"edge\">\n<title>140688845259056&#45;&gt;140688845262272*</title>\n<path fill=\"none\" stroke=\"black\" d=\"M2069.3,-29.64C2079.95,-32.18 2091.08,-34.84 2101.12,-37.24\"/>\n<polygon fill=\"black\" stroke=\"black\" points=\"2100.58,-40.71 2111.12,-39.63 2102.2,-33.9 2100.58,-40.71\"/>\n</g>\n</g>\n</svg>\n",
      "text/plain": [
       "<graphviz.graphs.Digraph at 0x7ff4adbbde20>"
      ]
     },
     "execution_count": 9,
     "metadata": {},
     "output_type": "execute_result"
    }
   ],
   "source": [
    "for i in (t := trange(epochs)):\n",
    "    samp = np.random.randint(0, X_train.shape[0], size=(batch_size))\n",
    "\n",
    "    X = Tensor(X_train[samp].reshape((-1, 28*28)))\n",
    "    Y = Tensor(Y_train[samp])\n",
    "\n",
    "    out = model(X)\n",
    "\n",
    "    cat = functions.argmax(out, axis=1)\n",
    "    \n",
    "    accuracy = (cat == Y).mean()\n",
    "\n",
    "    loss = loss_fn.forward(out, Y)\n",
    "\n",
    "    if i == 0:\n",
    "        print(\"Initial Loss:\", loss)\n",
    "    \n",
    "    optim.zero_grad()\n",
    "    \n",
    "    loss.backward()\n",
    "    \n",
    "    optim.step()\n",
    "    \n",
    "    losses.append(loss.data)\n",
    "    \n",
    "    accuracies.append(100*accuracy.data)\n",
    "    \n",
    "    t.set_description(\"loss %.2f accuracy %.2f\" % (loss.data, 100*accuracy.data))\n",
    "\n",
    "loss.graph\n"
   ]
  },
  {
   "cell_type": "code",
   "execution_count": 10,
   "metadata": {},
   "outputs": [
    {
     "data": {
      "image/png": "[encoded data removed]",
      "text/plain": [
       "<Figure size 432x288 with 1 Axes>"
      ]
     },
     "metadata": {
      "needs_background": "light"
     },
     "output_type": "display_data"
    }
   ],
   "source": [
    "plt.plot(losses, label=\"loss\")\n",
    "plt.plot(accuracies, label=\"accuracy\")\n",
    "plt.legend()\n",
    "plt.show()"
   ]
  }
 ],
 "metadata": {
  "kernelspec": {
   "display_name": "pi_env",
   "language": "python",
   "name": "python3"
  },
  "language_info": {
   "codemirror_mode": {
    "name": "ipython",
    "version": 3
   },
   "file_extension": ".py",
   "mimetype": "text/x-python",
   "name": "python",
   "nbconvert_exporter": "python",
   "pygments_lexer": "ipython3",
   "version": "3.8.12"
  },
  "orig_nbformat": 4,
  "vscode": {
   "interpreter": {
    "hash": "7dbd43346cf4060a7c5249e62daf2cb2395365dab3b14076ef7b34680f245741"
   }
  }
 },
 "nbformat": 4,
 "nbformat_minor": 2
}
