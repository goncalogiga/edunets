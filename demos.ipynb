{
 "cells": [
  {
   "cell_type": "code",
   "execution_count": 1,
   "metadata": {},
   "outputs": [],
   "source": [
    "import torch\n",
    "import numpy as np\n",
    "import torch.nn as nn\n",
    "from tqdm import trange\n",
    "import torch.nn.functional as F\n",
    "import matplotlib.pyplot as plt\n",
    "\n",
    "from edunets import functions, losses\n",
    "from edunets.tensor import Tensor"
   ]
  },
  {
   "cell_type": "code",
   "execution_count": 2,
   "metadata": {},
   "outputs": [
    {
     "data": {
      "text/plain": [
       "(<matplotlib.image.AxesImage at 0x7f0e20dd8a60>, 5)"
      ]
     },
     "execution_count": 2,
     "metadata": {},
     "output_type": "execute_result"
    },
    {
     "data": {
      "image/png": "[encoded data removed]",
      "text/plain": [
       "<Figure size 432x288 with 1 Axes>"
      ]
     },
     "metadata": {
      "needs_background": "light"
     },
     "output_type": "display_data"
    }
   ],
   "source": [
    "# load the mnist dataset\n",
    "\n",
    "def fetch(url):\n",
    "    import requests, gzip, os, hashlib, numpy\n",
    "    fp = os.path.join(\"/tmp\", hashlib.md5(url.encode('utf-8')).hexdigest())\n",
    "    if os.path.isfile(fp):\n",
    "        with open(fp, \"rb\") as f:\n",
    "            dat = f.read()\n",
    "    else:\n",
    "        with open(fp, \"wb\") as f:\n",
    "            dat = requests.get(url).content\n",
    "            f.write(dat)\n",
    "    return numpy.frombuffer(gzip.decompress(dat), dtype=np.uint8).copy()\n",
    "\n",
    "X_train = fetch(\"http://yann.lecun.com/exdb/mnist/train-images-idx3-ubyte.gz\")[0x10:].reshape((-1, 28, 28))\n",
    "Y_train = fetch(\"http://yann.lecun.com/exdb/mnist/train-labels-idx1-ubyte.gz\")[8:]\n",
    "X_test = fetch(\"http://yann.lecun.com/exdb/mnist/t10k-images-idx3-ubyte.gz\")[0x10:].reshape((-1, 28, 28))\n",
    "Y_test = fetch(\"http://yann.lecun.com/exdb/mnist/t10k-labels-idx1-ubyte.gz\")[8:]\n",
    "\n",
    "plt.imshow(X_train[0]), Y_train[0]"
   ]
  },
  {
   "attachments": {},
   "cell_type": "markdown",
   "metadata": {},
   "source": [
    "# In Pytorch"
   ]
  },
  {
   "cell_type": "code",
   "execution_count": 9,
   "metadata": {},
   "outputs": [
    {
     "name": "stdout",
     "output_type": "stream",
     "text": [
      "Does dummy_tensor require a gradient ? False\n",
      "Does dummy_output require a gradient ? True\n"
     ]
    }
   ],
   "source": [
    "# Pytorch model and training tensors\n",
    "\n",
    "class TorchNet(nn.Module):\n",
    "    def __init__(self):\n",
    "        super(TorchNet, self).__init__()\n",
    "        self.l1 = nn.Linear(28*28, 128, bias=False)\n",
    "        self.l2 = nn.Linear(128, 10, bias=False)\n",
    "        self.sm = nn.Softmax(dim=1)\n",
    "\n",
    "    def forward(self, x):\n",
    "        x = self.l1(x) # first layer\n",
    "        x = F.relu(x)  # activation function\n",
    "        x = self.l2(x) # secound layer: down to 10 outputs\n",
    "        #x = self.sm(x) # softmax\n",
    "        return x\n",
    "\n",
    "dummy_tensor = torch.Tensor([X_train[0].reshape(28*28)])\n",
    "print(\"Does dummy_tensor require a gradient ?\", dummy_tensor.requires_grad)\n",
    "dummy_output = TorchNet()(dummy_tensor)\n",
    "print(\"Does dummy_output require a gradient ?\", dummy_output.requires_grad)\n"
   ]
  },
  {
   "cell_type": "code",
   "execution_count": 10,
   "metadata": {},
   "outputs": [],
   "source": [
    "# Testing two different losses\n",
    "\n",
    "nn_NLLLoss = nn.NLLLoss(reduction=\"mean\")\n",
    "nn_MSELoss = nn.MSELoss(reduction=\"mean\")\n",
    "nn_CrossEntropyLoss = nn.CrossEntropyLoss(reduction=\"mean\")\n",
    "\n",
    "def NLLLoss(Y_pred, Y):\n",
    "    \"\"\"\n",
    "    works well (with a final LogSoftmax layer !)\n",
    "    \"\"\"\n",
    "    loss = nn_NLLLoss(Y_pred, Y)\n",
    "    accuracy = (torch.argmax(Y_pred, dim=1) == Y).float().mean().item()\n",
    "\n",
    "    return loss, accuracy\n",
    "\n",
    "def MSELoss(Y_pred, Y):\n",
    "    \"\"\"\n",
    "    doesn't work at all\n",
    "    \"\"\"\n",
    "    Y_one_hot = torch.zeros(Y.shape[0], 10)\n",
    "    slice = [(i, y) for i, y in enumerate(Y)] if Y.shape[0] > 1 else (0,Y[0])\n",
    "    Y_one_hot[slice] = 1.0\n",
    "\n",
    "    loss = nn_MSELoss(Y_pred, Y_one_hot)\n",
    "\n",
    "    accuracy = (torch.argmax(Y_pred, dim=1) == Y).float().mean().item()\n",
    "    \n",
    "    return loss, accuracy\n",
    "\n",
    "def CrossEntropyLoss(Y_pred, Y):\n",
    "    \"\"\"\n",
    "    works well \n",
    "    \"\"\"\n",
    "    loss = nn_CrossEntropyLoss(Y_pred, Y)\n",
    "    accuracy = (torch.argmax(Y_pred, dim=1) == Y).float().mean().item()\n",
    "\n",
    "    return loss, accuracy"
   ]
  },
  {
   "cell_type": "code",
   "execution_count": 12,
   "metadata": {},
   "outputs": [
    {
     "name": "stderr",
     "output_type": "stream",
     "text": [
      "loss 0.93 accuracy 0.77:   3%|▎         | 26/1000 [00:00<00:03, 256.89it/s]"
     ]
    },
    {
     "name": "stdout",
     "output_type": "stream",
     "text": [
      "Y_pred: tensor([ 14.,   4.,  21., -11., -12.,  17.,  22., -12.,   6.,   4.],\n",
      "       grad_fn=<RoundBackward>)\n",
      "Y: tensor(9)\n",
      "Y_pred after argmax: tensor(6)\n",
      "loss: tensor(31.8167, grad_fn=<NllLossBackward>)\n"
     ]
    },
    {
     "name": "stderr",
     "output_type": "stream",
     "text": [
      "loss 0.12 accuracy 0.95: 100%|██████████| 1000/1000 [00:03<00:00, 304.84it/s]\n"
     ]
    },
    {
     "data": {
      "image/png": "[encoded data removed]",
      "text/plain": [
       "<Figure size 432x288 with 1 Axes>"
      ]
     },
     "metadata": {
      "needs_background": "light"
     },
     "output_type": "display_data"
    }
   ],
   "source": [
    "# Pytorch Training\n",
    "\n",
    "model = TorchNet()\n",
    "\n",
    "# Loss function defined above\n",
    "loss_fn = CrossEntropyLoss\n",
    "\n",
    "# Stocastic gradient descent\n",
    "optimizer = torch.optim.SGD(model.parameters(), lr=0.001, momentum=0)\n",
    "\n",
    "# Training paramaters\n",
    "epochs = 1000\n",
    "batch_size = 64\n",
    "\n",
    "losses, accuracies = [], []\n",
    "\n",
    "# Training loop\n",
    "for i in (t := trange(epochs)):\n",
    "    # Get random slicing the size of the batch\n",
    "    sample = np.random.randint(0, X_train.shape[0], size=(batch_size))\n",
    "\n",
    "    # Define X and Y (flatten X so the image is one single dimention)\n",
    "    # Conversion to float is important so the Linear layers accept X as a input\n",
    "    X = torch.tensor(X_train[sample].reshape(-1, 28*28), dtype=torch.float)\n",
    "    Y = torch.tensor(Y_train[sample], dtype=torch.long)\n",
    "\n",
    "    Y_pred = model(X)\n",
    "\n",
    "    # This prints shows the form of Y_pred, it is clear argmax needs to be applied\n",
    "    # to compare Y_pred with Y\n",
    "    if i == 0:\n",
    "        print(\"Y_pred:\", Y_pred[0].round())\n",
    "        print(\"Y:\", Y[0])\n",
    "        print(\"Y_pred after argmax:\", torch.argmax(Y_pred, dim=1)[0])\n",
    "    \n",
    "    loss, accuracy = loss_fn(Y_pred, Y)\n",
    "\n",
    "    if i == 0:\n",
    "        print(\"loss:\", loss)\n",
    "\n",
    "    # Backpropagation\n",
    "    loss.backward()\n",
    "\n",
    "    # Updating weights\n",
    "    optimizer.step()\n",
    "\n",
    "    # Reset weights for next epoch\n",
    "    model.zero_grad()\n",
    "\n",
    "    loss = loss.item()\n",
    "    losses.append(loss)\n",
    "    accuracies.append(accuracy)\n",
    "    t.set_description(\"loss %.2f accuracy %.2f\" % (loss, accuracy))\n",
    "\n",
    "plt.plot(losses, label=\"loss\")\n",
    "plt.plot(accuracies, label=\"accuracy\")\n",
    "plt.legend()\n",
    "plt.show()\n"
   ]
  },
  {
   "attachments": {},
   "cell_type": "markdown",
   "metadata": {},
   "source": [
    "# In Edunets"
   ]
  },
  {
   "cell_type": "code",
   "execution_count": 3,
   "metadata": {},
   "outputs": [
    {
     "data": {
      "image/svg+xml": "<?xml version=\"1.0\" encoding=\"UTF-8\" standalone=\"no\"?>\n<!DOCTYPE svg PUBLIC \"-//W3C//DTD SVG 1.1//EN\"\n \"http://www.w3.org/Graphics/SVG/1.1/DTD/svg11.dtd\">\n<!-- Generated by graphviz version 2.50.0 (0)\n -->\n<!-- Pages: 1 -->\n<svg width=\"795pt\" height=\"148pt\"\n viewBox=\"0.00 0.00 795.49 148.00\" xmlns=\"http://www.w3.org/2000/svg\" xmlns:xlink=\"http://www.w3.org/1999/xlink\">\n<g id=\"graph0\" class=\"graph\" transform=\"scale(1 1) rotate(0) translate(4 144)\">\n<polygon fill=\"white\" stroke=\"transparent\" points=\"-4,4 -4,-144 791.49,-144 791.49,4 -4,4\"/>\n<!-- 139698623877856 -->\n<g id=\"node1\" class=\"node\">\n<title>139698623877856</title>\n<polygon fill=\"none\" stroke=\"black\" points=\"678.49,-35.5 678.49,-71.5 787.49,-71.5 787.49,-35.5 678.49,-35.5\"/>\n<text text-anchor=\"middle\" x=\"732.99\" y=\"-49.8\" font-family=\"Times,serif\" font-size=\"14.00\">tensor(1, 10)</text>\n</g>\n<!-- 139698623877856@ -->\n<g id=\"node2\" class=\"node\">\n<title>139698623877856@</title>\n<ellipse fill=\"none\" stroke=\"black\" cx=\"615.49\" cy=\"-53.5\" rx=\"27\" ry=\"18\"/>\n<text text-anchor=\"middle\" x=\"615.49\" y=\"-49.8\" font-family=\"Times,serif\" font-size=\"14.00\">@</text>\n</g>\n<!-- 139698623877856@&#45;&gt;139698623877856 -->\n<g id=\"edge1\" class=\"edge\">\n<title>139698623877856@&#45;&gt;139698623877856</title>\n<path fill=\"none\" stroke=\"black\" d=\"M642.7,-53.5C650.34,-53.5 659.05,-53.5 667.95,-53.5\"/>\n<polygon fill=\"black\" stroke=\"black\" points=\"668.05,-57 678.05,-53.5 668.05,-50 668.05,-57\"/>\n</g>\n<!-- 139698623878096 -->\n<g id=\"node3\" class=\"node\">\n<title>139698623878096</title>\n<polygon fill=\"none\" stroke=\"black\" points=\"434.49,-65.5 434.49,-101.5 552.49,-101.5 552.49,-65.5 434.49,-65.5\"/>\n<text text-anchor=\"middle\" x=\"493.49\" y=\"-79.8\" font-family=\"Times,serif\" font-size=\"14.00\">tensor(1, 128)</text>\n</g>\n<!-- 139698623878096&#45;&gt;139698623877856@ -->\n<g id=\"edge4\" class=\"edge\">\n<title>139698623878096&#45;&gt;139698623877856@</title>\n<path fill=\"none\" stroke=\"black\" d=\"M552.74,-68.94C562.08,-66.6 571.47,-64.26 580.02,-62.12\"/>\n<polygon fill=\"black\" stroke=\"black\" points=\"581.11,-65.45 589.96,-59.63 579.41,-58.66 581.11,-65.45\"/>\n</g>\n<!-- 139698623878096relu -->\n<g id=\"node4\" class=\"node\">\n<title>139698623878096relu</title>\n<ellipse fill=\"none\" stroke=\"black\" cx=\"369.25\" cy=\"-83.5\" rx=\"29.5\" ry=\"18\"/>\n<text text-anchor=\"middle\" x=\"369.25\" y=\"-79.8\" font-family=\"Times,serif\" font-size=\"14.00\">relu</text>\n</g>\n<!-- 139698623878096relu&#45;&gt;139698623878096 -->\n<g id=\"edge2\" class=\"edge\">\n<title>139698623878096relu&#45;&gt;139698623878096</title>\n<path fill=\"none\" stroke=\"black\" d=\"M398.6,-83.5C406.39,-83.5 415.19,-83.5 424.2,-83.5\"/>\n<polygon fill=\"black\" stroke=\"black\" points=\"424.41,-87 434.41,-83.5 424.41,-80 424.41,-87\"/>\n</g>\n<!-- 139698623878768 -->\n<g id=\"node5\" class=\"node\">\n<title>139698623878768</title>\n<polygon fill=\"none\" stroke=\"black\" points=\"186,-65.5 186,-101.5 304,-101.5 304,-65.5 186,-65.5\"/>\n<text text-anchor=\"middle\" x=\"245\" y=\"-79.8\" font-family=\"Times,serif\" font-size=\"14.00\">tensor(1, 128)</text>\n</g>\n<!-- 139698623878768&#45;&gt;139698623878096relu -->\n<g id=\"edge5\" class=\"edge\">\n<title>139698623878768&#45;&gt;139698623878096relu</title>\n<path fill=\"none\" stroke=\"black\" d=\"M304.26,-83.5C312.9,-83.5 321.61,-83.5 329.71,-83.5\"/>\n<polygon fill=\"black\" stroke=\"black\" points=\"329.94,-87 339.94,-83.5 329.94,-80 329.94,-87\"/>\n</g>\n<!-- 139698623878768@ -->\n<g id=\"node6\" class=\"node\">\n<title>139698623878768@</title>\n<ellipse fill=\"none\" stroke=\"black\" cx=\"123\" cy=\"-83.5\" rx=\"27\" ry=\"18\"/>\n<text text-anchor=\"middle\" x=\"123\" y=\"-79.8\" font-family=\"Times,serif\" font-size=\"14.00\">@</text>\n</g>\n<!-- 139698623878768@&#45;&gt;139698623878768 -->\n<g id=\"edge3\" class=\"edge\">\n<title>139698623878768@&#45;&gt;139698623878768</title>\n<path fill=\"none\" stroke=\"black\" d=\"M150.04,-83.5C157.83,-83.5 166.77,-83.5 175.96,-83.5\"/>\n<polygon fill=\"black\" stroke=\"black\" points=\"176,-87 186,-83.5 176,-80 176,-87\"/>\n</g>\n<!-- 139700899608656 -->\n<g id=\"node7\" class=\"node\">\n<title>139700899608656</title>\n<polygon fill=\"none\" stroke=\"black\" points=\"0,-93.5 0,-139.5 60,-139.5 60,-93.5 0,-93.5\"/>\n<text text-anchor=\"middle\" x=\"30\" y=\"-124.3\" font-family=\"Times,serif\" font-size=\"14.00\">Input</text>\n<polyline fill=\"none\" stroke=\"black\" points=\"0,-116.5 60,-116.5 \"/>\n<text text-anchor=\"middle\" x=\"30\" y=\"-101.3\" font-family=\"Times,serif\" font-size=\"14.00\">grad()</text>\n</g>\n<!-- 139700899608656&#45;&gt;139698623878768@ -->\n<g id=\"edge6\" class=\"edge\">\n<title>139700899608656&#45;&gt;139698623878768@</title>\n<path fill=\"none\" stroke=\"black\" d=\"M60.04,-105.97C69.39,-102.58 79.8,-98.8 89.38,-95.33\"/>\n<polygon fill=\"black\" stroke=\"black\" points=\"90.78,-98.55 98.98,-91.85 88.39,-91.97 90.78,-98.55\"/>\n</g>\n<!-- 139698623639312 -->\n<g id=\"node8\" class=\"node\">\n<title>139698623639312</title>\n<polygon fill=\"none\" stroke=\"black\" points=\"0,-28.5 0,-74.5 60,-74.5 60,-28.5 0,-28.5\"/>\n<text text-anchor=\"middle\" x=\"30\" y=\"-59.3\" font-family=\"Times,serif\" font-size=\"14.00\">L1</text>\n<polyline fill=\"none\" stroke=\"black\" points=\"0,-51.5 60,-51.5 \"/>\n<text text-anchor=\"middle\" x=\"30\" y=\"-36.3\" font-family=\"Times,serif\" font-size=\"14.00\">grad()</text>\n</g>\n<!-- 139698623639312&#45;&gt;139698623878768@ -->\n<g id=\"edge7\" class=\"edge\">\n<title>139698623639312&#45;&gt;139698623878768@</title>\n<path fill=\"none\" stroke=\"black\" d=\"M60.04,-61.71C69.31,-64.97 79.63,-68.6 89.14,-71.95\"/>\n<polygon fill=\"black\" stroke=\"black\" points=\"88.1,-75.29 98.69,-75.3 90.42,-68.68 88.1,-75.29\"/>\n</g>\n<!-- 139700899627120 -->\n<g id=\"node9\" class=\"node\">\n<title>139700899627120</title>\n<polygon fill=\"none\" stroke=\"black\" points=\"463.49,-0.5 463.49,-46.5 523.49,-46.5 523.49,-0.5 463.49,-0.5\"/>\n<text text-anchor=\"middle\" x=\"493.49\" y=\"-31.3\" font-family=\"Times,serif\" font-size=\"14.00\">L2</text>\n<polyline fill=\"none\" stroke=\"black\" points=\"463.49,-23.5 523.49,-23.5 \"/>\n<text text-anchor=\"middle\" x=\"493.49\" y=\"-8.3\" font-family=\"Times,serif\" font-size=\"14.00\">grad()</text>\n</g>\n<!-- 139700899627120&#45;&gt;139698623877856@ -->\n<g id=\"edge8\" class=\"edge\">\n<title>139700899627120&#45;&gt;139698623877856@</title>\n<path fill=\"none\" stroke=\"black\" d=\"M523.54,-30.76C540.55,-35.01 562.13,-40.41 580.01,-44.88\"/>\n<polygon fill=\"black\" stroke=\"black\" points=\"579.22,-48.29 589.77,-47.32 580.91,-41.5 579.22,-48.29\"/>\n</g>\n</g>\n</svg>\n",
      "text/plain": [
       "<graphviz.graphs.Digraph at 0x7f0ea67ef6d0>"
      ]
     },
     "execution_count": 3,
     "metadata": {},
     "output_type": "execute_result"
    }
   ],
   "source": [
    "class EduNet1:\n",
    "    def __init__(self):\n",
    "        self.l1 = Tensor.uniform(784, 128, requires_grad=True, label=\"L1\")\n",
    "        self.l2 = Tensor.uniform(128, 10, requires_grad=True, label=\"L2\")\n",
    "\n",
    "    def __call__(self, x):\n",
    "        x = x @ self.l1\n",
    "        x = x.relu()\n",
    "        x = x @ self.l2\n",
    "        return x\n",
    "\n",
    "model = EduNet1()\n",
    "dummy_tensor = Tensor([X_train[0].reshape(28*28)], requires_grad=True, label=\"Input\")\n",
    "dummy_output = model(dummy_tensor)\n",
    "dummy_output.graph"
   ]
  },
  {
   "cell_type": "code",
   "execution_count": 4,
   "metadata": {},
   "outputs": [],
   "source": [
    "# Stochastic gradient descent\n",
    "class SGD:\n",
    "    def __init__(self, params, lr=0.001):\n",
    "        self.lr = lr\n",
    "        self.params = params\n",
    "\n",
    "    def step(self):\n",
    "        for t in self.params:\n",
    "            t.assign(t.data - t.grad * self.lr)\n",
    "\n",
    "    def zero_grad(self):\n",
    "        for param in self.params:\n",
    "            param.grad = None"
   ]
  },
  {
   "cell_type": "code",
   "execution_count": 5,
   "metadata": {},
   "outputs": [
    {
     "name": "stdout",
     "output_type": "stream",
     "text": [
      "tensor([[ 0.58949345, -0.13856423,  0.6949429 , ..., -0.26614568,\n",
      "        -0.5698243 , -0.61355543],\n",
      "       [ 0.83691657, -0.8224821 , -0.12857437, ...,  0.24716638,\n",
      "        -0.2488225 ,  0.6120999 ],\n",
      "       [ 0.83757436, -0.02423477, -0.2269396 , ...,  0.3924028 ,\n",
      "         0.75958025, -0.87022686],\n",
      "       ...,\n",
      "       [-0.46676138, -0.2293785 , -0.9640177 , ..., -0.5185701 ,\n",
      "         0.18635638, -0.65620655],\n",
      "       [-0.6646158 ,  0.08879462,  0.78009325, ...,  0.5991789 ,\n",
      "        -0.09625444,  0.33003768],\n",
      "       [-0.05705633, -0.5970342 , -0.9759007 , ..., -0.3061328 ,\n",
      "         0.2965393 , -0.10174816]], dtype=float32, requires_grad=True)\n"
     ]
    },
    {
     "name": "stderr",
     "output_type": "stream",
     "text": [
      "  0%|          | 0/100 [00:00<?, ?it/s]/home/goncalo/edunets/edunets/tensor.py:281: RuntimeWarning: overflow encountered in exp\n",
      "  f = Tensor(np.exp(a.data))._parent_of((a, ))._result_of_op('e')\n",
      "/home/goncalo/edunets/edunets/tensor.py:318: RuntimeWarning: invalid value encountered in matmul\n",
      "  a._update_grad(f.grad @ b.data.T)\n",
      "/home/goncalo/edunets/edunets/tensor.py:319: RuntimeWarning: invalid value encountered in matmul\n",
      "  b._update_grad(a.data.T @ f.grad)\n",
      "loss nan accuracy 0.08: 100%|██████████| 100/100 [00:01<00:00, 91.33it/s]\n"
     ]
    },
    {
     "name": "stdout",
     "output_type": "stream",
     "text": [
      "tensor([[nan, nan, nan, ..., nan, nan, nan],\n",
      "       [nan, nan, nan, ..., nan, nan, nan],\n",
      "       [nan, nan, nan, ..., nan, nan, nan],\n",
      "       ...,\n",
      "       [nan, nan, nan, ..., nan, nan, nan],\n",
      "       [nan, nan, nan, ..., nan, nan, nan],\n",
      "       [nan, nan, nan, ..., nan, nan, nan]], dtype=float32, requires_grad=True)\n"
     ]
    },
    {
     "data": {
      "image/svg+xml": "<?xml version=\"1.0\" encoding=\"UTF-8\" standalone=\"no\"?>\n<!DOCTYPE svg PUBLIC \"-//W3C//DTD SVG 1.1//EN\"\n \"http://www.w3.org/Graphics/SVG/1.1/DTD/svg11.dtd\">\n<!-- Generated by graphviz version 2.50.0 (0)\n -->\n<!-- Pages: 1 -->\n<svg width=\"2264pt\" height=\"196pt\"\n viewBox=\"0.00 0.00 2264.38 196.00\" xmlns=\"http://www.w3.org/2000/svg\" xmlns:xlink=\"http://www.w3.org/1999/xlink\">\n<g id=\"graph0\" class=\"graph\" transform=\"scale(1 1) rotate(0) translate(4 192)\">\n<polygon fill=\"white\" stroke=\"transparent\" points=\"-4,4 -4,-192 2260.38,-192 2260.38,4 -4,4\"/>\n<!-- 139698614047216 -->\n<g id=\"node1\" class=\"node\">\n<title>139698614047216</title>\n<polygon fill=\"none\" stroke=\"black\" points=\"2202.38,-27.5 2202.38,-63.5 2256.38,-63.5 2256.38,-27.5 2202.38,-27.5\"/>\n<text text-anchor=\"middle\" x=\"2229.38\" y=\"-41.8\" font-family=\"Times,serif\" font-size=\"14.00\">[nan]</text>\n</g>\n<!-- 139698614047216* -->\n<g id=\"node2\" class=\"node\">\n<title>139698614047216*</title>\n<ellipse fill=\"none\" stroke=\"black\" cx=\"2139.38\" cy=\"-45.5\" rx=\"27\" ry=\"18\"/>\n<text text-anchor=\"middle\" x=\"2139.38\" y=\"-41.8\" font-family=\"Times,serif\" font-size=\"14.00\">*</text>\n</g>\n<!-- 139698614047216*&#45;&gt;139698614047216 -->\n<g id=\"edge1\" class=\"edge\">\n<title>139698614047216*&#45;&gt;139698614047216</title>\n<path fill=\"none\" stroke=\"black\" d=\"M2166.79,-45.5C2174.78,-45.5 2183.69,-45.5 2192.21,-45.5\"/>\n<polygon fill=\"black\" stroke=\"black\" points=\"2192.3,-49 2202.3,-45.5 2192.3,-42 2192.3,-49\"/>\n</g>\n<!-- 139698614049856 -->\n<g id=\"node3\" class=\"node\">\n<title>139698614049856</title>\n<polygon fill=\"none\" stroke=\"black\" points=\"2001.88,-55.5 2001.88,-91.5 2055.88,-91.5 2055.88,-55.5 2001.88,-55.5\"/>\n<text text-anchor=\"middle\" x=\"2028.88\" y=\"-69.8\" font-family=\"Times,serif\" font-size=\"14.00\">[nan]</text>\n</g>\n<!-- 139698614049856&#45;&gt;139698614047216* -->\n<g id=\"edge12\" class=\"edge\">\n<title>139698614049856&#45;&gt;139698614047216*</title>\n<path fill=\"none\" stroke=\"black\" d=\"M2056.15,-66.72C2070.55,-63 2088.58,-58.35 2104.09,-54.35\"/>\n<polygon fill=\"black\" stroke=\"black\" points=\"2105.04,-57.72 2113.85,-51.83 2103.29,-50.94 2105.04,-57.72\"/>\n</g>\n<!-- 139698614049856sum -->\n<g id=\"node4\" class=\"node\">\n<title>139698614049856sum</title>\n<ellipse fill=\"none\" stroke=\"black\" cx=\"1914.84\" cy=\"-73.5\" rx=\"30.59\" ry=\"18\"/>\n<text text-anchor=\"middle\" x=\"1914.84\" y=\"-69.8\" font-family=\"Times,serif\" font-size=\"14.00\">sum</text>\n</g>\n<!-- 139698614049856sum&#45;&gt;139698614049856 -->\n<g id=\"edge2\" class=\"edge\">\n<title>139698614049856sum&#45;&gt;139698614049856</title>\n<path fill=\"none\" stroke=\"black\" d=\"M1945.57,-73.5C1959.65,-73.5 1976.61,-73.5 1991.46,-73.5\"/>\n<polygon fill=\"black\" stroke=\"black\" points=\"1991.83,-77 2001.83,-73.5 1991.83,-70 1991.83,-77\"/>\n</g>\n<!-- 139698614049904 -->\n<g id=\"node5\" class=\"node\">\n<title>139698614049904</title>\n<polygon fill=\"none\" stroke=\"black\" points=\"1753.29,-55.5 1753.29,-91.5 1848.29,-91.5 1848.29,-55.5 1753.29,-55.5\"/>\n<text text-anchor=\"middle\" x=\"1800.79\" y=\"-69.8\" font-family=\"Times,serif\" font-size=\"14.00\">tensor(64,)</text>\n</g>\n<!-- 139698614049904&#45;&gt;139698614049856sum -->\n<g id=\"edge13\" class=\"edge\">\n<title>139698614049904&#45;&gt;139698614049856sum</title>\n<path fill=\"none\" stroke=\"black\" d=\"M1848.33,-73.5C1856.87,-73.5 1865.72,-73.5 1874.04,-73.5\"/>\n<polygon fill=\"black\" stroke=\"black\" points=\"1874.23,-77 1884.23,-73.5 1874.23,-70 1874.23,-77\"/>\n</g>\n<!-- 139698614049904+ -->\n<g id=\"node6\" class=\"node\">\n<title>139698614049904+</title>\n<ellipse fill=\"none\" stroke=\"black\" cx=\"1690.29\" cy=\"-73.5\" rx=\"27\" ry=\"18\"/>\n<text text-anchor=\"middle\" x=\"1690.29\" y=\"-69.8\" font-family=\"Times,serif\" font-size=\"14.00\">+</text>\n</g>\n<!-- 139698614049904+&#45;&gt;139698614049904 -->\n<g id=\"edge3\" class=\"edge\">\n<title>139698614049904+&#45;&gt;139698614049904</title>\n<path fill=\"none\" stroke=\"black\" d=\"M1717.55,-73.5C1725.3,-73.5 1734.09,-73.5 1742.98,-73.5\"/>\n<polygon fill=\"black\" stroke=\"black\" points=\"1743,-77 1753,-73.5 1743,-70 1743,-77\"/>\n</g>\n<!-- 139698614047120 -->\n<g id=\"node7\" class=\"node\">\n<title>139698614047120</title>\n<polygon fill=\"none\" stroke=\"black\" points=\"1401.29,-83.5 1401.29,-119.5 1496.29,-119.5 1496.29,-83.5 1401.29,-83.5\"/>\n<text text-anchor=\"middle\" x=\"1448.79\" y=\"-97.8\" font-family=\"Times,serif\" font-size=\"14.00\">tensor(64,)</text>\n</g>\n<!-- 139698614047120&#45;&gt;139698614049904+ -->\n<g id=\"edge14\" class=\"edge\">\n<title>139698614047120&#45;&gt;139698614049904+</title>\n<path fill=\"none\" stroke=\"black\" d=\"M1496.53,-96.03C1542.47,-90.67 1611.57,-82.59 1653.36,-77.7\"/>\n<polygon fill=\"black\" stroke=\"black\" points=\"1653.83,-81.17 1663.36,-76.53 1653.02,-74.22 1653.83,-81.17\"/>\n</g>\n<!-- 139698614047120* -->\n<g id=\"node8\" class=\"node\">\n<title>139698614047120*</title>\n<ellipse fill=\"none\" stroke=\"black\" cx=\"1197.89\" cy=\"-101.5\" rx=\"27\" ry=\"18\"/>\n<text text-anchor=\"middle\" x=\"1197.89\" y=\"-97.8\" font-family=\"Times,serif\" font-size=\"14.00\">*</text>\n</g>\n<!-- 139698614047120*&#45;&gt;139698614047120 -->\n<g id=\"edge4\" class=\"edge\">\n<title>139698614047120*&#45;&gt;139698614047120</title>\n<path fill=\"none\" stroke=\"black\" d=\"M1225.06,-101.5C1264.14,-101.5 1338.72,-101.5 1390.77,-101.5\"/>\n<polygon fill=\"black\" stroke=\"black\" points=\"1390.86,-105 1400.86,-101.5 1390.86,-98 1390.86,-105\"/>\n</g>\n<!-- 139698614047264 -->\n<g id=\"node9\" class=\"node\">\n<title>139698614047264</title>\n<polygon fill=\"none\" stroke=\"black\" points=\"1018.99,-138.5 1018.99,-174.5 1113.99,-174.5 1113.99,-138.5 1018.99,-138.5\"/>\n<text text-anchor=\"middle\" x=\"1066.49\" y=\"-152.8\" font-family=\"Times,serif\" font-size=\"14.00\">tensor(64,)</text>\n</g>\n<!-- 139698614047264&#45;&gt;139698614047120* -->\n<g id=\"edge15\" class=\"edge\">\n<title>139698614047264&#45;&gt;139698614047120*</title>\n<path fill=\"none\" stroke=\"black\" d=\"M1109.86,-138.49C1127.98,-130.79 1148.75,-121.96 1165.46,-114.86\"/>\n<polygon fill=\"black\" stroke=\"black\" points=\"1166.95,-118.03 1174.78,-110.9 1164.21,-111.59 1166.95,-118.03\"/>\n</g>\n<!-- 139698614047264[*] -->\n<g id=\"node10\" class=\"node\">\n<title>139698614047264[*]</title>\n<ellipse fill=\"none\" stroke=\"black\" cx=\"944.49\" cy=\"-142.5\" rx=\"27\" ry=\"18\"/>\n<text text-anchor=\"middle\" x=\"944.49\" y=\"-138.8\" font-family=\"Times,serif\" font-size=\"14.00\">[*]</text>\n</g>\n<!-- 139698614047264[*]&#45;&gt;139698614047264 -->\n<g id=\"edge5\" class=\"edge\">\n<title>139698614047264[*]&#45;&gt;139698614047264</title>\n<path fill=\"none\" stroke=\"black\" d=\"M971.24,-145.5C982.32,-146.8 995.75,-148.36 1008.96,-149.9\"/>\n<polygon fill=\"black\" stroke=\"black\" points=\"1008.64,-153.39 1018.97,-151.07 1009.45,-146.44 1008.64,-153.39\"/>\n</g>\n<!-- 139698614284496 -->\n<g id=\"node11\" class=\"node\">\n<title>139698614284496</title>\n<polygon fill=\"none\" stroke=\"black\" points=\"763.49,-83.5 763.49,-119.5 881.49,-119.5 881.49,-83.5 763.49,-83.5\"/>\n<text text-anchor=\"middle\" x=\"822.49\" y=\"-97.8\" font-family=\"Times,serif\" font-size=\"14.00\">tensor(64, 10)</text>\n</g>\n<!-- 139698614284496&#45;&gt;139698614047264[*] -->\n<g id=\"edge16\" class=\"edge\">\n<title>139698614284496&#45;&gt;139698614047264[*]</title>\n<path fill=\"none\" stroke=\"black\" d=\"M876.48,-119.6C888.09,-123.57 900.05,-127.66 910.6,-131.26\"/>\n<polygon fill=\"black\" stroke=\"black\" points=\"909.63,-134.63 920.22,-134.55 911.89,-128 909.63,-134.63\"/>\n</g>\n<!-- 139698614046784e -->\n<g id=\"node26\" class=\"node\">\n<title>139698614046784e</title>\n<ellipse fill=\"none\" stroke=\"black\" cx=\"944.49\" cy=\"-74.5\" rx=\"27\" ry=\"18\"/>\n<text text-anchor=\"middle\" x=\"944.49\" y=\"-70.8\" font-family=\"Times,serif\" font-size=\"14.00\">e</text>\n</g>\n<!-- 139698614284496&#45;&gt;139698614046784e -->\n<g id=\"edge26\" class=\"edge\">\n<title>139698614284496&#45;&gt;139698614046784e</title>\n<path fill=\"none\" stroke=\"black\" d=\"M881.74,-88.4C890.99,-86.31 900.3,-84.22 908.79,-82.31\"/>\n<polygon fill=\"black\" stroke=\"black\" points=\"909.68,-85.7 918.67,-80.09 908.14,-78.87 909.68,-85.7\"/>\n</g>\n<!-- 139698614284496@ -->\n<g id=\"node12\" class=\"node\">\n<title>139698614284496@</title>\n<ellipse fill=\"none\" stroke=\"black\" cx=\"700.49\" cy=\"-101.5\" rx=\"27\" ry=\"18\"/>\n<text text-anchor=\"middle\" x=\"700.49\" y=\"-97.8\" font-family=\"Times,serif\" font-size=\"14.00\">@</text>\n</g>\n<!-- 139698614284496@&#45;&gt;139698614284496 -->\n<g id=\"edge6\" class=\"edge\">\n<title>139698614284496@&#45;&gt;139698614284496</title>\n<path fill=\"none\" stroke=\"black\" d=\"M727.53,-101.5C735.33,-101.5 744.27,-101.5 753.46,-101.5\"/>\n<polygon fill=\"black\" stroke=\"black\" points=\"753.49,-105 763.49,-101.5 753.49,-98 753.49,-105\"/>\n</g>\n<!-- 139698614286224 -->\n<g id=\"node13\" class=\"node\">\n<title>139698614286224</title>\n<polygon fill=\"none\" stroke=\"black\" points=\"510.49,-113.5 510.49,-149.5 637.49,-149.5 637.49,-113.5 510.49,-113.5\"/>\n<text text-anchor=\"middle\" x=\"573.99\" y=\"-127.8\" font-family=\"Times,serif\" font-size=\"14.00\">tensor(64, 128)</text>\n</g>\n<!-- 139698614286224&#45;&gt;139698614284496@ -->\n<g id=\"edge17\" class=\"edge\">\n<title>139698614286224&#45;&gt;139698614284496@</title>\n<path fill=\"none\" stroke=\"black\" d=\"M637.61,-116.41C646.99,-114.15 656.37,-111.89 664.88,-109.84\"/>\n<polygon fill=\"black\" stroke=\"black\" points=\"665.87,-113.2 674.77,-107.46 664.23,-106.4 665.87,-113.2\"/>\n</g>\n<!-- 139698614286224relu -->\n<g id=\"node14\" class=\"node\">\n<title>139698614286224relu</title>\n<ellipse fill=\"none\" stroke=\"black\" cx=\"445.25\" cy=\"-131.5\" rx=\"29.5\" ry=\"18\"/>\n<text text-anchor=\"middle\" x=\"445.25\" y=\"-127.8\" font-family=\"Times,serif\" font-size=\"14.00\">relu</text>\n</g>\n<!-- 139698614286224relu&#45;&gt;139698614286224 -->\n<g id=\"edge7\" class=\"edge\">\n<title>139698614286224relu&#45;&gt;139698614286224</title>\n<path fill=\"none\" stroke=\"black\" d=\"M474.69,-131.5C482.43,-131.5 491.19,-131.5 500.2,-131.5\"/>\n<polygon fill=\"black\" stroke=\"black\" points=\"500.45,-135 510.45,-131.5 500.45,-128 500.45,-135\"/>\n</g>\n<!-- 139698614288048 -->\n<g id=\"node15\" class=\"node\">\n<title>139698614288048</title>\n<polygon fill=\"none\" stroke=\"black\" points=\"253,-113.5 253,-149.5 380,-149.5 380,-113.5 253,-113.5\"/>\n<text text-anchor=\"middle\" x=\"316.5\" y=\"-127.8\" font-family=\"Times,serif\" font-size=\"14.00\">tensor(64, 128)</text>\n</g>\n<!-- 139698614288048&#45;&gt;139698614286224relu -->\n<g id=\"edge18\" class=\"edge\">\n<title>139698614288048&#45;&gt;139698614286224relu</title>\n<path fill=\"none\" stroke=\"black\" d=\"M380.13,-131.5C388.8,-131.5 397.5,-131.5 405.56,-131.5\"/>\n<polygon fill=\"black\" stroke=\"black\" points=\"405.73,-135 415.73,-131.5 405.73,-128 405.73,-135\"/>\n</g>\n<!-- 139698614288048@ -->\n<g id=\"node16\" class=\"node\">\n<title>139698614288048@</title>\n<ellipse fill=\"none\" stroke=\"black\" cx=\"190\" cy=\"-131.5\" rx=\"27\" ry=\"18\"/>\n<text text-anchor=\"middle\" x=\"190\" y=\"-127.8\" font-family=\"Times,serif\" font-size=\"14.00\">@</text>\n</g>\n<!-- 139698614288048@&#45;&gt;139698614288048 -->\n<g id=\"edge8\" class=\"edge\">\n<title>139698614288048@&#45;&gt;139698614288048</title>\n<path fill=\"none\" stroke=\"black\" d=\"M217.1,-131.5C224.71,-131.5 233.44,-131.5 242.47,-131.5\"/>\n<polygon fill=\"black\" stroke=\"black\" points=\"242.76,-135 252.76,-131.5 242.76,-128 242.76,-135\"/>\n</g>\n<!-- 139698614286752 -->\n<g id=\"node17\" class=\"node\">\n<title>139698614286752</title>\n<polygon fill=\"none\" stroke=\"black\" points=\"0,-141.5 0,-187.5 127,-187.5 127,-141.5 0,-141.5\"/>\n<text text-anchor=\"middle\" x=\"63.5\" y=\"-172.3\" font-family=\"Times,serif\" font-size=\"14.00\">tensor(64, 784)</text>\n<polyline fill=\"none\" stroke=\"black\" points=\"0,-164.5 127,-164.5 \"/>\n<text text-anchor=\"middle\" x=\"63.5\" y=\"-149.3\" font-family=\"Times,serif\" font-size=\"14.00\">grad(64, 784)</text>\n</g>\n<!-- 139698614286752&#45;&gt;139698614288048@ -->\n<g id=\"edge19\" class=\"edge\">\n<title>139698614286752&#45;&gt;139698614288048@</title>\n<path fill=\"none\" stroke=\"black\" d=\"M127.11,-147.9C136.69,-145.37 146.25,-142.83 154.9,-140.54\"/>\n<polygon fill=\"black\" stroke=\"black\" points=\"155.8,-143.92 164.57,-137.97 154.01,-137.15 155.8,-143.92\"/>\n</g>\n<!-- 139698623567280 -->\n<g id=\"node18\" class=\"node\">\n<title>139698623567280</title>\n<polygon fill=\"none\" stroke=\"black\" points=\"2,-76.5 2,-122.5 125,-122.5 125,-76.5 2,-76.5\"/>\n<text text-anchor=\"middle\" x=\"63.5\" y=\"-107.3\" font-family=\"Times,serif\" font-size=\"14.00\">L1</text>\n<polyline fill=\"none\" stroke=\"black\" points=\"2,-99.5 125,-99.5 \"/>\n<text text-anchor=\"middle\" x=\"63.5\" y=\"-84.3\" font-family=\"Times,serif\" font-size=\"14.00\">grad(784, 128)</text>\n</g>\n<!-- 139698623567280&#45;&gt;139698614288048@ -->\n<g id=\"edge20\" class=\"edge\">\n<title>139698623567280&#45;&gt;139698614288048@</title>\n<path fill=\"none\" stroke=\"black\" d=\"M125.29,-115.13C135.43,-117.73 145.61,-120.35 154.78,-122.7\"/>\n<polygon fill=\"black\" stroke=\"black\" points=\"154.07,-126.14 164.63,-125.24 155.82,-119.36 154.07,-126.14\"/>\n</g>\n<!-- 139700899607312 -->\n<g id=\"node19\" class=\"node\">\n<title>139700899607312</title>\n<polygon fill=\"none\" stroke=\"black\" points=\"516.99,-48.5 516.99,-94.5 630.99,-94.5 630.99,-48.5 516.99,-48.5\"/>\n<text text-anchor=\"middle\" x=\"573.99\" y=\"-79.3\" font-family=\"Times,serif\" font-size=\"14.00\">L2</text>\n<polyline fill=\"none\" stroke=\"black\" points=\"516.99,-71.5 630.99,-71.5 \"/>\n<text text-anchor=\"middle\" x=\"573.99\" y=\"-56.3\" font-family=\"Times,serif\" font-size=\"14.00\">grad(128, 10)</text>\n</g>\n<!-- 139700899607312&#45;&gt;139698614284496@ -->\n<g id=\"edge21\" class=\"edge\">\n<title>139700899607312&#45;&gt;139698614284496@</title>\n<path fill=\"none\" stroke=\"black\" d=\"M631.05,-85.01C642.57,-87.78 654.38,-90.63 664.87,-93.16\"/>\n<polygon fill=\"black\" stroke=\"black\" points=\"664.33,-96.63 674.87,-95.57 665.97,-89.82 664.33,-96.63\"/>\n</g>\n<!-- 139698614047168 -->\n<g id=\"node20\" class=\"node\">\n<title>139698614047168</title>\n<polygon fill=\"none\" stroke=\"black\" points=\"1039.49,-83.5 1039.49,-119.5 1093.49,-119.5 1093.49,-83.5 1039.49,-83.5\"/>\n<text text-anchor=\"middle\" x=\"1066.49\" y=\"-97.8\" font-family=\"Times,serif\" font-size=\"14.00\">[&#45;1.]</text>\n</g>\n<!-- 139698614047168&#45;&gt;139698614047120* -->\n<g id=\"edge22\" class=\"edge\">\n<title>139698614047168&#45;&gt;139698614047120*</title>\n<path fill=\"none\" stroke=\"black\" d=\"M1093.68,-101.5C1112.89,-101.5 1139.21,-101.5 1160.46,-101.5\"/>\n<polygon fill=\"black\" stroke=\"black\" points=\"1160.75,-105 1170.75,-101.5 1160.75,-98 1160.75,-105\"/>\n</g>\n<!-- 139698614049184 -->\n<g id=\"node21\" class=\"node\">\n<title>139698614049184</title>\n<polygon fill=\"none\" stroke=\"black\" points=\"1532.29,-32.5 1532.29,-68.5 1627.29,-68.5 1627.29,-32.5 1532.29,-32.5\"/>\n<text text-anchor=\"middle\" x=\"1579.79\" y=\"-46.8\" font-family=\"Times,serif\" font-size=\"14.00\">tensor(64,)</text>\n</g>\n<!-- 139698614049184&#45;&gt;139698614049904+ -->\n<g id=\"edge23\" class=\"edge\">\n<title>139698614049184&#45;&gt;139698614049904+</title>\n<path fill=\"none\" stroke=\"black\" d=\"M1627.43,-60.39C1636.42,-62.29 1645.68,-64.26 1654.22,-66.07\"/>\n<polygon fill=\"black\" stroke=\"black\" points=\"1653.7,-69.53 1664.21,-68.18 1655.15,-62.69 1653.7,-69.53\"/>\n</g>\n<!-- 139698614049184log -->\n<g id=\"node22\" class=\"node\">\n<title>139698614049184log</title>\n<ellipse fill=\"none\" stroke=\"black\" cx=\"1448.79\" cy=\"-46.5\" rx=\"27\" ry=\"18\"/>\n<text text-anchor=\"middle\" x=\"1448.79\" y=\"-42.8\" font-family=\"Times,serif\" font-size=\"14.00\">log</text>\n</g>\n<!-- 139698614049184log&#45;&gt;139698614049184 -->\n<g id=\"edge9\" class=\"edge\">\n<title>139698614049184log&#45;&gt;139698614049184</title>\n<path fill=\"none\" stroke=\"black\" d=\"M1475.89,-47.31C1489.12,-47.72 1505.73,-48.23 1521.73,-48.73\"/>\n<polygon fill=\"black\" stroke=\"black\" points=\"1522,-52.24 1532.11,-49.05 1522.22,-45.24 1522,-52.24\"/>\n</g>\n<!-- 139698614047888 -->\n<g id=\"node23\" class=\"node\">\n<title>139698614047888</title>\n<polygon fill=\"none\" stroke=\"black\" points=\"1270.29,-28.5 1270.29,-64.5 1365.29,-64.5 1365.29,-28.5 1270.29,-28.5\"/>\n<text text-anchor=\"middle\" x=\"1317.79\" y=\"-42.8\" font-family=\"Times,serif\" font-size=\"14.00\">tensor(64,)</text>\n</g>\n<!-- 139698614047888&#45;&gt;139698614049184log -->\n<g id=\"edge24\" class=\"edge\">\n<title>139698614047888&#45;&gt;139698614049184log</title>\n<path fill=\"none\" stroke=\"black\" d=\"M1365.36,-46.5C1380.43,-46.5 1396.91,-46.5 1411.15,-46.5\"/>\n<polygon fill=\"black\" stroke=\"black\" points=\"1411.55,-50 1421.55,-46.5 1411.55,-43 1411.55,-50\"/>\n</g>\n<!-- 139698614047888sum1 -->\n<g id=\"node24\" class=\"node\">\n<title>139698614047888sum1</title>\n<ellipse fill=\"none\" stroke=\"black\" cx=\"1197.89\" cy=\"-46.5\" rx=\"36.29\" ry=\"18\"/>\n<text text-anchor=\"middle\" x=\"1197.89\" y=\"-42.8\" font-family=\"Times,serif\" font-size=\"14.00\">sum1</text>\n</g>\n<!-- 139698614047888sum1&#45;&gt;139698614047888 -->\n<g id=\"edge10\" class=\"edge\">\n<title>139698614047888sum1&#45;&gt;139698614047888</title>\n<path fill=\"none\" stroke=\"black\" d=\"M1234.58,-46.5C1242.57,-46.5 1251.24,-46.5 1259.85,-46.5\"/>\n<polygon fill=\"black\" stroke=\"black\" points=\"1259.89,-50 1269.89,-46.5 1259.89,-43 1259.89,-50\"/>\n</g>\n<!-- 139698614046784 -->\n<g id=\"node25\" class=\"node\">\n<title>139698614046784</title>\n<polygon fill=\"none\" stroke=\"black\" points=\"1007.49,-28.5 1007.49,-64.5 1125.49,-64.5 1125.49,-28.5 1007.49,-28.5\"/>\n<text text-anchor=\"middle\" x=\"1066.49\" y=\"-42.8\" font-family=\"Times,serif\" font-size=\"14.00\">tensor(64, 10)</text>\n</g>\n<!-- 139698614046784&#45;&gt;139698614047888sum1 -->\n<g id=\"edge25\" class=\"edge\">\n<title>139698614046784&#45;&gt;139698614047888sum1</title>\n<path fill=\"none\" stroke=\"black\" d=\"M1125.76,-46.5C1134.25,-46.5 1142.89,-46.5 1151.08,-46.5\"/>\n<polygon fill=\"black\" stroke=\"black\" points=\"1151.18,-50 1161.18,-46.5 1151.18,-43 1151.18,-50\"/>\n</g>\n<!-- 139698614046784e&#45;&gt;139698614046784 -->\n<g id=\"edge11\" class=\"edge\">\n<title>139698614046784e&#45;&gt;139698614046784</title>\n<path fill=\"none\" stroke=\"black\" d=\"M970.36,-68.7C978.31,-66.84 987.53,-64.69 997.03,-62.47\"/>\n<polygon fill=\"black\" stroke=\"black\" points=\"998.06,-65.83 1007.01,-60.15 996.47,-59.01 998.06,-65.83\"/>\n</g>\n<!-- 139698614049424 -->\n<g id=\"node27\" class=\"node\">\n<title>139698614049424</title>\n<polygon fill=\"none\" stroke=\"black\" points=\"1981.38,-0.5 1981.38,-36.5 2076.38,-36.5 2076.38,-0.5 1981.38,-0.5\"/>\n<text text-anchor=\"middle\" x=\"2028.88\" y=\"-14.8\" font-family=\"Times,serif\" font-size=\"14.00\">[0.015625]</text>\n</g>\n<!-- 139698614049424&#45;&gt;139698614047216* -->\n<g id=\"edge27\" class=\"edge\">\n<title>139698614049424&#45;&gt;139698614047216*</title>\n<path fill=\"none\" stroke=\"black\" d=\"M2076.53,-30.11C2085.77,-32.41 2095.32,-34.78 2104.07,-36.96\"/>\n<polygon fill=\"black\" stroke=\"black\" points=\"2103.35,-40.39 2113.9,-39.41 2105.04,-33.6 2103.35,-40.39\"/>\n</g>\n</g>\n</svg>\n",
      "text/plain": [
       "<graphviz.graphs.Digraph at 0x7f0e1e4414f0>"
      ]
     },
     "execution_count": 5,
     "metadata": {},
     "output_type": "execute_result"
    }
   ],
   "source": [
    "from edunets.losses import CrossEntropyLoss\n",
    "\n",
    "model = EduNet1()\n",
    "\n",
    "loss_fn = CrossEntropyLoss(reduction=\"mean\")\n",
    "optim = SGD([model.l1, model.l2], lr=0.001)\n",
    "batch_size = 64\n",
    "epochs = 100\n",
    "losses, accuracies = [], []\n",
    "\n",
    "print(model.l1)\n",
    "\n",
    "for i in (t := trange(epochs)):\n",
    "    samp = np.random.randint(0, X_train.shape[0], size=(batch_size))\n",
    "\n",
    "    X = Tensor(X_train[samp].reshape((-1, 28*28)), requires_grad=True)\n",
    "    Y = Tensor(Y_train[samp])\n",
    "\n",
    "    out = model(X)\n",
    "    \n",
    "    cat = functions.argmax(out, axis=1)\n",
    "    \n",
    "    accuracy = (cat == Y).mean()\n",
    "\n",
    "    loss = loss_fn.forward(out, Y)\n",
    "    \n",
    "    optim.zero_grad()\n",
    "    \n",
    "    loss.backward()\n",
    "    \n",
    "    optim.step()\n",
    "    \n",
    "    losses.append(loss.data)\n",
    "    \n",
    "    accuracies.append(accuracy.data)\n",
    "    \n",
    "    t.set_description(\"loss %.2f accuracy %.2f\" % (loss.data, accuracy.data))\n",
    "\n",
    "print(model.l1)\n",
    "loss.graph\n"
   ]
  }
 ],
 "metadata": {
  "kernelspec": {
   "display_name": "pi_env",
   "language": "python",
   "name": "python3"
  },
  "language_info": {
   "codemirror_mode": {
    "name": "ipython",
    "version": 3
   },
   "file_extension": ".py",
   "mimetype": "text/x-python",
   "name": "python",
   "nbconvert_exporter": "python",
   "pygments_lexer": "ipython3",
   "version": "3.8.12"
  },
  "orig_nbformat": 4,
  "vscode": {
   "interpreter": {
    "hash": "7dbd43346cf4060a7c5249e62daf2cb2395365dab3b14076ef7b34680f245741"
   }
  }
 },
 "nbformat": 4,
 "nbformat_minor": 2
}
