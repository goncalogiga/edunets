{
 "cells": [
  {
   "cell_type": "code",
   "execution_count": 1,
   "metadata": {},
   "outputs": [],
   "source": [
    "import torch\n",
    "import numpy as np\n",
    "import torch.nn as nn\n",
    "from tqdm import trange\n",
    "import torch.nn.functional as F\n",
    "import matplotlib.pyplot as plt\n",
    "\n",
    "from edunets import functions, losses\n",
    "from edunets.tensor import Tensor"
   ]
  },
  {
   "cell_type": "code",
   "execution_count": 2,
   "metadata": {},
   "outputs": [
    {
     "data": {
      "text/plain": [
       "(<matplotlib.image.AxesImage at 0x7f7314613ee0>, 5)"
      ]
     },
     "execution_count": 2,
     "metadata": {},
     "output_type": "execute_result"
    },
    {
     "data": {
      "image/png": "[encoded data removed]",
      "text/plain": [
       "<Figure size 432x288 with 1 Axes>"
      ]
     },
     "metadata": {
      "needs_background": "light"
     },
     "output_type": "display_data"
    }
   ],
   "source": [
    "# load the mnist dataset\n",
    "\n",
    "def fetch(url):\n",
    "    import requests, gzip, os, hashlib, numpy\n",
    "    fp = os.path.join(\"/tmp\", hashlib.md5(url.encode('utf-8')).hexdigest())\n",
    "    if os.path.isfile(fp):\n",
    "        with open(fp, \"rb\") as f:\n",
    "            dat = f.read()\n",
    "    else:\n",
    "        with open(fp, \"wb\") as f:\n",
    "            dat = requests.get(url).content\n",
    "            f.write(dat)\n",
    "    return numpy.frombuffer(gzip.decompress(dat), dtype=np.uint8).copy()\n",
    "\n",
    "X_train = fetch(\"http://yann.lecun.com/exdb/mnist/train-images-idx3-ubyte.gz\")[0x10:].reshape((-1, 28, 28))\n",
    "Y_train = fetch(\"http://yann.lecun.com/exdb/mnist/train-labels-idx1-ubyte.gz\")[8:]\n",
    "X_test = fetch(\"http://yann.lecun.com/exdb/mnist/t10k-images-idx3-ubyte.gz\")[0x10:].reshape((-1, 28, 28))\n",
    "Y_test = fetch(\"http://yann.lecun.com/exdb/mnist/t10k-labels-idx1-ubyte.gz\")[8:]\n",
    "\n",
    "plt.imshow(X_train[0]), Y_train[0]"
   ]
  },
  {
   "attachments": {},
   "cell_type": "markdown",
   "metadata": {},
   "source": [
    "# In Pytorch"
   ]
  },
  {
   "cell_type": "code",
   "execution_count": 8,
   "metadata": {},
   "outputs": [
    {
     "name": "stdout",
     "output_type": "stream",
     "text": [
      "Does dummy_tensor require a gradient ? False\n",
      "Does dummy_output require a gradient ? True\n"
     ]
    }
   ],
   "source": [
    "# Pytorch model and training tensors\n",
    "\n",
    "class TorchNet(nn.Module):\n",
    "    def __init__(self):\n",
    "        super(TorchNet, self).__init__()\n",
    "        self.l1 = nn.Linear(28*28, 128, bias=False)\n",
    "        self.l2 = nn.Linear(128, 10, bias=False)\n",
    "        self.sm = nn.Softmax(dim=1)\n",
    "\n",
    "    def forward(self, x):\n",
    "        x = self.l1(x) # first layer\n",
    "        x = F.relu(x)  # activation function\n",
    "        x = self.l2(x) # secound layer: down to 10 outputs\n",
    "        #x = self.sm(x) # softmax\n",
    "        return x\n",
    "\n",
    "model = TorchNet()\n",
    "dummy_tensor = torch.Tensor([X_train[0].reshape(28*28)])\n",
    "print(\"Does dummy_tensor require a gradient ?\", dummy_tensor.requires_grad)\n",
    "dummy_output = model(dummy_tensor)\n",
    "print(\"Does dummy_output require a gradient ?\", dummy_output.requires_grad)\n"
   ]
  },
  {
   "cell_type": "code",
   "execution_count": 9,
   "metadata": {},
   "outputs": [],
   "source": [
    "# Testing two different losses\n",
    "\n",
    "nn_NLLLoss = nn.NLLLoss(reduction=\"mean\")\n",
    "nn_MSELoss = nn.MSELoss(reduction=\"mean\")\n",
    "nn_CrossEntropyLoss = nn.CrossEntropyLoss(reduction=\"mean\")\n",
    "\n",
    "def NLLLoss(Y_pred, Y):\n",
    "    \"\"\"\n",
    "    works well (with a final LogSoftmax layer !)\n",
    "    \"\"\"\n",
    "    loss = nn_NLLLoss(Y_pred, Y)\n",
    "    accuracy = (torch.argmax(Y_pred, dim=1) == Y).float().mean().item()\n",
    "\n",
    "    return loss, accuracy\n",
    "\n",
    "def MSELoss(Y_pred, Y):\n",
    "    \"\"\"\n",
    "    doesn't work at all\n",
    "    \"\"\"\n",
    "    Y_one_hot = torch.zeros(Y.shape[0], 10)\n",
    "    slice = [(i, y) for i, y in enumerate(Y)] if Y.shape[0] > 1 else (0,Y[0])\n",
    "    Y_one_hot[slice] = 1.0\n",
    "\n",
    "    loss = nn_MSELoss(Y_pred, Y_one_hot)\n",
    "\n",
    "    accuracy = (torch.argmax(Y_pred, dim=1) == Y).float().mean().item()\n",
    "    \n",
    "    return loss, accuracy\n",
    "\n",
    "def CrossEntropyLoss(Y_pred, Y):\n",
    "    \"\"\"\n",
    "    works well \n",
    "    \"\"\"\n",
    "    loss = nn_CrossEntropyLoss(Y_pred, Y)\n",
    "    accuracy = (torch.argmax(Y_pred, dim=1) == Y).float().mean().item()\n",
    "\n",
    "    return loss, accuracy"
   ]
  },
  {
   "cell_type": "code",
   "execution_count": 10,
   "metadata": {},
   "outputs": [
    {
     "name": "stderr",
     "output_type": "stream",
     "text": [
      "loss 0.99 accuracy 0.72:   0%|          | 0/1000 [00:00<?, ?it/s] "
     ]
    },
    {
     "name": "stdout",
     "output_type": "stream",
     "text": [
      "Y_pred: tensor([ -3., -17.,  28.,  18.,  13., -14.,  -7.,  17.,   2.,  10.],\n",
      "       grad_fn=<RoundBackward>)\n",
      "Y: tensor(6)\n",
      "Y_pred after argmax: tensor(2)\n",
      "loss: tensor(25.9705, grad_fn=<NllLossBackward>)\n"
     ]
    },
    {
     "name": "stderr",
     "output_type": "stream",
     "text": [
      "loss 0.16 accuracy 0.92: 100%|██████████| 1000/1000 [00:02<00:00, 493.75it/s]\n"
     ]
    },
    {
     "data": {
      "image/png": "[encoded data removed]",
      "text/plain": [
       "<Figure size 432x288 with 1 Axes>"
      ]
     },
     "metadata": {
      "needs_background": "light"
     },
     "output_type": "display_data"
    }
   ],
   "source": [
    "# Pytorch Training\n",
    "\n",
    "model = TorchNet()\n",
    "\n",
    "# Loss function defined above\n",
    "loss_fn = CrossEntropyLoss\n",
    "\n",
    "# Stocastic gradient descent\n",
    "optimizer = torch.optim.SGD(model.parameters(), lr=0.001, momentum=0)\n",
    "\n",
    "# Training paramaters\n",
    "epochs = 1000\n",
    "batch_size = 64\n",
    "\n",
    "losses, accuracies = [], []\n",
    "\n",
    "# Training loop\n",
    "for i in (t := trange(epochs)):\n",
    "    # Get random slicing the size of the batch\n",
    "    sample = np.random.randint(0, X_train.shape[0], size=(batch_size))\n",
    "\n",
    "    # Define X and Y (flatten X so the image is one single dimention)\n",
    "    # Conversion to float is important so the Linear layers accept X as a input\n",
    "    X = torch.tensor(X_train[sample].reshape(-1, 28*28), dtype=torch.float)\n",
    "    Y = torch.tensor(Y_train[sample], dtype=torch.long)\n",
    "\n",
    "    Y_pred = model(X)\n",
    "\n",
    "    # This prints shows the form of Y_pred, it is clear argmax needs to be applied\n",
    "    # to compare Y_pred with Y\n",
    "    if i == 0:\n",
    "        print(\"Y_pred:\", Y_pred[0].round())\n",
    "        print(\"Y:\", Y[0])\n",
    "        print(\"Y_pred after argmax:\", torch.argmax(Y_pred, dim=1)[0])\n",
    "    \n",
    "    loss, accuracy = loss_fn(Y_pred, Y)\n",
    "\n",
    "    if i == 0:\n",
    "        print(\"loss:\", loss)\n",
    "\n",
    "    # Backpropagation\n",
    "    loss.backward()\n",
    "\n",
    "    # Updating weights\n",
    "    optimizer.step()\n",
    "\n",
    "    # Reset weights for next epoch\n",
    "    model.zero_grad()\n",
    "\n",
    "    loss = loss.item()\n",
    "    losses.append(loss)\n",
    "    accuracies.append(accuracy)\n",
    "    t.set_description(\"loss %.2f accuracy %.2f\" % (loss, accuracy))\n",
    "\n",
    "plt.plot(losses, label=\"loss\")\n",
    "plt.plot(accuracies, label=\"accuracy\")\n",
    "plt.legend()\n",
    "plt.show()\n"
   ]
  },
  {
   "attachments": {},
   "cell_type": "markdown",
   "metadata": {},
   "source": [
    "# In Edunets"
   ]
  },
  {
   "cell_type": "code",
   "execution_count": 51,
   "metadata": {},
   "outputs": [
    {
     "name": "stdout",
     "output_type": "stream",
     "text": [
      "max/min L1: tensor(-0.03571378, dtype=float32) tensor(0.03571425, dtype=float32)\n",
      "max/min L2: tensor(-0.08827723, dtype=float32) tensor(0.08828914, dtype=float32)\n"
     ]
    },
    {
     "data": {
      "image/svg+xml": "<?xml version=\"1.0\" encoding=\"UTF-8\" standalone=\"no\"?>\n<!DOCTYPE svg PUBLIC \"-//W3C//DTD SVG 1.1//EN\"\n \"http://www.w3.org/Graphics/SVG/1.1/DTD/svg11.dtd\">\n<!-- Generated by graphviz version 2.50.0 (0)\n -->\n<!-- Pages: 1 -->\n<svg width=\"853pt\" height=\"140pt\"\n viewBox=\"0.00 0.00 853.49 140.00\" xmlns=\"http://www.w3.org/2000/svg\" xmlns:xlink=\"http://www.w3.org/1999/xlink\">\n<g id=\"graph0\" class=\"graph\" transform=\"scale(1 1) rotate(0) translate(4 136)\">\n<polygon fill=\"white\" stroke=\"transparent\" points=\"-4,4 -4,-136 849.49,-136 849.49,4 -4,4\"/>\n<!-- 140134124610752 -->\n<g id=\"node1\" class=\"node\">\n<title>140134124610752</title>\n<polygon fill=\"none\" stroke=\"black\" points=\"736.49,-35.5 736.49,-71.5 845.49,-71.5 845.49,-35.5 736.49,-35.5\"/>\n<text text-anchor=\"middle\" x=\"790.99\" y=\"-49.8\" font-family=\"Times,serif\" font-size=\"14.00\">tensor(1, 10)</text>\n</g>\n<!-- 140134124610752@ -->\n<g id=\"node2\" class=\"node\">\n<title>140134124610752@</title>\n<ellipse fill=\"none\" stroke=\"black\" cx=\"673.49\" cy=\"-53.5\" rx=\"27\" ry=\"18\"/>\n<text text-anchor=\"middle\" x=\"673.49\" y=\"-49.8\" font-family=\"Times,serif\" font-size=\"14.00\">@</text>\n</g>\n<!-- 140134124610752@&#45;&gt;140134124610752 -->\n<g id=\"edge1\" class=\"edge\">\n<title>140134124610752@&#45;&gt;140134124610752</title>\n<path fill=\"none\" stroke=\"black\" d=\"M700.7,-53.5C708.34,-53.5 717.05,-53.5 725.95,-53.5\"/>\n<polygon fill=\"black\" stroke=\"black\" points=\"726.05,-57 736.05,-53.5 726.05,-50 726.05,-57\"/>\n</g>\n<!-- 140134124612720 -->\n<g id=\"node3\" class=\"node\">\n<title>140134124612720</title>\n<polygon fill=\"none\" stroke=\"black\" points=\"492.49,-65.5 492.49,-101.5 610.49,-101.5 610.49,-65.5 492.49,-65.5\"/>\n<text text-anchor=\"middle\" x=\"551.49\" y=\"-79.8\" font-family=\"Times,serif\" font-size=\"14.00\">tensor(1, 128)</text>\n</g>\n<!-- 140134124612720&#45;&gt;140134124610752@ -->\n<g id=\"edge4\" class=\"edge\">\n<title>140134124612720&#45;&gt;140134124610752@</title>\n<path fill=\"none\" stroke=\"black\" d=\"M610.74,-68.94C620.08,-66.6 629.47,-64.26 638.02,-62.12\"/>\n<polygon fill=\"black\" stroke=\"black\" points=\"639.11,-65.45 647.96,-59.63 637.41,-58.66 639.11,-65.45\"/>\n</g>\n<!-- 140134124612720relu -->\n<g id=\"node4\" class=\"node\">\n<title>140134124612720relu</title>\n<ellipse fill=\"none\" stroke=\"black\" cx=\"427.25\" cy=\"-83.5\" rx=\"29.5\" ry=\"18\"/>\n<text text-anchor=\"middle\" x=\"427.25\" y=\"-79.8\" font-family=\"Times,serif\" font-size=\"14.00\">relu</text>\n</g>\n<!-- 140134124612720relu&#45;&gt;140134124612720 -->\n<g id=\"edge2\" class=\"edge\">\n<title>140134124612720relu&#45;&gt;140134124612720</title>\n<path fill=\"none\" stroke=\"black\" d=\"M456.6,-83.5C464.39,-83.5 473.19,-83.5 482.2,-83.5\"/>\n<polygon fill=\"black\" stroke=\"black\" points=\"482.41,-87 492.41,-83.5 482.41,-80 482.41,-87\"/>\n</g>\n<!-- 140134124611664 -->\n<g id=\"node5\" class=\"node\">\n<title>140134124611664</title>\n<polygon fill=\"none\" stroke=\"black\" points=\"244,-65.5 244,-101.5 362,-101.5 362,-65.5 244,-65.5\"/>\n<text text-anchor=\"middle\" x=\"303\" y=\"-79.8\" font-family=\"Times,serif\" font-size=\"14.00\">tensor(1, 128)</text>\n</g>\n<!-- 140134124611664&#45;&gt;140134124612720relu -->\n<g id=\"edge5\" class=\"edge\">\n<title>140134124611664&#45;&gt;140134124612720relu</title>\n<path fill=\"none\" stroke=\"black\" d=\"M362.26,-83.5C370.9,-83.5 379.61,-83.5 387.71,-83.5\"/>\n<polygon fill=\"black\" stroke=\"black\" points=\"387.94,-87 397.94,-83.5 387.94,-80 387.94,-87\"/>\n</g>\n<!-- 140134124611664@ -->\n<g id=\"node6\" class=\"node\">\n<title>140134124611664@</title>\n<ellipse fill=\"none\" stroke=\"black\" cx=\"181\" cy=\"-83.5\" rx=\"27\" ry=\"18\"/>\n<text text-anchor=\"middle\" x=\"181\" y=\"-79.8\" font-family=\"Times,serif\" font-size=\"14.00\">@</text>\n</g>\n<!-- 140134124611664@&#45;&gt;140134124611664 -->\n<g id=\"edge3\" class=\"edge\">\n<title>140134124611664@&#45;&gt;140134124611664</title>\n<path fill=\"none\" stroke=\"black\" d=\"M208.04,-83.5C215.83,-83.5 224.77,-83.5 233.96,-83.5\"/>\n<polygon fill=\"black\" stroke=\"black\" points=\"234,-87 244,-83.5 234,-80 234,-87\"/>\n</g>\n<!-- 140132218709904 -->\n<g id=\"node7\" class=\"node\">\n<title>140132218709904</title>\n<polygon fill=\"none\" stroke=\"black\" points=\"0,-95.5 0,-131.5 118,-131.5 118,-95.5 0,-95.5\"/>\n<text text-anchor=\"middle\" x=\"59\" y=\"-109.8\" font-family=\"Times,serif\" font-size=\"14.00\">tensor(1, 784)</text>\n</g>\n<!-- 140132218709904&#45;&gt;140134124611664@ -->\n<g id=\"edge6\" class=\"edge\">\n<title>140132218709904&#45;&gt;140134124611664@</title>\n<path fill=\"none\" stroke=\"black\" d=\"M118.24,-98.94C127.58,-96.6 136.98,-94.26 145.53,-92.12\"/>\n<polygon fill=\"black\" stroke=\"black\" points=\"146.62,-95.45 155.47,-89.63 144.92,-88.66 146.62,-95.45\"/>\n</g>\n<!-- 140134124604096 -->\n<g id=\"node8\" class=\"node\">\n<title>140134124604096</title>\n<polygon fill=\"none\" stroke=\"black\" points=\"29,-30.5 29,-76.5 89,-76.5 89,-30.5 29,-30.5\"/>\n<text text-anchor=\"middle\" x=\"59\" y=\"-61.3\" font-family=\"Times,serif\" font-size=\"14.00\">L1</text>\n<polyline fill=\"none\" stroke=\"black\" points=\"29,-53.5 89,-53.5 \"/>\n<text text-anchor=\"middle\" x=\"59\" y=\"-38.3\" font-family=\"Times,serif\" font-size=\"14.00\">grad()</text>\n</g>\n<!-- 140134124604096&#45;&gt;140134124611664@ -->\n<g id=\"edge7\" class=\"edge\">\n<title>140134124604096&#45;&gt;140134124611664@</title>\n<path fill=\"none\" stroke=\"black\" d=\"M89.05,-60.76C106.06,-65.01 127.64,-70.41 145.51,-74.88\"/>\n<polygon fill=\"black\" stroke=\"black\" points=\"144.72,-78.29 155.27,-77.32 146.42,-71.5 144.72,-78.29\"/>\n</g>\n<!-- 140132239105616 -->\n<g id=\"node9\" class=\"node\">\n<title>140132239105616</title>\n<polygon fill=\"none\" stroke=\"black\" points=\"521.49,-0.5 521.49,-46.5 581.49,-46.5 581.49,-0.5 521.49,-0.5\"/>\n<text text-anchor=\"middle\" x=\"551.49\" y=\"-31.3\" font-family=\"Times,serif\" font-size=\"14.00\">L1</text>\n<polyline fill=\"none\" stroke=\"black\" points=\"521.49,-23.5 581.49,-23.5 \"/>\n<text text-anchor=\"middle\" x=\"551.49\" y=\"-8.3\" font-family=\"Times,serif\" font-size=\"14.00\">grad()</text>\n</g>\n<!-- 140132239105616&#45;&gt;140134124610752@ -->\n<g id=\"edge8\" class=\"edge\">\n<title>140132239105616&#45;&gt;140134124610752@</title>\n<path fill=\"none\" stroke=\"black\" d=\"M581.54,-30.76C598.55,-35.01 620.13,-40.41 638.01,-44.88\"/>\n<polygon fill=\"black\" stroke=\"black\" points=\"637.22,-48.29 647.77,-47.32 638.91,-41.5 637.22,-48.29\"/>\n</g>\n</g>\n</svg>\n",
      "text/plain": [
       "<graphviz.graphs.Digraph at 0x7f7384b7e3d0>"
      ]
     },
     "execution_count": 51,
     "metadata": {},
     "output_type": "execute_result"
    }
   ],
   "source": [
    "class EduNet1:\n",
    "    def __init__(self):\n",
    "        # https://discuss.pytorch.org/t/how-are-layer-weights-and-biases-initialized-by-default/13073\n",
    "        stdv1, stdv2 = 1./np.sqrt(28*28), 1./np.sqrt(128)\n",
    "        self.l1 = Tensor.uniform(128, 28*28, low=-stdv1, high=stdv1, requires_grad=True, label=\"L1\")\n",
    "        self.l2 = Tensor.uniform(10, 128, low=-stdv2, high=stdv2, requires_grad=True, label=\"L1\")\n",
    "\n",
    "    def __call__(self, x):\n",
    "        x = x @ self.l1.T\n",
    "        x = x.relu()\n",
    "        x = x @ self.l2.T\n",
    "        return x\n",
    "\n",
    "model = EduNet1()\n",
    "\n",
    "print(\"max/min L1:\", model.l1.min(), model.l1.max())\n",
    "print(\"max/min L2:\", model.l2.min(), model.l2.max())\n",
    "\n",
    "dummy_tensor = Tensor([X_train[0].reshape(28*28)])\n",
    "model(dummy_tensor).graph"
   ]
  },
  {
   "cell_type": "code",
   "execution_count": 52,
   "metadata": {},
   "outputs": [],
   "source": [
    "# Stochastic gradient descent\n",
    "class SGD:\n",
    "    def __init__(self, params, lr=0.001):\n",
    "        self.lr = lr\n",
    "        self.params = params\n",
    "\n",
    "    def step(self):\n",
    "        for t in self.params:\n",
    "            t.data = (t.data - t.grad * self.lr).T\n",
    "\n",
    "    def zero_grad(self):\n",
    "        for param in self.params:\n",
    "            param.zero_grad()"
   ]
  },
  {
   "cell_type": "code",
   "execution_count": 53,
   "metadata": {},
   "outputs": [],
   "source": [
    "from edunets.losses import CrossEntropyLoss\n",
    "\n",
    "model = EduNet1()\n",
    "\n",
    "batch_size = 128\n",
    "loss_fn = CrossEntropyLoss(reduction=\"mean\")\n",
    "optim = SGD([model.l1, model.l2], lr=0.001)\n",
    "epochs = 100\n",
    "losses, accuracies = [], []\n",
    "\n",
    "# Intresting to allow NaNs to see the effect of overflow of expontentials\n",
    "#model.l1.keep_nans() # This will break the network though"
   ]
  },
  {
   "cell_type": "code",
   "execution_count": 54,
   "metadata": {},
   "outputs": [
    {
     "name": "stderr",
     "output_type": "stream",
     "text": [
      "loss 32.16 accuracy 10.94:   0%|          | 0/100 [00:00<?, ?it/s]/home/goncalo/edunets/edunets/functions.py:20: RuntimeWarning: overflow encountered in exp\n",
      "  return np.exp(self.a.data)\n",
      "/home/goncalo/anaconda3/envs/pi_env/lib/python3.8/site-packages/numpy/core/fromnumeric.py:86: RuntimeWarning: overflow encountered in reduce\n",
      "  return ufunc.reduce(obj, axis, dtype, out, **passkwargs)\n",
      "loss 2.10 accuracy 50.78:   7%|▋         | 7/100 [00:00<00:01, 66.79it/s] "
     ]
    },
    {
     "name": "stdout",
     "output_type": "stream",
     "text": [
      "Initial Loss: tensor(32.155167, dtype=float32)\n"
     ]
    },
    {
     "name": "stderr",
     "output_type": "stream",
     "text": [
      "loss 0.78 accuracy 83.59: 100%|██████████| 100/100 [00:01<00:00, 63.35it/s]\n"
     ]
    },
    {
     "data": {
      "image/svg+xml": "<?xml version=\"1.0\" encoding=\"UTF-8\" standalone=\"no\"?>\n<!DOCTYPE svg PUBLIC \"-//W3C//DTD SVG 1.1//EN\"\n \"http://www.w3.org/Graphics/SVG/1.1/DTD/svg11.dtd\">\n<!-- Generated by graphviz version 2.50.0 (0)\n -->\n<!-- Pages: 1 -->\n<svg width=\"2402pt\" height=\"196pt\"\n viewBox=\"0.00 0.00 2401.68 196.00\" xmlns=\"http://www.w3.org/2000/svg\" xmlns:xlink=\"http://www.w3.org/1999/xlink\">\n<g id=\"graph0\" class=\"graph\" transform=\"scale(1 1) rotate(0) translate(4 192)\">\n<polygon fill=\"white\" stroke=\"transparent\" points=\"-4,4 -4,-192 2397.68,-192 2397.68,4 -4,4\"/>\n<!-- 140132218728560 -->\n<g id=\"node1\" class=\"node\">\n<title>140132218728560</title>\n<polygon fill=\"none\" stroke=\"black\" points=\"2280.68,-27.5 2280.68,-63.5 2393.68,-63.5 2393.68,-27.5 2280.68,-27.5\"/>\n<text text-anchor=\"middle\" x=\"2337.18\" y=\"-41.8\" font-family=\"Times,serif\" font-size=\"14.00\">[0.78452337]</text>\n</g>\n<!-- 140132218728560* -->\n<g id=\"node2\" class=\"node\">\n<title>140132218728560*</title>\n<ellipse fill=\"none\" stroke=\"black\" cx=\"2217.68\" cy=\"-45.5\" rx=\"27\" ry=\"18\"/>\n<text text-anchor=\"middle\" x=\"2217.68\" y=\"-41.8\" font-family=\"Times,serif\" font-size=\"14.00\">*</text>\n</g>\n<!-- 140132218728560*&#45;&gt;140132218728560 -->\n<g id=\"edge1\" class=\"edge\">\n<title>140132218728560*&#45;&gt;140132218728560</title>\n<path fill=\"none\" stroke=\"black\" d=\"M2244.76,-45.5C2252.42,-45.5 2261.17,-45.5 2270.16,-45.5\"/>\n<polygon fill=\"black\" stroke=\"black\" points=\"2270.35,-49 2280.35,-45.5 2270.35,-42 2270.35,-49\"/>\n</g>\n<!-- 140132218729712 -->\n<g id=\"node3\" class=\"node\">\n<title>140132218729712</title>\n<polygon fill=\"none\" stroke=\"black\" points=\"2050.68,-55.5 2050.68,-91.5 2154.68,-91.5 2154.68,-55.5 2050.68,-55.5\"/>\n<text text-anchor=\"middle\" x=\"2102.68\" y=\"-69.8\" font-family=\"Times,serif\" font-size=\"14.00\">[100.41899]</text>\n</g>\n<!-- 140132218729712&#45;&gt;140132218728560* -->\n<g id=\"edge12\" class=\"edge\">\n<title>140132218729712&#45;&gt;140132218728560*</title>\n<path fill=\"none\" stroke=\"black\" d=\"M2154.89,-60.81C2164.21,-58.5 2173.72,-56.15 2182.4,-53.99\"/>\n<polygon fill=\"black\" stroke=\"black\" points=\"2183.28,-57.38 2192.15,-51.58 2181.6,-50.59 2183.28,-57.38\"/>\n</g>\n<!-- 140132218729712sum -->\n<g id=\"node4\" class=\"node\">\n<title>140132218729712sum</title>\n<ellipse fill=\"none\" stroke=\"black\" cx=\"1984.14\" cy=\"-73.5\" rx=\"30.59\" ry=\"18\"/>\n<text text-anchor=\"middle\" x=\"1984.14\" y=\"-69.8\" font-family=\"Times,serif\" font-size=\"14.00\">sum</text>\n</g>\n<!-- 140132218729712sum&#45;&gt;140132218729712 -->\n<g id=\"edge2\" class=\"edge\">\n<title>140132218729712sum&#45;&gt;140132218729712</title>\n<path fill=\"none\" stroke=\"black\" d=\"M2014.85,-73.5C2022.6,-73.5 2031.26,-73.5 2040.01,-73.5\"/>\n<polygon fill=\"black\" stroke=\"black\" points=\"2040.29,-77 2050.29,-73.5 2040.29,-70 2040.29,-77\"/>\n</g>\n<!-- 140132218524096 -->\n<g id=\"node5\" class=\"node\">\n<title>140132218524096</title>\n<polygon fill=\"none\" stroke=\"black\" points=\"1813.59,-55.5 1813.59,-91.5 1917.59,-91.5 1917.59,-55.5 1813.59,-55.5\"/>\n<text text-anchor=\"middle\" x=\"1865.59\" y=\"-69.8\" font-family=\"Times,serif\" font-size=\"14.00\">tensor(128,)</text>\n</g>\n<!-- 140132218524096&#45;&gt;140132218729712sum -->\n<g id=\"edge13\" class=\"edge\">\n<title>140132218524096&#45;&gt;140132218729712sum</title>\n<path fill=\"none\" stroke=\"black\" d=\"M1917.71,-73.5C1926.31,-73.5 1935.12,-73.5 1943.38,-73.5\"/>\n<polygon fill=\"black\" stroke=\"black\" points=\"1943.49,-77 1953.49,-73.5 1943.49,-70 1943.49,-77\"/>\n</g>\n<!-- 140132218524096+ -->\n<g id=\"node6\" class=\"node\">\n<title>140132218524096+</title>\n<ellipse fill=\"none\" stroke=\"black\" cx=\"1750.59\" cy=\"-73.5\" rx=\"27\" ry=\"18\"/>\n<text text-anchor=\"middle\" x=\"1750.59\" y=\"-69.8\" font-family=\"Times,serif\" font-size=\"14.00\">+</text>\n</g>\n<!-- 140132218524096+&#45;&gt;140132218524096 -->\n<g id=\"edge3\" class=\"edge\">\n<title>140132218524096+&#45;&gt;140132218524096</title>\n<path fill=\"none\" stroke=\"black\" d=\"M1777.8,-73.5C1785.47,-73.5 1794.2,-73.5 1803.1,-73.5\"/>\n<polygon fill=\"black\" stroke=\"black\" points=\"1803.17,-77 1813.17,-73.5 1803.17,-70 1803.17,-77\"/>\n</g>\n<!-- 140132218711584 -->\n<g id=\"node7\" class=\"node\">\n<title>140132218711584</title>\n<polygon fill=\"none\" stroke=\"black\" points=\"1443.59,-83.5 1443.59,-119.5 1547.59,-119.5 1547.59,-83.5 1443.59,-83.5\"/>\n<text text-anchor=\"middle\" x=\"1495.59\" y=\"-97.8\" font-family=\"Times,serif\" font-size=\"14.00\">tensor(128,)</text>\n</g>\n<!-- 140132218711584&#45;&gt;140132218524096+ -->\n<g id=\"edge14\" class=\"edge\">\n<title>140132218711584&#45;&gt;140132218524096+</title>\n<path fill=\"none\" stroke=\"black\" d=\"M1547.79,-95.83C1597.01,-90.39 1670.14,-82.29 1713.53,-77.49\"/>\n<polygon fill=\"black\" stroke=\"black\" points=\"1714.07,-80.95 1723.63,-76.37 1713.3,-73.99 1714.07,-80.95\"/>\n</g>\n<!-- 140132218711584* -->\n<g id=\"node8\" class=\"node\">\n<title>140132218711584*</title>\n<ellipse fill=\"none\" stroke=\"black\" cx=\"1237.04\" cy=\"-101.5\" rx=\"27\" ry=\"18\"/>\n<text text-anchor=\"middle\" x=\"1237.04\" y=\"-97.8\" font-family=\"Times,serif\" font-size=\"14.00\">*</text>\n</g>\n<!-- 140132218711584*&#45;&gt;140132218711584 -->\n<g id=\"edge4\" class=\"edge\">\n<title>140132218711584*&#45;&gt;140132218711584</title>\n<path fill=\"none\" stroke=\"black\" d=\"M1264.05,-101.5C1303.43,-101.5 1379.27,-101.5 1433.21,-101.5\"/>\n<polygon fill=\"black\" stroke=\"black\" points=\"1433.35,-105 1443.35,-101.5 1433.35,-98 1433.35,-105\"/>\n</g>\n<!-- 140134124609696 -->\n<g id=\"node9\" class=\"node\">\n<title>140134124609696</title>\n<polygon fill=\"none\" stroke=\"black\" points=\"1054.99,-138.5 1054.99,-174.5 1158.99,-174.5 1158.99,-138.5 1054.99,-138.5\"/>\n<text text-anchor=\"middle\" x=\"1106.99\" y=\"-152.8\" font-family=\"Times,serif\" font-size=\"14.00\">tensor(128,)</text>\n</g>\n<!-- 140134124609696&#45;&gt;140132218711584* -->\n<g id=\"edge15\" class=\"edge\">\n<title>140134124609696&#45;&gt;140132218711584*</title>\n<path fill=\"none\" stroke=\"black\" d=\"M1149.92,-138.49C1167.73,-130.84 1188.13,-122.08 1204.6,-115\"/>\n<polygon fill=\"black\" stroke=\"black\" points=\"1206,-118.22 1213.8,-111.05 1203.23,-111.78 1206,-118.22\"/>\n</g>\n<!-- 140134124609696[*] -->\n<g id=\"node10\" class=\"node\">\n<title>140134124609696[*]</title>\n<ellipse fill=\"none\" stroke=\"black\" cx=\"980.49\" cy=\"-142.5\" rx=\"27\" ry=\"18\"/>\n<text text-anchor=\"middle\" x=\"980.49\" y=\"-138.8\" font-family=\"Times,serif\" font-size=\"14.00\">[*]</text>\n</g>\n<!-- 140134124609696[*]&#45;&gt;140134124609696 -->\n<g id=\"edge5\" class=\"edge\">\n<title>140134124609696[*]&#45;&gt;140134124609696</title>\n<path fill=\"none\" stroke=\"black\" d=\"M1007.29,-145.4C1018.25,-146.63 1031.52,-148.13 1044.74,-149.61\"/>\n<polygon fill=\"black\" stroke=\"black\" points=\"1044.47,-153.1 1054.8,-150.74 1045.26,-146.15 1044.47,-153.1\"/>\n</g>\n<!-- 140134124895728 -->\n<g id=\"node11\" class=\"node\">\n<title>140134124895728</title>\n<polygon fill=\"none\" stroke=\"black\" points=\"790.49,-83.5 790.49,-119.5 917.49,-119.5 917.49,-83.5 790.49,-83.5\"/>\n<text text-anchor=\"middle\" x=\"853.99\" y=\"-97.8\" font-family=\"Times,serif\" font-size=\"14.00\">tensor(128, 10)</text>\n</g>\n<!-- 140134124895728&#45;&gt;140134124609696[*] -->\n<g id=\"edge16\" class=\"edge\">\n<title>140134124895728&#45;&gt;140134124609696[*]</title>\n<path fill=\"none\" stroke=\"black\" d=\"M909.96,-119.6C922.33,-123.68 935.09,-127.88 946.25,-131.55\"/>\n<polygon fill=\"black\" stroke=\"black\" points=\"945.39,-134.95 955.99,-134.76 947.58,-128.31 945.39,-134.95\"/>\n</g>\n<!-- 140134124050848e -->\n<g id=\"node26\" class=\"node\">\n<title>140134124050848e</title>\n<ellipse fill=\"none\" stroke=\"black\" cx=\"980.49\" cy=\"-74.5\" rx=\"27\" ry=\"18\"/>\n<text text-anchor=\"middle\" x=\"980.49\" y=\"-70.8\" font-family=\"Times,serif\" font-size=\"14.00\">e</text>\n</g>\n<!-- 140134124895728&#45;&gt;140134124050848e -->\n<g id=\"edge26\" class=\"edge\">\n<title>140134124895728&#45;&gt;140134124050848e</title>\n<path fill=\"none\" stroke=\"black\" d=\"M917.61,-87.92C926.91,-85.9 936.2,-83.89 944.64,-82.06\"/>\n<polygon fill=\"black\" stroke=\"black\" points=\"945.44,-85.47 954.47,-79.93 943.96,-78.63 945.44,-85.47\"/>\n</g>\n<!-- 140134124895728@ -->\n<g id=\"node12\" class=\"node\">\n<title>140134124895728@</title>\n<ellipse fill=\"none\" stroke=\"black\" cx=\"727.49\" cy=\"-101.5\" rx=\"27\" ry=\"18\"/>\n<text text-anchor=\"middle\" x=\"727.49\" y=\"-97.8\" font-family=\"Times,serif\" font-size=\"14.00\">@</text>\n</g>\n<!-- 140134124895728@&#45;&gt;140134124895728 -->\n<g id=\"edge6\" class=\"edge\">\n<title>140134124895728@&#45;&gt;140134124895728</title>\n<path fill=\"none\" stroke=\"black\" d=\"M754.59,-101.5C762.21,-101.5 770.93,-101.5 779.96,-101.5\"/>\n<polygon fill=\"black\" stroke=\"black\" points=\"780.25,-105 790.25,-101.5 780.25,-98 780.25,-105\"/>\n</g>\n<!-- 140134124895392 -->\n<g id=\"node13\" class=\"node\">\n<title>140134124895392</title>\n<polygon fill=\"none\" stroke=\"black\" points=\"528.49,-113.5 528.49,-149.5 664.49,-149.5 664.49,-113.5 528.49,-113.5\"/>\n<text text-anchor=\"middle\" x=\"596.49\" y=\"-127.8\" font-family=\"Times,serif\" font-size=\"14.00\">tensor(128, 128)</text>\n</g>\n<!-- 140134124895392&#45;&gt;140134124895728@ -->\n<g id=\"edge17\" class=\"edge\">\n<title>140134124895392&#45;&gt;140134124895728@</title>\n<path fill=\"none\" stroke=\"black\" d=\"M664.64,-115.88C674.04,-113.7 683.37,-111.53 691.82,-109.56\"/>\n<polygon fill=\"black\" stroke=\"black\" points=\"692.69,-112.96 701.64,-107.28 691.1,-106.14 692.69,-112.96\"/>\n</g>\n<!-- 140134124895392relu -->\n<g id=\"node14\" class=\"node\">\n<title>140134124895392relu</title>\n<ellipse fill=\"none\" stroke=\"black\" cx=\"463.25\" cy=\"-131.5\" rx=\"29.5\" ry=\"18\"/>\n<text text-anchor=\"middle\" x=\"463.25\" y=\"-127.8\" font-family=\"Times,serif\" font-size=\"14.00\">relu</text>\n</g>\n<!-- 140134124895392relu&#45;&gt;140134124895392 -->\n<g id=\"edge7\" class=\"edge\">\n<title>140134124895392relu&#45;&gt;140134124895392</title>\n<path fill=\"none\" stroke=\"black\" d=\"M492.73,-131.5C500.39,-131.5 509.07,-131.5 518.06,-131.5\"/>\n<polygon fill=\"black\" stroke=\"black\" points=\"518.29,-135 528.29,-131.5 518.29,-128 518.29,-135\"/>\n</g>\n<!-- 140134123963488 -->\n<g id=\"node15\" class=\"node\">\n<title>140134123963488</title>\n<polygon fill=\"none\" stroke=\"black\" points=\"262,-113.5 262,-149.5 398,-149.5 398,-113.5 262,-113.5\"/>\n<text text-anchor=\"middle\" x=\"330\" y=\"-127.8\" font-family=\"Times,serif\" font-size=\"14.00\">tensor(128, 128)</text>\n</g>\n<!-- 140134123963488&#45;&gt;140134124895392relu -->\n<g id=\"edge18\" class=\"edge\">\n<title>140134123963488&#45;&gt;140134124895392relu</title>\n<path fill=\"none\" stroke=\"black\" d=\"M398.16,-131.5C406.93,-131.5 415.67,-131.5 423.74,-131.5\"/>\n<polygon fill=\"black\" stroke=\"black\" points=\"423.91,-135 433.91,-131.5 423.91,-128 423.91,-135\"/>\n</g>\n<!-- 140134123963488@ -->\n<g id=\"node16\" class=\"node\">\n<title>140134123963488@</title>\n<ellipse fill=\"none\" stroke=\"black\" cx=\"199\" cy=\"-131.5\" rx=\"27\" ry=\"18\"/>\n<text text-anchor=\"middle\" x=\"199\" y=\"-127.8\" font-family=\"Times,serif\" font-size=\"14.00\">@</text>\n</g>\n<!-- 140134123963488@&#45;&gt;140134123963488 -->\n<g id=\"edge8\" class=\"edge\">\n<title>140134123963488@&#45;&gt;140134123963488</title>\n<path fill=\"none\" stroke=\"black\" d=\"M226.11,-131.5C233.78,-131.5 242.6,-131.5 251.78,-131.5\"/>\n<polygon fill=\"black\" stroke=\"black\" points=\"251.84,-135 261.84,-131.5 251.84,-128 251.84,-135\"/>\n</g>\n<!-- 140134123965360 -->\n<g id=\"node17\" class=\"node\">\n<title>140134123965360</title>\n<polygon fill=\"none\" stroke=\"black\" points=\"0,-141.5 0,-187.5 136,-187.5 136,-141.5 0,-141.5\"/>\n<text text-anchor=\"middle\" x=\"68\" y=\"-172.3\" font-family=\"Times,serif\" font-size=\"14.00\">tensor(128, 784)</text>\n<polyline fill=\"none\" stroke=\"black\" points=\"0,-164.5 136,-164.5 \"/>\n<text text-anchor=\"middle\" x=\"68\" y=\"-149.3\" font-family=\"Times,serif\" font-size=\"14.00\">grad(128, 784)</text>\n</g>\n<!-- 140134123965360&#45;&gt;140134123963488@ -->\n<g id=\"edge19\" class=\"edge\">\n<title>140134123965360&#45;&gt;140134123963488@</title>\n<path fill=\"none\" stroke=\"black\" d=\"M136.14,-147.32C145.63,-144.9 155.04,-142.49 163.56,-140.31\"/>\n<polygon fill=\"black\" stroke=\"black\" points=\"164.62,-143.65 173.44,-137.78 162.88,-136.87 164.62,-143.65\"/>\n</g>\n<!-- 140132227897328 -->\n<g id=\"node18\" class=\"node\">\n<title>140132227897328</title>\n<polygon fill=\"none\" stroke=\"black\" points=\"6.5,-76.5 6.5,-122.5 129.5,-122.5 129.5,-76.5 6.5,-76.5\"/>\n<text text-anchor=\"middle\" x=\"68\" y=\"-107.3\" font-family=\"Times,serif\" font-size=\"14.00\">L1</text>\n<polyline fill=\"none\" stroke=\"black\" points=\"6.5,-99.5 129.5,-99.5 \"/>\n<text text-anchor=\"middle\" x=\"68\" y=\"-84.3\" font-family=\"Times,serif\" font-size=\"14.00\">grad(784, 128)</text>\n</g>\n<!-- 140132227897328&#45;&gt;140134123963488@ -->\n<g id=\"edge20\" class=\"edge\">\n<title>140132227897328&#45;&gt;140134123963488@</title>\n<path fill=\"none\" stroke=\"black\" d=\"M129.72,-114.56C141.29,-117.43 153.02,-120.34 163.42,-122.92\"/>\n<polygon fill=\"black\" stroke=\"black\" points=\"162.76,-126.37 173.31,-125.38 164.45,-119.57 162.76,-126.37\"/>\n</g>\n<!-- 140132239675200 -->\n<g id=\"node19\" class=\"node\">\n<title>140132239675200</title>\n<polygon fill=\"none\" stroke=\"black\" points=\"539.49,-48.5 539.49,-94.5 653.49,-94.5 653.49,-48.5 539.49,-48.5\"/>\n<text text-anchor=\"middle\" x=\"596.49\" y=\"-79.3\" font-family=\"Times,serif\" font-size=\"14.00\">L1</text>\n<polyline fill=\"none\" stroke=\"black\" points=\"539.49,-71.5 653.49,-71.5 \"/>\n<text text-anchor=\"middle\" x=\"596.49\" y=\"-56.3\" font-family=\"Times,serif\" font-size=\"14.00\">grad(128, 10)</text>\n</g>\n<!-- 140132239675200&#45;&gt;140134124895728@ -->\n<g id=\"edge21\" class=\"edge\">\n<title>140132239675200&#45;&gt;140134124895728@</title>\n<path fill=\"none\" stroke=\"black\" d=\"M653.7,-84.57C666.72,-87.6 680.21,-90.74 691.98,-93.47\"/>\n<polygon fill=\"black\" stroke=\"black\" points=\"691.29,-96.91 701.82,-95.76 692.88,-90.09 691.29,-96.91\"/>\n</g>\n<!-- 140132218708656 -->\n<g id=\"node20\" class=\"node\">\n<title>140132218708656</title>\n<polygon fill=\"none\" stroke=\"black\" points=\"1079.99,-83.5 1079.99,-119.5 1133.99,-119.5 1133.99,-83.5 1079.99,-83.5\"/>\n<text text-anchor=\"middle\" x=\"1106.99\" y=\"-97.8\" font-family=\"Times,serif\" font-size=\"14.00\">[&#45;1.]</text>\n</g>\n<!-- 140132218708656&#45;&gt;140132218711584* -->\n<g id=\"edge22\" class=\"edge\">\n<title>140132218708656&#45;&gt;140132218711584*</title>\n<path fill=\"none\" stroke=\"black\" d=\"M1134.22,-101.5C1153.12,-101.5 1178.87,-101.5 1199.75,-101.5\"/>\n<polygon fill=\"black\" stroke=\"black\" points=\"1199.86,-105 1209.86,-101.5 1199.86,-98 1199.86,-105\"/>\n</g>\n<!-- 140132218811008 -->\n<g id=\"node21\" class=\"node\">\n<title>140132218811008</title>\n<polygon fill=\"none\" stroke=\"black\" points=\"1583.59,-32.5 1583.59,-68.5 1687.59,-68.5 1687.59,-32.5 1583.59,-32.5\"/>\n<text text-anchor=\"middle\" x=\"1635.59\" y=\"-46.8\" font-family=\"Times,serif\" font-size=\"14.00\">tensor(128,)</text>\n</g>\n<!-- 140132218811008&#45;&gt;140132218524096+ -->\n<g id=\"edge23\" class=\"edge\">\n<title>140132218811008&#45;&gt;140132218524096+</title>\n<path fill=\"none\" stroke=\"black\" d=\"M1687.8,-60.92C1696.85,-62.77 1706.08,-64.64 1714.56,-66.37\"/>\n<polygon fill=\"black\" stroke=\"black\" points=\"1713.96,-69.82 1724.46,-68.38 1715.36,-62.96 1713.96,-69.82\"/>\n</g>\n<!-- 140132218811008log -->\n<g id=\"node22\" class=\"node\">\n<title>140132218811008log</title>\n<ellipse fill=\"none\" stroke=\"black\" cx=\"1495.59\" cy=\"-46.5\" rx=\"27\" ry=\"18\"/>\n<text text-anchor=\"middle\" x=\"1495.59\" y=\"-42.8\" font-family=\"Times,serif\" font-size=\"14.00\">log</text>\n</g>\n<!-- 140132218811008log&#45;&gt;140132218811008 -->\n<g id=\"edge9\" class=\"edge\">\n<title>140132218811008log&#45;&gt;140132218811008</title>\n<path fill=\"none\" stroke=\"black\" d=\"M1522.87,-47.26C1537.19,-47.68 1555.55,-48.21 1573.23,-48.72\"/>\n<polygon fill=\"black\" stroke=\"black\" points=\"1573.43,-52.23 1583.53,-49.02 1573.64,-45.23 1573.43,-52.23\"/>\n</g>\n<!-- 140132218814320 -->\n<g id=\"node23\" class=\"node\">\n<title>140132218814320</title>\n<polygon fill=\"none\" stroke=\"black\" points=\"1303.59,-28.5 1303.59,-64.5 1407.59,-64.5 1407.59,-28.5 1303.59,-28.5\"/>\n<text text-anchor=\"middle\" x=\"1355.59\" y=\"-42.8\" font-family=\"Times,serif\" font-size=\"14.00\">tensor(128,)</text>\n</g>\n<!-- 140132218814320&#45;&gt;140132218811008log -->\n<g id=\"edge24\" class=\"edge\">\n<title>140132218814320&#45;&gt;140132218811008log</title>\n<path fill=\"none\" stroke=\"black\" d=\"M1407.98,-46.5C1424.66,-46.5 1442.82,-46.5 1458.18,-46.5\"/>\n<polygon fill=\"black\" stroke=\"black\" points=\"1458.32,-50 1468.32,-46.5 1458.32,-43 1458.32,-50\"/>\n</g>\n<!-- 140132218814320sum -->\n<g id=\"node24\" class=\"node\">\n<title>140132218814320sum</title>\n<ellipse fill=\"none\" stroke=\"black\" cx=\"1237.04\" cy=\"-46.5\" rx=\"30.59\" ry=\"18\"/>\n<text text-anchor=\"middle\" x=\"1237.04\" y=\"-42.8\" font-family=\"Times,serif\" font-size=\"14.00\">sum</text>\n</g>\n<!-- 140132218814320sum&#45;&gt;140132218814320 -->\n<g id=\"edge10\" class=\"edge\">\n<title>140132218814320sum&#45;&gt;140132218814320</title>\n<path fill=\"none\" stroke=\"black\" d=\"M1267.75,-46.5C1275.51,-46.5 1284.16,-46.5 1292.92,-46.5\"/>\n<polygon fill=\"black\" stroke=\"black\" points=\"1293.19,-50 1303.19,-46.5 1293.19,-43 1293.19,-50\"/>\n</g>\n<!-- 140134124050848 -->\n<g id=\"node25\" class=\"node\">\n<title>140134124050848</title>\n<polygon fill=\"none\" stroke=\"black\" points=\"1043.49,-28.5 1043.49,-64.5 1170.49,-64.5 1170.49,-28.5 1043.49,-28.5\"/>\n<text text-anchor=\"middle\" x=\"1106.99\" y=\"-42.8\" font-family=\"Times,serif\" font-size=\"14.00\">tensor(128, 10)</text>\n</g>\n<!-- 140134124050848&#45;&gt;140132218814320sum -->\n<g id=\"edge25\" class=\"edge\">\n<title>140134124050848&#45;&gt;140132218814320sum</title>\n<path fill=\"none\" stroke=\"black\" d=\"M1170.52,-46.5C1179.17,-46.5 1187.86,-46.5 1195.95,-46.5\"/>\n<polygon fill=\"black\" stroke=\"black\" points=\"1196.19,-50 1206.19,-46.5 1196.19,-43 1196.19,-50\"/>\n</g>\n<!-- 140134124050848e&#45;&gt;140134124050848 -->\n<g id=\"edge11\" class=\"edge\">\n<title>140134124050848e&#45;&gt;140134124050848</title>\n<path fill=\"none\" stroke=\"black\" d=\"M1006.39,-68.9C1014.43,-67.09 1023.78,-64.99 1033.48,-62.81\"/>\n<polygon fill=\"black\" stroke=\"black\" points=\"1034.26,-66.22 1043.25,-60.61 1032.73,-59.39 1034.26,-66.22\"/>\n</g>\n<!-- 140132218730480 -->\n<g id=\"node27\" class=\"node\">\n<title>140132218730480</title>\n<polygon fill=\"none\" stroke=\"black\" points=\"2050.68,-0.5 2050.68,-36.5 2154.68,-36.5 2154.68,-0.5 2050.68,-0.5\"/>\n<text text-anchor=\"middle\" x=\"2102.68\" y=\"-14.8\" font-family=\"Times,serif\" font-size=\"14.00\">[0.0078125]</text>\n</g>\n<!-- 140132218730480&#45;&gt;140132218728560* -->\n<g id=\"edge27\" class=\"edge\">\n<title>140132218730480&#45;&gt;140132218728560*</title>\n<path fill=\"none\" stroke=\"black\" d=\"M2154.89,-30.74C2164.21,-32.96 2173.72,-35.23 2182.4,-37.31\"/>\n<polygon fill=\"black\" stroke=\"black\" points=\"2181.61,-40.72 2192.15,-39.64 2183.23,-33.91 2181.61,-40.72\"/>\n</g>\n</g>\n</svg>\n",
      "text/plain": [
       "<graphviz.graphs.Digraph at 0x7f73132413d0>"
      ]
     },
     "execution_count": 54,
     "metadata": {},
     "output_type": "execute_result"
    }
   ],
   "source": [
    "for i in (t := trange(epochs)):\n",
    "    samp = np.random.randint(0, X_train.shape[0], size=(batch_size))\n",
    "\n",
    "    X = Tensor(X_train[samp].reshape((-1, 28*28)), requires_grad=True)\n",
    "    Y = Tensor(Y_train[samp])\n",
    "\n",
    "    out = model(X)\n",
    "\n",
    "    cat = functions.argmax(out, axis=1)\n",
    "    \n",
    "    accuracy = (cat == Y).mean()\n",
    "\n",
    "    loss = loss_fn.forward(out, Y)\n",
    "\n",
    "    if i == 0:\n",
    "        print(\"Initial Loss:\", loss)\n",
    "    \n",
    "    optim.zero_grad()\n",
    "    \n",
    "    loss.backward()\n",
    "    \n",
    "    optim.step()\n",
    "    \n",
    "    losses.append(loss.data)\n",
    "    \n",
    "    accuracies.append(100*accuracy.data)\n",
    "    \n",
    "    t.set_description(\"loss %.2f accuracy %.2f\" % (loss.data, 100*accuracy.data))\n",
    "\n",
    "loss.graph\n"
   ]
  },
  {
   "cell_type": "code",
   "execution_count": 55,
   "metadata": {},
   "outputs": [
    {
     "data": {
      "image/png": "[encoded data removed]",
      "text/plain": [
       "<Figure size 432x288 with 1 Axes>"
      ]
     },
     "metadata": {
      "needs_background": "light"
     },
     "output_type": "display_data"
    }
   ],
   "source": [
    "plt.plot(losses, label=\"loss\")\n",
    "plt.plot(accuracies, label=\"accuracy\")\n",
    "plt.legend()\n",
    "plt.show()"
   ]
  }
 ],
 "metadata": {
  "kernelspec": {
   "display_name": "pi_env",
   "language": "python",
   "name": "python3"
  },
  "language_info": {
   "codemirror_mode": {
    "name": "ipython",
    "version": 3
   },
   "file_extension": ".py",
   "mimetype": "text/x-python",
   "name": "python",
   "nbconvert_exporter": "python",
   "pygments_lexer": "ipython3",
   "version": "3.8.12"
  },
  "orig_nbformat": 4,
  "vscode": {
   "interpreter": {
    "hash": "7dbd43346cf4060a7c5249e62daf2cb2395365dab3b14076ef7b34680f245741"
   }
  }
 },
 "nbformat": 4,
 "nbformat_minor": 2
}
