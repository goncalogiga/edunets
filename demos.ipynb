{
 "cells": [
  {
   "cell_type": "code",
   "execution_count": 11,
   "metadata": {},
   "outputs": [
    {
     "name": "stdout",
     "output_type": "stream",
     "text": [
      "tensor([[  4.,   4.],\n",
      "       [ -4., -12.]], dtype=float32, requires_grad=True)\n",
      "tensor(-12., dtype=float32, requires_grad=True)\n",
      "--------------------\n",
      "[[ 0.  0.]\n",
      " [ 5. -2.]]\n",
      "[[ 0. -2.]\n",
      " [ 0.  1.]]\n"
     ]
    }
   ],
   "source": [
    "import numpy as np\n",
    "from edunets.tensor import Tensor\n",
    "\n",
    "x = Tensor([[2.0, 3.0], [-2.0, 1.0]], requires_grad=True)\n",
    "y = Tensor([[2.0, 5.0], [0.0, -2.0]], requires_grad=True)\n",
    "w = x @ y\n",
    "print(w)\n",
    "z = w.min()\n",
    "print(z)\n",
    "z.backward()\n",
    "\n",
    "print(20*'-')\n",
    "print(x.grad)  # dz/dx\n",
    "print(y.grad)  # dz/dy"
   ]
  },
  {
   "cell_type": "code",
   "execution_count": 12,
   "metadata": {},
   "outputs": [
    {
     "name": "stdout",
     "output_type": "stream",
     "text": [
      "tensor([[  4.,   4.],\n",
      "        [ -4., -12.]], grad_fn=<MmBackward>)\n",
      "--------------------\n",
      "tensor([[ 0.,  0.],\n",
      "        [ 5., -2.]])\n",
      "tensor([[ 0., -2.],\n",
      "        [ 0.,  1.]])\n"
     ]
    }
   ],
   "source": [
    "import torch\n",
    "\n",
    "x = torch.tensor([[2.0, 3.0], [-2.0, 1.0]], requires_grad=True)\n",
    "y = torch.tensor([[2.0, 5.0], [0.0, -2.0]], requires_grad=True)\n",
    "w = x @ y\n",
    "print(w)\n",
    "z = w.min()\n",
    "z.backward()\n",
    "\n",
    "print(20*'-')\n",
    "print(x.grad)  # dz/dx\n",
    "print(y.grad)  # dz/dy"
   ]
  }
 ],
 "metadata": {
  "kernelspec": {
   "display_name": "pi_env",
   "language": "python",
   "name": "python3"
  },
  "language_info": {
   "codemirror_mode": {
    "name": "ipython",
    "version": 3
   },
   "file_extension": ".py",
   "mimetype": "text/x-python",
   "name": "python",
   "nbconvert_exporter": "python",
   "pygments_lexer": "ipython3",
   "version": "3.8.12"
  },
  "orig_nbformat": 4,
  "vscode": {
   "interpreter": {
    "hash": "7dbd43346cf4060a7c5249e62daf2cb2395365dab3b14076ef7b34680f245741"
   }
  }
 },
 "nbformat": 4,
 "nbformat_minor": 2
}
