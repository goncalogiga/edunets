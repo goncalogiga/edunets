{
 "cells": [
  {
   "cell_type": "code",
   "execution_count": 1,
   "metadata": {},
   "outputs": [
    {
     "name": "stdout",
     "output_type": "stream",
     "text": [
      "Populating the interactive namespace from numpy and matplotlib\n"
     ]
    }
   ],
   "source": [
    "%pylab inline\n",
    "import torch\n",
    "import numpy as np\n",
    "from tqdm import trange\n",
    "\n",
    "from edunets.nn import Linear\n",
    "from edunets.tensor import Tensor\n",
    "from edunets.functions import argmax\n",
    "np.set_printoptions(suppress=True)"
   ]
  },
  {
   "cell_type": "code",
   "execution_count": 2,
   "metadata": {},
   "outputs": [
    {
     "data": {
      "text/plain": [
       "[tensor([[-0.51904374, -0.8812343 ],\n",
       "        [ 0.8981719 ,  0.25916117]], dtype=float32),\n",
       " tensor([[ 0.9073209 , -0.6314076 ],\n",
       "        [-0.37948886,  0.04136591]], dtype=float32),\n",
       " tensor([[ 0.730488  ,  0.75895995],\n",
       "        [-0.58962727, -0.52425855]], dtype=float32),\n",
       " tensor([[ 0.86998904, -0.460693  ],\n",
       "        [ 0.66686076, -0.3661649 ]], dtype=float32),\n",
       " tensor([[-0.39734963,  0.805009  ],\n",
       "        [-0.509032  , -0.3151649 ]], dtype=float32)]"
      ]
     },
     "execution_count": 2,
     "metadata": {},
     "output_type": "execute_result"
    }
   ],
   "source": [
    "l_edunets = [Tensor.uniform(2,2) for _ in range(5)]\n",
    "l_torch = [torch.tensor(el.data) for el in l_edunets]\n",
    "l_edunets"
   ]
  },
  {
   "cell_type": "code",
   "execution_count": 17,
   "metadata": {},
   "outputs": [
    {
     "data": {
      "text/plain": [
       "(tensor([[-1.2552814 , -0.5714249 ],\n",
       "        [-0.23605426,  1.2299877 ]], dtype=float32),\n",
       " tensor([[-1.2553, -0.5714],\n",
       "         [-0.2361,  1.2300]]))"
      ]
     },
     "execution_count": 17,
     "metadata": {},
     "output_type": "execute_result"
    }
   ],
   "source": [
    "sum(l_edunets),  torch.stack(l_torch, dim=0).sum(dim=0)"
   ]
  },
  {
   "cell_type": "code",
   "execution_count": 7,
   "metadata": {},
   "outputs": [
    {
     "data": {
      "text/plain": [
       "tensor([[[False, False, False],\n",
       "         [False, False, False],\n",
       "         [False, False, False]],\n",
       "\n",
       "        [[False, False, False],\n",
       "         [False, False, False],\n",
       "         [False, False, False]]])"
      ]
     },
     "execution_count": 7,
     "metadata": {},
     "output_type": "execute_result"
    }
   ],
   "source": [
    "T1 = torch.rand(2,3,3, requires_grad=True)\n",
    "T2 = torch.rand(2, 3, 3)\n",
    "\n",
    "T1 == T2"
   ]
  },
  {
   "cell_type": "code",
   "execution_count": 4,
   "metadata": {},
   "outputs": [
    {
     "name": "stdout",
     "output_type": "stream",
     "text": [
      "4178282173\n",
      "tensor([[2., 2., 2.],\n",
      "        [2., 2., 2.],\n",
      "        [2., 2., 2.]])\n"
     ]
    }
   ],
   "source": [
    "T1 = Tensor.eye(3, requires_grad=True)\n",
    "T2 = Tensor.eye(3)\n",
    "T3 = T1 @ T2 + T1\n",
    "T4 = T3.sum()\n",
    "\n",
    "T4.backward()\n",
    "print(T3._key)\n",
    "\n",
    "T1 = torch.tensor(T1.data, requires_grad=True)\n",
    "T2 = torch.tensor(T2.data)\n",
    "T3 = T1 @ T2 + T1\n",
    "T4 = T3.sum()\n",
    "\n",
    "T4.backward()\n",
    "print(T1.grad)"
   ]
  }
 ],
 "metadata": {
  "kernelspec": {
   "display_name": "Python 3",
   "language": "python",
   "name": "python3"
  },
  "language_info": {
   "codemirror_mode": {
    "name": "ipython",
    "version": 3
   },
   "file_extension": ".py",
   "mimetype": "text/x-python",
   "name": "python",
   "nbconvert_exporter": "python",
   "pygments_lexer": "ipython3",
   "version": "3.6.9"
  },
  "orig_nbformat": 4,
  "vscode": {
   "interpreter": {
    "hash": "31f2aee4e71d21fbe5cf8b01ff0e069b9275f58929596ceb00d14d90e3e16cd6"
   }
  }
 },
 "nbformat": 4,
 "nbformat_minor": 2
}
